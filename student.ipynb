{
 "cells": [
  {
   "cell_type": "markdown",
   "metadata": {},
   "source": [
    "## Final Project Submission\n",
    "\n",
    "Please fill out:\n",
    "* Student name: David Braslow\n",
    "* Student pace: self paced \n",
    "* Scheduled project review date/time: \n",
    "* Instructor name: Eli\n",
    "* Blog post URL:\n"
   ]
  },
  {
   "cell_type": "markdown",
   "metadata": {},
   "source": [
    "# Overview"
   ]
  },
  {
   "cell_type": "markdown",
   "metadata": {},
   "source": []
  },
  {
   "cell_type": "markdown",
   "metadata": {},
   "source": [
    "# Initialization"
   ]
  },
  {
   "cell_type": "code",
   "execution_count": 1,
   "metadata": {},
   "outputs": [],
   "source": [
    "import numpy as np \n",
    "import pandas as pd \n",
    "import os\n",
    "from tqdm import tqdm, trange\n",
    "from sklearn.metrics import roc_auc_score\n",
    "import pickle\n",
    "import gc"
   ]
  },
  {
   "cell_type": "code",
   "execution_count": 2,
   "metadata": {},
   "outputs": [],
   "source": [
    "tqdm.pandas()"
   ]
  },
  {
   "cell_type": "code",
   "execution_count": 3,
   "metadata": {},
   "outputs": [],
   "source": [
    "BERT_MODEL = 'bert-base-uncased'\n",
    "CASED = 'uncased' in BERT_MODEL\n",
    "INPUT = 'raw_files/'\n",
    "TEXT_COL = 'comment_text'\n",
    "MAXLEN = 220"
   ]
  },
  {
   "cell_type": "markdown",
   "metadata": {},
   "source": [
    "## Data Import"
   ]
  },
  {
   "cell_type": "code",
   "execution_count": 4,
   "metadata": {},
   "outputs": [],
   "source": [
    "train = pd.read_csv(INPUT + 'train.csv').sample(frac = 0.05, random_state = 123)"
   ]
  },
  {
   "cell_type": "code",
   "execution_count": 5,
   "metadata": {},
   "outputs": [],
   "source": [
    "test = pd.read_csv(INPUT + 'test.csv')"
   ]
  },
  {
   "cell_type": "markdown",
   "metadata": {},
   "source": [
    "## BERT Embeddings"
   ]
  },
  {
   "cell_type": "code",
   "execution_count": 6,
   "metadata": {},
   "outputs": [],
   "source": [
    "from pytorch_pretrained_bert import BertTokenizer\n",
    "from pytorch_pretrained_bert.modeling import BertModel"
   ]
  },
  {
   "cell_type": "code",
   "execution_count": 7,
   "metadata": {},
   "outputs": [],
   "source": [
    "BERT_FP = 'bert-base-uncased'"
   ]
  },
  {
   "cell_type": "code",
   "execution_count": 8,
   "metadata": {},
   "outputs": [],
   "source": [
    "def get_bert_embed_matrix():\n",
    "    bert = BertModel.from_pretrained(BERT_FP)\n",
    "    bert_embeddings = list(bert.children())[0]\n",
    "    bert_word_embeddings = list(bert_embeddings.children())[0]\n",
    "    mat = bert_word_embeddings.weight.data.numpy()\n",
    "    return mat"
   ]
  },
  {
   "cell_type": "code",
   "execution_count": 9,
   "metadata": {
    "scrolled": true
   },
   "outputs": [],
   "source": [
    "embedding_matrix = get_bert_embed_matrix()"
   ]
  },
  {
   "cell_type": "code",
   "execution_count": 10,
   "metadata": {},
   "outputs": [
    {
     "data": {
      "text/plain": [
       "(30522, 768)"
      ]
     },
     "execution_count": 10,
     "metadata": {},
     "output_type": "execute_result"
    }
   ],
   "source": [
    "embedding_matrix.shape"
   ]
  },
  {
   "cell_type": "markdown",
   "metadata": {},
   "source": [
    "# Data Scrubbing"
   ]
  },
  {
   "cell_type": "code",
   "execution_count": 11,
   "metadata": {},
   "outputs": [
    {
     "name": "stdout",
     "output_type": "stream",
     "text": [
      "<class 'pandas.core.frame.DataFrame'>\n",
      "Int64Index: 90244 entries, 687256 to 1060568\n",
      "Data columns (total 45 columns):\n",
      "id                                     90244 non-null int64\n",
      "target                                 90244 non-null float64\n",
      "comment_text                           90244 non-null object\n",
      "severe_toxicity                        90244 non-null float64\n",
      "obscene                                90244 non-null float64\n",
      "identity_attack                        90244 non-null float64\n",
      "insult                                 90244 non-null float64\n",
      "threat                                 90244 non-null float64\n",
      "asian                                  20191 non-null float64\n",
      "atheist                                20191 non-null float64\n",
      "bisexual                               20191 non-null float64\n",
      "black                                  20191 non-null float64\n",
      "buddhist                               20191 non-null float64\n",
      "christian                              20191 non-null float64\n",
      "female                                 20191 non-null float64\n",
      "heterosexual                           20191 non-null float64\n",
      "hindu                                  20191 non-null float64\n",
      "homosexual_gay_or_lesbian              20191 non-null float64\n",
      "intellectual_or_learning_disability    20191 non-null float64\n",
      "jewish                                 20191 non-null float64\n",
      "latino                                 20191 non-null float64\n",
      "male                                   20191 non-null float64\n",
      "muslim                                 20191 non-null float64\n",
      "other_disability                       20191 non-null float64\n",
      "other_gender                           20191 non-null float64\n",
      "other_race_or_ethnicity                20191 non-null float64\n",
      "other_religion                         20191 non-null float64\n",
      "other_sexual_orientation               20191 non-null float64\n",
      "physical_disability                    20191 non-null float64\n",
      "psychiatric_or_mental_illness          20191 non-null float64\n",
      "transgender                            20191 non-null float64\n",
      "white                                  20191 non-null float64\n",
      "created_date                           90244 non-null object\n",
      "publication_id                         90244 non-null int64\n",
      "parent_id                              51268 non-null float64\n",
      "article_id                             90244 non-null int64\n",
      "rating                                 90244 non-null object\n",
      "funny                                  90244 non-null int64\n",
      "wow                                    90244 non-null int64\n",
      "sad                                    90244 non-null int64\n",
      "likes                                  90244 non-null int64\n",
      "disagree                               90244 non-null int64\n",
      "sexual_explicit                        90244 non-null float64\n",
      "identity_annotator_count               90244 non-null int64\n",
      "toxicity_annotator_count               90244 non-null int64\n",
      "dtypes: float64(32), int64(10), object(3)\n",
      "memory usage: 31.7+ MB\n"
     ]
    }
   ],
   "source": [
    "train.info()"
   ]
  },
  {
   "cell_type": "code",
   "execution_count": 12,
   "metadata": {
    "scrolled": true
   },
   "outputs": [
    {
     "data": {
      "text/html": [
       "<div>\n",
       "<style scoped>\n",
       "    .dataframe tbody tr th:only-of-type {\n",
       "        vertical-align: middle;\n",
       "    }\n",
       "\n",
       "    .dataframe tbody tr th {\n",
       "        vertical-align: top;\n",
       "    }\n",
       "\n",
       "    .dataframe thead th {\n",
       "        text-align: right;\n",
       "    }\n",
       "</style>\n",
       "<table border=\"1\" class=\"dataframe\">\n",
       "  <thead>\n",
       "    <tr style=\"text-align: right;\">\n",
       "      <th></th>\n",
       "      <th>id</th>\n",
       "      <th>target</th>\n",
       "      <th>comment_text</th>\n",
       "      <th>severe_toxicity</th>\n",
       "      <th>obscene</th>\n",
       "      <th>identity_attack</th>\n",
       "      <th>insult</th>\n",
       "      <th>threat</th>\n",
       "      <th>asian</th>\n",
       "      <th>atheist</th>\n",
       "      <th>...</th>\n",
       "      <th>article_id</th>\n",
       "      <th>rating</th>\n",
       "      <th>funny</th>\n",
       "      <th>wow</th>\n",
       "      <th>sad</th>\n",
       "      <th>likes</th>\n",
       "      <th>disagree</th>\n",
       "      <th>sexual_explicit</th>\n",
       "      <th>identity_annotator_count</th>\n",
       "      <th>toxicity_annotator_count</th>\n",
       "    </tr>\n",
       "  </thead>\n",
       "  <tbody>\n",
       "    <tr>\n",
       "      <th>687256</th>\n",
       "      <td>1082203</td>\n",
       "      <td>0.000000</td>\n",
       "      <td>\"And I always say that if I ever believed Cana...</td>\n",
       "      <td>0.0</td>\n",
       "      <td>0.0</td>\n",
       "      <td>0.166667</td>\n",
       "      <td>0.000000</td>\n",
       "      <td>0.0</td>\n",
       "      <td>0.0</td>\n",
       "      <td>0.0</td>\n",
       "      <td>...</td>\n",
       "      <td>317079</td>\n",
       "      <td>rejected</td>\n",
       "      <td>0</td>\n",
       "      <td>0</td>\n",
       "      <td>0</td>\n",
       "      <td>0</td>\n",
       "      <td>0</td>\n",
       "      <td>0.0</td>\n",
       "      <td>4</td>\n",
       "      <td>6</td>\n",
       "    </tr>\n",
       "    <tr>\n",
       "      <th>1728190</th>\n",
       "      <td>6241244</td>\n",
       "      <td>0.166667</td>\n",
       "      <td>have to be fan today; not player. +3 or, +1.5,...</td>\n",
       "      <td>0.0</td>\n",
       "      <td>0.0</td>\n",
       "      <td>0.000000</td>\n",
       "      <td>0.166667</td>\n",
       "      <td>0.0</td>\n",
       "      <td>NaN</td>\n",
       "      <td>NaN</td>\n",
       "      <td>...</td>\n",
       "      <td>394471</td>\n",
       "      <td>approved</td>\n",
       "      <td>0</td>\n",
       "      <td>0</td>\n",
       "      <td>0</td>\n",
       "      <td>1</td>\n",
       "      <td>0</td>\n",
       "      <td>0.0</td>\n",
       "      <td>0</td>\n",
       "      <td>6</td>\n",
       "    </tr>\n",
       "    <tr>\n",
       "      <th>1733028</th>\n",
       "      <td>6247184</td>\n",
       "      <td>0.166667</td>\n",
       "      <td>It will help him get impeached for treason.</td>\n",
       "      <td>0.0</td>\n",
       "      <td>0.0</td>\n",
       "      <td>0.000000</td>\n",
       "      <td>0.000000</td>\n",
       "      <td>0.0</td>\n",
       "      <td>NaN</td>\n",
       "      <td>NaN</td>\n",
       "      <td>...</td>\n",
       "      <td>394751</td>\n",
       "      <td>approved</td>\n",
       "      <td>1</td>\n",
       "      <td>0</td>\n",
       "      <td>0</td>\n",
       "      <td>3</td>\n",
       "      <td>3</td>\n",
       "      <td>0.0</td>\n",
       "      <td>0</td>\n",
       "      <td>6</td>\n",
       "    </tr>\n",
       "    <tr>\n",
       "      <th>1073761</th>\n",
       "      <td>5428926</td>\n",
       "      <td>0.000000</td>\n",
       "      <td>To me there is a real disconnect when one says...</td>\n",
       "      <td>0.0</td>\n",
       "      <td>0.0</td>\n",
       "      <td>0.000000</td>\n",
       "      <td>0.000000</td>\n",
       "      <td>0.0</td>\n",
       "      <td>NaN</td>\n",
       "      <td>NaN</td>\n",
       "      <td>...</td>\n",
       "      <td>344947</td>\n",
       "      <td>approved</td>\n",
       "      <td>1</td>\n",
       "      <td>0</td>\n",
       "      <td>0</td>\n",
       "      <td>10</td>\n",
       "      <td>0</td>\n",
       "      <td>0.0</td>\n",
       "      <td>0</td>\n",
       "      <td>4</td>\n",
       "    </tr>\n",
       "    <tr>\n",
       "      <th>541700</th>\n",
       "      <td>905935</td>\n",
       "      <td>0.000000</td>\n",
       "      <td>We have a spending problem John. I refuse to a...</td>\n",
       "      <td>0.0</td>\n",
       "      <td>0.0</td>\n",
       "      <td>0.000000</td>\n",
       "      <td>0.000000</td>\n",
       "      <td>0.0</td>\n",
       "      <td>0.0</td>\n",
       "      <td>0.0</td>\n",
       "      <td>...</td>\n",
       "      <td>164337</td>\n",
       "      <td>approved</td>\n",
       "      <td>0</td>\n",
       "      <td>0</td>\n",
       "      <td>0</td>\n",
       "      <td>1</td>\n",
       "      <td>1</td>\n",
       "      <td>0.0</td>\n",
       "      <td>4</td>\n",
       "      <td>4</td>\n",
       "    </tr>\n",
       "  </tbody>\n",
       "</table>\n",
       "<p>5 rows × 45 columns</p>\n",
       "</div>"
      ],
      "text/plain": [
       "              id    target                                       comment_text  \\\n",
       "687256   1082203  0.000000  \"And I always say that if I ever believed Cana...   \n",
       "1728190  6241244  0.166667  have to be fan today; not player. +3 or, +1.5,...   \n",
       "1733028  6247184  0.166667        It will help him get impeached for treason.   \n",
       "1073761  5428926  0.000000  To me there is a real disconnect when one says...   \n",
       "541700    905935  0.000000  We have a spending problem John. I refuse to a...   \n",
       "\n",
       "         severe_toxicity  obscene  identity_attack    insult  threat  asian  \\\n",
       "687256               0.0      0.0         0.166667  0.000000     0.0    0.0   \n",
       "1728190              0.0      0.0         0.000000  0.166667     0.0    NaN   \n",
       "1733028              0.0      0.0         0.000000  0.000000     0.0    NaN   \n",
       "1073761              0.0      0.0         0.000000  0.000000     0.0    NaN   \n",
       "541700               0.0      0.0         0.000000  0.000000     0.0    0.0   \n",
       "\n",
       "         atheist  ...  article_id    rating  funny  wow  sad  likes  disagree  \\\n",
       "687256       0.0  ...      317079  rejected      0    0    0      0         0   \n",
       "1728190      NaN  ...      394471  approved      0    0    0      1         0   \n",
       "1733028      NaN  ...      394751  approved      1    0    0      3         3   \n",
       "1073761      NaN  ...      344947  approved      1    0    0     10         0   \n",
       "541700       0.0  ...      164337  approved      0    0    0      1         1   \n",
       "\n",
       "         sexual_explicit  identity_annotator_count  toxicity_annotator_count  \n",
       "687256               0.0                         4                         6  \n",
       "1728190              0.0                         0                         6  \n",
       "1733028              0.0                         0                         6  \n",
       "1073761              0.0                         0                         4  \n",
       "541700               0.0                         4                         4  \n",
       "\n",
       "[5 rows x 45 columns]"
      ]
     },
     "execution_count": 12,
     "metadata": {},
     "output_type": "execute_result"
    }
   ],
   "source": [
    "train.head()"
   ]
  },
  {
   "cell_type": "code",
   "execution_count": 13,
   "metadata": {},
   "outputs": [
    {
     "data": {
      "text/plain": [
       "'\"And I always say that if I ever believed Canada was really the Canada of Stephen Harper and we were going against abortion and going against gay marriage, and we were going backward in 10,000 different ways, maybe I\\'d think of wanting to make Quebec a country.\" ~  Justin Trudeau when he was an MP during a radio interview with  host Franco Nuovo in February 2012.\\n\\nDuring the talk show, when Nuovo expressed surprise at Trudeau\\'s remarks, Trudeau doubled down: \"Oh yes, absolutely. If I no longer recognized Canada, I know my own values.\"\\n\\nHowever to be fair to the Tater Tot he was but a callow youth of 41 years of age at the time... just a seed potato eh?\\n\\nThat sound you heard was Pierre Trudeau turning over in his grave.'"
      ]
     },
     "execution_count": 13,
     "metadata": {},
     "output_type": "execute_result"
    }
   ],
   "source": [
    "train.loc[687256]['comment_text']"
   ]
  },
  {
   "cell_type": "code",
   "execution_count": 14,
   "metadata": {},
   "outputs": [
    {
     "data": {
      "text/html": [
       "<div>\n",
       "<style scoped>\n",
       "    .dataframe tbody tr th:only-of-type {\n",
       "        vertical-align: middle;\n",
       "    }\n",
       "\n",
       "    .dataframe tbody tr th {\n",
       "        vertical-align: top;\n",
       "    }\n",
       "\n",
       "    .dataframe thead th {\n",
       "        text-align: right;\n",
       "    }\n",
       "</style>\n",
       "<table border=\"1\" class=\"dataframe\">\n",
       "  <thead>\n",
       "    <tr style=\"text-align: right;\">\n",
       "      <th></th>\n",
       "      <th>id</th>\n",
       "      <th>comment_text</th>\n",
       "    </tr>\n",
       "  </thead>\n",
       "  <tbody>\n",
       "    <tr>\n",
       "      <th>0</th>\n",
       "      <td>7000000</td>\n",
       "      <td>Jeff Sessions is another one of Trump's Orwell...</td>\n",
       "    </tr>\n",
       "    <tr>\n",
       "      <th>1</th>\n",
       "      <td>7000001</td>\n",
       "      <td>I actually inspected the infrastructure on Gra...</td>\n",
       "    </tr>\n",
       "    <tr>\n",
       "      <th>2</th>\n",
       "      <td>7000002</td>\n",
       "      <td>No it won't . That's just wishful thinking on ...</td>\n",
       "    </tr>\n",
       "    <tr>\n",
       "      <th>3</th>\n",
       "      <td>7000003</td>\n",
       "      <td>Instead of wringing our hands and nibbling the...</td>\n",
       "    </tr>\n",
       "    <tr>\n",
       "      <th>4</th>\n",
       "      <td>7000004</td>\n",
       "      <td>how many of you commenters have garbage piled ...</td>\n",
       "    </tr>\n",
       "  </tbody>\n",
       "</table>\n",
       "</div>"
      ],
      "text/plain": [
       "        id                                       comment_text\n",
       "0  7000000  Jeff Sessions is another one of Trump's Orwell...\n",
       "1  7000001  I actually inspected the infrastructure on Gra...\n",
       "2  7000002  No it won't . That's just wishful thinking on ...\n",
       "3  7000003  Instead of wringing our hands and nibbling the...\n",
       "4  7000004  how many of you commenters have garbage piled ..."
      ]
     },
     "execution_count": 14,
     "metadata": {},
     "output_type": "execute_result"
    }
   ],
   "source": [
    "test.head()"
   ]
  },
  {
   "cell_type": "markdown",
   "metadata": {},
   "source": [
    "## Cleaning Text"
   ]
  },
  {
   "cell_type": "code",
   "execution_count": 15,
   "metadata": {},
   "outputs": [],
   "source": [
    "def clean_text(x):\n",
    "    for punct in \"/-'\":\n",
    "        x = x.replace(punct, ' ')\n",
    "    for punct in '?!.,\"#$%\\'()*+-/:;<=>@[\\\\]^_`{|}~&' + '“”’':\n",
    "        x = x.replace(punct, '')\n",
    "    return x"
   ]
  },
  {
   "cell_type": "code",
   "execution_count": 16,
   "metadata": {},
   "outputs": [
    {
     "name": "stderr",
     "output_type": "stream",
     "text": [
      "100%|█████████████████████████████████████████████████████████████████████████| 90244/90244 [00:01<00:00, 69472.01it/s]\n"
     ]
    },
    {
     "data": {
      "text/plain": [
       "687256     And I always say that if I ever believed Canad...\n",
       "1728190    have to be fan today not player 3 or 15 take y...\n",
       "1733028           It will help him get impeached for treason\n",
       "1073761    To me there is a real disconnect when one says...\n",
       "541700     We have a spending problem John I refuse to ac...\n",
       "Name: text_clean, dtype: object"
      ]
     },
     "execution_count": 16,
     "metadata": {},
     "output_type": "execute_result"
    }
   ],
   "source": [
    "train['text_clean'] = train['comment_text'].progress_apply(clean_text)\n",
    "train['text_clean'].head()"
   ]
  },
  {
   "cell_type": "markdown",
   "metadata": {},
   "source": [
    "## Tokenizing"
   ]
  },
  {
   "cell_type": "code",
   "execution_count": 17,
   "metadata": {},
   "outputs": [],
   "source": [
    "#Import BERT Tokenizer\n",
    "tokenizer = BertTokenizer.from_pretrained(BERT_MODEL, do_lower_case = CASED)"
   ]
  },
  {
   "cell_type": "code",
   "execution_count": 18,
   "metadata": {},
   "outputs": [
    {
     "name": "stderr",
     "output_type": "stream",
     "text": [
      "100%|███████████████████████████████████████████████████████████████████████████| 90244/90244 [01:59<00:00, 755.66it/s]\n"
     ]
    },
    {
     "data": {
      "text/plain": [
       "687256     [and, i, always, say, that, if, i, ever, belie...\n",
       "1728190    [have, to, be, fan, today, not, player, 3, or,...\n",
       "1733028    [it, will, help, him, get, imp, ##ea, ##ched, ...\n",
       "1073761    [to, me, there, is, a, real, disco, ##nne, ##c...\n",
       "541700     [we, have, a, spending, problem, john, i, refu...\n",
       "Name: text_tokens, dtype: object"
      ]
     },
     "execution_count": 18,
     "metadata": {},
     "output_type": "execute_result"
    }
   ],
   "source": [
    "train['text_tokens'] = train['text_clean'].progress_apply(tokenizer.tokenize)\n",
    "train['text_tokens'].head()"
   ]
  },
  {
   "cell_type": "markdown",
   "metadata": {},
   "source": [
    "## Encoding"
   ]
  },
  {
   "cell_type": "markdown",
   "metadata": {},
   "source": [
    "### Checking Vocabulary Coverage"
   ]
  },
  {
   "cell_type": "code",
   "execution_count": 19,
   "metadata": {
    "scrolled": true
   },
   "outputs": [],
   "source": [
    "tokenizer.save_vocabulary('vocab')\n",
    "bert_vocab_file = open('vocab\\\\vocab.txt', encoding='utf-8')\n",
    "bert_vocab_list = bert_vocab_file.read().split(sep = '\\n')\n",
    "bert_vocab_dict = {x: True for x in bert_vocab_list}"
   ]
  },
  {
   "cell_type": "code",
   "execution_count": 20,
   "metadata": {},
   "outputs": [],
   "source": [
    "# https://www.kaggle.com/christofhenkel/how-to-preprocessing-when-using-embeddings\n",
    "\n",
    "def build_vocab(sentences, verbose =  True):\n",
    "    \"\"\"\n",
    "    :param sentences: list of list of words\n",
    "    :return: dictionary of words and their count\n",
    "    \"\"\"\n",
    "    vocab = {}\n",
    "    for sentence in tqdm(sentences, disable = (not verbose)):\n",
    "        for word in sentence:\n",
    "            try:\n",
    "                vocab[word] += 1\n",
    "            except KeyError:\n",
    "                vocab[word] = 1\n",
    "    return vocab"
   ]
  },
  {
   "cell_type": "code",
   "execution_count": 21,
   "metadata": {},
   "outputs": [
    {
     "name": "stderr",
     "output_type": "stream",
     "text": [
      "100%|█████████████████████████████████████████████████████████████████████████| 90244/90244 [00:01<00:00, 55466.47it/s]\n"
     ]
    }
   ],
   "source": [
    "train_sentences = train['text_tokens'].values\n",
    "train_vocab = build_vocab(train_sentences)"
   ]
  },
  {
   "cell_type": "code",
   "execution_count": 22,
   "metadata": {},
   "outputs": [],
   "source": [
    "import operator \n",
    "\n",
    "def check_coverage(vocab,embeddings_index):\n",
    "    a = {}\n",
    "    oov = {}\n",
    "    k = 0\n",
    "    i = 0\n",
    "    for word in tqdm(vocab):\n",
    "        try:\n",
    "            a[word] = embeddings_index[word]\n",
    "            k += vocab[word]\n",
    "        except:\n",
    "\n",
    "            oov[word] = vocab[word]\n",
    "            i += vocab[word]\n",
    "            pass\n",
    "\n",
    "    print('Found embeddings for {:.2%} of vocab'.format(len(a) / len(vocab)))\n",
    "    print('Found embeddings for  {:.2%} of all text'.format(k / (k + i)))\n",
    "    sorted_x = sorted(oov.items(), key=operator.itemgetter(1))[::-1]\n",
    "\n",
    "    return sorted_x"
   ]
  },
  {
   "cell_type": "code",
   "execution_count": 23,
   "metadata": {},
   "outputs": [
    {
     "name": "stderr",
     "output_type": "stream",
     "text": [
      "100%|███████████████████████████████████████████████████████████████████████| 25231/25231 [00:00<00:00, 1051326.09it/s]\n"
     ]
    },
    {
     "name": "stdout",
     "output_type": "stream",
     "text": [
      "Found embeddings for 100.00% of vocab\n",
      "Found embeddings for  100.00% of all text\n"
     ]
    },
    {
     "data": {
      "text/plain": [
       "[]"
      ]
     },
     "execution_count": 23,
     "metadata": {},
     "output_type": "execute_result"
    }
   ],
   "source": [
    "check_coverage(train_vocab, bert_vocab_dict)[0:20]"
   ]
  },
  {
   "cell_type": "markdown",
   "metadata": {},
   "source": [
    "### Encoding Comments"
   ]
  },
  {
   "cell_type": "code",
   "execution_count": 24,
   "metadata": {
    "scrolled": true
   },
   "outputs": [
    {
     "name": "stderr",
     "output_type": "stream",
     "text": [
      "100%|█████████████████████████████████████████████████████████████████████████| 90244/90244 [00:01<00:00, 51567.88it/s]\n"
     ]
    },
    {
     "data": {
      "text/plain": [
       "687256     [1998, 1045, 2467, 2360, 2008, 2065, 1045, 241...\n",
       "1728190    [2031, 2000, 2022, 5470, 2651, 2025, 2447, 101...\n",
       "1733028    [2009, 2097, 2393, 2032, 2131, 17727, 5243, 76...\n",
       "1073761    [2000, 2033, 2045, 2003, 1037, 2613, 12532, 10...\n",
       "541700     [2057, 2031, 1037, 5938, 3291, 2198, 1045, 102...\n",
       "900691     [1045, 1049, 2025, 1037, 5470, 1997, 8398, 200...\n",
       "393193     [2481, 1056, 2022, 1037, 2488, 2447, 2652, 200...\n",
       "1121977    [2045, 2024, 1037, 2843, 1997, 2822, 2231, 512...\n",
       "1411658    [4067, 2017, 2005, 2023, 23259, 14764, 2009, 2...\n",
       "300499     [1996, 3145, 2003, 2008, 2017, 3685, 5860, 200...\n",
       "Name: text_ids, dtype: object"
      ]
     },
     "execution_count": 24,
     "metadata": {},
     "output_type": "execute_result"
    }
   ],
   "source": [
    "train['text_ids'] = train['text_tokens'].progress_apply(tokenizer.convert_tokens_to_ids)\n",
    "train['text_ids'].head(10)"
   ]
  },
  {
   "cell_type": "markdown",
   "metadata": {},
   "source": [
    "### Clipping"
   ]
  },
  {
   "cell_type": "code",
   "execution_count": 25,
   "metadata": {},
   "outputs": [],
   "source": [
    "def id_clip(ids, num_ids = MAXLEN):\n",
    "    ids_clipped = list(np.zeros(num_ids, dtype=np.int))\n",
    "    i = 0\n",
    "    while (i < num_ids) & (i < len(ids)):\n",
    "        ids_clipped[i] = ids[i]\n",
    "        i += 1\n",
    "    return np.array(ids_clipped)"
   ]
  },
  {
   "cell_type": "code",
   "execution_count": 26,
   "metadata": {},
   "outputs": [
    {
     "name": "stderr",
     "output_type": "stream",
     "text": [
      "100%|█████████████████████████████████████████████████████████████████████████| 90244/90244 [00:04<00:00, 18703.41it/s]\n"
     ]
    },
    {
     "data": {
      "text/plain": [
       "687256     [1998, 1045, 2467, 2360, 2008, 2065, 1045, 241...\n",
       "1728190    [2031, 2000, 2022, 5470, 2651, 2025, 2447, 101...\n",
       "1733028    [2009, 2097, 2393, 2032, 2131, 17727, 5243, 76...\n",
       "1073761    [2000, 2033, 2045, 2003, 1037, 2613, 12532, 10...\n",
       "541700     [2057, 2031, 1037, 5938, 3291, 2198, 1045, 102...\n",
       "Name: text_ids_clipped, dtype: object"
      ]
     },
     "execution_count": 26,
     "metadata": {},
     "output_type": "execute_result"
    }
   ],
   "source": [
    "train['text_ids_clipped'] = train['text_ids'].progress_apply(id_clip)\n",
    "train['text_ids_clipped'].head()"
   ]
  },
  {
   "cell_type": "markdown",
   "metadata": {},
   "source": [
    "# Exploring the Data"
   ]
  },
  {
   "cell_type": "code",
   "execution_count": 27,
   "metadata": {},
   "outputs": [],
   "source": [
    "import matplotlib.pyplot as plt"
   ]
  },
  {
   "cell_type": "markdown",
   "metadata": {},
   "source": [
    "## Comments"
   ]
  },
  {
   "cell_type": "code",
   "execution_count": 28,
   "metadata": {},
   "outputs": [
    {
     "name": "stderr",
     "output_type": "stream",
     "text": [
      "100%|████████████████████████████████████████████████████████████████████████| 90244/90244 [00:00<00:00, 524671.72it/s]\n"
     ]
    },
    {
     "data": {
      "text/plain": [
       "count    90244.000000\n",
       "mean        56.586765\n",
       "std         50.380106\n",
       "min          0.000000\n",
       "25%         18.000000\n",
       "50%         39.000000\n",
       "75%         79.000000\n",
       "max        307.000000\n",
       "Name: text_id_len, dtype: float64"
      ]
     },
     "execution_count": 28,
     "metadata": {},
     "output_type": "execute_result"
    }
   ],
   "source": [
    "train['text_id_len'] = train['text_ids'].progress_apply(len)\n",
    "train['text_id_len'].describe()"
   ]
  },
  {
   "cell_type": "code",
   "execution_count": 29,
   "metadata": {},
   "outputs": [
    {
     "data": {
      "text/plain": [
       "(array([1.8362e+04, 1.8826e+04, 1.3674e+04, 9.1280e+03, 6.7160e+03,\n",
       "        5.3300e+03, 3.6030e+03, 2.9470e+03, 2.4050e+03, 1.9530e+03,\n",
       "        1.9030e+03, 2.9650e+03, 1.9970e+03, 4.0700e+02, 2.6000e+01,\n",
       "        0.0000e+00, 0.0000e+00, 1.0000e+00, 0.0000e+00, 1.0000e+00]),\n",
       " array([  0.  ,  15.35,  30.7 ,  46.05,  61.4 ,  76.75,  92.1 , 107.45,\n",
       "        122.8 , 138.15, 153.5 , 168.85, 184.2 , 199.55, 214.9 , 230.25,\n",
       "        245.6 , 260.95, 276.3 , 291.65, 307.  ]),\n",
       " <a list of 20 Patch objects>)"
      ]
     },
     "execution_count": 29,
     "metadata": {},
     "output_type": "execute_result"
    },
    {
     "data": {
      "image/png": "[encoded data removed]",
      "text/plain": [
       "<Figure size 432x288 with 1 Axes>"
      ]
     },
     "metadata": {
      "needs_background": "light"
     },
     "output_type": "display_data"
    }
   ],
   "source": [
    "plt.hist(train['text_id_len'].values, bins=20)"
   ]
  },
  {
   "cell_type": "markdown",
   "metadata": {},
   "source": [
    "## Toxicity (Target)"
   ]
  },
  {
   "cell_type": "code",
   "execution_count": 30,
   "metadata": {
    "scrolled": true
   },
   "outputs": [
    {
     "data": {
      "text/plain": [
       "count    90244.000000\n",
       "mean         0.102996\n",
       "std          0.196619\n",
       "min          0.000000\n",
       "25%          0.000000\n",
       "50%          0.000000\n",
       "75%          0.166667\n",
       "max          1.000000\n",
       "Name: target, dtype: float64"
      ]
     },
     "execution_count": 30,
     "metadata": {},
     "output_type": "execute_result"
    },
    {
     "data": {
      "image/png": "[encoded data removed]",
      "text/plain": [
       "<Figure size 432x288 with 1 Axes>"
      ]
     },
     "metadata": {
      "needs_background": "light"
     },
     "output_type": "display_data"
    }
   ],
   "source": [
    "plt.hist(train['target'])\n",
    "train['target'].describe()"
   ]
  },
  {
   "cell_type": "code",
   "execution_count": 31,
   "metadata": {},
   "outputs": [
    {
     "data": {
      "text/plain": [
       "0.058386153096050705"
      ]
     },
     "execution_count": 31,
     "metadata": {},
     "output_type": "execute_result"
    }
   ],
   "source": [
    "np.mean(np.round(train['target'].values))"
   ]
  },
  {
   "cell_type": "markdown",
   "metadata": {},
   "source": [
    "### Toxicity by Subgroup"
   ]
  },
  {
   "cell_type": "code",
   "execution_count": 32,
   "metadata": {},
   "outputs": [
    {
     "data": {
      "text/plain": [
       "male                             0.105813\n",
       "female                           0.129556\n",
       "homosexual_gay_or_lesbian        0.025052\n",
       "christian                        0.093628\n",
       "jewish                           0.018585\n",
       "muslim                           0.049300\n",
       "black                            0.034535\n",
       "white                            0.055545\n",
       "psychiatric_or_mental_illness    0.012549\n",
       "dtype: float64"
      ]
     },
     "execution_count": 32,
     "metadata": {},
     "output_type": "execute_result"
    }
   ],
   "source": [
    "identity_columns = ['male','female','homosexual_gay_or_lesbian','christian','jewish','muslim','black','white','psychiatric_or_mental_illness']\n",
    "train[identity_columns].mean()"
   ]
  },
  {
   "cell_type": "code",
   "execution_count": 33,
   "metadata": {},
   "outputs": [
    {
     "name": "stdout",
     "output_type": "stream",
     "text": [
      "male: 11.2%\n",
      "female: 9.1%\n",
      "homosexual_gay_or_lesbian: 19.2%\n",
      "christian: 5.3%\n",
      "jewish: 8.4%\n",
      "muslim: 13.5%\n",
      "black: 22.2%\n",
      "white: 18.2%\n",
      "psychiatric_or_mental_illness: 11.5%\n"
     ]
    }
   ],
   "source": [
    "for identity in identity_columns:\n",
    "    identity_df = train[train[identity] >= 0.5]\n",
    "    identity_tox = np.round(identity_df['target'].values)\n",
    "    n_toxic = sum(identity_tox)\n",
    "    n_tot = len(identity_tox)\n",
    "    pct_toxic = np.round(n_toxic/n_tot * 100, decimals = 1) \n",
    "    print(f\"{identity}: {pct_toxic}%\")"
   ]
  },
  {
   "cell_type": "code",
   "execution_count": 34,
   "metadata": {},
   "outputs": [
    {
     "name": "stdout",
     "output_type": "stream",
     "text": [
      "asian: 11.4%\n",
      "atheist: 6.8%\n",
      "bisexual: 25.0%\n",
      "black: 22.2%\n",
      "buddhist: 0.0%\n",
      "christian: 5.3%\n",
      "female: 9.1%\n",
      "heterosexual: 21.3%\n",
      "hindu: 6.7%\n",
      "homosexual_gay_or_lesbian: 19.2%\n",
      "intellectual_or_learning_disability: 0.0%\n",
      "jewish: 8.4%\n",
      "latino: 15.7%\n",
      "male: 11.2%\n",
      "muslim: 13.5%\n",
      "other_disability: 50.0%\n",
      "other_race_or_ethnicity: 25.0%\n",
      "other_religion: 0.0%\n",
      "physical_disability: 0.0%\n",
      "psychiatric_or_mental_illness: 11.5%\n",
      "transgender: 15.1%\n",
      "white: 18.2%\n"
     ]
    }
   ],
   "source": [
    "identity_columns_long = ['asian', 'atheist', 'bisexual', 'black', 'buddhist', 'christian', 'female', 'heterosexual', 'hindu', 'homosexual_gay_or_lesbian', 'intellectual_or_learning_disability', 'jewish', 'latino', 'male', 'muslim', 'other_disability', 'other_gender', 'other_race_or_ethnicity', 'other_religion', 'other_sexual_orientation', 'physical_disability', 'psychiatric_or_mental_illness', 'transgender', 'white']\n",
    "for identity in identity_columns_long:\n",
    "    identity_df = train[train[identity] >= 0.5]\n",
    "    identity_tox = np.round(identity_df['target'].values)\n",
    "    n_toxic = sum(identity_tox)\n",
    "    n_tot = len(identity_tox)\n",
    "    if n_tot == 0:\n",
    "        continue\n",
    "    pct_toxic = np.round(n_toxic/n_tot * 100, decimals = 1) \n",
    "    print(f\"{identity}: {pct_toxic}%\")"
   ]
  },
  {
   "cell_type": "markdown",
   "metadata": {},
   "source": [
    "## Toxic Words"
   ]
  },
  {
   "cell_type": "markdown",
   "metadata": {},
   "source": [
    "### Identify Important Words with TF-IDF"
   ]
  },
  {
   "cell_type": "code",
   "execution_count": 35,
   "metadata": {},
   "outputs": [
    {
     "data": {
      "text/plain": [
       "['00', '000', '001', '01', '02', '03', '04', '05', '06', '07']"
      ]
     },
     "execution_count": 35,
     "metadata": {},
     "output_type": "execute_result"
    }
   ],
   "source": [
    "from sklearn.feature_extraction.text import CountVectorizer, TfidfTransformer\n",
    "\n",
    "count_vectorizer = CountVectorizer(max_features=20000)\n",
    "count_vectorizer.fit(train['comment_text'].values)\n",
    "top_20000_words = count_vectorizer.get_feature_names()\n",
    "top_20000_words[0:10]"
   ]
  },
  {
   "cell_type": "code",
   "execution_count": 36,
   "metadata": {},
   "outputs": [],
   "source": [
    "gc.collect()\n",
    "count_mat = count_vectorizer.transform(train['comment_text'].values)"
   ]
  },
  {
   "cell_type": "code",
   "execution_count": 42,
   "metadata": {},
   "outputs": [
    {
     "data": {
      "text/plain": [
       "182"
      ]
     },
     "execution_count": 42,
     "metadata": {},
     "output_type": "execute_result"
    }
   ],
   "source": [
    "np.sum((count_mat[:,0] >= 1).toarray())"
   ]
  },
  {
   "cell_type": "code",
   "execution_count": 60,
   "metadata": {},
   "outputs": [
    {
     "name": "stderr",
     "output_type": "stream",
     "text": [
      "C:\\Users\\david\\Anaconda3\\envs\\mod4\\lib\\site-packages\\ipykernel_launcher.py:2: SettingWithCopyWarning: \n",
      "A value is trying to be set on a copy of a slice from a DataFrame.\n",
      "Try using .loc[row_indexer,col_indexer] = value instead\n",
      "\n",
      "See the caveats in the documentation: http://pandas.pydata.org/pandas-docs/stable/indexing.html#indexing-view-versus-copy\n",
      "  \n",
      "C:\\Users\\david\\Anaconda3\\envs\\mod4\\lib\\site-packages\\ipykernel_launcher.py:11: SettingWithCopyWarning: \n",
      "A value is trying to be set on a copy of a slice from a DataFrame.\n",
      "Try using .loc[row_indexer,col_indexer] = value instead\n",
      "\n",
      "See the caveats in the documentation: http://pandas.pydata.org/pandas-docs/stable/indexing.html#indexing-view-versus-copy\n",
      "  # This is added back by InteractiveShellApp.init_path()\n"
     ]
    },
    {
     "name": "stdout",
     "output_type": "stream",
     "text": [
      "{'00': (182, 0.05674397658185094, 0.0), '000': (1324, 0.05700658641835112, 0.02127659574468085), '01': (115, 0.05665467625899281, 0.0), '04': (101, 0.05669291338582677, 0.0), '06': (107, 0.05645524066576698, 0.25), '08': (118, 0.05669291338582677, 0.0), '10': (1490, 0.05639269406392694, 0.07142857142857142), '100': (997, 0.05618744313011829, 0.09259259259259259), '1000': (146, 0.05668016194331984, 0.0), '11': (505, 0.05633484162895928, 0.1), '12': (590, 0.056890299184043515, 0.02631578947368421), '13': (278, 0.05684637942702459, 0.0), '14': (267, 0.056782334384858045, 0.0), '15': (657, 0.0570006785795069, 0.0), '150': (151, 0.056731202161188654, 0.0), '16': (338, 0.056897719575524947, 0.0), '17': (253, 0.056807935076645624, 0.0), '18': (350, 0.056795131845841784, 0.0), '19': (193, 0.05651880207160549, 0.1111111111111111), '1st': (163, 0.05671843349088454, 0.0), '20': (1060, 0.056954844565464034, 0.023255813953488372), '200': (272, 0.056769542689795, 0.0), '2000': (141, 0.05670567056705671, 0.0), '2008': (183, 0.05674397658185094, 0.0), '2009': (112, 0.05648064806480648, 0.16666666666666666), '2010': (123, 0.05651880207160549, 0.1111111111111111), '2011': (124, 0.05653153153153153, 0.1), '2012': (144, 0.05648064806480648, 0.16666666666666666), '2013': (186, 0.05668016194331984, 0.0), '2014': (206, 0.05675675675675676, 0.0), '2015': (362, 0.056807935076645624, 0.0), '2016': (646, 0.05657388549445576, 0.06451612903225806), '2017': (728, 0.05642067253441661, 0.10526315789473684), '2018': (156, 0.05668016194331984, 0.0), '2019': (134, 0.05633168093735917, 0.16666666666666666), '2020': (117, 0.05651880207160549, 0.1111111111111111), '21': (223, 0.056407942238267145, 0.1111111111111111), '22': (188, 0.0565060783430887, 0.125), '23': (134, 0.05670567056705671, 0.0), '24': (286, 0.05670567056705671, 0.0), '25': (487, 0.056962025316455694, 0.0), '250': (105, 0.05665467625899281, 0.0), '26': (129, 0.05642985611510792, 0.5), '27': (112, 0.05670567056705671, 0.0), '28': (109, 0.056641942009440324, 0.0), '2nd': (207, 0.05653153153153153, 0.1), '30': (829, 0.056954844565464034, 0.023255813953488372), '300': (194, 0.05670567056705671, 0.0), '35': (201, 0.056544266726740254, 0.09090909090909091), '3rd': (169, 0.056782334384858045, 0.0), '40': (520, 0.05673598553345389, 0.038461538461538464), '400': (133, 0.05669291338582677, 0.0), '45': (186, 0.05610635421360973, 0.25), '48': (137, 0.05671843349088454, 0.0), '50': (923, 0.05657805044308112, 0.061224489795918366), '500': (332, 0.05630630630630631, 0.2), '55': (104, 0.05648064806480648, 0.16666666666666666), '60': (457, 0.056535504296698326, 0.07142857142857142), '65': (146, 0.05648064806480648, 0.16666666666666666), '70': (341, 0.05632209907260801, 0.10344827586206896), '75': (183, 0.056255625562556255, 0.3333333333333333), '80': (358, 0.05662079855628243, 0.058823529411764705), '90': (302, 0.05670567056705671, 0.0), '99': (161, 0.056731202161188654, 0.0), 'abandoned': (105, 0.05669291338582677, 0.0), 'abiding': (101, 0.05666741623566449, 0.0), 'ability': (473, 0.05676164631388512, 0.03571428571428571), 'able': (1228, 0.05690871841566128, 0.03508771929824561), 'abortion': (337, 0.056471651231082, 0.08695652173913043), 'about': (12187, 0.05549792531120332, 0.06397306397306397), 'above': (725, 0.05659950192438307, 0.06060606060606061), 'absolute': (197, 0.056807935076645624, 0.0), 'absolutely': (671, 0.05659950192438307, 0.06060606060606061), 'absurd': (126, 0.05665467625899281, 0.0), 'abuse': (515, 0.056471651231082, 0.08695652173913043), 'abused': (127, 0.05605583070688879, 0.375), 'aca': (268, 0.05651880207160549, 0.1111111111111111), 'academic': (120, 0.05651880207160549, 0.1111111111111111), 'accept': (572, 0.05683876811594203, 0.029411764705882353), 'acceptable': (195, 0.056557007661108605, 0.08333333333333333), 'accepted': (205, 0.05656975433851701, 0.07692307692307693), 'accepting': (141, 0.05675675675675676, 0.0), 'access': (596, 0.05661231884057971, 0.058823529411764705), 'accident': (154, 0.05670567056705671, 0.0), 'accomplish': (110, 0.05666741623566449, 0.0), 'accomplished': (129, 0.05675675675675676, 0.0), 'according': (631, 0.0567744854105406, 0.034482758620689655), 'account': (394, 0.05664635522455427, 0.05263157894736842), 'accountability': (137, 0.05646794150731159, 0.2), 'accountable': (187, 0.05630630630630631, 0.2), 'accounts': (197, 0.056769542689795, 0.0), 'accurate': (246, 0.05656975433851701, 0.07692307692307693), 'accusations': (148, 0.05651880207160549, 0.1111111111111111), 'accuse': (101, 0.056493360342111186, 0.14285714285714285), 'accused': (243, 0.05659526493799324, 0.06666666666666667), 'achieve': (153, 0.05675675675675676, 0.0), 'acknowledge': (176, 0.05666741623566449, 0.0), 'across': (622, 0.056625141562853906, 0.05714285714285714), 'act': (1055, 0.05593451568894952, 0.11538461538461539), 'acting': (216, 0.05656975433851701, 0.07692307692307693), 'action': (721, 0.05656519763743753, 0.0625), 'actions': (712, 0.05634758995247793, 0.0967741935483871), 'active': (218, 0.05668016194331984, 0.0), 'activities': (194, 0.056544266726740254, 0.09090909090909091), 'activity': (251, 0.05675675675675676, 0.0), 'acts': (266, 0.056807935076645624, 0.0), 'actual': (684, 0.057116953762466005, 0.0), 'actually': (2898, 0.05661696178937558, 0.056962025316455694), 'ad': (233, 0.05687203791469194, 0.0), 'add': (619, 0.05657388549445576, 0.06451612903225806), 'added': (289, 0.056544266726740254, 0.09090909090909091), 'addiction': (116, 0.0565060783430887, 0.125), 'adding': (166, 0.05670567056705671, 0.0), 'addition': (209, 0.056795131845841784, 0.0), 'additional': (257, 0.05651880207160549, 0.1111111111111111), 'address': (410, 0.0563570784490532, 0.14285714285714285), 'addressed': (136, 0.056731202161188654, 0.0), 'addressing': (126, 0.05646794150731159, 0.2), 'administration': (760, 0.0568258999320806, 0.030303030303030304), 'admit': (388, 0.05688487584650113, 0.0), 'admitted': (187, 0.05653153153153153, 0.1), 'adn': (334, 0.05684637942702459, 0.0), 'adult': (247, 0.056544266726740254, 0.09090909090909091), 'adults': (256, 0.05610635421360973, 0.25), 'advance': (151, 0.05670567056705671, 0.0), 'advanced': (118, 0.05626828719333783, 0.2857142857142857), 'advantage': (314, 0.05671843349088454, 0.0), 'advertising': (116, 0.05645524066576698, 0.25), 'advice': (269, 0.05618231046931408, 0.16666666666666666), 'advocate': (150, 0.05653153153153153, 0.1), 'advocates': (136, 0.05671843349088454, 0.0), 'affairs': (162, 0.05645524066576698, 0.25), 'affect': (195, 0.05653153153153153, 0.1), 'affected': (157, 0.05653153153153153, 0.1), 'afford': (508, 0.05693628558517849, 0.0), 'affordable': (295, 0.05649717514124294, 0.08), 'afghanistan': (174, 0.05671843349088454, 0.0), 'afraid': (299, 0.05659526493799324, 0.06666666666666667), 'africa': (210, 0.05653153153153153, 0.1), 'african': (196, 0.05670567056705671, 0.0), 'after': (3813, 0.0579676132363295, 0.026455026455026454), 'ag': (135, 0.05669291338582677, 0.0), 'again': (2713, 0.056918093475242945, 0.046875), 'against': (2727, 0.05726872246696035, 0.0364963503649635), 'age': (690, 0.05657388549445576, 0.06451612903225806), 'agencies': (260, 0.05660802886783942, 0.0625), 'agency': (194, 0.056731202161188654, 0.0), 'agenda': (527, 0.05671034794396747, 0.041666666666666664), 'agent': (135, 0.056731202161188654, 0.0), 'agents': (115, 0.05666741623566449, 0.0), 'aggressive': (127, 0.05669291338582677, 0.0), 'ago': (1569, 0.0568752855185016, 0.041666666666666664), 'agree': (2186, 0.056860036832412524, 0.04716981132075472), 'agreed': (335, 0.05659526493799324, 0.06666666666666667), 'agreement': (328, 0.056769542689795, 0.0), 'ah': (228, 0.05674397658185094, 0.0), 'ahead': (429, 0.05658250676284941, 0.07142857142857142), 'aid': (246, 0.056633574007220217, 0.05555555555555555), 'ain': (157, 0.05674397658185094, 0.0), 'air': (552, 0.05672316384180791, 0.04), 'aircraft': (131, 0.05668016194331984, 0.0), 'airlines': (102, 0.05666741623566449, 0.0), 'airport': (172, 0.05669291338582677, 0.0), 'ak': (175, 0.05674397658185094, 0.0), 'aka': (109, 0.05646794150731159, 0.2), 'al': (331, 0.056795131845841784, 0.0), 'alaska': (1686, 0.055848020141908906, 0.09876543209876543), 'alaskan': (310, 0.05675675675675676, 0.0), 'alaskans': (469, 0.056697537836006326, 0.043478260869565216), 'alberta': (328, 0.056220365771054416, 0.14285714285714285), 'alcohol': (268, 0.05659526493799324, 0.06666666666666667), 'aliens': (121, 0.05668016194331984, 0.0), 'alive': (226, 0.05651880207160549, 0.1111111111111111), 'all': (15202, 0.05550998085862729, 0.0617906683480454), 'allegations': (119, 0.05642985611510792, 0.5), 'alleged': (151, 0.05674397658185094, 0.0), 'allies': (161, 0.05646794150731159, 0.2), 'allow': (737, 0.056360344047080124, 0.09375), 'allowed': (814, 0.05670220004536176, 0.04878048780487805), 'allowing': (314, 0.05656975433851701, 0.07692307692307693), 'allows': (236, 0.056807935076645624, 0.0), 'almost': (1095, 0.05670220004536176, 0.04878048780487805), 'aloha': (118, 0.05670567056705671, 0.0), 'alone': (697, 0.0565482922415743, 0.06896551724137931), 'along': (1015, 0.05665529010238908, 0.05454545454545454), 'already': (2097, 0.05626008761816924, 0.07079646017699115), 'also': (4502, 0.05575242145050791, 0.07373271889400922), 'alt': (230, 0.05658250676284941, 0.07142857142857142), 'alternative': (361, 0.05636978579481398, 0.13333333333333333), 'although': (568, 0.05671034794396747, 0.041666666666666664), 'always': (2389, 0.0568973525313516, 0.04861111111111111), 'am': (2942, 0.05582580495714617, 0.08270676691729323), 'amazing': (336, 0.05662079855628243, 0.058823529411764705), 'amendment': (322, 0.05660802886783942, 0.0625), 'america': (1659, 0.056241426611796985, 0.07894736842105263), 'american': (1878, 0.05625717566016074, 0.07368421052631578), 'americans': (1224, 0.056328392246294184, 0.07692307692307693), 'among': (600, 0.05638586956521739, 0.08823529411764706), 'amongst': (104, 0.05671843349088454, 0.0), 'amount': (670, 0.056309362279511534, 0.10714285714285714), 'amounts': (177, 0.05630630630630631, 0.2), 'an': (11859, 0.057334710743801656, 0.05190311418685121), 'analysis': (268, 0.05658250676284941, 0.07142857142857142), 'anc': (134, 0.056731202161188654, 0.0), 'anchorage': (506, 0.056697537836006326, 0.043478260869565216), 'and': (49885, 0.054177215189873416, 0.05858585858585859), 'andrew': (107, 0.056731202161188654, 0.0), 'anger': (158, 0.05631899076368552, 0.18181818181818182), 'angry': (274, 0.05638249887235002, 0.125), 'animal': (194, 0.056731202161188654, 0.0), 'animals': (244, 0.056557007661108605, 0.08333333333333333), 'announced': (110, 0.05646794150731159, 0.2), 'annual': (248, 0.056731202161188654, 0.0), 'another': (3205, 0.05686320205080401, 0.050314465408805034), 'answer': (877, 0.05648820326678766, 0.07142857142857142), 'answers': (157, 0.05631899076368552, 0.18181818181818182), 'anthem': (148, 0.05668016194331984, 0.0), 'anti': (967, 0.05598368087035358, 0.13157894736842105), 'any': (7037, 0.056355208587460355, 0.05982905982905983), 'anybody': (309, 0.05658250676284941, 0.07142857142857142), 'anymore': (402, 0.05682074408117249, 0.0), 'anyone': (2420, 0.05654281098546042, 0.05982905982905983), 'anything': (2617, 0.05715602673427057, 0.036036036036036036), 'anyway': (560, 0.057039384336803986, 0.0), 'anywhere': (357, 0.05688487584650113, 0.0), 'apart': (131, 0.056769542689795, 0.0), 'apologize': (133, 0.05669291338582677, 0.0), 'apology': (102, 0.056731202161188654, 0.0), 'apparent': (124, 0.05674397658185094, 0.0), 'apparently': (651, 0.056851642129105324, 0.02857142857142857), 'appeal': (157, 0.05630630630630631, 0.2), 'appear': (305, 0.056833558863328824, 0.0), 'appears': (413, 0.05585707824513795, 0.17857142857142858), 'applied': (188, 0.056557007661108605, 0.08333333333333333), 'applies': (143, 0.056795131845841784, 0.0), 'apply': (381, 0.0565482922415743, 0.06896551724137931), 'appointed': (219, 0.05610635421360973, 0.25), 'appointment': (102, 0.05669291338582677, 0.0), 'appreciate': (257, 0.056782334384858045, 0.0), 'approach': (392, 0.056897719575524947, 0.0), 'appropriate': (267, 0.05674397658185094, 0.0), 'approval': (212, 0.0563570784490532, 0.14285714285714285), 'approve': (138, 0.05651880207160549, 0.1111111111111111), 'approved': (213, 0.05639521768554027, 0.11764705882352941), 'april': (103, 0.05669291338582677, 0.0), 'arabia': (147, 0.056293627561360055, 0.2222222222222222), 'are': (24994, 0.05687058100215186, 0.055973266499582286), 'area': (731, 0.05628688152519292, 0.09090909090909091), 'areas': (458, 0.05659526493799324, 0.06666666666666667), 'aren': (1097, 0.05676657584014532, 0.043478260869565216), 'argue': (238, 0.056769542689795, 0.0), 'arguing': (123, 0.05675675675675676, 0.0), 'argument': (686, 0.05690319655406937, 0.02564102564102564), 'arguments': (180, 0.056782334384858045, 0.0), 'arm': (140, 0.056493360342111186, 0.14285714285714285), 'armed': (271, 0.056557007661108605, 0.08333333333333333), 'arms': (227, 0.056493360342111186, 0.14285714285714285), 'army': (196, 0.056782334384858045, 0.0), 'around': (2181, 0.057634902411021816, 0.010526315789473684), 'arrest': (118, 0.056731202161188654, 0.0), 'arrested': (166, 0.05656975433851701, 0.07692307692307693), 'arrogance': (111, 0.05630630630630631, 0.2), 'arrogant': (124, 0.05670567056705671, 0.0), 'art': (184, 0.05653153153153153, 0.1), 'article': (2559, 0.056364056364056364, 0.06611570247933884), 'articles': (466, 0.05633484162895928, 0.1), 'as': (18030, 0.056064390785456567, 0.0590318772136954), 'asia': (114, 0.05670567056705671, 0.0), 'asian': (110, 0.056731202161188654, 0.0), 'aside': (239, 0.05682074408117249, 0.0), 'ask': (985, 0.05708437571071185, 0.018867924528301886), 'asked': (586, 0.056411418214771185, 0.08333333333333333), 'asking': (443, 0.05668473351400181, 0.045454545454545456), 'aspect': (114, 0.05628095452498874, 0.25), 'assad': (117, 0.05670567056705671, 0.0), 'assault': (328, 0.05659526493799324, 0.06666666666666667), 'assembly': (126, 0.05645524066576698, 0.25), 'assertion': (107, 0.05644254553631662, 0.3333333333333333), 'assessment': (120, 0.05646794150731159, 0.2), 'assets': (171, 0.056731202161188654, 0.0), 'assistance': (159, 0.0565060783430887, 0.125), 'associated': (205, 0.05651880207160549, 0.1111111111111111), 'association': (132, 0.05669291338582677, 0.0), 'assume': (390, 0.05653153153153153, 0.1), 'assuming': (199, 0.05670567056705671, 0.0), 'assumption': (111, 0.05674397658185094, 0.0), 'at': (13282, 0.05812417437252312, 0.0481203007518797), 'attack': (675, 0.057091073855913006, 0.0), 'attacked': (162, 0.056731202161188654, 0.0), 'attacking': (165, 0.05675675675675676, 0.0), 'attacks': (374, 0.056659142212189616, 0.05), 'attempt': (525, 0.05600722673893405, 0.18181818181818182), 'attempted': (115, 0.05670567056705671, 0.0), 'attempting': (171, 0.0563570784490532, 0.14285714285714285), 'attempts': (156, 0.05670567056705671, 0.0), 'attend': (158, 0.056731202161188654, 0.0), 'attended': (112, 0.05653153153153153, 0.1), 'attention': (605, 0.05674881302283518, 0.037037037037037035), 'attitude': (241, 0.056731202161188654, 0.0), 'attorney': (235, 0.056782334384858045, 0.0), 'audience': (115, 0.05670567056705671, 0.0), 'australia': (134, 0.05670567056705671, 0.0), 'author': (418, 0.056458897922312554, 0.09090909090909091), 'authorities': (127, 0.05668016194331984, 0.0), 'authority': (359, 0.055944055944055944, 0.23529411764705882), 'auto': (167, 0.056769542689795, 0.0), 'available': (583, 0.05613399728383884, 0.125), 'average': (586, 0.056197598005891684, 0.10810810810810811), 'avoid': (428, 0.056910569105691054, 0.0), 'aware': (392, 0.05667193497403477, 0.047619047619047616), 'away': (1978, 0.05693296602387511, 0.0425531914893617), 'awesome': (120, 0.05630630630630631, 0.2), 'awful': (140, 0.05670567056705671, 0.0), 'babies': (156, 0.05671843349088454, 0.0), 'baby': (305, 0.05634437683119225, 0.15384615384615385), 'back': (3963, 0.05630841121495327, 0.06470588235294118), 'backed': (137, 0.0565060783430887, 0.125), 'background': (179, 0.05651880207160549, 0.1111111111111111), 'backs': (115, 0.05671843349088454, 0.0), 'bad': (2229, 0.056734317343173434, 0.05263157894736842), 'badly': (193, 0.056731202161188654, 0.0), 'bag': (156, 0.056493360342111186, 0.14285714285714285), 'balance': (308, 0.056659142212189616, 0.05), 'balanced': (181, 0.05675675675675676, 0.0), 'ball': (239, 0.05651880207160549, 0.1111111111111111), 'ballot': (181, 0.056782334384858045, 0.0), 'ban': (447, 0.056433408577878104, 0.1), 'bank': (432, 0.05664635522455427, 0.05263157894736842), 'bankrupt': (171, 0.056769542689795, 0.0), 'bankruptcy': (123, 0.056255625562556255, 0.3333333333333333), 'banks': (195, 0.05651880207160549, 0.1111111111111111), 'banned': (184, 0.05630630630630631, 0.2), 'bannon': (138, 0.05669291338582677, 0.0), 'bar': (176, 0.05675675675675676, 0.0), 'barely': (130, 0.05651880207160549, 0.1111111111111111), 'barrel': (101, 0.05646794150731159, 0.2), 'base': (526, 0.05661231884057971, 0.058823529411764705), 'baseball': (124, 0.056731202161188654, 0.0), 'based': (1460, 0.05619004111466423, 0.08333333333333333), 'basic': (407, 0.05660802886783942, 0.0625), 'basically': (321, 0.05630630630630631, 0.2), 'basis': (423, 0.056962025316455694, 0.0), 'battle': (175, 0.05671843349088454, 0.0), 'bay': (172, 0.05671843349088454, 0.0), 'bc': (554, 0.05674881302283518, 0.037037037037037035), 'be': (23215, 0.05496828752642706, 0.061457418788410885), 'beach': (114, 0.05674397658185094, 0.0), 'bear': (320, 0.056833558863328824, 0.0), 'bears': (131, 0.05668016194331984, 0.0), 'beat': (341, 0.056659142212189616, 0.05), 'beating': (115, 0.05670567056705671, 0.0), 'beautiful': (241, 0.056557007661108605, 0.08333333333333333), 'became': (370, 0.05684637942702459, 0.0), 'because': (6742, 0.057115198451113264, 0.050314465408805034), 'become': (1261, 0.05670690047825097, 0.05084745762711865), 'becomes': (277, 0.056833558863328824, 0.0), 'becoming': (318, 0.056407942238267145, 0.1111111111111111), 'bed': (161, 0.056782334384858045, 0.0), 'been': (7229, 0.056289769946157614, 0.06043956043956044), 'beer': (153, 0.0565060783430887, 0.125), 'before': (3040, 0.056305258259655655, 0.06578947368421052), 'began': (192, 0.056293627561360055, 0.2222222222222222), 'begin': (339, 0.05600722673893405, 0.18181818181818182), 'beginning': (314, 0.056169636814798106, 0.17647058823529413), 'begins': (104, 0.05671843349088454, 0.0), 'behalf': (128, 0.0565060783430887, 0.125), 'behavior': (553, 0.05667193497403477, 0.047619047619047616), 'behaviour': (125, 0.05670567056705671, 0.0), 'behind': (875, 0.05670220004536176, 0.04878048780487805), 'being': (5420, 0.05566127497621313, 0.07317073170731707), 'beings': (114, 0.05653153153153153, 0.1), 'belief': (273, 0.05631899076368552, 0.18181818181818182), 'beliefs': (297, 0.05656975433851701, 0.07692307692307693), 'believe': (2707, 0.05674740484429066, 0.05217391304347826), 'believed': (189, 0.05675675675675676, 0.0), 'believes': (271, 0.056769542689795, 0.0), 'believing': (126, 0.05671843349088454, 0.0), 'belong': (156, 0.056769542689795, 0.0), 'belongs': (107, 0.05671843349088454, 0.0), 'below': (310, 0.05664635522455427, 0.05263157894736842), 'benefit': (704, 0.05628688152519292, 0.09090909090909091), 'benefits': (699, 0.05668934240362812, 0.05), 'bernie': (254, 0.056544266726740254, 0.09090909090909091), 'besides': (265, 0.056782334384858045, 0.0), 'best': (2183, 0.05682079595123073, 0.04854368932038835), 'bet': (461, 0.056697537836006326, 0.043478260869565216), 'better': (3325, 0.05587892898719441, 0.07741935483870968), 'between': (1611, 0.057070822828329135, 0.034482758620689655), 'beyond': (624, 0.05672316384180791, 0.04), 'bias': (310, 0.056897719575524947, 0.0), 'biased': (193, 0.05648064806480648, 0.16666666666666666), 'bible': (199, 0.05653153153153153, 0.1), 'big': (2193, 0.055900621118012424, 0.08737864077669903), 'bigger': (307, 0.05618231046931408, 0.16666666666666666), 'biggest': (408, 0.05642067253441661, 0.10526315789473684), 'bigotry': (202, 0.0565060783430887, 0.125), 'bike': (195, 0.05656975433851701, 0.07692307692307693), 'bill': (1343, 0.05718206770356816, 0.02564102564102564), 'billion': (765, 0.056676490591702565, 0.05128205128205128), 'billionaire': (106, 0.05670567056705671, 0.0), 'billions': (398, 0.056433408577878104, 0.1), 'bills': (261, 0.056659142212189616, 0.05), 'birth': (278, 0.05658250676284941, 0.07142857142857142), 'bishop': (165, 0.05653153153153153, 0.1), 'bishops': (297, 0.056795131845841784, 0.0), 'bit': (926, 0.05691609977324263, 0.025), 'black': (975, 0.057110352673492605, 0.01818181818181818), 'blacks': (163, 0.05674397658185094, 0.0), 'blame': (751, 0.05592030790129047, 0.15151515151515152), 'blaming': (194, 0.05651880207160549, 0.1111111111111111), 'blatant': (124, 0.05648064806480648, 0.16666666666666666), 'bless': (116, 0.05674397658185094, 0.0), 'blind': (254, 0.056795131845841784, 0.0), 'blm': (118, 0.05671843349088454, 0.0), 'block': (168, 0.05606845305111462, 0.3333333333333333), 'blog': (109, 0.05669291338582677, 0.0), 'blood': (272, 0.056407942238267145, 0.1111111111111111), 'blow': (169, 0.056544266726740254, 0.09090909090909091), 'blowing': (105, 0.05671843349088454, 0.0), 'blue': (221, 0.05651880207160549, 0.1111111111111111), 'board': (571, 0.05652272213429799, 0.07407407407407407), 'boards': (115, 0.05668016194331984, 0.0), 'boat': (141, 0.05675675675675676, 0.0), 'bob': (164, 0.056782334384858045, 0.0), 'body': (434, 0.05599458116956423, 0.19047619047619047), 'bomb': (130, 0.05666741623566449, 0.0), 'bond': (105, 0.05666741623566449, 0.0), 'book': (494, 0.05650994575045208, 0.07692307692307693), 'books': (258, 0.05671843349088454, 0.0), 'boot': (100, 0.05671843349088454, 0.0), 'boots': (113, 0.05674397658185094, 0.0), 'border': (395, 0.05644615037254459, 0.09523809523809523), 'borders': (188, 0.05651880207160549, 0.1111111111111111), 'born': (458, 0.056962025316455694, 0.0), 'boss': (144, 0.05668016194331984, 0.0), 'both': (2562, 0.05619530170428374, 0.07407407407407407), 'bother': (214, 0.056731202161188654, 0.0), 'bottom': (350, 0.056795131845841784, 0.0), 'bought': (376, 0.05658250676284941, 0.07142857142857142), 'box': (181, 0.05656975433851701, 0.07692307692307693), 'boy': (451, 0.05692342444093065, 0.0), 'boys': (243, 0.05674397658185094, 0.0), 'brain': (323, 0.056659142212189616, 0.05), 'brains': (102, 0.05648064806480648, 0.16666666666666666), 'branch': (102, 0.05666741623566449, 0.0), 'brand': (146, 0.056769542689795, 0.0), 'break': (482, 0.05652272213429799, 0.07407407407407407), 'breaking': (218, 0.056795131845841784, 0.0), 'breaks': (168, 0.05674397658185094, 0.0), 'breath': (155, 0.056557007661108605, 0.08333333333333333), 'breitbart': (145, 0.05671843349088454, 0.0), 'bridge': (130, 0.05645524066576698, 0.25), 'bright': (118, 0.05648064806480648, 0.16666666666666666), 'brilliant': (126, 0.05646794150731159, 0.2), 'bring': (828, 0.05691609977324263, 0.025), 'bringing': (247, 0.056795131845841784, 0.0), 'brings': (178, 0.05653153153153153, 0.1), 'britain': (111, 0.05666741623566449, 0.0), 'british': (249, 0.0565060783430887, 0.125), 'broad': (118, 0.05671843349088454, 0.0), 'broke': (245, 0.05646794150731159, 0.2), 'broken': (263, 0.05638249887235002, 0.125), 'broncos': (136, 0.05669291338582677, 0.0), 'brother': (217, 0.05675675675675676, 0.0), 'brothers': (136, 0.05648064806480648, 0.16666666666666666), 'brought': (507, 0.056411418214771185, 0.08333333333333333), 'brown': (231, 0.05671843349088454, 0.0), 'bs': (353, 0.05658250676284941, 0.07142857142857142), 'btw': (356, 0.056833558863328824, 0.0), 'bubble': (144, 0.05633168093735917, 0.16666666666666666), 'bucks': (116, 0.05648064806480648, 0.16666666666666666), 'buddy': (119, 0.05670567056705671, 0.0), 'budget': (817, 0.056676490591702565, 0.05128205128205128), 'budgets': (111, 0.056255625562556255, 0.3333333333333333), 'build': (674, 0.05638586956521739, 0.08823529411764706), 'building': (660, 0.05659950192438307, 0.06060606060606061), 'buildings': (191, 0.05631899076368552, 0.18181818181818182), 'built': (527, 0.05593297101449275, 0.14705882352941177), 'bully': (142, 0.05670567056705671, 0.0), 'bunch': (457, 0.056897719575524947, 0.0), 'burden': (161, 0.05670567056705671, 0.0), 'burn': (157, 0.05646794150731159, 0.2), 'burned': (102, 0.05671843349088454, 0.0), 'burning': (171, 0.05645524066576698, 0.25), 'bus': (253, 0.056782334384858045, 0.0), 'bush': (456, 0.055793991416309016, 0.21739130434782608), 'business': (1907, 0.05623135184760156, 0.07526881720430108), 'businesses': (464, 0.056458897922312554, 0.09090909090909091), 'busy': (202, 0.05670567056705671, 0.0), 'but': (17184, 0.05569409808811305, 0.06064209274673008), 'butt': (117, 0.05668016194331984, 0.0), 'butts': (155, 0.05674397658185094, 0.0), 'buy': (1111, 0.05658224960073009, 0.05970149253731343), 'buyers': (132, 0.05645524066576698, 0.25), 'buying': (412, 0.05642067253441661, 0.10526315789473684), 'by': (13546, 0.05683320116309807, 0.05547226386806597), 'ca': (198, 0.05671843349088454, 0.0), 'cabinet': (231, 0.05631899076368552, 0.18181818181818182), 'caldwell': (165, 0.056557007661108605, 0.08333333333333333), 'calgary': (106, 0.05669291338582677, 0.0), 'california': (274, 0.05662079855628243, 0.058823529411764705), 'call': (1451, 0.057279780921953447, 0.014705882352941176), 'called': (1618, 0.056690383291255454, 0.053763440860215055), 'calling': (636, 0.056851642129105324, 0.02857142857142857), 'calls': (300, 0.05667193497403477, 0.047619047619047616), 'came': (959, 0.056427758816837315, 0.07272727272727272), 'camp': (139, 0.056544266726740254, 0.09090909090909091), 'campaign': (939, 0.05694192377495463, 0.023809523809523808), 'camps': (100, 0.05669291338582677, 0.0), 'campus': (125, 0.056731202161188654, 0.0), 'can': (12906, 0.05728356661482634, 0.052364864864864864), 'canada': (3396, 0.056815524900631284, 0.05202312138728324), 'canadian': (1731, 0.05522456461961503, 0.12790697674418605), 'canadians': (1204, 0.056174664544007276, 0.09433962264150944), 'cancer': (190, 0.05670567056705671, 0.0), 'candidate': (581, 0.05705229793977813, 0.0), 'candidates': (384, 0.05656975433851701, 0.07692307692307693), 'cannabis': (135, 0.05670567056705671, 0.0), 'cannot': (1310, 0.05716237759052607, 0.01694915254237288), 'cant': (159, 0.05674397658185094, 0.0), 'cap': (109, 0.05669291338582677, 0.0), 'capable': (199, 0.05674397658185094, 0.0), 'capacity': (174, 0.05669291338582677, 0.0), 'capital': (348, 0.05664635522455427, 0.05263157894736842), 'capitalism': (131, 0.05646794150731159, 0.2), 'car': (789, 0.056890299184043515, 0.02631578947368421), 'carbon': (343, 0.05688487584650113, 0.0), 'card': (276, 0.05656975433851701, 0.07692307692307693), 'cardinal': (155, 0.056557007661108605, 0.08333333333333333), 'cards': (110, 0.05666741623566449, 0.0), 'care': (2406, 0.05650764242704956, 0.06060606060606061), 'career': (378, 0.05682074408117249, 0.0), 'careful': (158, 0.05651880207160549, 0.1111111111111111), 'carefully': (122, 0.05668016194331984, 0.0), 'cares': (343, 0.05667193497403477, 0.047619047619047616), 'caring': (123, 0.05648064806480648, 0.16666666666666666), 'carried': (139, 0.05668016194331984, 0.0), 'carry': (362, 0.05687203791469194, 0.0), 'carrying': (162, 0.05670567056705671, 0.0), 'cars': (474, 0.056697537836006326, 0.043478260869565216), 'case': (1750, 0.05713630105553006, 0.03260869565217391), 'cases': (494, 0.056910569105691054, 0.0), 'cash': (483, 0.05667193497403477, 0.047619047619047616), 'cast': (148, 0.05674397658185094, 0.0), 'cat': (174, 0.056731202161188654, 0.0), 'catch': (221, 0.056544266726740254, 0.09090909090909091), 'catholic': (757, 0.05683876811594203, 0.029411764705882353), 'catholics': (292, 0.05685920577617329, 0.0), 'cats': (133, 0.056293627561360055, 0.2222222222222222), 'caught': (349, 0.056557007661108605, 0.08333333333333333), 'cause': (849, 0.056398640996602495, 0.08571428571428572), 'caused': (394, 0.05650994575045208, 0.07692307692307693), 'causes': (213, 0.056557007661108605, 0.08333333333333333), 'causing': (211, 0.05648064806480648, 0.16666666666666666), 'cbc': (225, 0.056782334384858045, 0.0), 'celebrate': (115, 0.05666741623566449, 0.0), 'cell': (163, 0.05666741623566449, 0.0), 'cent': (133, 0.05671843349088454, 0.0), 'center': (321, 0.05659526493799324, 0.06666666666666667), 'central': (195, 0.05666741623566449, 0.0), 'centre': (100, 0.05665467625899281, 0.0), 'centuries': (142, 0.05651880207160549, 0.1111111111111111), 'century': (376, 0.05607054035722361, 0.14814814814814814), 'ceo': (126, 0.05670567056705671, 0.0), 'certain': (647, 0.05649717514124294, 0.08), 'certainly': (1094, 0.05603644646924829, 0.1), 'chain': (122, 0.056293627561360055, 0.2222222222222222), 'chair': (120, 0.05646794150731159, 0.2), 'challenge': (254, 0.05682074408117249, 0.0), 'challenged': (101, 0.05666741623566449, 0.0), 'chance': (699, 0.05650102110279102, 0.06976744186046512), 'chances': (110, 0.05669291338582677, 0.0), 'change': (2218, 0.05520905520905521, 0.10743801652892562), 'changed': (540, 0.05625847266154541, 0.125), 'changes': (520, 0.056309362279511534, 0.10714285714285714), 'changing': (316, 0.05620767494356659, 0.15), 'chaos': (102, 0.05669291338582677, 0.0), 'character': (297, 0.05658250676284941, 0.07142857142857142), 'charge': (517, 0.056220365771054416, 0.14285714285714285), 'charged': (312, 0.056769542689795, 0.0), 'charges': (274, 0.056807935076645624, 0.0), 'charging': (105, 0.05646794150731159, 0.2), 'charity': (121, 0.05646794150731159, 0.2), 'charles': (131, 0.05668016194331984, 0.0), 'charter': (187, 0.05674397658185094, 0.0), 'cheap': (336, 0.056659142212189616, 0.05), 'cheaper': (209, 0.05609371480063077, 0.2727272727272727), 'check': (704, 0.05646258503401361, 0.075), 'checked': (132, 0.05648064806480648, 0.16666666666666666), 'checks': (154, 0.056731202161188654, 0.0), 'chicago': (169, 0.05674397658185094, 0.0), 'chicken': (119, 0.056293627561360055, 0.2222222222222222), 'chief': (405, 0.05688487584650113, 0.0), 'child': (783, 0.05643699002719855, 0.07894736842105263), 'childish': (120, 0.056782334384858045, 0.0), 'children': (1445, 0.056228571428571426, 0.08), 'china': (899, 0.05670220004536176, 0.04878048780487805), 'chinese': (445, 0.05638249887235002, 0.125), 'choice': (819, 0.05648820326678766, 0.07142857142857142), 'choices': (291, 0.05642067253441661, 0.10526315789473684), 'choose': (606, 0.056146705908988, 0.12121212121212122), 'choosing': (118, 0.05651880207160549, 0.1111111111111111), 'chose': (293, 0.056731202161188654, 0.0), 'chosen': (169, 0.056731202161188654, 0.0), 'chris': (138, 0.05670567056705671, 0.0), 'christ': (281, 0.05651880207160549, 0.1111111111111111), 'christian': (467, 0.05667193497403477, 0.047619047619047616), 'christianity': (121, 0.05665467625899281, 0.0), 'christians': (270, 0.056782334384858045, 0.0), 'christmas': (137, 0.05670567056705671, 0.0), 'church': (1300, 0.05658224960073009, 0.05970149253731343), 'churches': (163, 0.05669291338582677, 0.0), 'cia': (122, 0.05648064806480648, 0.16666666666666666), 'circumstances': (199, 0.05651880207160549, 0.1111111111111111), 'cite': (124, 0.05669291338582677, 0.0), 'cities': (406, 0.056471651231082, 0.08695652173913043), 'citizen': (390, 0.056471651231082, 0.08695652173913043), 'citizens': (1129, 0.056363636363636366, 0.08), 'citizenship': (212, 0.05682074408117249, 0.0), 'city': (1591, 0.055758683729433274, 0.10810810810810811), 'civil': (929, 0.05643699002719855, 0.07894736842105263), 'civility': (143, 0.05644254553631662, 0.3333333333333333), 'claim': (885, 0.0565266742338252, 0.06666666666666667), 'claimed': (197, 0.05651880207160549, 0.1111111111111111), 'claiming': (210, 0.0563570784490532, 0.14285714285714285), 'claims': (476, 0.05650994575045208, 0.07692307692307693), 'clark': (168, 0.05669291338582677, 0.0), 'class': (994, 0.05686988171064604, 0.037037037037037035), 'classes': (176, 0.056731202161188654, 0.0), 'classic': (127, 0.05668016194331984, 0.0), 'classified': (104, 0.05666741623566449, 0.0), 'clean': (441, 0.05687203791469194, 0.0), 'clear': (1008, 0.05691609977324263, 0.025), 'clearly': (939, 0.05685694791903571, 0.03773584905660377), 'clergy': (132, 0.05674397658185094, 0.0), 'climate': (697, 0.0568130375735627, 0.03125), 'clinton': (1226, 0.05714936247723133, 0.017241379310344827), 'clintons': (114, 0.056731202161188654, 0.0), 'close': (801, 0.05628688152519292, 0.09090909090909091), 'closed': (244, 0.05658250676284941, 0.07142857142857142), 'closely': (102, 0.05671843349088454, 0.0), 'closer': (202, 0.056557007661108605, 0.08333333333333333), 'closing': (122, 0.05670567056705671, 0.0), 'clothing': (109, 0.0565060783430887, 0.125), 'clown': (157, 0.056731202161188654, 0.0), 'club': (200, 0.056782334384858045, 0.0), 'clue': (227, 0.0565060783430887, 0.125), 'clueless': (103, 0.05671843349088454, 0.0), 'cnn': (252, 0.05674397658185094, 0.0), 'co': (330, 0.05639521768554027, 0.11764705882352941), 'co2': (127, 0.05668016194331984, 0.0), 'coach': (189, 0.05638249887235002, 0.125), 'coal': (232, 0.0565060783430887, 0.125), 'coast': (173, 0.056493360342111186, 0.14285714285714285), 'code': (230, 0.056795131845841784, 0.0), 'coffee': (133, 0.05671843349088454, 0.0), 'cold': (260, 0.056557007661108605, 0.08333333333333333), 'collapse': (102, 0.05669291338582677, 0.0), 'collect': (141, 0.05674397658185094, 0.0), 'collective': (127, 0.05668016194331984, 0.0), 'college': (580, 0.05693628558517849, 0.0), 'collusion': (168, 0.05670567056705671, 0.0), 'color': (184, 0.056795131845841784, 0.0), 'colorado': (269, 0.05606845305111462, 0.3333333333333333), 'column': (259, 0.05658250676284941, 0.07142857142857142), 'com': (1857, 0.05662100456621005, 0.05714285714285714), 'combat': (115, 0.05666741623566449, 0.0), 'combined': (138, 0.05674397658185094, 0.0), 'come': (2562, 0.05702364394993046, 0.04411764705882353), 'comes': (1104, 0.05671981776765376, 0.05), 'comey': (276, 0.05633168093735917, 0.16666666666666666), 'comfortable': (155, 0.05668016194331984, 0.0), 'coming': (1094, 0.05638926784902228, 0.07692307692307693), 'comment': (1924, 0.05616689591930307, 0.07954545454545454), 'commentary': (129, 0.0565060783430887, 0.125), 'commenters': (101, 0.05666741623566449, 0.0), 'commenting': (162, 0.05671843349088454, 0.0), 'comments': (1592, 0.05676356145571069, 0.04938271604938271), 'commercial': (220, 0.05656975433851701, 0.07692307692307693), 'commission': (230, 0.056557007661108605, 0.08333333333333333), 'commit': (208, 0.0565060783430887, 0.125), 'commitment': (109, 0.05666741623566449, 0.0), 'committed': (352, 0.05662079855628243, 0.058823529411764705), 'committee': (227, 0.056557007661108605, 0.08333333333333333), 'committing': (116, 0.05670567056705671, 0.0), 'common': (818, 0.05561861520998865, 0.15555555555555556), 'communist': (209, 0.056544266726740254, 0.09090909090909091), 'communities': (301, 0.05688487584650113, 0.0), 'community': (963, 0.05707139608913142, 0.019230769230769232), 'companies': (928, 0.056954844565464034, 0.023255813953488372), 'company': (841, 0.05694192377495463, 0.023809523809523808), 'compare': (178, 0.05675675675675676, 0.0), 'compared': (369, 0.05671034794396747, 0.041666666666666664), 'comparing': (108, 0.05671843349088454, 0.0), 'comparison': (218, 0.05674397658185094, 0.0), 'compassion': (133, 0.05671843349088454, 0.0), 'compensation': (136, 0.05669291338582677, 0.0), 'compete': (129, 0.05648064806480648, 0.16666666666666666), 'competent': (109, 0.05671843349088454, 0.0), 'competition': (203, 0.056731202161188654, 0.0), 'competitive': (126, 0.05653153153153153, 0.1), 'complain': (221, 0.056293627561360055, 0.2222222222222222), 'complaining': (172, 0.05651880207160549, 0.1111111111111111), 'complaint': (105, 0.05651880207160549, 0.1111111111111111), 'complete': (514, 0.056169636814798106, 0.17647058823529413), 'completely': (831, 0.0568130375735627, 0.03125), 'complex': (230, 0.056493360342111186, 0.14285714285714285), 'complicated': (144, 0.056769542689795, 0.0), 'compromise': (111, 0.05670567056705671, 0.0), 'computer': (169, 0.056795131845841784, 0.0), 'con': (169, 0.056731202161188654, 0.0), 'concept': (272, 0.05653153153153153, 0.1), 'concern': (387, 0.05642067253441661, 0.10526315789473684), 'concerned': (479, 0.056458897922312554, 0.09090909090909091), 'concerning': (140, 0.05626828719333783, 0.2857142857142857), 'concerns': (229, 0.056807935076645624, 0.0), 'conclusion': (186, 0.0565060783430887, 0.125), 'condemn': (120, 0.05674397658185094, 0.0), 'condition': (157, 0.056769542689795, 0.0), 'conditions': (288, 0.056807935076645624, 0.0), 'conduct': (172, 0.056769542689795, 0.0), 'conference': (163, 0.05675675675675676, 0.0), 'confidence': (129, 0.05669291338582677, 0.0), 'confirmed': (117, 0.056493360342111186, 0.14285714285714285), 'conflict': (280, 0.05668473351400181, 0.045454545454545456), 'confused': (187, 0.05674397658185094, 0.0), 'congratulations': (114, 0.05648064806480648, 0.16666666666666666), 'congress': (753, 0.05658669081032141, 0.0625), 'congressional': (133, 0.05626828719333783, 0.2857142857142857), 'connected': (132, 0.05668016194331984, 0.0), 'connection': (159, 0.05653153153153153, 0.1), 'conscience': (137, 0.05670567056705671, 0.0), 'consent': (112, 0.05648064806480648, 0.16666666666666666), 'consequences': (343, 0.05660802886783942, 0.0625), 'conservative': (959, 0.05677946854417443, 0.0425531914893617), 'conservatives': (637, 0.05672316384180791, 0.04), 'consider': (735, 0.057039384336803986, 0.0), 'consideration': (134, 0.05674397658185094, 0.0), 'considered': (474, 0.056535504296698326, 0.07142857142857142), 'considering': (328, 0.05631899076368552, 0.18181818181818182), 'consistent': (150, 0.05648064806480648, 0.16666666666666666), 'consistently': (112, 0.05668016194331984, 0.0), 'conspiracy': (208, 0.05659526493799324, 0.06666666666666667), 'constant': (183, 0.05648064806480648, 0.16666666666666666), 'constantly': (210, 0.05674397658185094, 0.0), 'constituents': (131, 0.05668016194331984, 0.0), 'constitution': (609, 0.0567744854105406, 0.034482758620689655), 'constitutional': (328, 0.05671843349088454, 0.0), 'construction': (279, 0.05674397658185094, 0.0), 'consumer': (127, 0.05670567056705671, 0.0), 'consumers': (151, 0.05628095452498874, 0.25), 'consumption': (117, 0.05623031938821413, 0.5), 'contact': (183, 0.05648064806480648, 0.16666666666666666), 'contempt': (101, 0.05642985611510792, 0.5), 'content': (253, 0.05631899076368552, 0.18181818181818182), 'context': (285, 0.05615696887686062, 0.1875), 'continually': (106, 0.05645524066576698, 0.25), 'continue': (1101, 0.05678449258836944, 0.046153846153846156), 'continued': (264, 0.056633574007220217, 0.05555555555555555), 'continues': (377, 0.056407942238267145, 0.1111111111111111), 'continuing': (197, 0.056544266726740254, 0.09090909090909091), 'contract': (271, 0.056897719575524947, 0.0), 'contracts': (157, 0.05648064806480648, 0.16666666666666666), 'contrary': (161, 0.056782334384858045, 0.0), 'contribute': (200, 0.056731202161188654, 0.0), 'contributing': (106, 0.05666741623566449, 0.0), 'contribution': (130, 0.05653153153153153, 0.1), 'contributions': (113, 0.056731202161188654, 0.0), 'control': (1268, 0.05582137161084529, 0.11475409836065574), 'controlled': (221, 0.05653153153153153, 0.1), 'controls': (117, 0.05651880207160549, 0.1111111111111111), 'conversation': (262, 0.056795131845841784, 0.0), 'convicted': (207, 0.0565060783430887, 0.125), 'conviction': (114, 0.05648064806480648, 0.16666666666666666), 'convince': (145, 0.05646794150731159, 0.2), 'convinced': (113, 0.05668016194331984, 0.0), 'cool': (212, 0.05633168093735917, 0.16666666666666666), 'cop': (174, 0.05670567056705671, 0.0), 'cops': (308, 0.056633574007220217, 0.05555555555555555), 'copy': (101, 0.05665467625899281, 0.0), 'core': (199, 0.05675675675675676, 0.0), 'corner': (147, 0.056731202161188654, 0.0), 'corporate': (531, 0.05623306233062331, 0.13636363636363635), 'corporation': (143, 0.056731202161188654, 0.0), 'corporations': (366, 0.05618231046931408, 0.16666666666666666), 'correct': (899, 0.05637644919299841, 0.0784313725490196), 'correction': (101, 0.05645524066576698, 0.25), 'correctly': (157, 0.05646794150731159, 0.2), 'correctness': (113, 0.05674397658185094, 0.0), 'corrupt': (497, 0.05676164631388512, 0.03571428571428571), 'corruption': (374, 0.05688487584650113, 0.0), 'cost': (1550, 0.05621572212065813, 0.08108108108108109), 'costs': (983, 0.056727932834127526, 0.046511627906976744), 'could': (4808, 0.05836112434492616, 0.027777777777777776), 'couldn': (637, 0.0568645219755324, 0.027777777777777776), 'council': (400, 0.056458897922312554, 0.09090909090909091), 'count': (353, 0.056807935076645624, 0.0), 'counter': (218, 0.056731202161188654, 0.0), 'countries': (1095, 0.05612360827084754, 0.10204081632653061), 'country': (3165, 0.05595542140701184, 0.07692307692307693), 'county': (392, 0.05664635522455427, 0.05263157894736842), 'couple': (650, 0.05659950192438307, 0.06060606060606061), 'courage': (140, 0.056731202161188654, 0.0), 'course': (1918, 0.057005494505494504, 0.036585365853658534), 'court': (1078, 0.05606198723792161, 0.0967741935483871), 'courts': (298, 0.05598194130925508, 0.2), 'cover': (482, 0.056471651231082, 0.08695652173913043), 'coverage': (343, 0.056807935076645624, 0.0), 'covered': (243, 0.056782334384858045, 0.0), 'covering': (127, 0.05671843349088454, 0.0), 'crap': (240, 0.056782334384858045, 0.0), 'crash': (120, 0.05628095452498874, 0.25), 'crazy': (364, 0.05667193497403477, 0.047619047619047616), 'create': (584, 0.056800181036433584, 0.03225806451612903), 'created': (632, 0.0568258999320806, 0.030303030303030304), 'creates': (117, 0.05671843349088454, 0.0), 'creating': (281, 0.056557007661108605, 0.08333333333333333), 'creation': (146, 0.05651880207160549, 0.1111111111111111), 'credibility': (240, 0.056731202161188654, 0.0), 'credible': (164, 0.056769542689795, 0.0), 'credit': (429, 0.05644615037254459, 0.09523809523809523), 'credits': (158, 0.05670567056705671, 0.0), 'crew': (102, 0.05666741623566449, 0.0), 'crime': (922, 0.05628688152519292, 0.09090909090909091), 'crimes': (420, 0.05664635522455427, 0.05263157894736842), 'criminal': (709, 0.05671034794396747, 0.041666666666666664), 'criminals': (363, 0.056833558863328824, 0.0), 'crisis': (324, 0.0563570784490532, 0.14285714285714285), 'critical': (310, 0.056169636814798106, 0.17647058823529413), 'criticism': (186, 0.05660802886783942, 0.0625), 'criticize': (116, 0.05668016194331984, 0.0), 'crooked': (101, 0.05671843349088454, 0.0), 'cross': (235, 0.05646794150731159, 0.2), 'crowd': (265, 0.05646794150731159, 0.2), 'crum': (167, 0.056731202161188654, 0.0), 'cry': (187, 0.05648064806480648, 0.16666666666666666), 'crying': (150, 0.05671843349088454, 0.0), 'cultural': (262, 0.05674397658185094, 0.0), 'culture': (536, 0.05664635522455427, 0.05263157894736842), 'cultures': (108, 0.05669291338582677, 0.0), 'cup': (101, 0.056493360342111186, 0.14285714285714285), 'curious': (199, 0.05633168093735917, 0.16666666666666666), 'current': (1182, 0.055795946253700754, 0.11864406779661017), 'currently': (407, 0.056659142212189616, 0.05), 'customer': (109, 0.05666741623566449, 0.0), 'customers': (175, 0.05634437683119225, 0.15384615384615385), 'cut': (953, 0.05722070844686648, 0.0), 'cuts': (348, 0.05623306233062331, 0.13636363636363635), 'cutting': (211, 0.05653153153153153, 0.1), 'cycle': (129, 0.05670567056705671, 0.0), 'da': (123, 0.05671843349088454, 0.0), 'daca': (104, 0.05668016194331984, 0.0), 'dad': (173, 0.056782334384858045, 0.0), 'daily': (409, 0.056795131845841784, 0.0), 'damage': (400, 0.05615696887686062, 0.1875), 'damn': (168, 0.05671843349088454, 0.0), 'dan': (119, 0.056641942009440324, 0.0), 'danger': (225, 0.05656975433851701, 0.07692307692307693), 'dangerous': (483, 0.05662079855628243, 0.058823529411764705), 'dare': (136, 0.05668016194331984, 0.0), 'dark': (178, 0.05648064806480648, 0.16666666666666666), 'data': (498, 0.056962025316455694, 0.0), 'date': (242, 0.05671843349088454, 0.0), 'daughter': (231, 0.056795131845841784, 0.0), 'david': (199, 0.0565060783430887, 0.125), 'day': (2327, 0.056695091034800645, 0.05405405405405406), 'days': (1207, 0.05696777122106219, 0.022727272727272728), 'dc': (149, 0.05645524066576698, 0.25), 'de': (177, 0.05658250676284941, 0.07142857142857142), 'dead': (629, 0.05702647657841141, 0.0), 'deadly': (109, 0.056544266726740254, 0.09090909090909091), 'deal': (1235, 0.05595996360327571, 0.1111111111111111), 'dealing': (248, 0.05653153153153153, 0.1), 'deals': (194, 0.05670567056705671, 0.0), 'dear': (233, 0.05658250676284941, 0.07142857142857142), 'death': (821, 0.05696777122106219, 0.022727272727272728), 'deaths': (220, 0.05653153153153153, 0.1), 'debate': (432, 0.056659142212189616, 0.05), 'debt': (621, 0.05685920577617329, 0.0), 'decade': (236, 0.05675675675675676, 0.0), 'decades': (654, 0.05665080444142307, 0.05405405405405406), 'decent': (254, 0.056544266726740254, 0.09090909090909091), 'decide': (426, 0.056910569105691054, 0.0), 'decided': (386, 0.05688487584650113, 0.0), 'decision': (711, 0.05599637270460213, 0.1282051282051282), 'decisions': (410, 0.05667193497403477, 0.047619047619047616), 'declare': (116, 0.05670567056705671, 0.0), 'declared': (122, 0.0565060783430887, 0.125), 'decline': (169, 0.05670567056705671, 0.0), 'dedicated': (112, 0.05653153153153153, 0.1), 'deemed': (104, 0.05659526493799324, 0.06666666666666667), 'deep': (376, 0.05687203791469194, 0.0), 'deeply': (154, 0.05674397658185094, 0.0), 'defeat': (101, 0.05646794150731159, 0.2), 'defence': (101, 0.05671843349088454, 0.0), 'defend': (383, 0.056897719575524947, 0.0), 'defending': (213, 0.0565060783430887, 0.125), 'defense': (477, 0.05650994575045208, 0.07692307692307693), 'deficit': (255, 0.05670567056705671, 0.0), 'deficits': (133, 0.05669291338582677, 0.0), 'define': (139, 0.056769542689795, 0.0), 'defined': (155, 0.05653153153153153, 0.1), 'definitely': (346, 0.056795131845841784, 0.0), 'definition': (353, 0.056807935076645624, 0.0), 'degree': (336, 0.05675675675675676, 0.0), 'degrees': (129, 0.056807935076645624, 0.0), 'deleted': (142, 0.05666741623566449, 0.0), 'deliberately': (113, 0.05668016194331984, 0.0), 'deliver': (111, 0.05645524066576698, 0.25), 'dem': (119, 0.05671843349088454, 0.0), 'demand': (460, 0.056659142212189616, 0.05), 'demanding': (120, 0.05669291338582677, 0.0), 'demands': (141, 0.05671843349088454, 0.0), 'democracy': (537, 0.0567744854105406, 0.034482758620689655), 'democrat': (528, 0.056433408577878104, 0.1), 'democratic': (637, 0.05650994575045208, 0.07692307692307693), 'democrats': (1084, 0.056338028169014086, 0.08333333333333333), 'demonstrate': (122, 0.05671843349088454, 0.0), 'demonstrated': (126, 0.05670567056705671, 0.0), 'dems': (258, 0.05675675675675676, 0.0), 'denial': (162, 0.05651880207160549, 0.1111111111111111), 'denied': (164, 0.056731202161188654, 0.0), 'denver': (327, 0.0563570784490532, 0.14285714285714285), 'deny': (278, 0.056795131845841784, 0.0), 'denying': (132, 0.056769542689795, 0.0), 'department': (432, 0.056458897922312554, 0.09090909090909091), 'departments': (103, 0.05646794150731159, 0.2), 'depend': (117, 0.056731202161188654, 0.0), 'depending': (146, 0.05674397658185094, 0.0), 'depends': (172, 0.056731202161188654, 0.0), 'dept': (100, 0.056255625562556255, 0.3333333333333333), 'depth': (115, 0.05666741623566449, 0.0), 'describe': (160, 0.056293627561360055, 0.2222222222222222), 'described': (199, 0.056769542689795, 0.0), 'description': (105, 0.05668016194331984, 0.0), 'deserve': (401, 0.05638249887235002, 0.125), 'deserves': (218, 0.05636978579481398, 0.13333333333333333), 'design': (127, 0.05671843349088454, 0.0), 'designed': (253, 0.05636978579481398, 0.13333333333333333), 'desire': (203, 0.05648064806480648, 0.16666666666666666), 'desperate': (183, 0.056493360342111186, 0.14285714285714285), 'despite': (466, 0.0570006785795069, 0.0), 'destroy': (342, 0.056659142212189616, 0.05), 'destroyed': (200, 0.05671843349088454, 0.0), 'destroying': (156, 0.05671843349088454, 0.0), 'destruction': (206, 0.0565060783430887, 0.125), 'details': (236, 0.05671843349088454, 0.0), 'determine': (195, 0.05674397658185094, 0.0), 'determined': (181, 0.056782334384858045, 0.0), 'develop': (177, 0.056731202161188654, 0.0), 'developed': (207, 0.056544266726740254, 0.09090909090909091), 'developers': (130, 0.05675675675675676, 0.0), 'developing': (112, 0.05646794150731159, 0.2), 'development': (430, 0.056458897922312554, 0.09090909090909091), 'dictator': (106, 0.05670567056705671, 0.0), 'did': (5306, 0.05632790028763183, 0.06115107913669065), 'didn': (2687, 0.05708981202135066, 0.0425531914893617), 'die': (450, 0.056795131845841784, 0.0), 'died': (336, 0.05693628558517849, 0.0), 'difference': (851, 0.05733788395904437, 0.0), 'differences': (138, 0.05671843349088454, 0.0), 'different': (1563, 0.05696636925188744, 0.0379746835443038), 'differently': (125, 0.05671843349088454, 0.0), 'difficult': (492, 0.05702647657841141, 0.0), 'dime': (121, 0.05646794150731159, 0.2), 'dinner': (121, 0.05645524066576698, 0.25), 'direct': (346, 0.056633574007220217, 0.05555555555555555), 'directed': (125, 0.05644254553631662, 0.3333333333333333), 'direction': (272, 0.05646794150731159, 0.2), 'directly': (390, 0.056407942238267145, 0.1111111111111111), 'director': (205, 0.05651880207160549, 0.1111111111111111), 'dirt': (101, 0.05671843349088454, 0.0), 'dirty': (214, 0.056493360342111186, 0.14285714285714285), 'disagree': (606, 0.05648441030275644, 0.08333333333333333), 'disappointed': (102, 0.056731202161188654, 0.0), 'disaster': (330, 0.05656975433851701, 0.07692307692307693), 'discrimination': (198, 0.056769542689795, 0.0), 'discuss': (180, 0.0565060783430887, 0.125), 'discussing': (114, 0.056769542689795, 0.0), 'discussion': (513, 0.05629663124576079, 0.1111111111111111), 'discussions': (110, 0.05669291338582677, 0.0), 'disease': (185, 0.056557007661108605, 0.08333333333333333), 'disgusting': (229, 0.056782334384858045, 0.0), 'dishonest': (100, 0.05670567056705671, 0.0), 'dislike': (115, 0.05668016194331984, 0.0), 'display': (111, 0.056731202161188654, 0.0), 'distance': (114, 0.056641942009440324, 0.0), 'district': (226, 0.056807935076645624, 0.0), 'diversity': (207, 0.05658250676284941, 0.07142857142857142), 'divide': (111, 0.05646794150731159, 0.2), 'divided': (107, 0.05646794150731159, 0.2), 'dividend': (202, 0.05656975433851701, 0.07692307692307693), 'dividends': (122, 0.05671843349088454, 0.0), 'division': (152, 0.05665467625899281, 0.0), 'divisive': (106, 0.05666741623566449, 0.0), 'divorce': (104, 0.05666741623566449, 0.0), 'dnc': (188, 0.056544266726740254, 0.09090909090909091), 'do': (12665, 0.05471599791558103, 0.06862745098039216), 'doctor': (275, 0.05656975433851701, 0.07692307692307693), 'doctors': (297, 0.05668473351400181, 0.045454545454545456), 'doctrine': (109, 0.05671843349088454, 0.0), 'document': (146, 0.056544266726740254, 0.09090909090909091), 'documents': (149, 0.056731202161188654, 0.0), 'does': (4751, 0.05598866052445074, 0.06912442396313365), 'doesn': (3155, 0.05739617358842744, 0.036585365853658534), 'dog': (451, 0.056019878021233344, 0.17391304347826086), 'dogs': (212, 0.05656975433851701, 0.07692307692307693), 'doing': (2331, 0.05730129390018484, 0.03278688524590164), 'dollar': (471, 0.056897719575524947, 0.0), 'dollars': (960, 0.056890299184043515, 0.02631578947368421), 'domestic': (220, 0.05674397658185094, 0.0), 'don': (9378, 0.05552776388194097, 0.06637168141592921), 'donald': (1015, 0.056753688989784334, 0.044444444444444446), 'donations': (164, 0.05634437683119225, 0.15384615384615385), 'done': (2261, 0.05679981528515354, 0.05042016806722689), 'donors': (105, 0.05603060306030603, 0.5), 'dont': (226, 0.05651880207160549, 0.1111111111111111), 'door': (332, 0.056833558863328824, 0.0), 'doors': (114, 0.056493360342111186, 0.14285714285714285), 'double': (333, 0.05684637942702459, 0.0), 'doubt': (821, 0.05676657584014532, 0.043478260869565216), 'down': (3323, 0.057069648264616815, 0.044585987261146494), 'downtown': (240, 0.05674397658185094, 0.0), 'dozen': (116, 0.05669291338582677, 0.0), 'dozens': (102, 0.05646794150731159, 0.2), 'dr': (198, 0.05671843349088454, 0.0), 'draft': (140, 0.05671843349088454, 0.0), 'drain': (140, 0.056769542689795, 0.0), 'drama': (125, 0.056731202161188654, 0.0), 'draw': (178, 0.05670567056705671, 0.0), 'dream': (213, 0.05675675675675676, 0.0), 'drink': (183, 0.0565060783430887, 0.125), 'drinking': (175, 0.05653153153153153, 0.1), 'drive': (545, 0.056910569105691054, 0.0), 'driven': (238, 0.05653153153153153, 0.1), 'driver': (253, 0.05684637942702459, 0.0), 'drivers': (251, 0.056544266726740254, 0.09090909090909091), 'driving': (498, 0.056433408577878104, 0.1), 'drop': (359, 0.05687203791469194, 0.0), 'dropped': (197, 0.056493360342111186, 0.14285714285714285), 'drug': (547, 0.055944055944055944, 0.23529411764705882), 'drugs': (396, 0.05642067253441661, 0.10526315789473684), 'drunk': (180, 0.05674397658185094, 0.0), 'dry': (130, 0.05670567056705671, 0.0), 'dude': (193, 0.056807935076645624, 0.0), 'due': (902, 0.05670220004536176, 0.04878048780487805), 'dumb': (275, 0.05660802886783942, 0.0625), 'dump': (129, 0.05669291338582677, 0.0), 'during': (1319, 0.056049213943950786, 0.09836065573770492), 'duty': (205, 0.05658250676284941, 0.07142857142857142), 'dying': (169, 0.056493360342111186, 0.14285714285714285), 'each': (1267, 0.05689576695493855, 0.03571428571428571), 'earlier': (258, 0.056407942238267145, 0.1111111111111111), 'early': (515, 0.056633574007220217, 0.05555555555555555), 'earn': (203, 0.05670567056705671, 0.0), 'earned': (236, 0.05658250676284941, 0.07142857142857142), 'earnings': (108, 0.05669291338582677, 0.0), 'earth': (522, 0.05698778833107191, 0.0), 'easier': (280, 0.05659526493799324, 0.06666666666666667), 'easily': (491, 0.056910569105691054, 0.0), 'east': (475, 0.05632209907260801, 0.10344827586206896), 'eastern': (118, 0.05670567056705671, 0.0), 'easy': (749, 0.05691609977324263, 0.025), 'eat': (294, 0.05684637942702459, 0.0), 'eating': (143, 0.056731202161188654, 0.0), 'economic': (876, 0.05665529010238908, 0.05454545454545454), 'economics': (200, 0.056544266726740254, 0.09090909090909091), 'economy': (1045, 0.05680527152919791, 0.04081632653061224), 'ed': (163, 0.05674397658185094, 0.0), 'editor': (115, 0.05670567056705671, 0.0), 'editorial': (190, 0.05670567056705671, 0.0), 'educate': (136, 0.05666741623566449, 0.0), 'educated': (278, 0.056407942238267145, 0.1111111111111111), 'education': (968, 0.05662952012735956, 0.05660377358490566), 'educational': (113, 0.056769542689795, 0.0), 'effect': (464, 0.056433408577878104, 0.1), 'effective': (309, 0.05644615037254459, 0.09523809523809523), 'effectively': (164, 0.05651880207160549, 0.1111111111111111), 'effects': (212, 0.05633168093735917, 0.16666666666666666), 'efficient': (119, 0.0565060783430887, 0.125), 'effort': (403, 0.056833558863328824, 0.0), 'efforts': (283, 0.056782334384858045, 0.0), 'ego': (110, 0.05642985611510792, 0.5), 'eh': (200, 0.05666741623566449, 0.0), 'eight': (191, 0.05666741623566449, 0.0), 'either': (1710, 0.05661242264496906, 0.05747126436781609), 'elect': (251, 0.05658250676284941, 0.07142857142857142), 'elected': (1027, 0.05621301775147929, 0.08928571428571429), 'election': (1806, 0.0559889857732905, 0.08695652173913043), 'elections': (414, 0.056795131845841784, 0.0), 'electoral': (289, 0.056782334384858045, 0.0), 'electric': (167, 0.056544266726740254, 0.09090909090909091), 'electricity': (193, 0.056544266726740254, 0.09090909090909091), 'eliminate': (202, 0.056293627561360055, 0.2222222222222222), 'elite': (192, 0.0565060783430887, 0.125), 'elites': (123, 0.05671843349088454, 0.0), 'else': (1727, 0.056599450045829516, 0.05813953488372093), 'elsewhere': (272, 0.05653153153153153, 0.1), 'em': (138, 0.05668016194331984, 0.0), 'email': (168, 0.056544266726740254, 0.09090909090909091), 'emails': (213, 0.056544266726740254, 0.09090909090909091), 'embarrassing': (114, 0.05671843349088454, 0.0), 'embarrassment': (117, 0.05645524066576698, 0.25), 'embrace': (107, 0.05669291338582677, 0.0), 'emergency': (163, 0.05610635421360973, 0.25), 'emissions': (116, 0.05670567056705671, 0.0), 'emotional': (129, 0.05669291338582677, 0.0), 'empire': (119, 0.05646794150731159, 0.2), 'employed': (155, 0.05646794150731159, 0.2), 'employee': (278, 0.05674397658185094, 0.0), 'employees': (612, 0.05661231884057971, 0.058823529411764705), 'employer': (185, 0.05670567056705671, 0.0), 'employers': (139, 0.05671843349088454, 0.0), 'employment': (266, 0.056795131845841784, 0.0), 'empty': (248, 0.056769542689795, 0.0), 'en': (238, 0.05662079855628243, 0.058823529411764705), 'encourage': (223, 0.056782334384858045, 0.0), 'end': (1788, 0.05747126436781609, 0.02), 'ended': (246, 0.05660802886783942, 0.0625), 'ending': (186, 0.05675675675675676, 0.0), 'endless': (147, 0.05671843349088454, 0.0), 'ends': (215, 0.0565060783430887, 0.125), 'enemies': (133, 0.05669291338582677, 0.0), 'enemy': (198, 0.05605583070688879, 0.375), 'energy': (574, 0.05668473351400181, 0.045454545454545456), 'enforce': (145, 0.05658250676284941, 0.07142857142857142), 'enforcement': (358, 0.05638249887235002, 0.125), 'engage': (165, 0.05675675675675676, 0.0), 'engaged': (110, 0.05668016194331984, 0.0), 'engineering': (118, 0.05651880207160549, 0.1111111111111111), 'england': (101, 0.05669291338582677, 0.0), 'english': (343, 0.05684637942702459, 0.0), 'enjoy': (433, 0.05678733031674208, 0.03333333333333333), 'enjoyed': (101, 0.05674397658185094, 0.0), 'enough': (2198, 0.05736576411197797, 0.021739130434782608), 'ensure': (256, 0.05638249887235002, 0.125), 'enter': (202, 0.05628095452498874, 0.25), 'entering': (102, 0.05665467625899281, 0.0), 'entertainment': (120, 0.05669291338582677, 0.0), 'entire': (834, 0.05643699002719855, 0.07894736842105263), 'entirely': (284, 0.05658250676284941, 0.07142857142857142), 'entitled': (266, 0.05659526493799324, 0.06666666666666667), 'entitlement': (115, 0.05666741623566449, 0.0), 'entry': (152, 0.05670567056705671, 0.0), 'environment': (418, 0.056471651231082, 0.08695652173913043), 'environmental': (244, 0.056544266726740254, 0.09090909090909091), 'epa': (106, 0.05644254553631662, 0.3333333333333333), 'equal': (372, 0.05659526493799324, 0.06666666666666667), 'equality': (167, 0.05674397658185094, 0.0), 'equally': (206, 0.05648064806480648, 0.16666666666666666), 'equipment': (124, 0.05668016194331984, 0.0), 'equivalent': (145, 0.05668016194331984, 0.0), 'er': (111, 0.05669291338582677, 0.0), 'era': (185, 0.056769542689795, 0.0), 'error': (169, 0.056544266726740254, 0.09090909090909091), 'especially': (1200, 0.05618744313011829, 0.09259259259259259), 'essential': (120, 0.05646794150731159, 0.2), 'essentially': (183, 0.056493360342111186, 0.14285714285714285), 'established': (188, 0.05662079855628243, 0.058823529411764705), 'establishment': (203, 0.05633168093735917, 0.16666666666666666), 'estate': (328, 0.05653153153153153, 0.1), 'estimated': (107, 0.05671843349088454, 0.0), 'et': (139, 0.05670567056705671, 0.0), 'etc': (1644, 0.05654761904761905, 0.06097560975609756), 'ethical': (131, 0.05671843349088454, 0.0), 'ethics': (207, 0.056293627561360055, 0.2222222222222222), 'ethnic': (149, 0.05646794150731159, 0.2), 'eu': (143, 0.056769542689795, 0.0), 'eugene': (398, 0.05684637942702459, 0.0), 'europe': (402, 0.056535504296698326, 0.07142857142857142), 'european': (226, 0.056769542689795, 0.0), 'even': (6154, 0.05798156234837457, 0.039634146341463415), 'event': (410, 0.056633574007220217, 0.05555555555555555), 'events': (320, 0.056544266726740254, 0.09090909090909091), 'eventually': (384, 0.05636978579481398, 0.13333333333333333), 'ever': (2421, 0.05660377358490566, 0.057692307692307696), 'every': (3273, 0.057162855809612695, 0.042682926829268296), 'everybody': (355, 0.056897719575524947, 0.0), 'everyday': (130, 0.056731202161188654, 0.0), 'everyone': (1915, 0.05699839117444266, 0.04040404040404041), 'everything': (1295, 0.05653065876453157, 0.06349206349206349), 'everywhere': (250, 0.056731202161188654, 0.0), 'evidence': (1095, 0.055795946253700754, 0.11864406779661017), 'evil': (455, 0.05688487584650113, 0.0), 'ex': (165, 0.05674397658185094, 0.0), 'exact': (187, 0.05671843349088454, 0.0), 'exactly': (1200, 0.0571753986332574, 0.016666666666666666), 'example': (1213, 0.056986551173922956, 0.031746031746031744), 'examples': (236, 0.056769542689795, 0.0), 'excellent': (392, 0.05644615037254459, 0.09523809523809523), 'except': (855, 0.056890299184043515, 0.02631578947368421), 'exception': (162, 0.05670567056705671, 0.0), 'exchange': (172, 0.05668016194331984, 0.0), 'excuse': (333, 0.056659142212189616, 0.05), 'excuses': (127, 0.056641942009440324, 0.0), 'executive': (287, 0.05670567056705671, 0.0), 'exercise': (174, 0.056807935076645624, 0.0), 'exist': (403, 0.056962025316455694, 0.0), 'existed': (105, 0.05669291338582677, 0.0), 'existence': (162, 0.05669291338582677, 0.0), 'existing': (294, 0.056433408577878104, 0.1), 'exists': (251, 0.05630630630630631, 0.2), 'expansion': (116, 0.056544266726740254, 0.09090909090909091), 'expect': (796, 0.0568645219755324, 0.027777777777777776), 'expected': (326, 0.056795131845841784, 0.0), 'expecting': (102, 0.05668016194331984, 0.0), 'expense': (292, 0.056633574007220217, 0.05555555555555555), 'expenses': (192, 0.056731202161188654, 0.0), 'expensive': (442, 0.05649717514124294, 0.08), 'experience': (809, 0.05701357466063348, 0.0), 'experienced': (184, 0.056769542689795, 0.0), 'expert': (134, 0.05631899076368552, 0.18181818181818182), 'experts': (152, 0.05651880207160549, 0.1111111111111111), 'explain': (503, 0.05634758995247793, 0.0967741935483871), 'explained': (113, 0.05671843349088454, 0.0), 'explains': (105, 0.056731202161188654, 0.0), 'explanation': (150, 0.05646794150731159, 0.2), 'exposed': (181, 0.05653153153153153, 0.1), 'express': (201, 0.05674397658185094, 0.0), 'expressed': (110, 0.05670567056705671, 0.0), 'expression': (129, 0.05671843349088454, 0.0), 'extent': (160, 0.056731202161188654, 0.0), 'extra': (305, 0.056633574007220217, 0.05555555555555555), 'extreme': (291, 0.056407942238267145, 0.1111111111111111), 'extremely': (292, 0.056807935076645624, 0.0), 'extremists': (103, 0.05669291338582677, 0.0), 'eye': (281, 0.05609371480063077, 0.2727272727272727), 'eyes': (293, 0.05664635522455427, 0.05263157894736842), 'face': (895, 0.0559218004091839, 0.11764705882352941), 'facebook': (214, 0.056769542689795, 0.0), 'faced': (142, 0.056731202161188654, 0.0), 'faces': (137, 0.05668016194331984, 0.0), 'facilities': (142, 0.05675675675675676, 0.0), 'facility': (116, 0.05666741623566449, 0.0), 'facing': (145, 0.05653153153153153, 0.1), 'fact': (2547, 0.05659505659505659, 0.05785123966942149), 'factor': (225, 0.056731202161188654, 0.0), 'factors': (144, 0.05666741623566449, 0.0), 'facts': (1195, 0.05594723675233113, 0.11320754716981132), 'factual': (124, 0.05665467625899281, 0.0), 'fail': (410, 0.05656975433851701, 0.07692307692307693), 'failed': (594, 0.056360344047080124, 0.09375), 'failing': (232, 0.05682074408117249, 0.0), 'fails': (177, 0.05674397658185094, 0.0), 'failure': (390, 0.05658250676284941, 0.07142857142857142), 'failures': (105, 0.05671843349088454, 0.0), 'fair': (775, 0.05647539124518031, 0.07317073170731707), 'fairbanks': (116, 0.05670567056705671, 0.0), 'fairly': (198, 0.056833558863328824, 0.0), 'faith': (455, 0.05674881302283518, 0.037037037037037035), 'fake': (745, 0.05642420122365738, 0.08108108108108109), 'fall': (456, 0.05620767494356659, 0.15), 'falling': (176, 0.0565060783430887, 0.125), 'falls': (142, 0.05645524066576698, 0.25), 'false': (641, 0.05676164631388512, 0.03571428571428571), 'familiar': (152, 0.056731202161188654, 0.0), 'families': (614, 0.05634758995247793, 0.0967741935483871), 'family': (1724, 0.05783796190039018, 0.0), 'famous': (103, 0.056641942009440324, 0.0), 'fan': (305, 0.056659142212189616, 0.05), 'fans': (270, 0.056795131845841784, 0.0), 'fantasy': (132, 0.05674397658185094, 0.0), 'far': (2259, 0.05665591893136803, 0.05555555555555555), 'farm': (138, 0.05675675675675676, 0.0), 'farmers': (108, 0.05648064806480648, 0.16666666666666666), 'fascism': (108, 0.05645524066576698, 0.25), 'fascist': (165, 0.05639521768554027, 0.11764705882352941), 'fashion': (105, 0.05670567056705671, 0.0), 'fast': (379, 0.05652272213429799, 0.07407407407407407), 'faster': (136, 0.05644254553631662, 0.3333333333333333), 'fat': (215, 0.05634437683119225, 0.15384615384615385), 'father': (509, 0.05555555555555555, 0.175), 'fathers': (113, 0.056731202161188654, 0.0), 'fault': (374, 0.05667193497403477, 0.047619047619047616), 'favor': (355, 0.05672316384180791, 0.04), 'favorite': (133, 0.05670567056705671, 0.0), 'favour': (156, 0.056731202161188654, 0.0), 'fbi': (335, 0.056544266726740254, 0.09090909090909091), 'fear': (630, 0.05624858244499886, 0.0975609756097561), 'fed': (223, 0.05656975433851701, 0.07692307692307693), 'federal': (1484, 0.056724611161939616, 0.05128205128205128), 'feds': (205, 0.056557007661108605, 0.08333333333333333), 'fee': (158, 0.05674397658185094, 0.0), 'feed': (239, 0.05656975433851701, 0.07692307692307693), 'feeding': (102, 0.05668016194331984, 0.0), 'feel': (1382, 0.056633934688284995, 0.056338028169014086), 'feeling': (238, 0.056731202161188654, 0.0), 'feelings': (181, 0.05651880207160549, 0.1111111111111111), 'feels': (183, 0.05675675675675676, 0.0), 'fees': (301, 0.05682074408117249, 0.0), 'feet': (220, 0.05671843349088454, 0.0), 'fell': (131, 0.056255625562556255, 0.3333333333333333), 'fellow': (334, 0.05642067253441661, 0.10526315789473684), 'felt': (258, 0.0563570784490532, 0.14285714285714285), 'female': (349, 0.05648441030275644, 0.08333333333333333), 'few': (2110, 0.055874913773281215, 0.0891089108910891), 'fewer': (194, 0.05645524066576698, 0.25), 'field': (351, 0.05664635522455427, 0.05263157894736842), 'fields': (115, 0.05644254553631662, 0.3333333333333333), 'fight': (551, 0.05584444946868641, 0.18518518518518517), 'fighting': (321, 0.05656975433851701, 0.07692307692307693), 'figure': (519, 0.05638586956521739, 0.08823529411764706), 'figured': (126, 0.0565060783430887, 0.125), 'figures': (157, 0.05671843349088454, 0.0), 'file': (164, 0.056731202161188654, 0.0), 'fill': (224, 0.05646794150731159, 0.2), 'filled': (227, 0.05656975433851701, 0.07692307692307693), 'final': (267, 0.05659526493799324, 0.06666666666666667), 'finally': (600, 0.05691609977324263, 0.025), 'finance': (178, 0.056731202161188654, 0.0), 'financial': (567, 0.056045197740113, 0.16), 'financially': (106, 0.05666741623566449, 0.0), 'find': (2090, 0.05634774609015639, 0.06862745098039216), 'finding': (233, 0.05682074408117249, 0.0), 'finds': (105, 0.05645524066576698, 0.25), 'fine': (727, 0.05629663124576079, 0.1111111111111111), 'finger': (149, 0.05671843349088454, 0.0), 'fingers': (108, 0.05668016194331984, 0.0), 'finish': (119, 0.0565060783430887, 0.125), 'finished': (109, 0.05634437683119225, 0.15384615384615385), 'fire': (689, 0.05676164631388512, 0.03571428571428571), 'firearm': (133, 0.056493360342111186, 0.14285714285714285), 'firearms': (159, 0.05651880207160549, 0.1111111111111111), 'fired': (405, 0.05662079855628243, 0.058823529411764705), 'fires': (105, 0.05668016194331984, 0.0), 'firing': (148, 0.05653153153153153, 0.1), 'firm': (153, 0.05668016194331984, 0.0), 'first': (3513, 0.056842105263157895, 0.05142857142857143), 'fiscal': (244, 0.05651880207160549, 0.1111111111111111), 'fish': (281, 0.056769542689795, 0.0), 'fishing': (164, 0.05671843349088454, 0.0), 'fit': (400, 0.05659526493799324, 0.06666666666666667), 'fits': (110, 0.05665467625899281, 0.0), 'five': (398, 0.05660802886783942, 0.0625), 'fix': (455, 0.056633574007220217, 0.05555555555555555), 'fixed': (166, 0.056493360342111186, 0.14285714285714285), 'flag': (304, 0.05687203791469194, 0.0), 'flat': (163, 0.05633168093735917, 0.16666666666666666), 'flawed': (106, 0.056731202161188654, 0.0), 'flight': (150, 0.05653153153153153, 0.1), 'flood': (103, 0.05670567056705671, 0.0), 'floor': (123, 0.05674397658185094, 0.0), 'florida': (156, 0.05670567056705671, 0.0), 'flow': (130, 0.05641717239829175, 1.0), 'fly': (258, 0.056769542689795, 0.0), 'flying': (152, 0.05671843349088454, 0.0), 'focus': (415, 0.05685920577617329, 0.0), 'focused': (166, 0.05671843349088454, 0.0), 'folks': (1107, 0.057233704292527825, 0.0), 'follow': (680, 0.05673598553345389, 0.038461538461538464), 'followed': (245, 0.056795131845841784, 0.0), 'followers': (143, 0.05669291338582677, 0.0), 'following': (448, 0.05625847266154541, 0.125), 'food': (724, 0.05690319655406937, 0.02564102564102564), 'fool': (245, 0.05636978579481398, 0.13333333333333333), 'foolish': (136, 0.056731202161188654, 0.0), 'fools': (156, 0.05648064806480648, 0.16666666666666666), 'foot': (216, 0.05666741623566449, 0.0), 'football': (252, 0.05636978579481398, 0.13333333333333333), 'for': (31055, 0.05599180607715944, 0.057856673241288625), 'force': (676, 0.05624858244499886, 0.0975609756097561), 'forced': (461, 0.056625141562853906, 0.05714285714285714), 'forces': (254, 0.0565060783430887, 0.125), 'forcing': (149, 0.056731202161188654, 0.0), 'ford': (135, 0.05646794150731159, 0.2), 'foreign': (795, 0.05671506352087114, 0.047619047619047616), 'forest': (144, 0.05669291338582677, 0.0), 'forever': (276, 0.05659526493799324, 0.06666666666666667), 'forget': (568, 0.05600722673893405, 0.18181818181818182), 'forgot': (190, 0.056544266726740254, 0.09090909090909091), 'forgotten': (126, 0.05669291338582677, 0.0), 'form': (605, 0.05672316384180791, 0.04), 'former': (574, 0.05652272213429799, 0.07407407407407407), 'forms': (149, 0.056433408577878104, 0.1), 'forth': (144, 0.05671843349088454, 0.0), 'fortunately': (107, 0.05668016194331984, 0.0), 'forum': (190, 0.05671843349088454, 0.0), 'forward': (534, 0.056220365771054416, 0.14285714285714285), 'fossil': (136, 0.05648064806480648, 0.16666666666666666), 'fought': (189, 0.05651880207160549, 0.1111111111111111), 'found': (988, 0.056023684809838305, 0.1016949152542373), 'foundation': (267, 0.056557007661108605, 0.08333333333333333), 'founded': (100, 0.05666741623566449, 0.0), 'four': (547, 0.05671034794396747, 0.041666666666666664), 'fox': (280, 0.056795131845841784, 0.0), 'france': (172, 0.056731202161188654, 0.0), 'francis': (345, 0.05644615037254459, 0.09523809523809523), 'frank': (104, 0.05670567056705671, 0.0), 'frankly': (159, 0.056731202161188654, 0.0), 'fraud': (325, 0.056633574007220217, 0.05555555555555555), 'free': (2177, 0.05638665132336018, 0.06666666666666667), 'freedom': (597, 0.05674881302283518, 0.037037037037037035), 'freedoms': (130, 0.056769542689795, 0.0), 'french': (236, 0.05682074408117249, 0.0), 'frequently': (110, 0.05675675675675676, 0.0), 'fresh': (133, 0.056557007661108605, 0.08333333333333333), 'friday': (108, 0.056641942009440324, 0.0), 'friend': (448, 0.05623306233062331, 0.13636363636363635), 'friendly': (139, 0.05674397658185094, 0.0), 'friends': (723, 0.056261343012704176, 0.09523809523809523), 'from': (13434, 0.05654450261780105, 0.05714285714285714), 'front': (567, 0.05671034794396747, 0.041666666666666664), 'fuel': (253, 0.05658250676284941, 0.07142857142857142), 'fuels': (106, 0.05645524066576698, 0.25), 'full': (1169, 0.05686229732815711, 0.04225352112676056), 'fully': (386, 0.05660802886783942, 0.0625), 'fun': (397, 0.05632209907260801, 0.10344827586206896), 'function': (131, 0.05670567056705671, 0.0), 'fund': (695, 0.056360344047080124, 0.09375), 'fundamental': (121, 0.05671843349088454, 0.0), 'funded': (282, 0.05656975433851701, 0.07692307692307693), 'funding': (574, 0.05698778833107191, 0.0), 'funds': (496, 0.0567744854105406, 0.034482758620689655), 'funny': (667, 0.05698778833107191, 0.0), 'further': (708, 0.0560599182932365, 0.11363636363636363), 'future': (1076, 0.0566681838871188, 0.05357142857142857), 'gain': (275, 0.056194989844278946, 0.15789473684210525), 'gains': (156, 0.05646794150731159, 0.2), 'game': (910, 0.056616643929058665, 0.057692307692307696), 'games': (351, 0.056833558863328824, 0.0), 'gang': (132, 0.05671843349088454, 0.0), 'garbage': (215, 0.05656975433851701, 0.07692307692307693), 'gary': (381, 0.05684637942702459, 0.0), 'gas': (704, 0.05698778833107191, 0.0), 'gave': (624, 0.05650994575045208, 0.07692307692307693), 'gay': (291, 0.056633574007220217, 0.05555555555555555), 'gdp': (156, 0.05668016194331984, 0.0), 'gee': (141, 0.05669291338582677, 0.0), 'gender': (339, 0.056833558863328824, 0.0), 'general': (777, 0.056753688989784334, 0.044444444444444446), 'generally': (308, 0.056194989844278946, 0.15789473684210525), 'generate': (146, 0.05648064806480648, 0.16666666666666666), 'generated': (104, 0.05645524066576698, 0.25), 'generation': (309, 0.05656975433851701, 0.07692307692307693), 'generations': (224, 0.05658250676284941, 0.07142857142857142), 'genocide': (108, 0.05668016194331984, 0.0), 'george': (255, 0.05653153153153153, 0.1), 'german': (145, 0.05669291338582677, 0.0), 'germany': (256, 0.05675675675675676, 0.0), 'get': (8393, 0.057431599704214936, 0.04834605597964377), 'gets': (1091, 0.056681083541998634, 0.05263157894736842), 'getting': (1814, 0.05662100456621005, 0.05714285714285714), 'giant': (102, 0.056544266726740254, 0.09090909090909091), 'gift': (144, 0.05674397658185094, 0.0), 'girl': (226, 0.056782334384858045, 0.0), 'girls': (185, 0.0563570784490532, 0.14285714285714285), 'give': (2327, 0.05697808535178778, 0.043478260869565216), 'given': (1427, 0.05699954400364797, 0.03125), 'gives': (362, 0.056833558863328824, 0.0), 'giving': (694, 0.05715581764572465, 0.0), 'glad': (436, 0.05642067253441661, 0.10526315789473684), 'glass': (107, 0.056731202161188654, 0.0), 'global': (592, 0.05644615037254459, 0.09523809523809523), 'globe': (563, 0.05650994575045208, 0.07692307692307693), 'gm': (106, 0.056641942009440324, 0.0), 'go': (4787, 0.05746039252778434, 0.04072398190045249), 'goal': (289, 0.05664635522455427, 0.05263157894736842), 'goals': (127, 0.05671843349088454, 0.0), 'god': (1364, 0.05631868131868132, 0.07317073170731707), 'goes': (1036, 0.056681083541998634, 0.05263157894736842), 'going': (4446, 0.05656375206222013, 0.057971014492753624), 'gold': (190, 0.05636978579481398, 0.13333333333333333), 'golden': (135, 0.05669291338582677, 0.0), 'golf': (110, 0.05670567056705671, 0.0), 'gone': (692, 0.056373103916685534, 0.09090909090909091), 'gonna': (223, 0.05668016194331984, 0.0), 'good': (6159, 0.05675805675805676, 0.0547945205479452), 'goodness': (118, 0.056641942009440324, 0.0), 'goods': (151, 0.056731202161188654, 0.0), 'google': (364, 0.056795131845841784, 0.0), 'gop': (542, 0.05672316384180791, 0.04), 'got': (2333, 0.057201929703652656, 0.030927835051546393), 'gotta': (183, 0.056731202161188654, 0.0), 'gotten': (224, 0.05653153153153153, 0.1), 'gov': (463, 0.056471651231082, 0.08695652173913043), 'governing': (105, 0.05669291338582677, 0.0), 'government': (4458, 0.05597543693906471, 0.06944444444444445), 'governments': (502, 0.05687203791469194, 0.0), 'governor': (481, 0.056471651231082, 0.08695652173913043), 'govt': (180, 0.05666741623566449, 0.0), 'grab': (145, 0.05626828719333783, 0.2857142857142857), 'grade': (195, 0.05671843349088454, 0.0), 'grand': (203, 0.05659526493799324, 0.06666666666666667), 'grant': (134, 0.056731202161188654, 0.0), 'granted': (151, 0.05671843349088454, 0.0), 'grasp': (107, 0.05646794150731159, 0.2), 'great': (2615, 0.05559400230680508, 0.09565217391304348), 'greater': (356, 0.05658250676284941, 0.07142857142857142), 'greatest': (214, 0.05674397658185094, 0.0), 'greatly': (115, 0.056641942009440324, 0.0), 'greed': (167, 0.056544266726740254, 0.09090909090909091), 'greedy': (115, 0.05628095452498874, 0.25), 'green': (385, 0.05648441030275644, 0.08333333333333333), 'grew': (173, 0.056769542689795, 0.0), 'gross': (135, 0.05653153153153153, 0.1), 'ground': (423, 0.056471651231082, 0.08695652173913043), 'group': (1025, 0.05561861520998865, 0.15555555555555556), 'groups': (567, 0.05663797009515179, 0.05555555555555555), 'grow': (427, 0.05668473351400181, 0.045454545454545456), 'growing': (390, 0.05682074408117249, 0.0), 'grown': (168, 0.05653153153153153, 0.1), 'growth': (462, 0.05673598553345389, 0.038461538461538464), 'guarantee': (160, 0.05670567056705671, 0.0), 'guaranteed': (129, 0.05675675675675676, 0.0), 'guard': (184, 0.05675675675675676, 0.0), 'guess': (1302, 0.05701254275940707, 0.03076923076923077), 'guessing': (141, 0.05666741623566449, 0.0), 'guide': (103, 0.05646794150731159, 0.2), 'guilt': (117, 0.05669291338582677, 0.0), 'guilty': (380, 0.05664635522455427, 0.05263157894736842), 'gun': (837, 0.05661231884057971, 0.058823529411764705), 'guns': (537, 0.05690319655406937, 0.02564102564102564), 'guy': (1398, 0.05713635328932393, 0.017543859649122806), 'guys': (663, 0.0568130375735627, 0.03125), 'ha': (184, 0.056795131845841784, 0.0), 'hack': (116, 0.05668016194331984, 0.0), 'had': (5678, 0.05635838150289017, 0.06040268456375839), 'hadn': (100, 0.05644254553631662, 0.3333333333333333), 'hair': (175, 0.056731202161188654, 0.0), 'half': (882, 0.05655235066999773, 0.06382978723404255), 'hall': (161, 0.05670567056705671, 0.0), 'hand': (946, 0.057019536574284414, 0.020833333333333332), 'handed': (129, 0.05670567056705671, 0.0), 'handle': (241, 0.05659526493799324, 0.06666666666666667), 'hands': (578, 0.05676164631388512, 0.03571428571428571), 'hang': (145, 0.05670567056705671, 0.0), 'hanging': (108, 0.056493360342111186, 0.14285714285714285), 'happen': (992, 0.05657805044308112, 0.061224489795918366), 'happened': (940, 0.05670220004536176, 0.04878048780487805), 'happening': (450, 0.05674881302283518, 0.037037037037037035), 'happens': (634, 0.05705229793977813, 0.0), 'happy': (638, 0.05644978462933575, 0.07692307692307693), 'hard': (1560, 0.05673758865248227, 0.05063291139240506), 'harder': (190, 0.05671843349088454, 0.0), 'hardly': (334, 0.056544266726740254, 0.09090909090909091), 'harm': (293, 0.05670567056705671, 0.0), 'harper': (623, 0.0565482922415743, 0.06896551724137931), 'hart': (123, 0.05670567056705671, 0.0), 'has': (12089, 0.0576271186440678, 0.05040650406504065), 'hasn': (419, 0.05687203791469194, 0.0), 'hat': (124, 0.0565060783430887, 0.125), 'hate': (1081, 0.056517775752051046, 0.06451612903225806), 'hateful': (103, 0.05669291338582677, 0.0), 'haters': (106, 0.05668016194331984, 0.0), 'hatred': (245, 0.05658250676284941, 0.07142857142857142), 'have': (22220, 0.054654654654654654, 0.0625), 'haven': (662, 0.055831826401446655, 0.19230769230769232), 'having': (1698, 0.05692729766803841, 0.039473684210526314), 'hawaii': (798, 0.056363636363636366, 0.08), 'hawaiian': (209, 0.056795131845841784, 0.0), 'he': (12200, 0.05620915032679739, 0.0592), 'head': (968, 0.05629965947786606, 0.08888888888888889), 'headed': (144, 0.05668016194331984, 0.0), 'headline': (292, 0.05638249887235002, 0.125), 'heads': (290, 0.05638249887235002, 0.125), 'health': (1585, 0.05648296364052138, 0.06493506493506493), 'healthcare': (441, 0.05642067253441661, 0.10526315789473684), 'healthy': (241, 0.056807935076645624, 0.0), 'hear': (890, 0.056411418214771185, 0.08333333333333333), 'heard': (771, 0.05671506352087114, 0.047619047619047616), 'hearing': (271, 0.05671843349088454, 0.0), 'heart': (410, 0.05684637942702459, 0.0), 'heat': (167, 0.05671843349088454, 0.0), 'heaven': (129, 0.056493360342111186, 0.14285714285714285), 'heavily': (135, 0.056493360342111186, 0.14285714285714285), 'heavy': (202, 0.05651880207160549, 0.1111111111111111), 'heck': (232, 0.056659142212189616, 0.05), 'held': (517, 0.05676164631388512, 0.03571428571428571), 'hell': (410, 0.05639521768554027, 0.11764705882352941), 'hello': (106, 0.05670567056705671, 0.0), 'help': (2017, 0.057070822828329135, 0.034482758620689655), 'helped': (271, 0.05636978579481398, 0.13333333333333333), 'helpful': (109, 0.05621767483696874, 0.6666666666666666), 'helping': (300, 0.056795131845841784, 0.0), 'helps': (194, 0.05651880207160549, 0.1111111111111111), 'hence': (171, 0.056769542689795, 0.0), 'her': (3341, 0.05646290247316846, 0.06097560975609756), 'here': (4855, 0.05695301376364499, 0.05084745762711865), 'heritage': (119, 0.056782334384858045, 0.0), 'hero': (146, 0.056731202161188654, 0.0), 'herself': (166, 0.056293627561360055, 0.2222222222222222), 'hey': (561, 0.056197598005891684, 0.10810810810810811), 'hi': (157, 0.056731202161188654, 0.0), 'hidden': (125, 0.05665467625899281, 0.0), 'hide': (254, 0.056795131845841784, 0.0), 'hiding': (140, 0.05675675675675676, 0.0), 'high': (1873, 0.0568882796435915, 0.0410958904109589), 'higher': (839, 0.0568258999320806, 0.030303030303030304), 'highest': (296, 0.05675675675675676, 0.0), 'highly': (386, 0.05636978579481398, 0.13333333333333333), 'highway': (142, 0.056731202161188654, 0.0), 'hilarious': (103, 0.05645524066576698, 0.25), 'hill': (129, 0.056493360342111186, 0.14285714285714285), 'hillary': (1243, 0.05697356426618049, 0.03225806451612903), 'him': (4230, 0.056572769953051646, 0.05789473684210526), 'himself': (867, 0.05611085870059064, 0.10416666666666667), 'hire': (287, 0.056833558863328824, 0.0), 'hired': (194, 0.056493360342111186, 0.14285714285714285), 'hiring': (163, 0.0565060783430887, 0.125), 'his': (9282, 0.05751437859464866, 0.04878048780487805), 'historical': (228, 0.056782334384858045, 0.0), 'history': (1487, 0.056341240875912406, 0.07575757575757576), 'hit': (549, 0.056974903911372374, 0.0), 'hitler': (167, 0.05669291338582677, 0.0), 'hits': (127, 0.05666741623566449, 0.0), 'hmmm': (141, 0.05668016194331984, 0.0), 'hockey': (168, 0.056795131845841784, 0.0), 'hold': (693, 0.05642420122365738, 0.08108108108108109), 'holding': (314, 0.056433408577878104, 0.1), 'holds': (138, 0.05628095452498874, 0.25), 'hole': (197, 0.056782334384858045, 0.0), 'holy': (266, 0.05656975433851701, 0.07692307692307693), 'home': (1610, 0.057005494505494504, 0.036585365853658534), 'homeless': (515, 0.056633574007220217, 0.05555555555555555), 'homes': (399, 0.05642067253441661, 0.10526315789473684), 'honest': (406, 0.056807935076645624, 0.0), 'honestly': (194, 0.05669291338582677, 0.0), 'honolulu': (180, 0.05615696887686062, 0.1875), 'honor': (188, 0.056769542689795, 0.0), 'hook': (104, 0.05670567056705671, 0.0), 'hope': (1721, 0.05666437256251434, 0.054945054945054944), 'hopefully': (400, 0.05688487584650113, 0.0), 'hoping': (229, 0.056557007661108605, 0.08333333333333333), 'horrible': (243, 0.056782334384858045, 0.0), 'horse': (130, 0.05648064806480648, 0.16666666666666666), 'hospital': (218, 0.05634437683119225, 0.15384615384615385), 'hospitals': (124, 0.056731202161188654, 0.0), 'host': (108, 0.05668016194331984, 0.0), 'hot': (250, 0.05682074408117249, 0.0), 'hotel': (142, 0.056782334384858045, 0.0), 'hour': (320, 0.05667193497403477, 0.047619047619047616), 'hours': (449, 0.056633574007220217, 0.05555555555555555), 'house': (1676, 0.055479138010087116, 0.11363636363636363), 'houses': (284, 0.05671843349088454, 0.0), 'housing': (638, 0.056197598005891684, 0.10810810810810811), 'how': (8794, 0.05666420300566642, 0.056265984654731455), 'however': (1463, 0.0556442417331813, 0.12307692307692308), 'html': (366, 0.056782334384858045, 0.0), 'http': (1392, 0.05696777122106219, 0.022727272727272728), 'https': (1363, 0.05627705627705628, 0.08196721311475409), 'huge': (813, 0.05656519763743753, 0.0625), 'huh': (161, 0.05669291338582677, 0.0), 'human': (1136, 0.0566681838871188, 0.05357142857142857), 'humanity': (190, 0.05675675675675676, 0.0), 'humans': (308, 0.05660802886783942, 0.0625), 'hundred': (187, 0.05628095452498874, 0.25), 'hundreds': (380, 0.056795131845841784, 0.0), 'hunt': (136, 0.05666741623566449, 0.0), 'hunting': (147, 0.05668016194331984, 0.0), 'hurt': (408, 0.05644615037254459, 0.09523809523809523), 'husband': (221, 0.05634437683119225, 0.15384615384615385), 'hydro': (142, 0.05671843349088454, 0.0), 'hypocrisy': (238, 0.05614430665163472, 0.2), 'hypocrite': (104, 0.05668016194331984, 0.0), 'hypocritical': (114, 0.05668016194331984, 0.0), 'ice': (272, 0.056807935076645624, 0.0), 'id': (137, 0.056731202161188654, 0.0), 'idea': (1324, 0.056350829356964324, 0.08163265306122448), 'ideas': (420, 0.05692342444093065, 0.0), 'identify': (189, 0.05675675675675676, 0.0), 'identity': (269, 0.056557007661108605, 0.08333333333333333), 'ideology': (252, 0.05656975433851701, 0.07692307692307693), 'idiot': (254, 0.056731202161188654, 0.0), 'idiots': (211, 0.056544266726740254, 0.09090909090909091), 'ie': (119, 0.05646794150731159, 0.2), 'if': (15578, 0.05581395348837209, 0.06037735849056604), 'ignorance': (356, 0.05688487584650113, 0.0), 'ignorant': (422, 0.05673598553345389, 0.038461538461538464), 'ignore': (431, 0.056407942238267145, 0.1111111111111111), 'ignored': (246, 0.0565060783430887, 0.125), 'ignoring': (183, 0.05630630630630631, 0.2), 'ii': (221, 0.05653153153153153, 0.1), 'ill': (245, 0.05671843349088454, 0.0), 'illegal': (986, 0.057045454545454545, 0.02), 'illegally': (224, 0.05646794150731159, 0.2), 'illegals': (168, 0.05671843349088454, 0.0), 'illness': (121, 0.05670567056705671, 0.0), 'image': (143, 0.05653153153153153, 0.1), 'imagine': (541, 0.05676164631388512, 0.03571428571428571), 'immediate': (132, 0.056293627561360055, 0.2222222222222222), 'immediately': (319, 0.05658250676284941, 0.07142857142857142), 'immigrant': (192, 0.05653153153153153, 0.1), 'immigrants': (554, 0.05607054035722361, 0.14814814814814814), 'immigration': (716, 0.05622307866696894, 0.10256410256410256), 'imo': (142, 0.05648064806480648, 0.16666666666666666), 'impact': (383, 0.05539226769161203, 0.25925925925925924), 'impeachment': (103, 0.05648064806480648, 0.16666666666666666), 'implement': (108, 0.05668016194331984, 0.0), 'importance': (118, 0.05674397658185094, 0.0), 'important': (1000, 0.056954844565464034, 0.023255813953488372), 'importantly': (100, 0.05665467625899281, 0.0), 'impose': (104, 0.05669291338582677, 0.0), 'impossible': (275, 0.0563570784490532, 0.14285714285714285), 'improve': (265, 0.056807935076645624, 0.0), 'in': (38707, 0.05555555555555555, 0.058031088082901555), 'inability': (100, 0.05641717239829175, 1.0), 'incentive': (107, 0.05670567056705671, 0.0), 'incident': (198, 0.05674397658185094, 0.0), 'include': (501, 0.05660802886783942, 0.0625), 'included': (267, 0.056544266726740254, 0.09090909090909091), 'includes': (298, 0.05659526493799324, 0.06666666666666667), 'including': (1122, 0.056414922656960874, 0.07407407407407407), 'income': (1294, 0.05660808034695275, 0.057971014492753624), 'incompetence': (159, 0.05670567056705671, 0.0), 'incompetent': (236, 0.05631899076368552, 0.18181818181818182), 'incorrect': (180, 0.05634437683119225, 0.15384615384615385), 'increase': (812, 0.05683109797681291, 0.0392156862745098), 'increased': (396, 0.05642067253441661, 0.10526315789473684), 'increases': (271, 0.05653153153153153, 0.1), 'increasing': (304, 0.05660802886783942, 0.0625), 'increasingly': (124, 0.05671843349088454, 0.0), 'incredible': (114, 0.05668016194331984, 0.0), 'incredibly': (115, 0.05671843349088454, 0.0), 'indeed': (562, 0.05671034794396747, 0.041666666666666664), 'independence': (102, 0.05666741623566449, 0.0), 'independent': (337, 0.056782334384858045, 0.0), 'india': (143, 0.05648064806480648, 0.16666666666666666), 'indian': (170, 0.056493360342111186, 0.14285714285714285), 'indigenous': (198, 0.05671843349088454, 0.0), 'individual': (569, 0.05676164631388512, 0.03571428571428571), 'individuals': (451, 0.05652272213429799, 0.07407407407407407), 'industrial': (184, 0.056731202161188654, 0.0), 'industries': (136, 0.05666741623566449, 0.0), 'industry': (905, 0.05690319655406937, 0.02564102564102564), 'inevitable': (101, 0.05653153153153153, 0.1), 'inflation': (167, 0.05670567056705671, 0.0), 'influence': (372, 0.05684637942702459, 0.0), 'info': (212, 0.05653153153153153, 0.1), 'information': (907, 0.05700658641835112, 0.02127659574468085), 'informed': (250, 0.05648064806480648, 0.16666666666666666), 'infrastructure': (329, 0.056169636814798106, 0.17647058823529413), 'initial': (118, 0.05666741623566449, 0.0), 'initiative': (104, 0.05668016194331984, 0.0), 'injured': (114, 0.05666741623566449, 0.0), 'injury': (138, 0.056731202161188654, 0.0), 'innocent': (354, 0.05644615037254459, 0.09523809523809523), 'insane': (189, 0.05653153153153153, 0.1), 'inside': (260, 0.05630630630630631, 0.2), 'insist': (110, 0.05648064806480648, 0.16666666666666666), 'instance': (185, 0.056731202161188654, 0.0), 'instead': (1533, 0.05709065996802923, 0.028169014084507043), 'institute': (112, 0.056493360342111186, 0.14285714285714285), 'institution': (138, 0.05674397658185094, 0.0), 'institutions': (193, 0.05670567056705671, 0.0), 'insult': (174, 0.05665467625899281, 0.0), 'insulting': (107, 0.05666741623566449, 0.0), 'insults': (100, 0.05666741623566449, 0.0), 'insurance': (807, 0.056727932834127526, 0.046511627906976744), 'integrity': (193, 0.056544266726740254, 0.09090909090909091), 'intellectual': (135, 0.056544266726740254, 0.09090909090909091), 'intelligence': (363, 0.056471651231082, 0.08695652173913043), 'intelligent': (246, 0.0563570784490532, 0.14285714285714285), 'intended': (242, 0.05653153153153153, 0.1), 'intent': (221, 0.05651880207160549, 0.1111111111111111), 'intention': (100, 0.05668016194331984, 0.0), 'interest': (944, 0.05643699002719855, 0.07894736842105263), 'interested': (383, 0.056974903911372374, 0.0), 'interesting': (878, 0.05628988149498633, 0.08064516129032258), 'interests': (451, 0.05632209907260801, 0.10344827586206896), 'interference': (113, 0.05665467625899281, 0.0), 'internal': (109, 0.05670567056705671, 0.0), 'international': (360, 0.056633574007220217, 0.05555555555555555), 'internet': (312, 0.056782334384858045, 0.0), 'interpretation': (145, 0.0565060783430887, 0.125), 'interview': (144, 0.05653153153153153, 0.1), 'into': (4825, 0.05812291567413054, 0.031746031746031744), 'introduced': (110, 0.05670567056705671, 0.0), 'invasion': (102, 0.05648064806480648, 0.16666666666666666), 'invest': (207, 0.05674397658185094, 0.0), 'invested': (110, 0.056731202161188654, 0.0), 'investigate': (139, 0.0565060783430887, 0.125), 'investigated': (118, 0.05670567056705671, 0.0), 'investigation': (487, 0.056407942238267145, 0.1111111111111111), 'investigations': (117, 0.05630630630630631, 0.2), 'investing': (125, 0.05670567056705671, 0.0), 'investment': (400, 0.056407942238267145, 0.1111111111111111), 'investments': (149, 0.05648064806480648, 0.16666666666666666), 'investors': (183, 0.05645524066576698, 0.25), 'involved': (731, 0.05665080444142307, 0.05405405405405406), 'iran': (231, 0.056557007661108605, 0.08333333333333333), 'iraq': (262, 0.05675675675675676, 0.0), 'ironic': (140, 0.05671843349088454, 0.0), 'irony': (115, 0.05666741623566449, 0.0), 'irrational': (102, 0.05670567056705671, 0.0), 'irrelevant': (220, 0.05659526493799324, 0.06666666666666667), 'irresponsible': (131, 0.05668016194331984, 0.0), 'is': (41428, 0.054076539101497505, 0.059628543499511244), 'isis': (239, 0.05628095452498874, 0.25), 'islam': (260, 0.05682074408117249, 0.0), 'islamic': (191, 0.05670567056705671, 0.0), 'island': (359, 0.056471651231082, 0.08695652173913043), 'islands': (124, 0.05653153153153153, 0.1), 'isn': (2264, 0.05674740484429066, 0.05217391304347826), 'israel': (241, 0.05662079855628243, 0.058823529411764705), 'issue': (1801, 0.055746730901582935, 0.0989010989010989), 'issued': (116, 0.05668016194331984, 0.0), 'issues': (1204, 0.05621572212065813, 0.08108108108108109), 'it': (33614, 0.06054054054054054, 0.05014925373134328), 'items': (149, 0.05653153153153153, 0.1), 'its': (3683, 0.05712947787403418, 0.0446927374301676), 'itself': (673, 0.056800181036433584, 0.03225806451612903), 'jack': (113, 0.05668016194331984, 0.0), 'jail': (433, 0.05596930715414128, 0.21052631578947367), 'james': (192, 0.056795131845841784, 0.0), 'january': (136, 0.05645524066576698, 0.25), 'japan': (171, 0.05651880207160549, 0.1111111111111111), 'japanese': (114, 0.056493360342111186, 0.14285714285714285), 'jesus': (551, 0.05671034794396747, 0.041666666666666664), 'jewish': (179, 0.056544266726740254, 0.09090909090909091), 'jews': (204, 0.05674397658185094, 0.0), 'jim': (153, 0.05671843349088454, 0.0), 'job': (2004, 0.05572116487044256, 0.10112359550561797), 'jobs': (1288, 0.057534246575342465, 0.0), 'joe': (246, 0.056795131845841784, 0.0), 'john': (635, 0.05683876811594203, 0.029411764705882353), 'johnson': (144, 0.05671843349088454, 0.0), 'join': (246, 0.05653153153153153, 0.1), 'joke': (357, 0.056169636814798106, 0.17647058823529413), 'jones': (124, 0.05670567056705671, 0.0), 'journalism': (183, 0.056782334384858045, 0.0), 'journalist': (124, 0.05665467625899281, 0.0), 'journalists': (164, 0.05671843349088454, 0.0), 'jr': (141, 0.0565060783430887, 0.125), 'judge': (533, 0.05634758995247793, 0.0967741935483871), 'judgement': (156, 0.0565060783430887, 0.125), 'judges': (191, 0.05666741623566449, 0.0), 'judging': (101, 0.05642985611510792, 0.5), 'judgment': (102, 0.05669291338582677, 0.0), 'judicial': (107, 0.0565060783430887, 0.125), 'july': (112, 0.05669291338582677, 0.0), 'jump': (144, 0.05668016194331984, 0.0), 'june': (119, 0.05674397658185094, 0.0), 'juneau': (159, 0.05668016194331984, 0.0), 'junior': (167, 0.056557007661108605, 0.08333333333333333), 'jury': (108, 0.056731202161188654, 0.0), 'just': (11345, 0.05613036730470771, 0.059931506849315065), 'justice': (700, 0.056411418214771185, 0.08333333333333333), 'justified': (109, 0.05668016194331984, 0.0), 'justify': (233, 0.056731202161188654, 0.0), 'justin': (573, 0.056360344047080124, 0.09375), 'keep': (2488, 0.05603148877054874, 0.07633587786259542), 'keeping': (386, 0.05667193497403477, 0.047619047619047616), 'keeps': (272, 0.056769542689795, 0.0), 'kelly': (153, 0.0565060783430887, 0.125), 'kept': (347, 0.056633574007220217, 0.05555555555555555), 'key': (293, 0.056557007661108605, 0.08333333333333333), 'khadr': (227, 0.056795131845841784, 0.0), 'kick': (173, 0.05674397658185094, 0.0), 'kid': (387, 0.056897719575524947, 0.0), 'kidding': (162, 0.056731202161188654, 0.0), 'kids': (1109, 0.056818181818181816, 0.04), 'kill': (668, 0.056398640996602495, 0.08571428571428572), 'killed': (654, 0.056398640996602495, 0.08571428571428572), 'killing': (479, 0.05672316384180791, 0.04), 'kim': (210, 0.05685920577617329, 0.0), 'kind': (1256, 0.05669398907103825, 0.05172413793103448), 'kinda': (135, 0.05656975433851701, 0.07692307692307693), 'kinds': (156, 0.05675675675675676, 0.0), 'king': (263, 0.056544266726740254, 0.09090909090909091), 'kkk': (151, 0.056731202161188654, 0.0), 'knee': (132, 0.056493360342111186, 0.14285714285714285), 'knew': (682, 0.05692900884554321, 0.024390243902439025), 'know': (6113, 0.05690860863274656, 0.052805280528052806), 'knowing': (346, 0.056833558863328824, 0.0), 'knowledge': (436, 0.05668473351400181, 0.045454545454545456), 'known': (690, 0.05622307866696894, 0.10256410256410256), 'knows': (886, 0.056373103916685534, 0.09090909090909091), 'korea': (386, 0.056897719575524947, 0.0), 'korean': (103, 0.05670567056705671, 0.0), 'la': (135, 0.0563570784490532, 0.14285714285714285), 'label': (122, 0.05628095452498874, 0.25), 'labor': (237, 0.05658250676284941, 0.07142857142857142), 'labour': (132, 0.05671843349088454, 0.0), 'lack': (847, 0.056350829356964324, 0.08163265306122448), 'lady': (192, 0.05670567056705671, 0.0), 'laid': (109, 0.05665467625899281, 0.0), 'lake': (123, 0.05669291338582677, 0.0), 'lame': (107, 0.05669291338582677, 0.0), 'land': (851, 0.05680527152919791, 0.04081632653061224), 'lands': (170, 0.05671843349088454, 0.0), 'lane': (193, 0.05653153153153153, 0.1), 'language': (394, 0.056458897922312554, 0.09090909090909091), 'large': (872, 0.05705842236872016, 0.0196078431372549), 'largely': (182, 0.05670567056705671, 0.0), 'larger': (254, 0.05656975433851701, 0.07692307692307693), 'largest': (249, 0.056081081081081084, 0.3), 'last': (2738, 0.05646841009025688, 0.06201550387596899), 'late': (505, 0.05674881302283518, 0.037037037037037035), 'lately': (105, 0.05666741623566449, 0.0), 'later': (608, 0.05632209907260801, 0.10344827586206896), 'latest': (223, 0.05630630630630631, 0.2), 'latter': (148, 0.05675675675675676, 0.0), 'laugh': (210, 0.056769542689795, 0.0), 'laughing': (128, 0.05669291338582677, 0.0), 'law': (2447, 0.05696494464944649, 0.043859649122807015), 'laws': (1035, 0.057097361237488625, 0.018518518518518517), 'lawsuit': (133, 0.05669291338582677, 0.0), 'lawyer': (224, 0.056807935076645624, 0.0), 'lawyers': (254, 0.056833558863328824, 0.0), 'lay': (194, 0.05641717239829175, 1.0), 'lazy': (159, 0.05671843349088454, 0.0), 'lead': (618, 0.05659950192438307, 0.06060606060606061), 'leader': (661, 0.05694192377495463, 0.023809523809523808), 'leaders': (590, 0.05670220004536176, 0.04878048780487805), 'leadership': (566, 0.056309362279511534, 0.10714285714285714), 'leading': (238, 0.056731202161188654, 0.0), 'leads': (182, 0.056807935076645624, 0.0), 'leafs': (109, 0.056731202161188654, 0.0), 'league': (174, 0.05645524066576698, 0.25), 'learn': (672, 0.05617214043035108, 0.11428571428571428), 'learned': (343, 0.05660802886783942, 0.0625), 'learning': (223, 0.056795131845841784, 0.0), 'leary': (114, 0.056731202161188654, 0.0), 'least': (2011, 0.057201929703652656, 0.030927835051546393), 'leave': (960, 0.05653065876453157, 0.06349206349206349), 'leaves': (180, 0.05671843349088454, 0.0), 'leaving': (367, 0.05668473351400181, 0.045454545454545456), 'led': (369, 0.05671034794396747, 0.041666666666666664), 'left': (2357, 0.05682605682605683, 0.049586776859504134), 'leftist': (196, 0.05682074408117249, 0.0), 'legacy': (148, 0.05670567056705671, 0.0), 'legal': (1077, 0.05618744313011829, 0.09259259259259259), 'legally': (271, 0.056782334384858045, 0.0), 'legislation': (332, 0.05656975433851701, 0.07692307692307693), 'legislative': (188, 0.056493360342111186, 0.14285714285714285), 'legislators': (288, 0.05636978579481398, 0.13333333333333333), 'legislature': (484, 0.056833558863328824, 0.0), 'legitimate': (233, 0.05682074408117249, 0.0), 'less': (2097, 0.05638322255328902, 0.06896551724137931), 'lesson': (179, 0.05670567056705671, 0.0), 'let': (3138, 0.05659059152305543, 0.057692307692307696), 'lets': (388, 0.05688487584650113, 0.0), 'letter': (344, 0.05667193497403477, 0.047619047619047616), 'letters': (122, 0.05670567056705671, 0.0), 'letting': (187, 0.05669291338582677, 0.0), 'level': (951, 0.056890299184043515, 0.02631578947368421), 'levels': (374, 0.05684637942702459, 0.0), 'liar': (270, 0.05658250676284941, 0.07142857142857142), 'liberal': (1706, 0.05711009174311927, 0.03333333333333333), 'liberals': (1365, 0.056543547651618786, 0.0625), 'liberty': (159, 0.0563570784490532, 0.14285714285714285), 'libs': (122, 0.05669291338582677, 0.0), 'license': (183, 0.056731202161188654, 0.0), 'lie': (592, 0.05620767494356659, 0.15), 'lied': (215, 0.056557007661108605, 0.08333333333333333), 'lies': (643, 0.05650994575045208, 0.07692307692307693), 'life': (2466, 0.055671537926235214, 0.08633093525179857), 'lifestyle': (140, 0.05671843349088454, 0.0), 'lifetime': (159, 0.05670567056705671, 0.0), 'light': (462, 0.05702647657841141, 0.0), 'lights': (111, 0.05666741623566449, 0.0), 'like': (10993, 0.056864754098360656, 0.054945054945054944), 'liked': (141, 0.05651880207160549, 0.1111111111111111), 'likely': (1208, 0.05655235066999773, 0.06382978723404255), 'likes': (264, 0.056807935076645624, 0.0), 'limit': (284, 0.05675675675675676, 0.0), 'limited': (352, 0.05591882750845547, 0.26666666666666666), 'limits': (218, 0.05674397658185094, 0.0), 'line': (1262, 0.05730593607305936, 0.014285714285714285), 'lines': (260, 0.05687203791469194, 0.0), 'link': (451, 0.056535504296698326, 0.07142857142857142), 'links': (140, 0.05674397658185094, 0.0), 'lisa': (157, 0.056493360342111186, 0.14285714285714285), 'list': (684, 0.05623582766439909, 0.1), 'listed': (120, 0.05671843349088454, 0.0), 'listen': (358, 0.05678733031674208, 0.03333333333333333), 'listening': (199, 0.056557007661108605, 0.08333333333333333), 'literally': (266, 0.05659526493799324, 0.06666666666666667), 'little': (2367, 0.05661680092059839, 0.05714285714285714), 'live': (1820, 0.055797933409873705, 0.09473684210526316), 'lived': (407, 0.05662079855628243, 0.058823529411764705), 'lives': (962, 0.05645344866833599, 0.07017543859649122), 'living': (1139, 0.05705842236872016, 0.0196078431372549), 'll': (2246, 0.05647763946519133, 0.0625), 'load': (140, 0.05668016194331984, 0.0), 'loans': (104, 0.05668016194331984, 0.0), 'lobby': (123, 0.05670567056705671, 0.0), 'local': (959, 0.0562741093714545, 0.09302325581395349), 'locals': (109, 0.0565060783430887, 0.125), 'location': (148, 0.05651880207160549, 0.1111111111111111), 'lock': (176, 0.05648064806480648, 0.16666666666666666), 'locked': (116, 0.05668016194331984, 0.0), 'logic': (356, 0.05692342444093065, 0.0), 'logical': (155, 0.05670567056705671, 0.0), 'lol': (810, 0.056625141562853906, 0.05714285714285714), 'long': (2938, 0.056996028965195046, 0.047337278106508875), 'longer': (868, 0.05643699002719855, 0.07894736842105263), 'look': (2647, 0.057129586623316304, 0.041666666666666664), 'looked': (327, 0.05687203791469194, 0.0), 'looking': (1018, 0.055832955061280075, 0.13636363636363635), 'looks': (690, 0.0568645219755324, 0.027777777777777776), 'loose': (146, 0.05653153153153153, 0.1), 'lord': (182, 0.05674397658185094, 0.0), 'lose': (692, 0.0568258999320806, 0.030303030303030304), 'loser': (172, 0.05682074408117249, 0.0), 'losers': (165, 0.05671843349088454, 0.0), 'loses': (106, 0.05674397658185094, 0.0), 'losing': (376, 0.05659526493799324, 0.06666666666666667), 'loss': (471, 0.056833558863328824, 0.0), 'losses': (115, 0.05670567056705671, 0.0), 'lost': (1156, 0.0561515635699612, 0.08695652173913043), 'lot': (2106, 0.05659075224292615, 0.05825242718446602), 'lots': (555, 0.05673598553345389, 0.038461538461538464), 'loud': (134, 0.056795131845841784, 0.0), 'love': (1350, 0.05657805044308112, 0.061224489795918366), 'loved': (219, 0.056731202161188654, 0.0), 'loves': (150, 0.05671843349088454, 0.0), 'loving': (146, 0.05668016194331984, 0.0), 'low': (1046, 0.057045454545454545, 0.02), 'lower': (725, 0.05670220004536176, 0.04878048780487805), 'lowest': (149, 0.05671843349088454, 0.0), 'loyalty': (111, 0.05666741623566449, 0.0), 'luck': (354, 0.056910569105691054, 0.0), 'lucky': (227, 0.056795131845841784, 0.0), 'lunch': (128, 0.05671843349088454, 0.0), 'lying': (501, 0.0563570784490532, 0.14285714285714285), 'lynch': (109, 0.05642985611510792, 0.5), 'machine': (188, 0.05634437683119225, 0.15384615384615385), 'mad': (134, 0.05671843349088454, 0.0), 'made': (2747, 0.05569737758180553, 0.0851063829787234), 'maga': (118, 0.05630630630630631, 0.2), 'mail': (264, 0.05658250676284941, 0.07142857142857142), 'main': (380, 0.05642067253441661, 0.10526315789473684), 'mainland': (141, 0.05630630630630631, 0.2), 'mainly': (106, 0.056641942009440324, 0.0), 'mainstream': (187, 0.05675675675675676, 0.0), 'maintain': (226, 0.056769542689795, 0.0), 'maintenance': (163, 0.056493360342111186, 0.14285714285714285), 'major': (759, 0.056360344047080124, 0.09375), 'majority': (1122, 0.056098114921644335, 0.10638297872340426), 'make': (5432, 0.055900621118012424, 0.06818181818181818), 'makes': (1684, 0.05624426078971533, 0.07446808510638298), 'making': (1841, 0.056690383291255454, 0.053763440860215055), 'male': (391, 0.056800181036433584, 0.03225806451612903), 'males': (125, 0.05671843349088454, 0.0), 'man': (2121, 0.057274826789838335, 0.03333333333333333), 'manage': (210, 0.056769542689795, 0.0), 'managed': (222, 0.05671843349088454, 0.0), 'management': (376, 0.05667193497403477, 0.047619047619047616), 'manager': (147, 0.05671843349088454, 0.0), 'mandate': (171, 0.0558810274898603, 0.3333333333333333), 'mandatory': (113, 0.05668016194331984, 0.0), 'manner': (213, 0.0565060783430887, 0.125), 'manufacturing': (150, 0.05666741623566449, 0.0), 'many': (6073, 0.056608299352362675, 0.05693950177935943), 'map': (103, 0.05670567056705671, 0.0), 'march': (216, 0.05651880207160549, 0.1111111111111111), 'marijuana': (267, 0.05600722673893405, 0.18181818181818182), 'mark': (286, 0.05675675675675676, 0.0), 'market': (1026, 0.05622581379467334, 0.08771929824561403), 'markets': (210, 0.05671843349088454, 0.0), 'marriage': (246, 0.05658250676284941, 0.07142857142857142), 'married': (240, 0.05656975433851701, 0.07692307692307693), 'martin': (191, 0.05670567056705671, 0.0), 'mass': (538, 0.05673598553345389, 0.038461538461538464), 'masses': (140, 0.05670567056705671, 0.0), 'massive': (434, 0.056659142212189616, 0.05), 'master': (107, 0.056731202161188654, 0.0), 'match': (137, 0.056795131845841784, 0.0), 'material': (158, 0.056557007661108605, 0.08333333333333333), 'math': (234, 0.056407942238267145, 0.1111111111111111), 'matter': (1578, 0.056914285714285716, 0.04), 'matters': (362, 0.056458897922312554, 0.09090909090909091), 'max': (101, 0.05670567056705671, 0.0), 'may': (3105, 0.056749182624941615, 0.05357142857142857), 'maybe': (2434, 0.0564906617477519, 0.061946902654867256), 'mayor': (473, 0.056962025316455694, 0.0), 'mccain': (162, 0.0565060783430887, 0.125), 'me': (5321, 0.05736729350154725, 0.04417670682730924), 'mean': (1713, 0.05643134567055061, 0.0684931506849315), 'meaning': (325, 0.056807935076645624, 0.0), 'meaningful': (138, 0.05671843349088454, 0.0), 'meaningless': (111, 0.05669291338582677, 0.0), 'means': (1380, 0.056986551173922956, 0.031746031746031744), 'meant': (384, 0.05659950192438307, 0.06060606060606061), 'meanwhile': (255, 0.056544266726740254, 0.09090909090909091), 'measure': (214, 0.05634437683119225, 0.15384615384615385), 'measures': (152, 0.05642985611510792, 0.5), 'meat': (126, 0.05668016194331984, 0.0), 'media': (1708, 0.05737893045673629, 0.021505376344086023), 'medicaid': (166, 0.05633168093735917, 0.16666666666666666), 'medical': (687, 0.05659950192438307, 0.06060606060606061), 'medicare': (193, 0.056544266726740254, 0.09090909090909091), 'medicine': (133, 0.05675675675675676, 0.0), 'meet': (389, 0.05687203791469194, 0.0), 'meeting': (356, 0.05685920577617329, 0.0), 'meetings': (152, 0.05671843349088454, 0.0), 'member': (423, 0.05648441030275644, 0.08333333333333333), 'members': (803, 0.05646258503401361, 0.075), 'membership': (100, 0.05669291338582677, 0.0), 'memory': (156, 0.05671843349088454, 0.0), 'men': (1103, 0.05655235066999773, 0.06382978723404255), 'mental': (420, 0.056659142212189616, 0.05), 'mentality': (133, 0.056769542689795, 0.0), 'mentally': (186, 0.05674397658185094, 0.0), 'mention': (710, 0.05652272213429799, 0.07407407407407407), 'mentioned': (401, 0.05684637942702459, 0.0), 'mercy': (112, 0.05666741623566449, 0.0), 'mere': (134, 0.05651880207160549, 0.1111111111111111), 'merely': (295, 0.05684637942702459, 0.0), 'merit': (123, 0.05648064806480648, 0.16666666666666666), 'mess': (462, 0.05559322033898305, 0.24), 'message': (418, 0.05648441030275644, 0.08333333333333333), 'met': (300, 0.05636978579481398, 0.13333333333333333), 'method': (132, 0.056493360342111186, 0.14285714285714285), 'mexican': (114, 0.05646794150731159, 0.2), 'mexico': (355, 0.056544266726740254, 0.09090909090909091), 'michael': (159, 0.05648064806480648, 0.16666666666666666), 'mid': (207, 0.056544266726740254, 0.09090909090909091), 'middle': (973, 0.05606198723792161, 0.0967741935483871), 'might': (2204, 0.05739972337482711, 0.026785714285714284), 'mike': (180, 0.05669291338582677, 0.0), 'mile': (127, 0.05671843349088454, 0.0), 'miles': (218, 0.05659526493799324, 0.06666666666666667), 'military': (1005, 0.05680527152919791, 0.04081632653061224), 'million': (1433, 0.05696058327637275, 0.03278688524590164), 'millions': (823, 0.05670220004536176, 0.04878048780487805), 'mind': (1089, 0.05697356426618049, 0.03225806451612903), 'minded': (175, 0.05634437683119225, 0.15384615384615385), 'minds': (211, 0.05651880207160549, 0.1111111111111111), 'mine': (362, 0.056782334384858045, 0.0), 'minimum': (327, 0.056833558863328824, 0.0), 'mining': (120, 0.05669291338582677, 0.0), 'minister': (485, 0.056108597285067875, 0.13333333333333333), 'minor': (188, 0.05675675675675676, 0.0), 'minorities': (156, 0.056081081081081084, 0.3), 'minority': (337, 0.05662079855628243, 0.058823529411764705), 'minute': (192, 0.056731202161188654, 0.0), 'minutes': (311, 0.056833558863328824, 0.0), 'mirror': (126, 0.0565060783430887, 0.125), 'misleading': (135, 0.05670567056705671, 0.0), 'miss': (327, 0.05692342444093065, 0.0), 'missed': (367, 0.05682074408117249, 0.0), 'missing': (302, 0.05687203791469194, 0.0), 'mission': (139, 0.05648064806480648, 0.16666666666666666), 'mistake': (292, 0.05656975433851701, 0.07692307692307693), 'mistakes': (166, 0.056731202161188654, 0.0), 'mixed': (101, 0.05669291338582677, 0.0), 'model': (287, 0.05660802886783942, 0.0625), 'moderate': (125, 0.05670567056705671, 0.0), 'modern': (355, 0.05685920577617329, 0.0), 'mom': (164, 0.056782334384858045, 0.0), 'moment': (294, 0.056833558863328824, 0.0), 'money': (4325, 0.05731132075471698, 0.04285714285714286), 'month': (549, 0.05633484162895928, 0.1), 'monthly': (113, 0.056769542689795, 0.0), 'months': (723, 0.05702647657841141, 0.0), 'montreal': (109, 0.05670567056705671, 0.0), 'moral': (452, 0.056458897922312554, 0.09090909090909091), 'morality': (117, 0.05668016194331984, 0.0), 'morally': (128, 0.05670567056705671, 0.0), 'more': (10931, 0.05732484076433121, 0.05142857142857143), 'morneau': (139, 0.056293627561360055, 0.2222222222222222), 'morning': (283, 0.05662079855628243, 0.058823529411764705), 'mortgage': (204, 0.05675675675675676, 0.0), 'most': (4906, 0.05736543909348442, 0.04205607476635514), 'mostly': (449, 0.05685920577617329, 0.0), 'mother': (434, 0.056659142212189616, 0.05), 'motion': (112, 0.056641942009440324, 0.0), 'mountain': (156, 0.05651880207160549, 0.1111111111111111), 'mouth': (273, 0.05659526493799324, 0.06666666666666667), 'move': (1115, 0.05628988149498633, 0.08064516129032258), 'moved': (300, 0.056795131845841784, 0.0), 'movement': (273, 0.05674397658185094, 0.0), 'moves': (130, 0.05651880207160549, 0.1111111111111111), 'movie': (156, 0.05630630630630631, 0.2), 'moving': (431, 0.05627118644067797, 0.12), 'mp': (135, 0.056731202161188654, 0.0), 'mr': (1618, 0.05692729766803841, 0.039473684210526314), 'ms': (454, 0.056633574007220217, 0.05555555555555555), 'msm': (170, 0.056731202161188654, 0.0), 'much': (5471, 0.05616634799235182, 0.06390977443609022), 'mueller': (143, 0.05646794150731159, 0.2), 'multi': (173, 0.05674397658185094, 0.0), 'multiple': (341, 0.05603253502033439, 0.16666666666666666), 'murder': (362, 0.05684637942702459, 0.0), 'murdered': (173, 0.05671843349088454, 0.0), 'murders': (104, 0.05671843349088454, 0.0), 'murkowski': (138, 0.05648064806480648, 0.16666666666666666), 'music': (167, 0.0565060783430887, 0.125), 'muslim': (532, 0.055329719963866306, 0.3181818181818182), 'muslims': (420, 0.056833558863328824, 0.0), 'must': (2249, 0.05710338475708036, 0.037383177570093455), 'my': (7419, 0.05621301775147929, 0.06091370558375635), 'myself': (415, 0.056782334384858045, 0.0), 'myth': (104, 0.05666741623566449, 0.0), 'nafta': (204, 0.05671843349088454, 0.0), 'naive': (140, 0.0565060783430887, 0.125), 'name': (1310, 0.056914285714285716, 0.04), 'named': (175, 0.056493360342111186, 0.14285714285714285), 'names': (301, 0.05684637942702459, 0.0), 'narrative': (236, 0.05653153153153153, 0.1), 'narrow': (115, 0.0565060783430887, 0.125), 'nasty': (153, 0.056731202161188654, 0.0), 'nation': (988, 0.056466302367941715, 0.06896551724137931), 'national': (1208, 0.05655235066999773, 0.06382978723404255), 'nations': (446, 0.05667193497403477, 0.047619047619047616), 'native': (420, 0.05688487584650113, 0.0), 'natives': (165, 0.05669291338582677, 0.0), 'nato': (122, 0.05671843349088454, 0.0), 'natural': (497, 0.05687203791469194, 0.0), 'nature': (367, 0.05658250676284941, 0.07142857142857142), 'navy': (105, 0.05675675675675676, 0.0), 'nazi': (245, 0.056493360342111186, 0.14285714285714285), 'nazis': (202, 0.05651880207160549, 0.1111111111111111), 'ncr': (153, 0.05668016194331984, 0.0), 'ndp': (435, 0.05692342444093065, 0.0), 'near': (499, 0.056910569105691054, 0.0), 'nearly': (399, 0.056633574007220217, 0.05555555555555555), 'necessarily': (177, 0.056795131845841784, 0.0), 'necessary': (454, 0.05660802886783942, 0.0625), 'need': (4888, 0.054319215123235225, 0.09225092250922509), 'needed': (851, 0.05677946854417443, 0.0425531914893617), 'needs': (1952, 0.05679466544033111, 0.04950495049504951), 'negative': (360, 0.056659142212189616, 0.05), 'negotiations': (108, 0.05668016194331984, 0.0), 'neighbor': (141, 0.05651880207160549, 0.1111111111111111), 'neighborhood': (215, 0.056557007661108605, 0.08333333333333333), 'neighbors': (193, 0.05653153153153153, 0.1), 'neither': (510, 0.05628390596745027, 0.11538461538461539), 'neo': (153, 0.056493360342111186, 0.14285714285714285), 'net': (284, 0.05684637942702459, 0.0), 'network': (135, 0.05665467625899281, 0.0), 'never': (4163, 0.05860202400564839, 0.014925373134328358), 'new': (3433, 0.05636108512628625, 0.06321839080459771), 'news': (2305, 0.05599078341013825, 0.08181818181818182), 'newspaper': (242, 0.05682074408117249, 0.0), 'next': (2068, 0.056564727523568635, 0.0594059405940594), 'nfl': (225, 0.05670567056705671, 0.0), 'nice': (948, 0.05714285714285714, 0.0), 'night': (520, 0.05628390596745027, 0.11538461538461539), 'nixon': (132, 0.05671843349088454, 0.0), 'nk': (122, 0.05669291338582677, 0.0), 'no': (12792, 0.057128152341739576, 0.05319148936170213), 'nobody': (562, 0.05652272213429799, 0.07407407407407407), 'noise': (106, 0.05666741623566449, 0.0), 'non': (1394, 0.056341240875912406, 0.07575757575757576), 'none': (648, 0.05674881302283518, 0.037037037037037035), 'nonsense': (511, 0.05693628558517849, 0.0), 'nope': (200, 0.056557007661108605, 0.08333333333333333), 'nor': (732, 0.056108597285067875, 0.13333333333333333), 'norm': (100, 0.05666741623566449, 0.0), 'normal': (296, 0.05653153153153153, 0.1), 'north': (857, 0.057091073855913006, 0.0), 'northern': (136, 0.05665467625899281, 0.0), 'nose': (133, 0.05670567056705671, 0.0), 'not': (25412, 0.056294463346736774, 0.05751848808545604), 'note': (461, 0.056910569105691054, 0.0), 'noted': (165, 0.05648064806480648, 0.16666666666666666), 'nothing': (3250, 0.056762438682550806, 0.05325443786982249), 'notice': (315, 0.05662079855628243, 0.058823529411764705), 'noticed': (190, 0.056544266726740254, 0.09090909090909091), 'notion': (176, 0.056255625562556255, 0.3333333333333333), 'november': (151, 0.05674397658185094, 0.0), 'now': (6851, 0.05636896046852123, 0.05965909090909091), 'nowhere': (199, 0.05674397658185094, 0.0), 'nra': (128, 0.0565060783430887, 0.125), 'nuclear': (377, 0.05676164631388512, 0.03571428571428571), 'number': (1193, 0.05645714285714286, 0.06666666666666667), 'numbers': (649, 0.05595831445400997, 0.1388888888888889), 'numerous': (188, 0.056807935076645624, 0.0), 'nut': (110, 0.05668016194331984, 0.0), 'nuts': (150, 0.056731202161188654, 0.0), 'ny': (101, 0.05670567056705671, 0.0), 'nytimes': (100, 0.056641942009440324, 0.0), 'oahu': (133, 0.05670567056705671, 0.0), 'obama': (1877, 0.05699839117444266, 0.04040404040404041), 'obamacare': (363, 0.056659142212189616, 0.05), 'object': (110, 0.05666741623566449, 0.0), 'objective': (142, 0.05671843349088454, 0.0), 'obvious': (554, 0.056697537836006326, 0.043478260869565216), 'obviously': (736, 0.0567744854105406, 0.034482758620689655), 'occur': (165, 0.056493360342111186, 0.14285714285714285), 'occurred': (177, 0.056544266726740254, 0.09090909090909091), 'ocean': (154, 0.05675675675675676, 0.0), 'october': (101, 0.05668016194331984, 0.0), 'odd': (198, 0.056769542689795, 0.0), 'of': (46472, 0.05404178019981835, 0.059163701067615655), 'off': (3167, 0.056072591903210796, 0.07236842105263158), 'offended': (110, 0.056493360342111186, 0.14285714285714285), 'offense': (190, 0.05671843349088454, 0.0), 'offensive': (183, 0.05674397658185094, 0.0), 'offer': (462, 0.05684637942702459, 0.0), 'offered': (260, 0.05615696887686062, 0.1875), 'offering': (144, 0.05665467625899281, 0.0), 'offers': (115, 0.05648064806480648, 0.16666666666666666), 'office': (1248, 0.05606198723792161, 0.0967741935483871), 'officer': (313, 0.05664635522455427, 0.05263157894736842), 'officers': (287, 0.05682074408117249, 0.0), 'offices': (108, 0.05665467625899281, 0.0), 'official': (297, 0.05682074408117249, 0.0), 'officials': (383, 0.056897719575524947, 0.0), 'often': (1047, 0.056616643929058665, 0.057692307692307696), 'oh': (1388, 0.056444241316270564, 0.06756756756756757), 'oil': (1415, 0.05694760820045558, 0.03333333333333333), 'ok': (722, 0.05659950192438307, 0.06060606060606061), 'okay': (335, 0.05685920577617329, 0.0), 'old': (1983, 0.056564727523568635, 0.0594059405940594), 'older': (229, 0.056782334384858045, 0.0), 'omg': (108, 0.05669291338582677, 0.0), 'on': (22937, 0.058394160583941604, 0.05163511187607573), 'once': (1555, 0.056025611708209466, 0.09090909090909091), 'one': (11346, 0.05704008221993834, 0.053763440860215055), 'ones': (910, 0.05715581764572465, 0.0), 'ongoing': (159, 0.05674397658185094, 0.0), 'online': (262, 0.056795131845841784, 0.0), 'only': (7371, 0.055231143552311436, 0.07352941176470588), 'ontario': (683, 0.0567744854105406, 0.034482758620689655), 'onto': (218, 0.0565060783430887, 0.125), 'op': (116, 0.05671843349088454, 0.0), 'open': (929, 0.055883689232167195, 0.125), 'opened': (128, 0.05668016194331984, 0.0), 'opening': (146, 0.05668016194331984, 0.0), 'openly': (133, 0.05665467625899281, 0.0), 'operate': (172, 0.05633168093735917, 0.16666666666666666), 'operating': (174, 0.056731202161188654, 0.0), 'operation': (143, 0.05631899076368552, 0.18181818181818182), 'operations': (137, 0.0565060783430887, 0.125), 'opinion': (1212, 0.056427758816837315, 0.07272727272727272), 'opinions': (377, 0.05660802886783942, 0.0625), 'opponents': (104, 0.05665467625899281, 0.0), 'opportunities': (168, 0.05671843349088454, 0.0), 'opportunity': (469, 0.05671034794396747, 0.041666666666666664), 'oppose': (173, 0.05671843349088454, 0.0), 'opposed': (330, 0.05662079855628243, 0.058823529411764705), 'opposing': (138, 0.056641942009440324, 0.0), 'opposite': (249, 0.056493360342111186, 0.14285714285714285), 'opposition': (297, 0.05687203791469194, 0.0), 'option': (328, 0.056910569105691054, 0.0), 'options': (245, 0.05659526493799324, 0.06666666666666667), 'or': (15886, 0.0571975916803503, 0.05402010050251256), 'orange': (156, 0.05675675675675676, 0.0), 'order': (1051, 0.05687740765918876, 0.02702702702702703), 'orders': (200, 0.056731202161188654, 0.0), 'ordinary': (153, 0.05670567056705671, 0.0), 'oregon': (500, 0.05664635522455427, 0.05263157894736842), 'org': (617, 0.05632209907260801, 0.10344827586206896), 'organization': (321, 0.056544266726740254, 0.09090909090909091), 'organizations': (199, 0.05674397658185094, 0.0), 'organized': (142, 0.056782334384858045, 0.0), 'original': (406, 0.056633574007220217, 0.05555555555555555), 'other': (6957, 0.05627283800243606, 0.06086956521739131), 'others': (1939, 0.05644791188618632, 0.06521739130434782), 'otherwise': (630, 0.05628390596745027, 0.11538461538461539), 'ottawa': (237, 0.05662079855628243, 0.058823529411764705), 'ought': (163, 0.05651880207160549, 0.1111111111111111), 'our': (7706, 0.05780487804878049, 0.04285714285714286), 'ours': (126, 0.056731202161188654, 0.0), 'ourselves': (251, 0.056633574007220217, 0.05555555555555555), 'out': (10117, 0.05656108597285068, 0.057203389830508475), 'outcome': (218, 0.056795131845841784, 0.0), 'outcomes': (100, 0.05665467625899281, 0.0), 'outrage': (172, 0.056731202161188654, 0.0), 'outrageous': (125, 0.05670567056705671, 0.0), 'outright': (131, 0.056493360342111186, 0.14285714285714285), 'outside': (671, 0.056360344047080124, 0.09375), 'over': (5563, 0.05684260807260568, 0.053231939163498096), 'overall': (222, 0.05675675675675676, 0.0), 'overseas': (126, 0.056493360342111186, 0.14285714285714285), 'owe': (100, 0.05668016194331984, 0.0), 'own': (3732, 0.05551651440618412, 0.08287292817679558), 'owned': (310, 0.05688487584650113, 0.0), 'owner': (313, 0.05685920577617329, 0.0), 'owners': (502, 0.05649717514124294, 0.08), 'ownership': (227, 0.05653153153153153, 0.1), 'owns': (126, 0.056493360342111186, 0.14285714285714285), 'pacific': (134, 0.05656975433851701, 0.07692307692307693), 'pack': (123, 0.05666741623566449, 0.0), 'page': (319, 0.05675675675675676, 0.0), 'pages': (120, 0.05669291338582677, 0.0), 'paid': (1378, 0.056504898610161766, 0.06557377049180328), 'pain': (245, 0.056782334384858045, 0.0), 'paint': (108, 0.05670567056705671, 0.0), 'paper': (420, 0.05667193497403477, 0.047619047619047616), 'papers': (130, 0.05669291338582677, 0.0), 'paragraph': (104, 0.05670567056705671, 0.0), 'parent': (181, 0.05670567056705671, 0.0), 'parents': (696, 0.056800181036433584, 0.03225806451612903), 'paris': (133, 0.05674397658185094, 0.0), 'park': (362, 0.05638249887235002, 0.125), 'parking': (194, 0.05633168093735917, 0.16666666666666666), 'parks': (159, 0.056731202161188654, 0.0), 'parliament': (160, 0.05670567056705671, 0.0), 'part': (2235, 0.05576122165664044, 0.0859375), 'participate': (164, 0.056731202161188654, 0.0), 'particular': (394, 0.05674397658185094, 0.0), 'particularly': (320, 0.05664635522455427, 0.05263157894736842), 'parties': (511, 0.05648441030275644, 0.08333333333333333), 'partisan': (279, 0.05630630630630631, 0.2), 'partner': (112, 0.05669291338582677, 0.0), 'parts': (261, 0.05671843349088454, 0.0), 'party': (2147, 0.05670339761248852, 0.05319148936170213), 'pass': (683, 0.056851642129105324, 0.02857142857142857), 'passed': (480, 0.05667193497403477, 0.047619047619047616), 'passes': (108, 0.056782334384858045, 0.0), 'passing': (219, 0.05671843349088454, 0.0), 'past': (1337, 0.05649202733485194, 0.06666666666666667), 'path': (244, 0.0563570784490532, 0.14285714285714285), 'pathetic': (269, 0.05615696887686062, 0.1875), 'patient': (119, 0.05646794150731159, 0.2), 'patients': (159, 0.056544266726740254, 0.09090909090909091), 'paul': (437, 0.05644615037254459, 0.09523809523809523), 'pay': (3134, 0.056870937790157845, 0.04929577464788732), 'payer': (203, 0.05671843349088454, 0.0), 'payers': (156, 0.05586843883757603, 0.36363636363636365), 'paying': (1100, 0.0568104038329911, 0.04477611940298507), 'payment': (156, 0.05648064806480648, 0.16666666666666666), 'payments': (189, 0.05675675675675676, 0.0), 'payroll': (107, 0.05665467625899281, 0.0), 'pays': (312, 0.05633168093735917, 0.16666666666666666), 'pc': (154, 0.05669291338582677, 0.0), 'pdf': (118, 0.05669291338582677, 0.0), 'peace': (400, 0.05667193497403477, 0.047619047619047616), 'peaceful': (129, 0.05648064806480648, 0.16666666666666666), 'penalty': (195, 0.056769542689795, 0.0), 'pence': (165, 0.056731202161188654, 0.0), 'pension': (260, 0.05674397658185094, 0.0), 'pensions': (137, 0.05671843349088454, 0.0), 'people': (11755, 0.05695055656225731, 0.054514480408858604), 'peoples': (175, 0.05646794150731159, 0.2), 'per': (1036, 0.05683109797681291, 0.0392156862745098), 'perceived': (101, 0.05674397658185094, 0.0), 'percent': (365, 0.05636978579481398, 0.13333333333333333), 'percentage': (244, 0.056782334384858045, 0.0), 'perfect': (408, 0.05656975433851701, 0.07692307692307693), 'perfectly': (226, 0.056731202161188654, 0.0), 'perform': (112, 0.05674397658185094, 0.0), 'performance': (250, 0.05653153153153153, 0.1), 'perhaps': (1546, 0.05673758865248227, 0.05063291139240506), 'period': (518, 0.05649717514124294, 0.08), 'permanent': (258, 0.05671843349088454, 0.0), 'permit': (122, 0.05648064806480648, 0.16666666666666666), 'person': (2106, 0.056925558884535606, 0.04504504504504504), 'personal': (1022, 0.05611085870059064, 0.10416666666666667), 'personality': (102, 0.056557007661108605, 0.08333333333333333), 'personally': (461, 0.05623306233062331, 0.13636363636363635), 'personnel': (124, 0.05666741623566449, 0.0), 'persons': (205, 0.056544266726740254, 0.09090909090909091), 'perspective': (266, 0.056557007661108605, 0.08333333333333333), 'pet': (121, 0.05669291338582677, 0.0), 'peter': (155, 0.056782334384858045, 0.0), 'petty': (105, 0.05666741623566449, 0.0), 'pfd': (355, 0.056544266726740254, 0.09090909090909091), 'philosophy': (106, 0.05669291338582677, 0.0), 'phone': (289, 0.056769542689795, 0.0), 'photo': (214, 0.056782334384858045, 0.0), 'photos': (113, 0.05670567056705671, 0.0), 'phrase': (128, 0.05626828719333783, 0.2857142857142857), 'physical': (228, 0.05658250676284941, 0.07142857142857142), 'pick': (472, 0.05664635522455427, 0.05263157894736842), 'picked': (164, 0.056769542689795, 0.0), 'picking': (151, 0.05675675675675676, 0.0), 'picture': (353, 0.05682074408117249, 0.0), 'pictures': (105, 0.05669291338582677, 0.0), 'piece': (598, 0.056833558863328824, 0.0), 'pieces': (127, 0.05669291338582677, 0.0), 'pipeline': (257, 0.05662079855628243, 0.058823529411764705), 'pipelines': (105, 0.05646794150731159, 0.2), 'place': (1844, 0.056154022461608985, 0.08045977011494253), 'placed': (140, 0.05656975433851701, 0.07692307692307693), 'places': (497, 0.056962025316455694, 0.0), 'plain': (230, 0.05674397658185094, 0.0), 'plan': (1071, 0.05705842236872016, 0.0196078431372549), 'plane': (154, 0.05648064806480648, 0.16666666666666666), 'planet': (320, 0.05682074408117249, 0.0), 'planned': (236, 0.056769542689795, 0.0), 'planning': (267, 0.05662079855628243, 0.058823529411764705), 'plans': (365, 0.056910569105691054, 0.0), 'plant': (202, 0.05645524066576698, 0.25), 'plants': (174, 0.056293627561360055, 0.2222222222222222), 'platform': (170, 0.05674397658185094, 0.0), 'play': (939, 0.057311803502387994, 0.0), 'played': (308, 0.056471651231082, 0.08695652173913043), 'player': (195, 0.05671843349088454, 0.0), 'players': (400, 0.05659526493799324, 0.06666666666666667), 'playing': (490, 0.05672316384180791, 0.04), 'plays': (135, 0.05670567056705671, 0.0), 'please': (1632, 0.056776556776556776, 0.04878048780487805), 'plenty': (358, 0.05660802886783942, 0.0625), 'plus': (454, 0.05656108597285068, 0.06666666666666667), 'pm': (464, 0.05627118644067797, 0.12), 'pocket': (149, 0.056769542689795, 0.0), 'pockets': (148, 0.05648064806480648, 0.16666666666666666), 'point': (2916, 0.0572024085224641, 0.03787878787878788), 'pointed': (213, 0.056731202161188654, 0.0), 'pointing': (219, 0.056807935076645624, 0.0), 'points': (597, 0.0567744854105406, 0.034482758620689655), 'police': (1175, 0.05640209233568342, 0.07547169811320754), 'policies': (617, 0.057091073855913006, 0.0), 'policy': (918, 0.056753688989784334, 0.044444444444444446), 'political': (2124, 0.05488929889298893, 0.12280701754385964), 'politically': (299, 0.056433408577878104, 0.1), 'politician': (303, 0.05638249887235002, 0.125), 'politicians': (834, 0.05584562996594779, 0.13333333333333333), 'politics': (960, 0.05653950953678474, 0.06521739130434782), 'poll': (182, 0.05628095452498874, 0.25), 'polls': (202, 0.05674397658185094, 0.0), 'pollution': (112, 0.05630630630630631, 0.2), 'pool': (126, 0.05668016194331984, 0.0), 'poor': (1297, 0.05622581379467334, 0.08771929824561403), 'poorly': (200, 0.056544266726740254, 0.09090909090909091), 'pop': (117, 0.05668016194331984, 0.0), 'pope': (428, 0.05668473351400181, 0.045454545454545456), 'popular': (350, 0.055944055944055944, 0.23529411764705882), 'population': (900, 0.05662952012735956, 0.05660377358490566), 'populations': (112, 0.056641942009440324, 0.0), 'port': (125, 0.056731202161188654, 0.0), 'portion': (171, 0.05675675675675676, 0.0), 'portland': (149, 0.05653153153153153, 0.1), 'position': (799, 0.05663797009515179, 0.05555555555555555), 'positions': (311, 0.05638249887235002, 0.125), 'positive': (370, 0.05664635522455427, 0.05263157894736842), 'possibility': (164, 0.05630630630630631, 0.2), 'possible': (867, 0.056818181818181816, 0.04), 'possibly': (399, 0.056807935076645624, 0.0), 'post': (1706, 0.05733944954128441, 0.022222222222222223), 'posted': (354, 0.056897719575524947, 0.0), 'poster': (180, 0.056782334384858045, 0.0), 'posters': (178, 0.05674397658185094, 0.0), 'posting': (283, 0.05662079855628243, 0.058823529411764705), 'posts': (429, 0.05687203791469194, 0.0), 'pot': (350, 0.05664635522455427, 0.05263157894736842), 'potential': (335, 0.0563570784490532, 0.14285714285714285), 'potentially': (111, 0.05666741623566449, 0.0), 'potus': (221, 0.056769542689795, 0.0), 'poverty': (227, 0.05634437683119225, 0.15384615384615385), 'power': (1637, 0.05607690547035935, 0.08641975308641975), 'powerful': (235, 0.056807935076645624, 0.0), 'powers': (175, 0.056731202161188654, 0.0), 'pr': (121, 0.05674397658185094, 0.0), 'practical': (115, 0.05671843349088454, 0.0), 'practice': (448, 0.05685920577617329, 0.0), 'practices': (204, 0.05675675675675676, 0.0), 'pray': (170, 0.056731202161188654, 0.0), 'prayer': (119, 0.05669291338582677, 0.0), 'prayers': (106, 0.05670567056705671, 0.0), 'pre': (295, 0.05639521768554027, 0.11764705882352941), 'precisely': (126, 0.056255625562556255, 0.3333333333333333), 'prefer': (323, 0.05685920577617329, 0.0), 'premier': (127, 0.05669291338582677, 0.0), 'premise': (101, 0.05645524066576698, 0.25), 'premiums': (126, 0.05644254553631662, 0.3333333333333333), 'prepared': (190, 0.05662079855628243, 0.058823529411764705), 'presence': (152, 0.056782334384858045, 0.0), 'present': (483, 0.056974903911372374, 0.0), 'presented': (160, 0.05675675675675676, 0.0), 'presidency': (293, 0.05614430665163472, 0.2), 'president': (2742, 0.05750057964293995, 0.029197080291970802), 'presidential': (319, 0.056769542689795, 0.0), 'presidents': (163, 0.05669291338582677, 0.0), 'press': (508, 0.05660802886783942, 0.0625), 'pressure': (207, 0.05669291338582677, 0.0), 'pretend': (189, 0.05670567056705671, 0.0), 'pretending': (119, 0.05669291338582677, 0.0), 'pretty': (1290, 0.05694760820045558, 0.03333333333333333), 'prevent': (365, 0.05675675675675676, 0.0), 'previous': (397, 0.05660802886783942, 0.0625), 'previously': (166, 0.05646794150731159, 0.2), 'price': (697, 0.05649717514124294, 0.08), 'prices': (584, 0.05687203791469194, 0.0), 'pride': (135, 0.05646794150731159, 0.2), 'priest': (179, 0.056769542689795, 0.0), 'priests': (267, 0.05653153153153153, 0.1), 'primarily': (131, 0.05670567056705671, 0.0), 'primary': (286, 0.05636978579481398, 0.13333333333333333), 'prime': (346, 0.05600722673893405, 0.18181818181818182), 'principle': (138, 0.056731202161188654, 0.0), 'principles': (153, 0.05668016194331984, 0.0), 'print': (145, 0.05656975433851701, 0.07692307692307693), 'prior': (294, 0.05638249887235002, 0.125), 'priorities': (125, 0.05674397658185094, 0.0), 'priority': (115, 0.05646794150731159, 0.2), 'prison': (386, 0.05688487584650113, 0.0), 'privacy': (103, 0.05668016194331984, 0.0), 'private': (1069, 0.05722070844686648, 0.0), 'privilege': (169, 0.05674397658185094, 0.0), 'pro': (445, 0.05674881302283518, 0.037037037037037035), 'probably': (1644, 0.056128293241695305, 0.08235294117647059), 'problem': (2529, 0.057123034227567066, 0.03968253968253968), 'problems': (845, 0.0565266742338252, 0.06666666666666667), 'process': (801, 0.05603448275862069, 0.11904761904761904), 'produce': (285, 0.05675675675675676, 0.0), 'produced': (167, 0.05669291338582677, 0.0), 'product': (274, 0.056194989844278946, 0.15789473684210525), 'production': (282, 0.056769542689795, 0.0), 'productive': (144, 0.056769542689795, 0.0), 'products': (264, 0.05642067253441661, 0.10526315789473684), 'professional': (288, 0.056807935076645624, 0.0), 'professionals': (129, 0.05648064806480648, 0.16666666666666666), 'professor': (169, 0.056493360342111186, 0.14285714285714285), 'profit': (449, 0.056659142212189616, 0.05), 'profits': (311, 0.05631899076368552, 0.18181818181818182), 'program': (675, 0.05668934240362812, 0.05), 'programs': (487, 0.056910569105691054, 0.0), 'progress': (194, 0.05675675675675676, 0.0), 'progressive': (311, 0.05660802886783942, 0.0625), 'progressives': (124, 0.05645524066576698, 0.25), 'project': (507, 0.05609590590364171, 0.13793103448275862), 'projects': (331, 0.056807935076645624, 0.0), 'promise': (255, 0.056795131845841784, 0.0), 'promised': (226, 0.05671843349088454, 0.0), 'promises': (206, 0.056544266726740254, 0.09090909090909091), 'promote': (198, 0.05610635421360973, 0.25), 'promoting': (129, 0.05630630630630631, 0.2), 'proof': (429, 0.05688487584650113, 0.0), 'propaganda': (367, 0.056807935076645624, 0.0), 'proper': (257, 0.056807935076645624, 0.0), 'properly': (221, 0.05610635421360973, 0.25), 'properties': (125, 0.05668016194331984, 0.0), 'property': (884, 0.05683109797681291, 0.0392156862745098), 'proposal': (175, 0.05668016194331984, 0.0), 'proposed': (295, 0.056782334384858045, 0.0), 'prosperity': (100, 0.05668016194331984, 0.0), 'protect': (655, 0.05595831445400997, 0.1388888888888889), 'protected': (225, 0.056769542689795, 0.0), 'protecting': (206, 0.05636978579481398, 0.13333333333333333), 'protection': (289, 0.056407942238267145, 0.1111111111111111), 'protest': (375, 0.056633574007220217, 0.05555555555555555), 'protesters': (132, 0.056731202161188654, 0.0), 'protesting': (142, 0.056493360342111186, 0.14285714285714285), 'protests': (113, 0.05671843349088454, 0.0), 'proud': (322, 0.05660802886783942, 0.0625), 'prove': (406, 0.05694915254237288, 0.0), 'proved': (143, 0.056731202161188654, 0.0), 'proven': (382, 0.05692342444093065, 0.0), 'proves': (112, 0.05651880207160549, 0.1111111111111111), 'provide': (924, 0.05608537693006358, 0.10869565217391304), 'provided': (372, 0.05649717514124294, 0.08), 'provides': (195, 0.056769542689795, 0.0), 'providing': (290, 0.05656975433851701, 0.07692307692307693), 'province': (319, 0.05675675675675676, 0.0), 'provinces': (177, 0.05628095452498874, 0.25), 'provincial': (251, 0.056782334384858045, 0.0), 'public': (2793, 0.05537534754402224, 0.09701492537313433), 'publicly': (226, 0.05609371480063077, 0.2727272727272727), 'published': (198, 0.05670567056705671, 0.0), 'pull': (285, 0.05675675675675676, 0.0), 'pulled': (164, 0.056544266726740254, 0.09090909090909091), 'pulling': (121, 0.056731202161188654, 0.0), 'punishment': (139, 0.05669291338582677, 0.0), 'purchase': (242, 0.0563570784490532, 0.14285714285714285), 'purchased': (105, 0.05669291338582677, 0.0), 'pure': (246, 0.056769542689795, 0.0), 'purpose': (383, 0.05693628558517849, 0.0), 'purposes': (122, 0.05651880207160549, 0.1111111111111111), 'push': (330, 0.056807935076645624, 0.0), 'pushed': (164, 0.05670567056705671, 0.0), 'pushing': (237, 0.05658250676284941, 0.07142857142857142), 'put': (2371, 0.057011494252873565, 0.04), 'putin': (421, 0.056910569105691054, 0.0), 'puts': (196, 0.056769542689795, 0.0), 'putting': (439, 0.05692342444093065, 0.0), 'qb': (108, 0.05646794150731159, 0.2), 'qualified': (206, 0.056544266726740254, 0.09090909090909091), 'qualify': (121, 0.05651880207160549, 0.1111111111111111), 'quality': (398, 0.05656975433851701, 0.07692307692307693), 'quebec': (371, 0.056407942238267145, 0.1111111111111111), 'queen': (119, 0.056731202161188654, 0.0), 'question': (1456, 0.05639269406392694, 0.07142857142857142), 'questionable': (115, 0.056731202161188654, 0.0), 'questions': (520, 0.056220365771054416, 0.14285714285714285), 'quick': (242, 0.056769542689795, 0.0), 'quickly': (317, 0.05660802886783942, 0.0625), 'quiet': (101, 0.05674397658185094, 0.0), 'quit': (276, 0.05638249887235002, 0.125), 'quite': (1083, 0.056818181818181816, 0.04), 'quo': (140, 0.056731202161188654, 0.0), 'quote': (320, 0.05633168093735917, 0.16666666666666666), 'quotes': (103, 0.0565060783430887, 0.125), 'race': (653, 0.056373103916685534, 0.09090909090909091), 'racial': (220, 0.05653153153153153, 0.1), 'racism': (479, 0.05625847266154541, 0.125), 'racist': (774, 0.05608537693006358, 0.10869565217391304), 'racists': (167, 0.05674397658185094, 0.0), 'radical': (173, 0.05648064806480648, 0.16666666666666666), 'radio': (148, 0.05646794150731159, 0.2), 'rail': (623, 0.0568258999320806, 0.030303030303030304), 'raise': (479, 0.05636978579481398, 0.13333333333333333), 'raised': (346, 0.05658250676284941, 0.07142857142857142), 'raises': (119, 0.05669291338582677, 0.0), 'raising': (199, 0.05606845305111462, 0.3333333333333333), 'rally': (155, 0.05646794150731159, 0.2), 'ran': (264, 0.055893621816542706, 0.3076923076923077), 'range': (208, 0.056731202161188654, 0.0), 'rape': (214, 0.05671843349088454, 0.0), 'rare': (136, 0.05651880207160549, 0.1111111111111111), 'rarely': (154, 0.056769542689795, 0.0), 'rate': (809, 0.056625141562853906, 0.05714285714285714), 'rates': (590, 0.056019878021233344, 0.17391304347826086), 'rather': (1508, 0.0561515635699612, 0.08695652173913043), 'rating': (104, 0.05626828719333783, 0.2857142857142857), 'ratings': (104, 0.056641942009440324, 0.0), 'rational': (264, 0.05634437683119225, 0.15384615384615385), 're': (4920, 0.05599051008303677, 0.06808510638297872), 'reach': (234, 0.056769542689795, 0.0), 'reached': (110, 0.05666741623566449, 0.0), 'reaction': (248, 0.05675675675675676, 0.0), 'read': (2406, 0.05692379182156134, 0.04794520547945205), 'readers': (209, 0.05656975433851701, 0.07692307692307693), 'reading': (802, 0.05634758995247793, 0.0967741935483871), 'ready': (337, 0.05631899076368552, 0.18181818181818182), 'reagan': (168, 0.056731202161188654, 0.0), 'real': (2617, 0.05696494464944649, 0.043859649122807015), 'reality': (965, 0.05670220004536176, 0.04878048780487805), 'realize': (641, 0.05633484162895928, 0.1), 'realized': (129, 0.05668016194331984, 0.0), 'really': (4054, 0.055738476011288805, 0.07575757575757576), 'reason': (1691, 0.05710370031978072, 0.027777777777777776), 'reasonable': (444, 0.05673598553345389, 0.038461538461538464), 'reasoning': (111, 0.05666741623566449, 0.0), 'reasons': (571, 0.05650994575045208, 0.07692307692307693), 'recall': (298, 0.05648441030275644, 0.08333333333333333), 'receive': (364, 0.05667193497403477, 0.047619047619047616), 'received': (302, 0.05658250676284941, 0.07142857142857142), 'receiving': (146, 0.05674397658185094, 0.0), 'recent': (545, 0.056962025316455694, 0.0), 'recently': (415, 0.056633574007220217, 0.05555555555555555), 'recession': (143, 0.056493360342111186, 0.14285714285714285), 'recognize': (260, 0.056795131845841784, 0.0), 'recognized': (124, 0.05668016194331984, 0.0), 'recommend': (121, 0.05644254553631662, 0.3333333333333333), 'record': (585, 0.05609590590364171, 0.13793103448275862), 'records': (188, 0.05651880207160549, 0.1111111111111111), 'red': (451, 0.05660802886783942, 0.0625), 'reduce': (377, 0.05688487584650113, 0.0), 'reduced': (238, 0.05653153153153153, 0.1), 'reducing': (152, 0.05670567056705671, 0.0), 'reduction': (128, 0.05651880207160549, 0.1111111111111111), 'refer': (167, 0.05674397658185094, 0.0), 'reference': (230, 0.05664635522455427, 0.05263157894736842), 'referred': (124, 0.05670567056705671, 0.0), 'referring': (262, 0.05658250676284941, 0.07142857142857142), 'reflect': (163, 0.05648064806480648, 0.16666666666666666), 'reform': (285, 0.05659526493799324, 0.06666666666666667), 'refugee': (150, 0.05675675675675676, 0.0), 'refugees': (323, 0.05659526493799324, 0.06666666666666667), 'refuse': (282, 0.05659526493799324, 0.06666666666666667), 'refused': (234, 0.05659526493799324, 0.06666666666666667), 'regard': (226, 0.056731202161188654, 0.0), 'regarding': (494, 0.05650994575045208, 0.07692307692307693), 'regardless': (517, 0.05650994575045208, 0.07692307692307693), 'regards': (156, 0.056782334384858045, 0.0), 'regime': (198, 0.056910569105691054, 0.0), 'region': (151, 0.05674397658185094, 0.0), 'registered': (130, 0.05666741623566449, 0.0), 'regular': (275, 0.05653153153153153, 0.1), 'regularly': (151, 0.0565060783430887, 0.125), 'regulated': (106, 0.05669291338582677, 0.0), 'regulation': (158, 0.05653153153153153, 0.1), 'regulations': (233, 0.056633574007220217, 0.05555555555555555), 'reject': (112, 0.05666741623566449, 0.0), 'rejected': (142, 0.05653153153153153, 0.1), 'related': (338, 0.05684637942702459, 0.0), 'relations': (134, 0.056293627561360055, 0.2222222222222222), 'relationship': (236, 0.056782334384858045, 0.0), 'relative': (144, 0.056731202161188654, 0.0), 'relatively': (146, 0.05671843349088454, 0.0), 'release': (241, 0.05631899076368552, 0.18181818181818182), 'released': (197, 0.05633168093735917, 0.16666666666666666), 'relevant': (228, 0.056557007661108605, 0.08333333333333333), 'reliable': (114, 0.05666741623566449, 0.0), 'relief': (109, 0.05668016194331984, 0.0), 'religion': (595, 0.05658669081032141, 0.0625), 'religions': (113, 0.05668016194331984, 0.0), 'religious': (680, 0.05649717514124294, 0.08), 'rely': (134, 0.05669291338582677, 0.0), 'remain': (389, 0.05662079855628243, 0.058823529411764705), 'remaining': (110, 0.05666741623566449, 0.0), 'remains': (265, 0.056769542689795, 0.0), 'remarks': (126, 0.05665467625899281, 0.0), 'remember': (1196, 0.056543547651618786, 0.0625), 'remind': (123, 0.05653153153153153, 0.1), 'reminds': (142, 0.056731202161188654, 0.0), 'remove': (277, 0.0565060783430887, 0.125), 'removed': (311, 0.056407942238267145, 0.1111111111111111), 'removing': (122, 0.05648064806480648, 0.16666666666666666), 'rent': (243, 0.05685920577617329, 0.0), 'rental': (110, 0.05674397658185094, 0.0), 'rep': (131, 0.056493360342111186, 0.14285714285714285), 'repeal': (189, 0.056493360342111186, 0.14285714285714285), 'repeat': (186, 0.0565060783430887, 0.125), 'repeated': (109, 0.05668016194331984, 0.0), 'repeatedly': (155, 0.056731202161188654, 0.0), 'replace': (255, 0.056769542689795, 0.0), 'replaced': (196, 0.05656975433851701, 0.07692307692307693), 'replacement': (126, 0.056493360342111186, 0.14285714285714285), 'reply': (206, 0.05671843349088454, 0.0), 'report': (668, 0.0568130375735627, 0.03125), 'reported': (370, 0.05664635522455427, 0.05263157894736842), 'reporter': (131, 0.05648064806480648, 0.16666666666666666), 'reporters': (122, 0.05653153153153153, 0.1), 'reporting': (346, 0.0565060783430887, 0.125), 'reports': (291, 0.056544266726740254, 0.09090909090909091), 'represent': (238, 0.05656975433851701, 0.07692307692307693), 'representation': (113, 0.05668016194331984, 0.0), 'representative': (182, 0.0565060783430887, 0.125), 'representatives': (172, 0.05669291338582677, 0.0), 'represents': (158, 0.056782334384858045, 0.0), 'republic': (164, 0.05669291338582677, 0.0), 'republican': (1155, 0.05662952012735956, 0.05660377358490566), 'republicans': (1123, 0.056440600819299046, 0.07142857142857142), 'reputation': (108, 0.05668016194331984, 0.0), 'request': (130, 0.05675675675675676, 0.0), 'require': (387, 0.056633574007220217, 0.05555555555555555), 'required': (510, 0.056373103916685534, 0.09090909090909091), 'requirement': (117, 0.05675675675675676, 0.0), 'requirements': (145, 0.056255625562556255, 0.3333333333333333), 'requires': (254, 0.056557007661108605, 0.08333333333333333), 'research': (578, 0.05586971273467541, 0.1724137931034483), 'reserve': (110, 0.05666741623566449, 0.0), 'resident': (156, 0.0565060783430887, 0.125), 'residential': (109, 0.05668016194331984, 0.0), 'residents': (416, 0.056659142212189616, 0.05), 'resign': (132, 0.05675675675675676, 0.0), 'resist': (105, 0.05669291338582677, 0.0), 'resistance': (109, 0.05669291338582677, 0.0), 'resort': (115, 0.05669291338582677, 0.0), 'resource': (156, 0.05665467625899281, 0.0), 'resources': (550, 0.056795131845841784, 0.0), 'respect': (783, 0.056676490591702565, 0.05128205128205128), 'respected': (104, 0.05668016194331984, 0.0), 'respond': (199, 0.05674397658185094, 0.0), 'responded': (108, 0.056731202161188654, 0.0), 'responding': (120, 0.05669291338582677, 0.0), 'response': (638, 0.056974903911372374, 0.0), 'responses': (109, 0.05648064806480648, 0.16666666666666666), 'responsibility': (529, 0.05629663124576079, 0.1111111111111111), 'responsible': (643, 0.05652272213429799, 0.07407407407407407), 'rest': (1174, 0.056427758816837315, 0.07272727272727272), 'restrictions': (121, 0.05670567056705671, 0.0), 'result': (739, 0.056197598005891684, 0.10810810810810811), 'resulted': (103, 0.056731202161188654, 0.0), 'resulting': (117, 0.05651880207160549, 0.1111111111111111), 'results': (468, 0.056659142212189616, 0.05), 'retire': (134, 0.05645524066576698, 0.25), 'retired': (189, 0.05675675675675676, 0.0), 'retirement': (340, 0.056633574007220217, 0.05555555555555555), 'return': (540, 0.056471651231082, 0.08695652173913043), 'returned': (127, 0.05669291338582677, 0.0), 'returning': (102, 0.056255625562556255, 0.3333333333333333), 'returns': (198, 0.056795131845841784, 0.0), 'revealed': (126, 0.05648064806480648, 0.16666666666666666), 'revenue': (489, 0.05668473351400181, 0.045454545454545456), 'revenues': (146, 0.056769542689795, 0.0), 'reverse': (120, 0.05671843349088454, 0.0), 'review': (285, 0.05618231046931408, 0.16666666666666666), 'revolution': (142, 0.056731202161188654, 0.0), 'rg': (124, 0.056731202161188654, 0.0), 'rhetoric': (204, 0.056807935076645624, 0.0), 'rich': (740, 0.05687740765918876, 0.02702702702702703), 'richard': (166, 0.05671843349088454, 0.0), 'rid': (349, 0.05684637942702459, 0.0), 'ride': (268, 0.056769542689795, 0.0), 'ridiculous': (532, 0.05657388549445576, 0.06451612903225806), 'riding': (131, 0.05671843349088454, 0.0), 'right': (5828, 0.05675287356321839, 0.05474452554744526), 'righteous': (111, 0.056641942009440324, 0.0), 'rights': (1264, 0.057025547445255474, 0.030303030303030304), 'rip': (104, 0.05668016194331984, 0.0), 'rise': (351, 0.05642067253441661, 0.10526315789473684), 'rising': (184, 0.056493360342111186, 0.14285714285714285), 'risk': (600, 0.05650994575045208, 0.07692307692307693), 'risks': (129, 0.0565060783430887, 0.125), 'river': (227, 0.05648064806480648, 0.16666666666666666), 'road': (625, 0.05650994575045208, 0.07692307692307693), 'roads': (245, 0.056544266726740254, 0.09090909090909091), 'rob': (115, 0.05668016194331984, 0.0), 'robert': (127, 0.05674397658185094, 0.0), 'rock': (205, 0.056769542689795, 0.0), 'role': (376, 0.056910569105691054, 0.0), 'roll': (163, 0.056769542689795, 0.0), 'rolling': (111, 0.05669291338582677, 0.0), 'roman': (130, 0.05670567056705671, 0.0), 'room': (496, 0.0568258999320806, 0.030303030303030304), 'root': (123, 0.05668016194331984, 0.0), 'round': (209, 0.056557007661108605, 0.08333333333333333), 'route': (121, 0.056782334384858045, 0.0), 'roy': (104, 0.05668016194331984, 0.0), 'rule': (512, 0.05656108597285068, 0.06666666666666667), 'ruled': (115, 0.056493360342111186, 0.14285714285714285), 'rules': (654, 0.05632209907260801, 0.10344827586206896), 'ruling': (152, 0.056769542689795, 0.0), 'run': (1468, 0.05626423690205012, 0.08333333333333333), 'running': (814, 0.057091073855913006, 0.0), 'runs': (201, 0.05671843349088454, 0.0), 'rural': (197, 0.056544266726740254, 0.09090909090909091), 'rush': (115, 0.05668016194331984, 0.0), 'russia': (873, 0.05694192377495463, 0.023809523809523808), 'russian': (623, 0.05678733031674208, 0.03333333333333333), 'russians': (342, 0.05668473351400181, 0.045454545454545456), 'ryan': (156, 0.05623031938821413, 0.5), 'sa': (176, 0.05674397658185094, 0.0), 'sacrifice': (120, 0.05671843349088454, 0.0), 'sad': (1005, 0.056338028169014086, 0.08333333333333333), 'sadly': (282, 0.056544266726740254, 0.09090909090909091), 'safe': (611, 0.0570006785795069, 0.0), 'safer': (135, 0.05670567056705671, 0.0), 'safety': (478, 0.05674397658185094, 0.0), 'said': (3630, 0.055659494855004675, 0.08045977011494253), 'sake': (154, 0.05651880207160549, 0.1111111111111111), 'salaries': (159, 0.05674397658185094, 0.0), 'salary': (221, 0.056731202161188654, 0.0), 'sale': (209, 0.0558810274898603, 0.3333333333333333), 'sales': (415, 0.05682074408117249, 0.0), 'same': (4223, 0.056987467486403404, 0.049773755656108594), 'san': (121, 0.05670567056705671, 0.0), 'sanctions': (106, 0.056731202161188654, 0.0), 'sand': (127, 0.05671843349088454, 0.0), 'sanders': (223, 0.0565060783430887, 0.125), 'sarah': (117, 0.05646794150731159, 0.2), 'sarcasm': (114, 0.05646794150731159, 0.2), 'saudi': (196, 0.05634437683119225, 0.15384615384615385), 'save': (668, 0.056411418214771185, 0.08333333333333333), 'saved': (215, 0.056493360342111186, 0.14285714285714285), 'saving': (218, 0.05670567056705671, 0.0), 'savings': (228, 0.05603060306030603, 0.5), 'saw': (525, 0.05672316384180791, 0.04), 'say': (4157, 0.057216858959265364, 0.04433497536945813), 'saying': (1474, 0.05653467612726024, 0.06172839506172839), 'says': (1385, 0.05647916192211341, 0.06779661016949153), 'scale': (202, 0.05653153153153153, 0.1), 'scam': (156, 0.05666741623566449, 0.0), 'scandal': (176, 0.056081081081081084, 0.3), 'scary': (177, 0.056795131845841784, 0.0), 'scenario': (134, 0.05671843349088454, 0.0), 'scene': (114, 0.05669291338582677, 0.0), 'scheer': (120, 0.05669291338582677, 0.0), 'scheme': (137, 0.056731202161188654, 0.0), 'school': (1387, 0.056341240875912406, 0.07575757575757576), 'schools': (680, 0.05683876811594203, 0.029411764705882353), 'science': (571, 0.056471651231082, 0.08695652173913043), 'scientific': (224, 0.05656975433851701, 0.07692307692307693), 'scientists': (180, 0.05671843349088454, 0.0), 'score': (110, 0.056731202161188654, 0.0), 'screaming': (108, 0.05646794150731159, 0.2), 'screw': (107, 0.056641942009440324, 0.0), 'screwed': (114, 0.05648064806480648, 0.16666666666666666), 'sea': (222, 0.05687203791469194, 0.0), 'search': (225, 0.05660802886783942, 0.0625), 'season': (410, 0.05662079855628243, 0.058823529411764705), 'seat': (246, 0.05675675675675676, 0.0), 'seats': (177, 0.056544266726740254, 0.09090909090909091), 'seattle': (156, 0.05669291338582677, 0.0), 'second': (969, 0.05683109797681291, 0.0392156862745098), 'secret': (264, 0.056795131845841784, 0.0), 'secretary': (183, 0.05628095452498874, 0.25), 'section': (297, 0.056769542689795, 0.0), 'sector': (391, 0.056795131845841784, 0.0), 'secular': (106, 0.05670567056705671, 0.0), 'secure': (137, 0.05669291338582677, 0.0), 'security': (718, 0.05594563986409966, 0.14285714285714285), 'see': (5573, 0.056415139252558914, 0.060240963855421686), 'seeing': (403, 0.05668473351400181, 0.045454545454545456), 'seek': (218, 0.05656975433851701, 0.07692307692307693), 'seeking': (188, 0.05653153153153153, 0.1), 'seem': (1337, 0.05636695572797809, 0.07352941176470588), 'seemed': (147, 0.05668016194331984, 0.0), 'seems': (1900, 0.05634774609015639, 0.06862745098039216), 'seen': (1129, 0.05670690047825097, 0.05084745762711865), 'sees': (151, 0.05671843349088454, 0.0), 'self': (1177, 0.05593451568894952, 0.11538461538461539), 'sell': (632, 0.056471651231082, 0.08695652173913043), 'selling': (383, 0.05659526493799324, 0.06666666666666667), 'sen': (116, 0.05665467625899281, 0.0), 'senate': (530, 0.05629663124576079, 0.1111111111111111), 'senator': (345, 0.0563570784490532, 0.14285714285714285), 'senators': (204, 0.056293627561360055, 0.2222222222222222), 'send': (482, 0.05633484162895928, 0.1), 'sending': (158, 0.0565060783430887, 0.125), 'senior': (187, 0.05674397658185094, 0.0), 'seniors': (100, 0.05648064806480648, 0.16666666666666666), 'sense': (1228, 0.05611313868613139, 0.09090909090909091), 'sensible': (103, 0.05670567056705671, 0.0), 'sent': (329, 0.05598194130925508, 0.2), 'sentence': (342, 0.056910569105691054, 0.0), 'separate': (196, 0.0565060783430887, 0.125), 'series': (213, 0.056557007661108605, 0.08333333333333333), 'serious': (680, 0.05687740765918876, 0.02702702702702703), 'seriously': (647, 0.056535504296698326, 0.07142857142857142), 'serve': (398, 0.05664635522455427, 0.05263157894736842), 'served': (272, 0.056731202161188654, 0.0), 'serves': (127, 0.05665467625899281, 0.0), 'service': (916, 0.05629965947786606, 0.08888888888888889), 'services': (648, 0.056411418214771185, 0.08333333333333333), 'serving': (262, 0.05653153153153153, 0.1), 'session': (137, 0.056557007661108605, 0.08333333333333333), 'sessions': (193, 0.056731202161188654, 0.0), 'set': (867, 0.05732484076433121, 0.0), 'setting': (189, 0.05675675675675676, 0.0), 'settled': (100, 0.056493360342111186, 0.14285714285714285), 'settlement': (118, 0.05646794150731159, 0.2), 'seven': (159, 0.05668016194331984, 0.0), 'several': (739, 0.056373103916685534, 0.09090909090909091), 'severe': (112, 0.05668016194331984, 0.0), 'sex': (556, 0.056800181036433584, 0.03225806451612903), 'sexist': (110, 0.05670567056705671, 0.0), 'sexual': (563, 0.05608322026232474, 0.14285714285714285), 'shall': (242, 0.056557007661108605, 0.08333333333333333), 'shame': (397, 0.056471651231082, 0.08695652173913043), 'shape': (107, 0.05670567056705671, 0.0), 'share': (679, 0.05665080444142307, 0.05405405405405406), 'shared': (151, 0.056769542689795, 0.0), 'shares': (125, 0.05669291338582677, 0.0), 'sharing': (173, 0.056731202161188654, 0.0), 'she': (3420, 0.05742296918767507, 0.03614457831325301), 'sheep': (124, 0.05653153153153153, 0.1), 'shelter': (117, 0.05670567056705671, 0.0), 'shift': (113, 0.05670567056705671, 0.0), 'ship': (165, 0.056769542689795, 0.0), 'shocked': (125, 0.05675675675675676, 0.0), 'shoot': (268, 0.05658250676284941, 0.07142857142857142), 'shooter': (111, 0.056544266726740254, 0.09090909090909091), 'shooting': (327, 0.05656975433851701, 0.07692307692307693), 'shop': (155, 0.05670567056705671, 0.0), 'short': (710, 0.05693628558517849, 0.0), 'shot': (483, 0.056962025316455694, 0.0), 'should': (7878, 0.05621011291114384, 0.061170212765957445), 'shouldn': (526, 0.056851642129105324, 0.02857142857142857), 'show': (1446, 0.056815578465063, 0.047058823529411764), 'showed': (255, 0.056833558863328824, 0.0), 'showing': (323, 0.05658250676284941, 0.07142857142857142), 'shown': (289, 0.05634437683119225, 0.15384615384615385), 'shows': (648, 0.05656108597285068, 0.06666666666666667), 'shut': (407, 0.05664635522455427, 0.05263157894736842), 'sick': (378, 0.05688487584650113, 0.0), 'side': (1056, 0.05701254275940707, 0.03076923076923077), 'sides': (377, 0.05658250676284941, 0.07142857142857142), 'sight': (101, 0.05669291338582677, 0.0), 'sign': (443, 0.056659142212189616, 0.05), 'signed': (214, 0.05685920577617329, 0.0), 'significant': (373, 0.05668473351400181, 0.045454545454545456), 'significantly': (147, 0.0565060783430887, 0.125), 'signs': (211, 0.056782334384858045, 0.0), 'silence': (117, 0.05665467625899281, 0.0), 'silent': (132, 0.0562429696287964, 0.4), 'silly': (298, 0.05659526493799324, 0.06666666666666667), 'similar': (566, 0.056360344047080124, 0.09375), 'simple': (736, 0.056411418214771185, 0.08333333333333333), 'simply': (1510, 0.05577142857142857, 0.10666666666666667), 'sin': (190, 0.05668016194331984, 0.0), 'since': (2612, 0.056432884347422205, 0.0625), 'single': (847, 0.056954844565464034, 0.023255813953488372), 'sir': (140, 0.05651880207160549, 0.1111111111111111), 'sister': (121, 0.05666741623566449, 0.0), 'sit': (327, 0.056782334384858045, 0.0), 'site': (458, 0.056962025316455694, 0.0), 'sites': (194, 0.05648064806480648, 0.16666666666666666), 'sitting': (304, 0.05687203791469194, 0.0), 'situation': (780, 0.05623582766439909, 0.1), 'situations': (169, 0.05670567056705671, 0.0), 'six': (277, 0.05633168093735917, 0.16666666666666666), 'size': (302, 0.05687203791469194, 0.0), 'skills': (277, 0.05684637942702459, 0.0), 'skin': (212, 0.05651880207160549, 0.1111111111111111), 'sky': (148, 0.05666741623566449, 0.0), 'slavery': (174, 0.056544266726740254, 0.09090909090909091), 'slaves': (112, 0.05668016194331984, 0.0), 'sleep': (135, 0.05668016194331984, 0.0), 'slope': (124, 0.05668016194331984, 0.0), 'slow': (275, 0.05653153153153153, 0.1), 'slowly': (123, 0.05671843349088454, 0.0), 'small': (1246, 0.05662952012735956, 0.05660377358490566), 'smaller': (208, 0.05674397658185094, 0.0), 'smart': (463, 0.05642067253441661, 0.10526315789473684), 'smarter': (101, 0.05671843349088454, 0.0), 'smell': (106, 0.05668016194331984, 0.0), 'smith': (100, 0.05645524066576698, 0.25), 'smoke': (252, 0.05675675675675676, 0.0), 'smoking': (169, 0.056293627561360055, 0.2222222222222222), 'snow': (145, 0.05670567056705671, 0.0), 'so': (13896, 0.058342133051742344, 0.04682779456193353), 'social': (1138, 0.05730593607305936, 0.014285714285714285), 'socialism': (125, 0.05665467625899281, 0.0), 'socialist': (240, 0.05674397658185094, 0.0), 'society': (1005, 0.05696777122106219, 0.022727272727272728), 'solar': (197, 0.056731202161188654, 0.0), 'sold': (377, 0.056458897922312554, 0.09090909090909091), 'soldier': (117, 0.05669291338582677, 0.0), 'soldiers': (193, 0.05674397658185094, 0.0), 'solely': (105, 0.05666741623566449, 0.0), 'solid': (166, 0.05653153153153153, 0.1), 'solution': (541, 0.055907650520597554, 0.15625), 'solutions': (171, 0.056731202161188654, 0.0), 'solve': (209, 0.05656975433851701, 0.07692307692307693), 'solved': (116, 0.05674397658185094, 0.0), 'some': (6794, 0.05912659470068695, 0.029411764705882353), 'somebody': (287, 0.05684637942702459, 0.0), 'somehow': (410, 0.056633574007220217, 0.05555555555555555), 'someone': (2555, 0.0564906617477519, 0.061946902654867256), 'something': (2811, 0.057096247960848286, 0.0440251572327044), 'sometimes': (449, 0.056897719575524947, 0.0), 'somewhat': (163, 0.05671843349088454, 0.0), 'somewhere': (342, 0.05633168093735917, 0.16666666666666666), 'son': (381, 0.05650994575045208, 0.07692307692307693), 'soon': (739, 0.056360344047080124, 0.09375), 'sooner': (120, 0.05666741623566449, 0.0), 'sorry': (975, 0.056261343012704176, 0.09523809523809523), 'sort': (538, 0.05650994575045208, 0.07692307692307693), 'sorts': (119, 0.05668016194331984, 0.0), 'soul': (162, 0.05671843349088454, 0.0), 'sound': (498, 0.056697537836006326, 0.043478260869565216), 'sounds': (794, 0.05683876811594203, 0.029411764705882353), 'source': (578, 0.0570006785795069, 0.0), 'sources': (346, 0.056795131845841784, 0.0), 'south': (710, 0.05666364460562103, 0.05263157894736842), 'southern': (150, 0.056493360342111186, 0.14285714285714285), 'space': (386, 0.056220365771054416, 0.14285714285714285), 'speak': (710, 0.0568645219755324, 0.027777777777777776), 'speaker': (103, 0.056641942009440324, 0.0), 'speaking': (433, 0.05652272213429799, 0.07407407407407407), 'speaks': (175, 0.05653153153153153, 0.1), 'special': (593, 0.05705229793977813, 0.0), 'species': (129, 0.05665467625899281, 0.0), 'specific': (342, 0.05668473351400181, 0.045454545454545456), 'specifically': (245, 0.056807935076645624, 0.0), 'speculation': (105, 0.05671843349088454, 0.0), 'speech': (690, 0.05661231884057971, 0.058823529411764705), 'speed': (213, 0.05675675675675676, 0.0), 'spend': (786, 0.05659090909090909, 0.06), 'spending': (829, 0.05599637270460213, 0.1282051282051282), 'spent': (642, 0.0568130375735627, 0.03125), 'spin': (191, 0.056769542689795, 0.0), 'spirit': (209, 0.05671843349088454, 0.0), 'spiritual': (120, 0.05665467625899281, 0.0), 'spite': (108, 0.05668016194331984, 0.0), 'split': (103, 0.05671843349088454, 0.0), 'spoke': (152, 0.05668016194331984, 0.0), 'spoken': (146, 0.056731202161188654, 0.0), 'sport': (143, 0.05670567056705671, 0.0), 'sports': (258, 0.056769542689795, 0.0), 'spot': (251, 0.056659142212189616, 0.05), 'spread': (219, 0.056769542689795, 0.0), 'spring': (101, 0.05666741623566449, 0.0), 'square': (137, 0.056493360342111186, 0.14285714285714285), 'st': (257, 0.056633574007220217, 0.05555555555555555), 'staff': (448, 0.05652272213429799, 0.07407407407407407), 'stage': (155, 0.05669291338582677, 0.0), 'stance': (125, 0.05666741623566449, 0.0), 'stand': (835, 0.05676657584014532, 0.043478260869565216), 'standard': (405, 0.056897719575524947, 0.0), 'standards': (305, 0.05633168093735917, 0.16666666666666666), 'standing': (373, 0.05682074408117249, 0.0), 'stands': (226, 0.05633168093735917, 0.16666666666666666), 'star': (248, 0.05599458116956423, 0.19047619047619047), 'start': (1504, 0.05653467612726024, 0.06172839506172839), 'started': (710, 0.0568645219755324, 0.027777777777777776), 'starting': (404, 0.056633574007220217, 0.05555555555555555), 'starts': (224, 0.05659526493799324, 0.06666666666666667), 'state': (3916, 0.05634134842055634, 0.0625), 'stated': (473, 0.05694915254237288, 0.0), 'statement': (775, 0.05576966674223532, 0.15384615384615385), 'statements': (359, 0.056659142212189616, 0.05), 'states': (1466, 0.056254287674365425, 0.07792207792207792), 'stating': (143, 0.05648064806480648, 0.16666666666666666), 'station': (138, 0.05671843349088454, 0.0), 'statistics': (173, 0.05675675675675676, 0.0), 'stats': (135, 0.05669291338582677, 0.0), 'status': (439, 0.05650994575045208, 0.07692307692307693), 'stay': (774, 0.05663797009515179, 0.05555555555555555), 'staying': (104, 0.05668016194331984, 0.0), 'steal': (165, 0.056731202161188654, 0.0), 'stealing': (138, 0.056731202161188654, 0.0), 'step': (511, 0.05673598553345389, 0.038461538461538464), 'stephen': (149, 0.0565060783430887, 0.125), 'steps': (118, 0.05668016194331984, 0.0), 'steve': (147, 0.05671843349088454, 0.0), 'stick': (302, 0.05682074408117249, 0.0), 'still': (3630, 0.05703599812996728, 0.046511627906976744), 'stock': (355, 0.05662079855628243, 0.058823529411764705), 'stocks': (128, 0.05628095452498874, 0.25), 'stolen': (166, 0.056769542689795, 0.0), 'stood': (149, 0.05651880207160549, 0.1111111111111111), 'stop': (1965, 0.05667737494263424, 0.05434782608695652), 'stopped': (316, 0.056659142212189616, 0.05), 'stopping': (125, 0.05669291338582677, 0.0), 'stops': (108, 0.056731202161188654, 0.0), 'store': (260, 0.05674397658185094, 0.0), 'stores': (164, 0.056544266726740254, 0.09090909090909091), 'stories': (446, 0.05694915254237288, 0.0), 'story': (1523, 0.056672760511883, 0.05405405405405406), 'straight': (327, 0.056807935076645624, 0.0), 'strange': (163, 0.05675675675675676, 0.0), 'strategy': (249, 0.056557007661108605, 0.08333333333333333), 'stream': (116, 0.056493360342111186, 0.14285714285714285), 'street': (593, 0.05650994575045208, 0.07692307692307693), 'streets': (296, 0.05684637942702459, 0.0), 'strength': (141, 0.05674397658185094, 0.0), 'stretch': (107, 0.05666741623566449, 0.0), 'strike': (142, 0.05651880207160549, 0.1111111111111111), 'strikes': (103, 0.05675675675675676, 0.0), 'strong': (550, 0.05694915254237288, 0.0), 'strongly': (121, 0.05669291338582677, 0.0), 'structure': (151, 0.05631899076368552, 0.18181818181818182), 'struggling': (110, 0.05668016194331984, 0.0), 'stuck': (219, 0.05674397658185094, 0.0), 'student': (306, 0.05662079855628243, 0.058823529411764705), 'students': (552, 0.0568258999320806, 0.030303030303030304), 'studies': (274, 0.05656975433851701, 0.07692307692307693), 'study': (456, 0.05671034794396747, 0.041666666666666664), 'stuff': (728, 0.0568130375735627, 0.03125), 'stupid': (844, 0.05646258503401361, 0.075), 'stupidity': (195, 0.05668016194331984, 0.0), 'style': (283, 0.056544266726740254, 0.09090909090909091), 'subject': (544, 0.05673598553345389, 0.038461538461538464), 'subsidies': (199, 0.0565060783430887, 0.125), 'subsidized': (125, 0.05669291338582677, 0.0), 'substance': (175, 0.05668016194331984, 0.0), 'succeed': (112, 0.05669291338582677, 0.0), 'success': (279, 0.05664635522455427, 0.05263157894736842), 'successful': (360, 0.056897719575524947, 0.0), 'such': (2994, 0.05552973977695167, 0.08904109589041095), 'suck': (121, 0.056769542689795, 0.0), 'suddenly': (171, 0.056731202161188654, 0.0), 'sue': (146, 0.05671843349088454, 0.0), 'suffer': (241, 0.05633168093735917, 0.16666666666666666), 'suffered': (110, 0.05675675675675676, 0.0), 'suffering': (229, 0.05674397658185094, 0.0), 'sufficient': (102, 0.05666741623566449, 0.0), 'suggest': (549, 0.05687740765918876, 0.02702702702702703), 'suggested': (155, 0.05674397658185094, 0.0), 'suggesting': (199, 0.056731202161188654, 0.0), 'suggestion': (125, 0.05648064806480648, 0.16666666666666666), 'suggests': (156, 0.056293627561360055, 0.2222222222222222), 'suicide': (180, 0.05633168093735917, 0.16666666666666666), 'suit': (192, 0.056795131845841784, 0.0), 'sullivan': (119, 0.056641942009440324, 0.0), 'summer': (213, 0.05674397658185094, 0.0), 'sun': (192, 0.05660802886783942, 0.0625), 'sunday': (129, 0.05669291338582677, 0.0), 'super': (245, 0.05660802886783942, 0.0625), 'superior': (150, 0.056544266726740254, 0.09090909090909091), 'supply': (307, 0.05636978579481398, 0.13333333333333333), 'support': (2289, 0.05622119815668203, 0.07272727272727272), 'supported': (350, 0.056833558863328824, 0.0), 'supporter': (189, 0.056807935076645624, 0.0), 'supporters': (583, 0.05608322026232474, 0.14285714285714285), 'supporting': (376, 0.05620767494356659, 0.15), 'supports': (225, 0.05615696887686062, 0.1875), 'suppose': (279, 0.056407942238267145, 0.1111111111111111), 'supposed': (524, 0.05698778833107191, 0.0), 'supposedly': (137, 0.056782334384858045, 0.0), 'supremacist': (126, 0.056544266726740254, 0.09090909090909091), 'supremacists': (130, 0.056782334384858045, 0.0), 'supreme': (416, 0.05623306233062331, 0.13636363636363635), 'sure': (2781, 0.05649848872355266, 0.06040268456375839), 'surely': (319, 0.056795131845841784, 0.0), 'surface': (107, 0.05674397658185094, 0.0), 'surplus': (103, 0.05666741623566449, 0.0), 'surprise': (292, 0.05684637942702459, 0.0), 'surprised': (406, 0.05687203791469194, 0.0), 'surprising': (133, 0.05670567056705671, 0.0), 'survey': (107, 0.05666741623566449, 0.0), 'survive': (183, 0.056731202161188654, 0.0), 'suspect': (480, 0.056795131845841784, 0.0), 'sustainable': (110, 0.05668016194331984, 0.0), 'swamp': (173, 0.056557007661108605, 0.08333333333333333), 'sweet': (103, 0.05669291338582677, 0.0), 'switch': (106, 0.05669291338582677, 0.0), 'sympathy': (104, 0.056641942009440324, 0.0), 'syria': (269, 0.05658250676284941, 0.07142857142857142), 'syrian': (127, 0.05651880207160549, 0.1111111111111111), 'system': (2119, 0.05718879191548002, 0.03125), 'systems': (271, 0.05659526493799324, 0.06666666666666667), 'table': (237, 0.056544266726740254, 0.09090909090909091), 'tactics': (132, 0.056731202161188654, 0.0), 'take': (4012, 0.05688763516690174, 0.05102040816326531), 'taken': (857, 0.056993642143505906, 0.021739130434782608), 'takes': (732, 0.05657388549445576, 0.06451612903225806), 'taking': (1173, 0.05708437571071185, 0.018867924528301886), 'talent': (155, 0.056731202161188654, 0.0), 'talk': (969, 0.05664240218380346, 0.05555555555555555), 'talked': (131, 0.05666741623566449, 0.0), 'talking': (1064, 0.05662952012735956, 0.05660377358490566), 'talks': (151, 0.05658250676284941, 0.07142857142857142), 'target': (244, 0.056557007661108605, 0.08333333333333333), 'task': (106, 0.05646794150731159, 0.2), 'taught': (265, 0.056833558863328824, 0.0), 'tax': (3172, 0.05663015614075973, 0.05660377358490566), 'taxation': (152, 0.05665467625899281, 0.0), 'taxed': (159, 0.05651880207160549, 0.1111111111111111), 'taxes': (1663, 0.05694031557283329, 0.03896103896103896), 'taxpayer': (382, 0.05595667870036101, 0.2222222222222222), 'taxpayers': (550, 0.05628390596745027, 0.11538461538461539), 'tea': (104, 0.05669291338582677, 0.0), 'teach': (277, 0.056833558863328824, 0.0), 'teacher': (254, 0.056659142212189616, 0.05), 'teachers': (357, 0.05639521768554027, 0.11764705882352941), 'teaching': (378, 0.056697537836006326, 0.043478260869565216), 'teachings': (135, 0.056731202161188654, 0.0), 'team': (813, 0.05643699002719855, 0.07894736842105263), 'teams': (216, 0.05671843349088454, 0.0), 'tech': (189, 0.05646794150731159, 0.2), 'technology': (316, 0.056019878021233344, 0.17391304347826086), 'tell': (1582, 0.05718879191548002, 0.03125), 'telling': (481, 0.05648441030275644, 0.08333333333333333), 'tells': (223, 0.05670567056705671, 0.0), 'temporary': (121, 0.05671843349088454, 0.0), 'ten': (272, 0.056769542689795, 0.0), 'tend': (243, 0.056807935076645624, 0.0), 'tens': (131, 0.05670567056705671, 0.0), 'term': (1031, 0.056414922656960874, 0.07407407407407407), 'terms': (453, 0.05628390596745027, 0.11538461538461539), 'terrible': (300, 0.056833558863328824, 0.0), 'terror': (121, 0.05648064806480648, 0.16666666666666666), 'terrorism': (210, 0.056081081081081084, 0.3), 'terrorist': (398, 0.0563570784490532, 0.14285714285714285), 'terrorists': (244, 0.05653153153153153, 0.1), 'test': (308, 0.05659526493799324, 0.06666666666666667), 'testing': (108, 0.05666741623566449, 0.0), 'texas': (213, 0.056081081081081084, 0.3), 'text': (100, 0.05666741623566449, 0.0), 'than': (7778, 0.056327724945135334, 0.06017191977077364), 'thank': (1228, 0.05656519763743753, 0.0625), 'thanks': (1209, 0.05714936247723133, 0.017241379310344827), 'that': (38518, 0.049268668206312545, 0.06695464362850972), 'thats': (157, 0.05671843349088454, 0.0), 'the': (65700, 0.05583333333333333, 0.05692307692307692), 'theft': (132, 0.056731202161188654, 0.0), 'their': (13034, 0.05631940772078266, 0.058383233532934134), 'theirs': (103, 0.05671843349088454, 0.0), 'them': (7966, 0.05675675675675676, 0.05526315789473684), 'themselves': (1438, 0.056543547651618786, 0.0625), 'then': (6157, 0.05771096023278371, 0.04294478527607362), 'theory': (217, 0.05660802886783942, 0.0625), 'there': (11871, 0.056338028169014086, 0.05844155844155844), 'therefore': (400, 0.05627118644067797, 0.12), 'these': (5702, 0.05660377358490566, 0.057034220532319393), 'they': (19353, 0.058522727272727275, 0.04946236559139785), 'thin': (144, 0.05666741623566449, 0.0), 'thing': (2853, 0.05714946783896344, 0.0390625), 'things': (2560, 0.056223970384081445, 0.0703125), 'think': (6604, 0.056269706524375455, 0.06116207951070336), 'thinking': (957, 0.05629965947786606, 0.08888888888888889), 'thinks': (480, 0.056535504296698326, 0.07142857142857142), 'third': (473, 0.05658250676284941, 0.07142857142857142), 'this': (21829, 0.05097806757557795, 0.07434944237918216), 'thomas': (156, 0.056493360342111186, 0.14285714285714285), 'those': (6363, 0.054979503255365325, 0.07920792079207921), 'though': (1400, 0.056074766355140186, 0.09523809523809523), 'thought': (1592, 0.056444241316270564, 0.06756756756756757), 'thoughts': (220, 0.056557007661108605, 0.08333333333333333), 'thousand': (182, 0.05671843349088454, 0.0), 'thousands': (583, 0.05629663124576079, 0.1111111111111111), 'thread': (161, 0.056769542689795, 0.0), 'threat': (392, 0.05639521768554027, 0.11764705882352941), 'threatened': (158, 0.05670567056705671, 0.0), 'threatening': (148, 0.056782334384858045, 0.0), 'threats': (165, 0.05682074408117249, 0.0), 'three': (1013, 0.05671506352087114, 0.047619047619047616), 'through': (2140, 0.05574752361207095, 0.09174311926605505), 'throughout': (226, 0.05666741623566449, 0.0), 'throw': (397, 0.05694915254237288, 0.0), 'throwing': (189, 0.056544266726740254, 0.09090909090909091), 'thrown': (156, 0.05648064806480648, 0.16666666666666666), 'thru': (125, 0.05669291338582677, 0.0), 'thugs': (102, 0.05671843349088454, 0.0), 'thus': (406, 0.05685920577617329, 0.0), 'ticket': (193, 0.056731202161188654, 0.0), 'tickets': (105, 0.05670567056705671, 0.0), 'tied': (114, 0.05666741623566449, 0.0), 'ties': (133, 0.05668016194331984, 0.0), 'till': (103, 0.05666741623566449, 0.0), 'time': (7037, 0.05727516451377041, 0.04899135446685879), 'times': (1554, 0.056422018348623856, 0.06666666666666667), 'tiny': (166, 0.056493360342111186, 0.14285714285714285), 'tired': (309, 0.05658250676284941, 0.07142857142857142), 'title': (194, 0.05671843349088454, 0.0), 'to': (53751, 0.054871220604703244, 0.05780780780780781), 'today': (1539, 0.056815578465063, 0.047058823529411764), 'together': (641, 0.05633484162895928, 0.1), 'told': (926, 0.05653950953678474, 0.06521739130434782), 'tolerance': (104, 0.05646794150731159, 0.2), 'tom': (104, 0.05675675675675676, 0.0), 'tomorrow': (142, 0.05671843349088454, 0.0), 'tone': (141, 0.056493360342111186, 0.14285714285714285), 'too': (4353, 0.056608242539081005, 0.05701754385964912), 'took': (952, 0.05719473445301861, 0.0), 'tool': (152, 0.05670567056705671, 0.0), 'tools': (105, 0.056731202161188654, 0.0), 'top': (896, 0.05722070844686648, 0.0), 'topic': (351, 0.056557007661108605, 0.08333333333333333), 'toronto': (507, 0.05692342444093065, 0.0), 'torture': (100, 0.05674397658185094, 0.0), 'total': (609, 0.05674881302283518, 0.037037037037037035), 'totally': (541, 0.05693628558517849, 0.0), 'touch': (236, 0.05669291338582677, 0.0), 'tough': (329, 0.05692342444093065, 0.0), 'tourists': (121, 0.05670567056705671, 0.0), 'toward': (296, 0.05660802886783942, 0.0625), 'towards': (422, 0.05688487584650113, 0.0), 'town': (501, 0.05644615037254459, 0.09523809523809523), 'toxic': (152, 0.05651880207160549, 0.1111111111111111), 'track': (278, 0.056293627561360055, 0.2222222222222222), 'trade': (684, 0.05694915254237288, 0.0), 'trading': (125, 0.056493360342111186, 0.14285714285714285), 'tradition': (127, 0.05628095452498874, 0.25), 'traditional': (187, 0.05631899076368552, 0.18181818181818182), 'traffic': (395, 0.05660802886783942, 0.0625), 'tragedy': (144, 0.056731202161188654, 0.0), 'trail': (139, 0.05674397658185094, 0.0), 'train': (278, 0.05675675675675676, 0.0), 'trained': (161, 0.056769542689795, 0.0), 'training': (302, 0.056782334384858045, 0.0), 'traitor': (107, 0.0562429696287964, 0.4), 'transfer': (146, 0.05653153153153153, 0.1), 'transit': (187, 0.05670567056705671, 0.0), 'transparency': (106, 0.05671843349088454, 0.0), 'transportation': (192, 0.056795131845841784, 0.0), 'trash': (214, 0.056493360342111186, 0.14285714285714285), 'travel': (368, 0.056697537836006326, 0.043478260869565216), 'treason': (131, 0.0565060783430887, 0.125), 'treat': (222, 0.05659526493799324, 0.06666666666666667), 'treated': (301, 0.056557007661108605, 0.08333333333333333), 'treatment': (388, 0.056433408577878104, 0.1), 'tree': (153, 0.05646794150731159, 0.2), 'trees': (138, 0.056731202161188654, 0.0), 'trend': (106, 0.05670567056705671, 0.0), 'trial': (218, 0.05656975433851701, 0.07692307692307693), 'tried': (568, 0.05643699002719855, 0.07894736842105263), 'tries': (120, 0.05665467625899281, 0.0), 'trillion': (140, 0.05642985611510792, 0.5), 'trip': (219, 0.056769542689795, 0.0), 'troll': (198, 0.056807935076645624, 0.0), 'trolls': (133, 0.05671843349088454, 0.0), 'troops': (136, 0.05668016194331984, 0.0), 'trouble': (379, 0.05667193497403477, 0.047619047619047616), 'truck': (171, 0.05674397658185094, 0.0), 'trucks': (103, 0.05669291338582677, 0.0), 'trudeau': (1534, 0.056025611708209466, 0.09090909090909091), 'true': (1746, 0.05636695572797809, 0.07352941176470588), 'truly': (660, 0.0557443915703603, 0.16216216216216217), 'trump': (8252, 0.0551605785731797, 0.07277628032345014), 'trumps': (285, 0.056557007661108605, 0.08333333333333333), 'trust': (583, 0.05632209907260801, 0.10344827586206896), 'trusted': (103, 0.05668016194331984, 0.0), 'truth': (1194, 0.05685694791903571, 0.03773584905660377), 'try': (1676, 0.056025611708209466, 0.09090909090909091), 'trying': (1709, 0.05722133211261158, 0.024691358024691357), 'turn': (803, 0.056993642143505906, 0.021739130434782608), 'turned': (393, 0.056633574007220217, 0.05555555555555555), 'turning': (230, 0.056769542689795, 0.0), 'turns': (181, 0.0565060783430887, 0.125), 'tv': (444, 0.056407942238267145, 0.1111111111111111), 'tweet': (117, 0.05669291338582677, 0.0), 'tweets': (129, 0.056782334384858045, 0.0), 'twice': (286, 0.05659526493799324, 0.06666666666666667), 'twitter': (183, 0.05670567056705671, 0.0), 'two': (2831, 0.056651961922451824, 0.055944055944055944), 'type': (533, 0.05673598553345389, 0.038461538461538464), 'types': (266, 0.05639521768554027, 0.11764705882352941), 'typical': (337, 0.056833558863328824, 0.0), 'typically': (139, 0.05668016194331984, 0.0), 'ugly': (169, 0.05671843349088454, 0.0), 'uh': (210, 0.056544266726740254, 0.09090909090909091), 'uk': (193, 0.05671843349088454, 0.0), 'ukraine': (108, 0.056731202161188654, 0.0), 'ultimately': (176, 0.05651880207160549, 0.1111111111111111), 'um': (112, 0.05653153153153153, 0.1), 'un': (392, 0.05658250676284941, 0.07142857142857142), 'unable': (210, 0.05630630630630631, 0.2), 'uncivil': (130, 0.05669291338582677, 0.0), 'uncle': (102, 0.05653153153153153, 0.1), 'under': (2317, 0.05660813308687616, 0.05737704918032787), 'understand': (1707, 0.0568882796435915, 0.0410958904109589), 'understanding': (436, 0.05642067253441661, 0.10526315789473684), 'understood': (159, 0.05670567056705671, 0.0), 'unemployment': (164, 0.05674397658185094, 0.0), 'unfair': (157, 0.05626828719333783, 0.2857142857142857), 'unfortunate': (157, 0.0565060783430887, 0.125), 'unfortunately': (548, 0.05608322026232474, 0.14285714285714285), 'union': (519, 0.05607054035722361, 0.14814814814814814), 'unions': (270, 0.05636978579481398, 0.13333333333333333), 'unique': (127, 0.056544266726740254, 0.09090909090909091), 'united': (747, 0.05648820326678766, 0.07142857142857142), 'units': (115, 0.05646794150731159, 0.2), 'universal': (141, 0.05653153153153153, 0.1), 'universe': (106, 0.056731202161188654, 0.0), 'universities': (185, 0.056769542689795, 0.0), 'university': (508, 0.056851642129105324, 0.02857142857142857), 'unless': (917, 0.05649202733485194, 0.06666666666666667), 'unlike': (290, 0.056769542689795, 0.0), 'unlikely': (153, 0.05648064806480648, 0.16666666666666666), 'unnecessary': (136, 0.05666741623566449, 0.0), 'until': (1820, 0.05631868131868132, 0.07317073170731707), 'up': (9350, 0.057840937422089254, 0.04555808656036447), 'upon': (577, 0.05608537693006358, 0.10869565217391304), 'upper': (107, 0.05669291338582677, 0.0), 'upset': (201, 0.05634437683119225, 0.15384615384615385), 'urban': (195, 0.05651880207160549, 0.1111111111111111), 'us': (6753, 0.056430128360377814, 0.059190031152647975), 'usa': (740, 0.057091073855913006, 0.0), 'use': (2685, 0.055710306406685235, 0.08450704225352113), 'used': (1996, 0.05622119815668203, 0.07272727272727272), 'useful': (192, 0.056795131845841784, 0.0), 'useless': (184, 0.05653153153153153, 0.1), 'user': (105, 0.05670567056705671, 0.0), 'users': (140, 0.0562429696287964, 0.4), 'uses': (260, 0.05658250676284941, 0.07142857142857142), 'using': (1297, 0.05716237759052607, 0.01694915254237288), 'usual': (384, 0.056833558863328824, 0.0), 'usually': (482, 0.05667193497403477, 0.047619047619047616), 'utter': (123, 0.05669291338582677, 0.0), 'utterly': (103, 0.056731202161188654, 0.0), 'va': (100, 0.05645524066576698, 0.25), 'vacation': (167, 0.05670567056705671, 0.0), 'valid': (197, 0.056731202161188654, 0.0), 'valley': (140, 0.05668016194331984, 0.0), 'valuable': (111, 0.05648064806480648, 0.16666666666666666), 'value': (649, 0.056910569105691054, 0.0), 'values': (474, 0.05671034794396747, 0.041666666666666664), 'vancouver': (354, 0.05664635522455427, 0.05263157894736842), 'variety': (103, 0.0565060783430887, 0.125), 'various': (327, 0.056833558863328824, 0.0), 'vast': (253, 0.05615696887686062, 0.1875), 'vatican': (210, 0.05674397658185094, 0.0), 've': (2618, 0.056390108620291195, 0.06504065040650407), 'vehicle': (291, 0.056544266726740254, 0.09090909090909091), 'vehicles': (241, 0.05675675675675676, 0.0), 'version': (264, 0.056407942238267145, 0.1111111111111111), 'versus': (140, 0.056769542689795, 0.0), 'very': (4709, 0.05668398677373642, 0.05555555555555555), 'veterans': (142, 0.05666741623566449, 0.0), 'via': (251, 0.056782334384858045, 0.0), 'viable': (135, 0.056293627561360055, 0.2222222222222222), 'victim': (368, 0.05684637942702459, 0.0), 'victims': (416, 0.05607054035722361, 0.14814814814814814), 'victory': (148, 0.05651880207160549, 0.1111111111111111), 'video': (347, 0.056833558863328824, 0.0), 'vietnam': (146, 0.056731202161188654, 0.0), 'view': (740, 0.057039384336803986, 0.0), 'views': (417, 0.05668473351400181, 0.045454545454545456), 'village': (103, 0.05670567056705671, 0.0), 'violated': (100, 0.05666741623566449, 0.0), 'violation': (135, 0.05674397658185094, 0.0), 'violence': (639, 0.056974903911372374, 0.0), 'violent': (324, 0.05675675675675676, 0.0), 'virtually': (185, 0.05670567056705671, 0.0), 'virtue': (121, 0.05670567056705671, 0.0), 'vision': (165, 0.056557007661108605, 0.08333333333333333), 'visit': (269, 0.056807935076645624, 0.0), 'voice': (219, 0.056731202161188654, 0.0), 'vote': (2003, 0.05634448007329363, 0.07142857142857142), 'voted': (888, 0.05634758995247793, 0.0967741935483871), 'voter': (340, 0.05590622182146077, 0.2857142857142857), 'voters': (871, 0.05618486633439058, 0.1111111111111111), 'votes': (593, 0.05625847266154541, 0.125), 'voting': (648, 0.05624576462615767, 0.13043478260869565), 'vs': (304, 0.05664635522455427, 0.05263157894736842), 'vulnerable': (140, 0.05666741623566449, 0.0), 'wage': (350, 0.05658250676284941, 0.07142857142857142), 'wages': (273, 0.056782334384858045, 0.0), 'wait': (867, 0.05648820326678766, 0.07142857142857142), 'waiting': (396, 0.056833558863328824, 0.0), 'wake': (217, 0.056795131845841784, 0.0), 'walk': (379, 0.056974903911372374, 0.0), 'walked': (125, 0.05674397658185094, 0.0), 'walker': (277, 0.056807935076645624, 0.0), 'walking': (221, 0.05660802886783942, 0.0625), 'wall': (511, 0.056433408577878104, 0.1), 'want': (4647, 0.056514542445022464, 0.058823529411764705), 'wanted': (689, 0.056625141562853906, 0.05714285714285714), 'wanting': (226, 0.05639521768554027, 0.11764705882352941), 'wants': (1132, 0.05668934240362812, 0.05), 'war': (1414, 0.0566986739826246, 0.05263157894736842), 'warm': (133, 0.0565060783430887, 0.125), 'warming': (292, 0.056807935076645624, 0.0), 'warning': (111, 0.05669291338582677, 0.0), 'wars': (221, 0.05659526493799324, 0.06666666666666667), 'was': (14964, 0.05470459518599562, 0.0654911838790932), 'washington': (452, 0.056807935076645624, 0.0), 'wasn': (1044, 0.05696058327637275, 0.03278688524590164), 'waste': (539, 0.056433408577878104, 0.1), 'wasted': (165, 0.05670567056705671, 0.0), 'wasting': (140, 0.05674397658185094, 0.0), 'watch': (1000, 0.05677946854417443, 0.0425531914893617), 'watched': (184, 0.05653153153153153, 0.1), 'watching': (388, 0.05668473351400181, 0.045454545454545456), 'water': (782, 0.05690319655406937, 0.02564102564102564), 'waters': (110, 0.05671843349088454, 0.0), 'way': (5272, 0.056227758007117434, 0.06382978723404255), 'ways': (640, 0.05676164631388512, 0.03571428571428571), 'we': (13711, 0.057000262674021536, 0.05443234836702955), 'weak': (282, 0.056769542689795, 0.0), 'wealth': (406, 0.05687203791469194, 0.0), 'wealthy': (332, 0.05659526493799324, 0.06666666666666667), 'weapon': (180, 0.056731202161188654, 0.0), 'weapons': (353, 0.05642067253441661, 0.10526315789473684), 'wear': (222, 0.056544266726740254, 0.09090909090909091), 'wearing': (232, 0.056795131845841784, 0.0), 'weather': (224, 0.05674397658185094, 0.0), 'web': (118, 0.05670567056705671, 0.0), 'website': (232, 0.05611899932386748, 0.23076923076923078), 'weed': (119, 0.05670567056705671, 0.0), 'week': (757, 0.05671506352087114, 0.047619047619047616), 'weekend': (142, 0.05674397658185094, 0.0), 'weeks': (364, 0.05664635522455427, 0.05263157894736842), 'weight': (140, 0.05651880207160549, 0.1111111111111111), 'weird': (113, 0.05670567056705671, 0.0), 'welcome': (370, 0.056633574007220217, 0.05555555555555555), 'welfare': (433, 0.05668473351400181, 0.045454545454545456), 'well': (5397, 0.056837098692033294, 0.053061224489795916), 'went': (1045, 0.05621301775147929, 0.08928571428571429), 'were': (6653, 0.05704534373476353, 0.05172413793103448), 'weren': (305, 0.056807935076645624, 0.0), 'west': (484, 0.056897719575524947, 0.0), 'western': (423, 0.05668473351400181, 0.045454545454545456), 'what': (15423, 0.05772862152684111, 0.05114401076716016), 'whatever': (831, 0.05648820326678766, 0.07142857142857142), 'whatsoever': (138, 0.05671843349088454, 0.0), 'when': (9587, 0.05686965274282838, 0.0546218487394958), 'whenever': (139, 0.0565060783430887, 0.125), 'where': (4431, 0.05634469696969697, 0.061946902654867256), 'whereas': (114, 0.05671843349088454, 0.0), 'whether': (1073, 0.05657805044308112, 0.061224489795918366), 'which': (6000, 0.05747955747955748, 0.04452054794520548), 'while': (3077, 0.05710955710955711, 0.04375), 'whining': (164, 0.05653153153153153, 0.1), 'white': (1860, 0.05699123211813567, 0.04310344827586207), 'whites': (154, 0.05646794150731159, 0.2), 'who': (12907, 0.05686834588418593, 0.05509181969949917), 'whoever': (117, 0.05670567056705671, 0.0), 'whole': (1170, 0.05660377358490566, 0.058823529411764705), 'whom': (365, 0.056833558863328824, 0.0), 'whose': (429, 0.056633574007220217, 0.05555555555555555), 'why': (6382, 0.05642633228840126, 0.0594059405940594), 'wide': (240, 0.05634437683119225, 0.15384615384615385), 'wife': (498, 0.05683876811594203, 0.029411764705882353), 'wiki': (173, 0.05658250676284941, 0.07142857142857142), 'wikipedia': (210, 0.05633168093735917, 0.16666666666666666), 'wild': (190, 0.05675675675675676, 0.0), 'wildlife': (126, 0.056731202161188654, 0.0), 'will': (13201, 0.05374635954461213, 0.07280832095096583), 'willing': (592, 0.05668473351400181, 0.045454545454545456), 'win': (909, 0.05623861566484517, 0.08620689655172414), 'wind': (219, 0.05674397658185094, 0.0), 'wing': (592, 0.05698778833107191, 0.0), 'winner': (133, 0.05674397658185094, 0.0), 'winning': (325, 0.056833558863328824, 0.0), 'wins': (184, 0.056807935076645624, 0.0), 'winter': (198, 0.05674397658185094, 0.0), 'wisdom': (136, 0.05675675675675676, 0.0), 'wise': (199, 0.056493360342111186, 0.14285714285714285), 'wish': (663, 0.05694915254237288, 0.0), 'wishes': (148, 0.05648064806480648, 0.16666666666666666), 'with': (21631, 0.05851528384279476, 0.05024630541871921), 'within': (831, 0.05679236710586097, 0.041666666666666664), 'without': (2597, 0.05488929889298893, 0.12280701754385964), 'witness': (116, 0.05665467625899281, 0.0), 'woman': (827, 0.05642420122365738, 0.08108108108108109), 'women': (1741, 0.05624426078971533, 0.07446808510638298), 'won': (2129, 0.05662983425414365, 0.05660377358490566), 'wonder': (1179, 0.056758604969227265, 0.047619047619047616), 'wonderful': (288, 0.05671843349088454, 0.0), 'wondering': (178, 0.05675675675675676, 0.0), 'word': (903, 0.05685694791903571, 0.03773584905660377), 'words': (1085, 0.05627705627705628, 0.08196721311475409), 'work': (3272, 0.05732929387089256, 0.03773584905660377), 'worked': (707, 0.05638586956521739, 0.08823529411764706), 'worker': (161, 0.056557007661108605, 0.08333333333333333), 'workers': (668, 0.05701357466063348, 0.0), 'working': (1408, 0.05683633873544853, 0.043478260869565216), 'works': (700, 0.056411418214771185, 0.08333333333333333), 'world': (3273, 0.05660818713450293, 0.05714285714285714), 'worldwide': (105, 0.05668016194331984, 0.0), 'worried': (179, 0.056557007661108605, 0.08333333333333333), 'worry': (387, 0.05664635522455427, 0.05263157894736842), 'worse': (864, 0.055782312925170066, 0.15), 'worship': (104, 0.05668016194331984, 0.0), 'worst': (577, 0.05589499886852229, 0.16129032258064516), 'worth': (668, 0.05672316384180791, 0.04), 'worthless': (109, 0.05669291338582677, 0.0), 'worthy': (157, 0.05670567056705671, 0.0), 'would': (11803, 0.05551272166538165, 0.06440071556350627), 'wouldn': (1079, 0.05656519763743753, 0.0625), 'wow': (659, 0.0568130375735627, 0.03125), 'write': (590, 0.05698778833107191, 0.0), 'writer': (250, 0.056544266726740254, 0.09090909090909091), 'writers': (128, 0.05671843349088454, 0.0), 'writes': (150, 0.056769542689795, 0.0), 'writing': (382, 0.05659526493799324, 0.06666666666666667), 'written': (581, 0.05678733031674208, 0.03333333333333333), 'wrong': (2051, 0.05660377358490566, 0.057692307692307696), 'wrote': (422, 0.05639521768554027, 0.11764705882352941), 'wwii': (107, 0.05674397658185094, 0.0), 'www': (1770, 0.05593607305936073, 0.1), 'wynne': (259, 0.05670567056705671, 0.0), 'ya': (247, 0.05684637942702459, 0.0), 'yard': (130, 0.056493360342111186, 0.14285714285714285), 'yeah': (722, 0.05714285714285714, 0.0), 'year': (3101, 0.057594054807245706, 0.027777777777777776), 'years': (5395, 0.05655893536121673, 0.05785123966942149), 'yep': (184, 0.05671843349088454, 0.0), 'yes': (2604, 0.05599078341013825, 0.08181818181818182), 'yesterday': (217, 0.05670567056705671, 0.0), 'yet': (1932, 0.055784179240969366, 0.10526315789473684), 'york': (277, 0.05614430665163472, 0.2), 'you': (28044, 0.05834419817470665, 0.052821997105643996), 'young': (969, 0.057078142695356736, 0.0), 'younger': (155, 0.056731202161188654, 0.0), 'your': (11760, 0.05597305001295672, 0.06091370558375635), 'yours': (287, 0.05660802886783942, 0.0625), 'yourself': (928, 0.05592030790129047, 0.15151515151515152), 'youth': (194, 0.0565060783430887, 0.125), 'youtube': (297, 0.0563570784490532, 0.14285714285714285), 'yup': (126, 0.05666741623566449, 0.0), 'zero': (499, 0.05607054035722361, 0.14814814814814814), 'zone': (134, 0.05665467625899281, 0.0)}"
     ]
    },
    {
     "name": "stdout",
     "output_type": "stream",
     "text": [
      "\n"
     ]
    }
   ],
   "source": [
    "df = train[['target']]\n",
    "df['target'] = df['target'].apply(np.round)\n",
    "word_dict = {}\n",
    "for i, word in enumerate(top_20000_words):\n",
    "    count_docs = count_mat[:,i] >= 1\n",
    "    num_docs = np.sum(count_docs)\n",
    "    if num_docs < 100:\n",
    "        # print(word, num_docs)\n",
    "        continue\n",
    "    pres_mat = count_docs.toarray().flatten()\n",
    "    df['pres'] = pd.Series(pres_mat)\n",
    "    # print(word, num_docs, df.groupby('pres').mean())\n",
    "    word_dict[word] = (num_docs, df.groupby('pres').mean().values[0,0],  df.groupby('pres').mean().values[1, 0])\n",
    "print(word_dict)"
   ]
  },
  {
   "cell_type": "code",
   "execution_count": 61,
   "metadata": {},
   "outputs": [
    {
     "data": {
      "text/html": [
       "<div>\n",
       "<style scoped>\n",
       "    .dataframe tbody tr th:only-of-type {\n",
       "        vertical-align: middle;\n",
       "    }\n",
       "\n",
       "    .dataframe tbody tr th {\n",
       "        vertical-align: top;\n",
       "    }\n",
       "\n",
       "    .dataframe thead th {\n",
       "        text-align: right;\n",
       "    }\n",
       "</style>\n",
       "<table border=\"1\" class=\"dataframe\">\n",
       "  <thead>\n",
       "    <tr style=\"text-align: right;\">\n",
       "      <th></th>\n",
       "      <th>Count</th>\n",
       "      <th>PctNonToxic</th>\n",
       "      <th>PctToxic</th>\n",
       "    </tr>\n",
       "  </thead>\n",
       "  <tbody>\n",
       "    <tr>\n",
       "      <th>inability</th>\n",
       "      <td>100</td>\n",
       "      <td>0.056417</td>\n",
       "      <td>1.000000</td>\n",
       "    </tr>\n",
       "    <tr>\n",
       "      <th>flow</th>\n",
       "      <td>130</td>\n",
       "      <td>0.056417</td>\n",
       "      <td>1.000000</td>\n",
       "    </tr>\n",
       "    <tr>\n",
       "      <th>lay</th>\n",
       "      <td>194</td>\n",
       "      <td>0.056417</td>\n",
       "      <td>1.000000</td>\n",
       "    </tr>\n",
       "    <tr>\n",
       "      <th>helpful</th>\n",
       "      <td>109</td>\n",
       "      <td>0.056218</td>\n",
       "      <td>0.666667</td>\n",
       "    </tr>\n",
       "    <tr>\n",
       "      <th>contempt</th>\n",
       "      <td>101</td>\n",
       "      <td>0.056430</td>\n",
       "      <td>0.500000</td>\n",
       "    </tr>\n",
       "    <tr>\n",
       "      <th>lynch</th>\n",
       "      <td>109</td>\n",
       "      <td>0.056430</td>\n",
       "      <td>0.500000</td>\n",
       "    </tr>\n",
       "    <tr>\n",
       "      <th>trillion</th>\n",
       "      <td>140</td>\n",
       "      <td>0.056430</td>\n",
       "      <td>0.500000</td>\n",
       "    </tr>\n",
       "    <tr>\n",
       "      <th>savings</th>\n",
       "      <td>228</td>\n",
       "      <td>0.056031</td>\n",
       "      <td>0.500000</td>\n",
       "    </tr>\n",
       "    <tr>\n",
       "      <th>ryan</th>\n",
       "      <td>156</td>\n",
       "      <td>0.056230</td>\n",
       "      <td>0.500000</td>\n",
       "    </tr>\n",
       "    <tr>\n",
       "      <th>donors</th>\n",
       "      <td>105</td>\n",
       "      <td>0.056031</td>\n",
       "      <td>0.500000</td>\n",
       "    </tr>\n",
       "    <tr>\n",
       "      <th>26</th>\n",
       "      <td>129</td>\n",
       "      <td>0.056430</td>\n",
       "      <td>0.500000</td>\n",
       "    </tr>\n",
       "    <tr>\n",
       "      <th>judging</th>\n",
       "      <td>101</td>\n",
       "      <td>0.056430</td>\n",
       "      <td>0.500000</td>\n",
       "    </tr>\n",
       "    <tr>\n",
       "      <th>ego</th>\n",
       "      <td>110</td>\n",
       "      <td>0.056430</td>\n",
       "      <td>0.500000</td>\n",
       "    </tr>\n",
       "    <tr>\n",
       "      <th>consumption</th>\n",
       "      <td>117</td>\n",
       "      <td>0.056230</td>\n",
       "      <td>0.500000</td>\n",
       "    </tr>\n",
       "    <tr>\n",
       "      <th>measures</th>\n",
       "      <td>152</td>\n",
       "      <td>0.056430</td>\n",
       "      <td>0.500000</td>\n",
       "    </tr>\n",
       "    <tr>\n",
       "      <th>allegations</th>\n",
       "      <td>119</td>\n",
       "      <td>0.056430</td>\n",
       "      <td>0.500000</td>\n",
       "    </tr>\n",
       "    <tr>\n",
       "      <th>traitor</th>\n",
       "      <td>107</td>\n",
       "      <td>0.056243</td>\n",
       "      <td>0.400000</td>\n",
       "    </tr>\n",
       "    <tr>\n",
       "      <th>users</th>\n",
       "      <td>140</td>\n",
       "      <td>0.056243</td>\n",
       "      <td>0.400000</td>\n",
       "    </tr>\n",
       "    <tr>\n",
       "      <th>silent</th>\n",
       "      <td>132</td>\n",
       "      <td>0.056243</td>\n",
       "      <td>0.400000</td>\n",
       "    </tr>\n",
       "    <tr>\n",
       "      <th>enemy</th>\n",
       "      <td>198</td>\n",
       "      <td>0.056056</td>\n",
       "      <td>0.375000</td>\n",
       "    </tr>\n",
       "  </tbody>\n",
       "</table>\n",
       "</div>"
      ],
      "text/plain": [
       "             Count  PctNonToxic  PctToxic\n",
       "inability      100     0.056417  1.000000\n",
       "flow           130     0.056417  1.000000\n",
       "lay            194     0.056417  1.000000\n",
       "helpful        109     0.056218  0.666667\n",
       "contempt       101     0.056430  0.500000\n",
       "lynch          109     0.056430  0.500000\n",
       "trillion       140     0.056430  0.500000\n",
       "savings        228     0.056031  0.500000\n",
       "ryan           156     0.056230  0.500000\n",
       "donors         105     0.056031  0.500000\n",
       "26             129     0.056430  0.500000\n",
       "judging        101     0.056430  0.500000\n",
       "ego            110     0.056430  0.500000\n",
       "consumption    117     0.056230  0.500000\n",
       "measures       152     0.056430  0.500000\n",
       "allegations    119     0.056430  0.500000\n",
       "traitor        107     0.056243  0.400000\n",
       "users          140     0.056243  0.400000\n",
       "silent         132     0.056243  0.400000\n",
       "enemy          198     0.056056  0.375000"
      ]
     },
     "execution_count": 61,
     "metadata": {},
     "output_type": "execute_result"
    }
   ],
   "source": [
    "word_freq = pd.DataFrame.from_dict(word_dict, orient = 'index', columns = ['Count', 'PctNonToxic', 'PctToxic'])\n",
    "word_freq = word_freq.sort_values('PctToxic', ascending = False)\n",
    "word_freq.head(20)"
   ]
  },
  {
   "cell_type": "markdown",
   "metadata": {},
   "source": [
    "# Modeling the Data"
   ]
  },
  {
   "cell_type": "code",
   "execution_count": null,
   "metadata": {},
   "outputs": [],
   "source": [
    "from keras.callbacks import EarlyStopping, ModelCheckpoint, LearningRateScheduler\n",
    "from keras.layers import Input, Dense, Embedding, SpatialDropout1D, Dropout, add, concatenate\n",
    "from keras.layers import CuDNNLSTM, Bidirectional, GlobalMaxPooling1D, GlobalAveragePooling1D\n",
    "from keras.preprocessing import text, sequence\n",
    "from keras.losses import binary_crossentropy\n",
    "from keras import backend as K\n",
    "import keras.layers as L\n",
    "from keras.engine.topology import Layer\n",
    "from keras import initializers, regularizers, constraints, optimizers, layers\n",
    "from keras.models import Model\n",
    "from keras.optimizers import Adam\n",
    "\n",
    "from sklearn.metrics import roc_auc_score\n",
    "from sklearn.model_selection import KFold, train_test_split\n",
    "import tensorflow as tf"
   ]
  },
  {
   "cell_type": "code",
   "execution_count": null,
   "metadata": {},
   "outputs": [],
   "source": [
    "identity_columns = ['male','female','homosexual_gay_or_lesbian','christian','jewish','muslim','black','white','psychiatric_or_mental_illness']\n",
    "y_identities = (train[identity_columns] >= 0.5).astype(int).values\n",
    "\n",
    "# Overall\n",
    "weights = np.ones((len(train),)) / 4\n",
    "# Subgroup\n",
    "weights += (train[identity_columns].fillna(0).values>=0.5).sum(axis=1).astype(bool).astype(np.int) / 4\n",
    "# Background Positive, Subgroup Negative\n",
    "weights += (( (train['target'].values>=0.5).astype(bool).astype(np.int) +\n",
    "   (train[identity_columns].fillna(0).values<0.5).sum(axis=1).astype(bool).astype(np.int) ) > 1 ).astype(bool).astype(np.int) / 4\n",
    "# Background Negative, Subgroup Positive\n",
    "weights += (( (train['target'].values<0.5).astype(bool).astype(np.int) +\n",
    "   (train[identity_columns].fillna(0).values>=0.5).sum(axis=1).astype(bool).astype(np.int) ) > 1 ).astype(bool).astype(np.int) / 4\n",
    "\n",
    "loss_weight = 1.0 / weights.mean()\n",
    "\n",
    "print(weights.shape)\n",
    "print(loss_weight)"
   ]
  },
  {
   "cell_type": "code",
   "execution_count": null,
   "metadata": {},
   "outputs": [],
   "source": [
    "import matplotlib.pyplot as plt\n",
    "plt.hist(weights, range=(0,1))"
   ]
  },
  {
   "cell_type": "code",
   "execution_count": null,
   "metadata": {},
   "outputs": [],
   "source": [
    "y_train = np.vstack([(train['target'].values>=0.5).astype(np.int),weights]).T\n",
    "y_aux_train = train[['severe_toxicity', 'obscene', 'identity_attack', 'insult', 'threat', 'sexual_explicit']].values\n",
    "\n",
    "x_train = np.vstack(train['text_ids_clipped'].to_numpy())"
   ]
  },
  {
   "cell_type": "code",
   "execution_count": null,
   "metadata": {},
   "outputs": [],
   "source": [
    "tr_ind, val_ind = train_test_split(list(range(len(x_train))) ,test_size = 0.05, random_state = 123)"
   ]
  },
  {
   "cell_type": "code",
   "execution_count": null,
   "metadata": {},
   "outputs": [],
   "source": [
    "print(y_train.shape, y_aux_train.shape, x_train.shape)"
   ]
  },
  {
   "cell_type": "code",
   "execution_count": null,
   "metadata": {},
   "outputs": [],
   "source": [
    "BATCH_SIZE = 128\n",
    "EPOCHS = 8\n",
    "LSTM_UNITS = 128\n",
    "DENSE_HIDDEN_UNITS = 4 * LSTM_UNITS"
   ]
  },
  {
   "cell_type": "code",
   "execution_count": null,
   "metadata": {},
   "outputs": [],
   "source": [
    "tf.reset_default_graph()"
   ]
  },
  {
   "cell_type": "code",
   "execution_count": null,
   "metadata": {},
   "outputs": [],
   "source": [
    "def build_model(embedding_matrix, num_aux_targets, loss_weight):\n",
    "    '''\n",
    "    credits go to: https://www.kaggle.com/thousandvoices/simple-lstm/\n",
    "    '''\n",
    "    words = Input(shape=(MAXLEN,))\n",
    "    x = Embedding(*embedding_matrix.shape, weights=[embedding_matrix], trainable=False)(words)\n",
    "    x = SpatialDropout1D(0.5)(x)\n",
    "    x = Bidirectional(CuDNNLSTM(LSTM_UNITS, return_sequences=True))(x)\n",
    "    x = Bidirectional(CuDNNLSTM(LSTM_UNITS, return_sequences=True))(x)\n",
    "\n",
    "    hidden = concatenate([GlobalMaxPooling1D()(x),GlobalAveragePooling1D()(x),])\n",
    "    hidden = add([hidden, Dense(DENSE_HIDDEN_UNITS, activation='relu')(hidden)])\n",
    "    hidden = add([hidden, Dense(DENSE_HIDDEN_UNITS, activation='relu')(hidden)])\n",
    "    result = Dense(1, activation='sigmoid')(hidden)\n",
    "    aux_result = Dense(num_aux_targets, activation='sigmoid')(hidden)\n",
    "    \n",
    "    model = Model(inputs=words, outputs=[result, aux_result])\n",
    "    model.compile(loss=[custom_loss,'binary_crossentropy'], loss_weights=[loss_weight, 1.0], optimizer='adam')\n",
    "\n",
    "    return model"
   ]
  },
  {
   "cell_type": "code",
   "execution_count": null,
   "metadata": {},
   "outputs": [],
   "source": [
    "def custom_loss(y_true, y_pred):\n",
    "    return binary_crossentropy(K.reshape(y_true[:,0],(-1,1)), y_pred) * y_true[:,1]"
   ]
  },
  {
   "cell_type": "code",
   "execution_count": null,
   "metadata": {
    "scrolled": true
   },
   "outputs": [],
   "source": [
    "build_model(embedding_matrix, y_aux_train.shape[-1], loss_weight).summary()"
   ]
  },
  {
   "cell_type": "code",
   "execution_count": null,
   "metadata": {},
   "outputs": [],
   "source": [
    "# https://www.kaggle.com/c/jigsaw-unintended-bias-in-toxicity-classification/discussion/90527#latest-527799\n",
    "import numpy as np\n",
    "from sklearn.metrics import roc_auc_score\n",
    "\n",
    "\n",
    "class JigsawEvaluator:\n",
    "\n",
    "    def __init__(self, y_true, y_identity, power=-5, overall_model_weight=0.25):\n",
    "        self.y = (y_true >= 0.5).astype(int)\n",
    "        self.y_i = (y_identity >= 0.5).astype(int)\n",
    "        self.n_subgroups = self.y_i.shape[1]\n",
    "        self.power = power\n",
    "        self.overall_model_weight = overall_model_weight\n",
    "\n",
    "    @staticmethod\n",
    "    def _compute_auc(y_true, y_pred):\n",
    "        try:\n",
    "            return roc_auc_score(y_true, y_pred)\n",
    "        except ValueError:\n",
    "            return np.nan\n",
    "\n",
    "    def _compute_subgroup_auc(self, i, y_pred):\n",
    "        mask = self.y_i[:, i] == 1\n",
    "        return self._compute_auc(self.y[mask], y_pred[mask])\n",
    "\n",
    "    def _compute_bpsn_auc(self, i, y_pred):\n",
    "        mask = self.y_i[:, i] + self.y == 1\n",
    "        return self._compute_auc(self.y[mask], y_pred[mask])\n",
    "\n",
    "    def _compute_bnsp_auc(self, i, y_pred):\n",
    "        mask = self.y_i[:, i] + self.y != 1\n",
    "        return self._compute_auc(self.y[mask], y_pred[mask])\n",
    "\n",
    "    def compute_bias_metrics_for_model(self, y_pred):\n",
    "        records = np.zeros((3, self.n_subgroups))\n",
    "        for i in range(self.n_subgroups):\n",
    "            records[0, i] = self._compute_subgroup_auc(i, y_pred)\n",
    "            records[1, i] = self._compute_bpsn_auc(i, y_pred)\n",
    "            records[2, i] = self._compute_bnsp_auc(i, y_pred)\n",
    "        return records\n",
    "\n",
    "    def _calculate_overall_auc(self, y_pred):\n",
    "        return roc_auc_score(self.y, y_pred)\n",
    "\n",
    "    def _power_mean(self, array):\n",
    "        total = sum(np.power(array, self.power))\n",
    "        return np.power(total / len(array), 1 / self.power)\n",
    "\n",
    "    def get_final_metric(self, y_pred):\n",
    "        bias_metrics = self.compute_bias_metrics_for_model(y_pred)\n",
    "        bias_score = np.average([\n",
    "            self._power_mean(bias_metrics[0]),\n",
    "            self._power_mean(bias_metrics[1]),\n",
    "            self._power_mean(bias_metrics[2])\n",
    "        ])\n",
    "        overall_score = self.overall_model_weight * self._calculate_overall_auc(y_pred)\n",
    "        bias_score = (1 - self.overall_model_weight) * bias_score\n",
    "        return overall_score + bias_score"
   ]
  },
  {
   "cell_type": "code",
   "execution_count": null,
   "metadata": {},
   "outputs": [],
   "source": [
    "#checkpoint_predictions = []\n",
    "checkpoint_val_preds = []\n",
    "eval_scores = []\n",
    "train_losses = []\n",
    "val_losses = []\n",
    "weights = []\n",
    "\n",
    "model = build_model(embedding_matrix, y_aux_train.shape[-1],loss_weight)\n",
    "for global_epoch in range(EPOCHS):\n",
    "    history = model.fit(x_train[tr_ind],[y_train[tr_ind], y_aux_train[tr_ind]],validation_data = (x_train[val_ind],[y_train[val_ind], y_aux_train[val_ind]]),\n",
    "        batch_size=BATCH_SIZE,\n",
    "        epochs=1,\n",
    "        verbose=1,\n",
    "        callbacks=[\n",
    "            LearningRateScheduler(lambda epoch: 1e-3 * (0.9 ** global_epoch))\n",
    "        ]\n",
    "    )\n",
    "    #checkpoint_predictions.append(model.predict(x_test, batch_size=BATCH_SIZE)[0].flatten())\n",
    "    gc.collect()\n",
    "    val_preds = model.predict(x_train[val_ind], batch_size=BATCH_SIZE)[0].flatten()\n",
    "    JE = JigsawEvaluator(y_train[val_ind][:,0],y_identities[val_ind])\n",
    "    eval_scores.append(JE.get_final_metric(val_preds))\n",
    "    train_losses.append(history.history['loss'])\n",
    "    val_losses.append(history.history['val_loss'])\n"
   ]
  },
  {
   "cell_type": "code",
   "execution_count": null,
   "metadata": {},
   "outputs": [],
   "source": [
    "#Your code here; visualize the training / validation history associated with fitting the model.\n",
    "epch = range(1, EPOCHS + 1)\n",
    "plt.plot(epch, train_losses, 'g', label='Training Loss')\n",
    "plt.plot(epch, val_losses, 'r', label='Validation Loss')\n",
    "plt.title('Loss')\n",
    "plt.legend()\n",
    "plt.figure()\n",
    "plt.plot(epch, eval_scores, 'b', label='Evaluation Scores')\n",
    "plt.legend()\n",
    "plt.show()"
   ]
  },
  {
   "cell_type": "code",
   "execution_count": null,
   "metadata": {},
   "outputs": [],
   "source": [
    "plt.hist(val_preds)"
   ]
  },
  {
   "cell_type": "code",
   "execution_count": null,
   "metadata": {},
   "outputs": [],
   "source": []
  },
  {
   "cell_type": "code",
   "execution_count": null,
   "metadata": {},
   "outputs": [],
   "source": []
  },
  {
   "cell_type": "code",
   "execution_count": null,
   "metadata": {},
   "outputs": [],
   "source": []
  },
  {
   "cell_type": "code",
   "execution_count": null,
   "metadata": {},
   "outputs": [],
   "source": []
  },
  {
   "cell_type": "code",
   "execution_count": null,
   "metadata": {},
   "outputs": [],
   "source": []
  }
 ],
 "metadata": {
  "kernelspec": {
   "display_name": "Python 3",
   "language": "python",
   "name": "python3"
  },
  "language_info": {
   "codemirror_mode": {
    "name": "ipython",
    "version": 3
   },
   "file_extension": ".py",
   "mimetype": "text/x-python",
   "name": "python",
   "nbconvert_exporter": "python",
   "pygments_lexer": "ipython3",
   "version": "3.7.0"
  }
 },
 "nbformat": 4,
 "nbformat_minor": 2
}
