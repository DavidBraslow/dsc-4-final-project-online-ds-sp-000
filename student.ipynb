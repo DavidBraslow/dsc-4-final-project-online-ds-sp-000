{
 "cells": [
  {
   "cell_type": "markdown",
   "metadata": {},
   "source": [
    "## Final Project Submission\n",
    "\n",
    "Please fill out:\n",
    "* Student name: David Braslow\n",
    "* Student pace: self paced \n",
    "* Scheduled project review date/time: \n",
    "* Instructor name: Eli\n",
    "* Blog post URL:\n"
   ]
  },
  {
   "cell_type": "markdown",
   "metadata": {},
   "source": [
    "# Overview"
   ]
  },
  {
   "cell_type": "code",
   "execution_count": null,
   "metadata": {},
   "outputs": [],
   "source": []
  },
  {
   "cell_type": "markdown",
   "metadata": {},
   "source": [
    "# Initialization"
   ]
  },
  {
   "cell_type": "code",
   "execution_count": 1,
   "metadata": {},
   "outputs": [],
   "source": [
    "import numpy as np \n",
    "import pandas as pd \n",
    "import os\n",
    "from tqdm import tqdm, trange\n",
    "from sklearn.metrics import roc_auc_score\n",
    "import pickle\n",
    "import gc"
   ]
  },
  {
   "cell_type": "code",
   "execution_count": 2,
   "metadata": {},
   "outputs": [],
   "source": [
    "tqdm.pandas()"
   ]
  },
  {
   "cell_type": "code",
   "execution_count": 43,
   "metadata": {},
   "outputs": [],
   "source": [
    "BERT_MODEL = 'bert-base-cased'\n",
    "CASED = 'cased' in BERT_MODEL\n",
    "INPUT = 'raw_files/'\n",
    "TEXT_COL = 'comment_text'\n",
    "MAXLEN = 200"
   ]
  },
  {
   "cell_type": "markdown",
   "metadata": {},
   "source": [
    "## Data Import"
   ]
  },
  {
   "cell_type": "code",
   "execution_count": 5,
   "metadata": {},
   "outputs": [],
   "source": [
    "train = pd.read_csv(INPUT + 'train.csv').sample(frac = 0.1, random_state = 123)"
   ]
  },
  {
   "cell_type": "code",
   "execution_count": 6,
   "metadata": {},
   "outputs": [],
   "source": [
    "test = pd.read_csv(INPUT + 'test.csv')"
   ]
  },
  {
   "cell_type": "markdown",
   "metadata": {},
   "source": [
    "## BERT Embeddings"
   ]
  },
  {
   "cell_type": "code",
   "execution_count": 7,
   "metadata": {},
   "outputs": [],
   "source": [
    "from pytorch_pretrained_bert import BertTokenizer\n",
    "from pytorch_pretrained_bert.modeling import BertModel"
   ]
  },
  {
   "cell_type": "code",
   "execution_count": 8,
   "metadata": {},
   "outputs": [],
   "source": [
    "BERT_FP = 'bert-base-cased'"
   ]
  },
  {
   "cell_type": "code",
   "execution_count": 9,
   "metadata": {},
   "outputs": [],
   "source": [
    "def get_bert_embed_matrix():\n",
    "    bert = BertModel.from_pretrained(BERT_FP)\n",
    "    bert_embeddings = list(bert.children())[0]\n",
    "    bert_word_embeddings = list(bert_embeddings.children())[0]\n",
    "    mat = bert_word_embeddings.weight.data.numpy()\n",
    "    return mat"
   ]
  },
  {
   "cell_type": "code",
   "execution_count": 10,
   "metadata": {
    "scrolled": true
   },
   "outputs": [],
   "source": [
    "embedding_matrix = get_bert_embed_matrix()"
   ]
  },
  {
   "cell_type": "markdown",
   "metadata": {},
   "source": [
    "# Data Scrubbing"
   ]
  },
  {
   "cell_type": "code",
   "execution_count": 70,
   "metadata": {},
   "outputs": [
    {
     "name": "stdout",
     "output_type": "stream",
     "text": [
      "<class 'pandas.core.frame.DataFrame'>\n",
      "Int64Index: 180487 entries, 687256 to 1094397\n",
      "Data columns (total 48 columns):\n",
      "id                                     180487 non-null int64\n",
      "target                                 180487 non-null float64\n",
      "comment_text                           180487 non-null object\n",
      "severe_toxicity                        180487 non-null float64\n",
      "obscene                                180487 non-null float64\n",
      "identity_attack                        180487 non-null float64\n",
      "insult                                 180487 non-null float64\n",
      "threat                                 180487 non-null float64\n",
      "asian                                  40596 non-null float64\n",
      "atheist                                40596 non-null float64\n",
      "bisexual                               40596 non-null float64\n",
      "black                                  40596 non-null float64\n",
      "buddhist                               40596 non-null float64\n",
      "christian                              40596 non-null float64\n",
      "female                                 40596 non-null float64\n",
      "heterosexual                           40596 non-null float64\n",
      "hindu                                  40596 non-null float64\n",
      "homosexual_gay_or_lesbian              40596 non-null float64\n",
      "intellectual_or_learning_disability    40596 non-null float64\n",
      "jewish                                 40596 non-null float64\n",
      "latino                                 40596 non-null float64\n",
      "male                                   40596 non-null float64\n",
      "muslim                                 40596 non-null float64\n",
      "other_disability                       40596 non-null float64\n",
      "other_gender                           40596 non-null float64\n",
      "other_race_or_ethnicity                40596 non-null float64\n",
      "other_religion                         40596 non-null float64\n",
      "other_sexual_orientation               40596 non-null float64\n",
      "physical_disability                    40596 non-null float64\n",
      "psychiatric_or_mental_illness          40596 non-null float64\n",
      "transgender                            40596 non-null float64\n",
      "white                                  40596 non-null float64\n",
      "created_date                           180487 non-null object\n",
      "publication_id                         180487 non-null int64\n",
      "parent_id                              102715 non-null float64\n",
      "article_id                             180487 non-null int64\n",
      "rating                                 180487 non-null object\n",
      "funny                                  180487 non-null int64\n",
      "wow                                    180487 non-null int64\n",
      "sad                                    180487 non-null int64\n",
      "likes                                  180487 non-null int64\n",
      "disagree                               180487 non-null int64\n",
      "sexual_explicit                        180487 non-null float64\n",
      "identity_annotator_count               180487 non-null int64\n",
      "toxicity_annotator_count               180487 non-null int64\n",
      "text_tokens                            180487 non-null object\n",
      "text_ids                               180487 non-null object\n",
      "text_ids_clipped                       180487 non-null object\n",
      "dtypes: float64(32), int64(10), object(6)\n",
      "memory usage: 67.5+ MB\n"
     ]
    }
   ],
   "source": [
    "train.info()"
   ]
  },
  {
   "cell_type": "code",
   "execution_count": 11,
   "metadata": {
    "scrolled": true
   },
   "outputs": [
    {
     "data": {
      "text/html": [
       "<div>\n",
       "<style scoped>\n",
       "    .dataframe tbody tr th:only-of-type {\n",
       "        vertical-align: middle;\n",
       "    }\n",
       "\n",
       "    .dataframe tbody tr th {\n",
       "        vertical-align: top;\n",
       "    }\n",
       "\n",
       "    .dataframe thead th {\n",
       "        text-align: right;\n",
       "    }\n",
       "</style>\n",
       "<table border=\"1\" class=\"dataframe\">\n",
       "  <thead>\n",
       "    <tr style=\"text-align: right;\">\n",
       "      <th></th>\n",
       "      <th>id</th>\n",
       "      <th>target</th>\n",
       "      <th>comment_text</th>\n",
       "      <th>severe_toxicity</th>\n",
       "      <th>obscene</th>\n",
       "      <th>identity_attack</th>\n",
       "      <th>insult</th>\n",
       "      <th>threat</th>\n",
       "      <th>asian</th>\n",
       "      <th>atheist</th>\n",
       "      <th>...</th>\n",
       "      <th>article_id</th>\n",
       "      <th>rating</th>\n",
       "      <th>funny</th>\n",
       "      <th>wow</th>\n",
       "      <th>sad</th>\n",
       "      <th>likes</th>\n",
       "      <th>disagree</th>\n",
       "      <th>sexual_explicit</th>\n",
       "      <th>identity_annotator_count</th>\n",
       "      <th>toxicity_annotator_count</th>\n",
       "    </tr>\n",
       "  </thead>\n",
       "  <tbody>\n",
       "    <tr>\n",
       "      <th>687256</th>\n",
       "      <td>1082203</td>\n",
       "      <td>0.000000</td>\n",
       "      <td>\"And I always say that if I ever believed Cana...</td>\n",
       "      <td>0.0</td>\n",
       "      <td>0.0</td>\n",
       "      <td>0.166667</td>\n",
       "      <td>0.000000</td>\n",
       "      <td>0.0</td>\n",
       "      <td>0.0</td>\n",
       "      <td>0.0</td>\n",
       "      <td>...</td>\n",
       "      <td>317079</td>\n",
       "      <td>rejected</td>\n",
       "      <td>0</td>\n",
       "      <td>0</td>\n",
       "      <td>0</td>\n",
       "      <td>0</td>\n",
       "      <td>0</td>\n",
       "      <td>0.0</td>\n",
       "      <td>4</td>\n",
       "      <td>6</td>\n",
       "    </tr>\n",
       "    <tr>\n",
       "      <th>1728190</th>\n",
       "      <td>6241244</td>\n",
       "      <td>0.166667</td>\n",
       "      <td>have to be fan today; not player. +3 or, +1.5,...</td>\n",
       "      <td>0.0</td>\n",
       "      <td>0.0</td>\n",
       "      <td>0.000000</td>\n",
       "      <td>0.166667</td>\n",
       "      <td>0.0</td>\n",
       "      <td>NaN</td>\n",
       "      <td>NaN</td>\n",
       "      <td>...</td>\n",
       "      <td>394471</td>\n",
       "      <td>approved</td>\n",
       "      <td>0</td>\n",
       "      <td>0</td>\n",
       "      <td>0</td>\n",
       "      <td>1</td>\n",
       "      <td>0</td>\n",
       "      <td>0.0</td>\n",
       "      <td>0</td>\n",
       "      <td>6</td>\n",
       "    </tr>\n",
       "    <tr>\n",
       "      <th>1733028</th>\n",
       "      <td>6247184</td>\n",
       "      <td>0.166667</td>\n",
       "      <td>It will help him get impeached for treason.</td>\n",
       "      <td>0.0</td>\n",
       "      <td>0.0</td>\n",
       "      <td>0.000000</td>\n",
       "      <td>0.000000</td>\n",
       "      <td>0.0</td>\n",
       "      <td>NaN</td>\n",
       "      <td>NaN</td>\n",
       "      <td>...</td>\n",
       "      <td>394751</td>\n",
       "      <td>approved</td>\n",
       "      <td>1</td>\n",
       "      <td>0</td>\n",
       "      <td>0</td>\n",
       "      <td>3</td>\n",
       "      <td>3</td>\n",
       "      <td>0.0</td>\n",
       "      <td>0</td>\n",
       "      <td>6</td>\n",
       "    </tr>\n",
       "    <tr>\n",
       "      <th>1073761</th>\n",
       "      <td>5428926</td>\n",
       "      <td>0.000000</td>\n",
       "      <td>To me there is a real disconnect when one says...</td>\n",
       "      <td>0.0</td>\n",
       "      <td>0.0</td>\n",
       "      <td>0.000000</td>\n",
       "      <td>0.000000</td>\n",
       "      <td>0.0</td>\n",
       "      <td>NaN</td>\n",
       "      <td>NaN</td>\n",
       "      <td>...</td>\n",
       "      <td>344947</td>\n",
       "      <td>approved</td>\n",
       "      <td>1</td>\n",
       "      <td>0</td>\n",
       "      <td>0</td>\n",
       "      <td>10</td>\n",
       "      <td>0</td>\n",
       "      <td>0.0</td>\n",
       "      <td>0</td>\n",
       "      <td>4</td>\n",
       "    </tr>\n",
       "    <tr>\n",
       "      <th>541700</th>\n",
       "      <td>905935</td>\n",
       "      <td>0.000000</td>\n",
       "      <td>We have a spending problem John. I refuse to a...</td>\n",
       "      <td>0.0</td>\n",
       "      <td>0.0</td>\n",
       "      <td>0.000000</td>\n",
       "      <td>0.000000</td>\n",
       "      <td>0.0</td>\n",
       "      <td>0.0</td>\n",
       "      <td>0.0</td>\n",
       "      <td>...</td>\n",
       "      <td>164337</td>\n",
       "      <td>approved</td>\n",
       "      <td>0</td>\n",
       "      <td>0</td>\n",
       "      <td>0</td>\n",
       "      <td>1</td>\n",
       "      <td>1</td>\n",
       "      <td>0.0</td>\n",
       "      <td>4</td>\n",
       "      <td>4</td>\n",
       "    </tr>\n",
       "  </tbody>\n",
       "</table>\n",
       "<p>5 rows × 45 columns</p>\n",
       "</div>"
      ],
      "text/plain": [
       "              id    target                                       comment_text  \\\n",
       "687256   1082203  0.000000  \"And I always say that if I ever believed Cana...   \n",
       "1728190  6241244  0.166667  have to be fan today; not player. +3 or, +1.5,...   \n",
       "1733028  6247184  0.166667        It will help him get impeached for treason.   \n",
       "1073761  5428926  0.000000  To me there is a real disconnect when one says...   \n",
       "541700    905935  0.000000  We have a spending problem John. I refuse to a...   \n",
       "\n",
       "         severe_toxicity  obscene  identity_attack    insult  threat  asian  \\\n",
       "687256               0.0      0.0         0.166667  0.000000     0.0    0.0   \n",
       "1728190              0.0      0.0         0.000000  0.166667     0.0    NaN   \n",
       "1733028              0.0      0.0         0.000000  0.000000     0.0    NaN   \n",
       "1073761              0.0      0.0         0.000000  0.000000     0.0    NaN   \n",
       "541700               0.0      0.0         0.000000  0.000000     0.0    0.0   \n",
       "\n",
       "         atheist  ...  article_id    rating  funny  wow  sad  likes  disagree  \\\n",
       "687256       0.0  ...      317079  rejected      0    0    0      0         0   \n",
       "1728190      NaN  ...      394471  approved      0    0    0      1         0   \n",
       "1733028      NaN  ...      394751  approved      1    0    0      3         3   \n",
       "1073761      NaN  ...      344947  approved      1    0    0     10         0   \n",
       "541700       0.0  ...      164337  approved      0    0    0      1         1   \n",
       "\n",
       "         sexual_explicit  identity_annotator_count  toxicity_annotator_count  \n",
       "687256               0.0                         4                         6  \n",
       "1728190              0.0                         0                         6  \n",
       "1733028              0.0                         0                         6  \n",
       "1073761              0.0                         0                         4  \n",
       "541700               0.0                         4                         4  \n",
       "\n",
       "[5 rows x 45 columns]"
      ]
     },
     "execution_count": 11,
     "metadata": {},
     "output_type": "execute_result"
    }
   ],
   "source": [
    "train.head()"
   ]
  },
  {
   "cell_type": "code",
   "execution_count": 72,
   "metadata": {},
   "outputs": [
    {
     "data": {
      "text/plain": [
       "id                                                                               1082203\n",
       "target                                                                                 0\n",
       "comment_text                           \"And I always say that if I ever believed Cana...\n",
       "severe_toxicity                                                                        0\n",
       "obscene                                                                                0\n",
       "identity_attack                                                                 0.166667\n",
       "insult                                                                                 0\n",
       "threat                                                                                 0\n",
       "asian                                                                                  0\n",
       "atheist                                                                                0\n",
       "bisexual                                                                               0\n",
       "black                                                                                  0\n",
       "buddhist                                                                               0\n",
       "christian                                                                              0\n",
       "female                                                                                 0\n",
       "heterosexual                                                                           0\n",
       "hindu                                                                                  0\n",
       "homosexual_gay_or_lesbian                                                              1\n",
       "intellectual_or_learning_disability                                                    0\n",
       "jewish                                                                                 0\n",
       "latino                                                                                 0\n",
       "male                                                                                   0\n",
       "muslim                                                                                 0\n",
       "other_disability                                                                       0\n",
       "other_gender                                                                           0\n",
       "other_race_or_ethnicity                                                                0\n",
       "other_religion                                                                         0\n",
       "other_sexual_orientation                                                               0\n",
       "physical_disability                                                                    0\n",
       "psychiatric_or_mental_illness                                                          0\n",
       "transgender                                                                            0\n",
       "white                                                                                  0\n",
       "created_date                                               2017-03-05 23:57:53.827018+00\n",
       "publication_id                                                                        54\n",
       "parent_id                                                                    1.08212e+06\n",
       "article_id                                                                        317079\n",
       "rating                                                                          rejected\n",
       "funny                                                                                  0\n",
       "wow                                                                                    0\n",
       "sad                                                                                    0\n",
       "likes                                                                                  0\n",
       "disagree                                                                               0\n",
       "sexual_explicit                                                                        0\n",
       "identity_annotator_count                                                               4\n",
       "toxicity_annotator_count                                                               6\n",
       "text_tokens                            [\", And, I, always, say, that, if, I, ever, be...\n",
       "text_ids                               [107, 1262, 146, 1579, 1474, 1115, 1191, 146, ...\n",
       "text_ids_clipped                       [107, 1262, 146, 1579, 1474, 1115, 1191, 146, ...\n",
       "Name: 687256, dtype: object"
      ]
     },
     "execution_count": 72,
     "metadata": {},
     "output_type": "execute_result"
    }
   ],
   "source": [
    "train.loc[687256]"
   ]
  },
  {
   "cell_type": "code",
   "execution_count": 12,
   "metadata": {},
   "outputs": [
    {
     "data": {
      "text/html": [
       "<div>\n",
       "<style scoped>\n",
       "    .dataframe tbody tr th:only-of-type {\n",
       "        vertical-align: middle;\n",
       "    }\n",
       "\n",
       "    .dataframe tbody tr th {\n",
       "        vertical-align: top;\n",
       "    }\n",
       "\n",
       "    .dataframe thead th {\n",
       "        text-align: right;\n",
       "    }\n",
       "</style>\n",
       "<table border=\"1\" class=\"dataframe\">\n",
       "  <thead>\n",
       "    <tr style=\"text-align: right;\">\n",
       "      <th></th>\n",
       "      <th>id</th>\n",
       "      <th>comment_text</th>\n",
       "    </tr>\n",
       "  </thead>\n",
       "  <tbody>\n",
       "    <tr>\n",
       "      <th>0</th>\n",
       "      <td>7000000</td>\n",
       "      <td>Jeff Sessions is another one of Trump's Orwell...</td>\n",
       "    </tr>\n",
       "    <tr>\n",
       "      <th>1</th>\n",
       "      <td>7000001</td>\n",
       "      <td>I actually inspected the infrastructure on Gra...</td>\n",
       "    </tr>\n",
       "    <tr>\n",
       "      <th>2</th>\n",
       "      <td>7000002</td>\n",
       "      <td>No it won't . That's just wishful thinking on ...</td>\n",
       "    </tr>\n",
       "    <tr>\n",
       "      <th>3</th>\n",
       "      <td>7000003</td>\n",
       "      <td>Instead of wringing our hands and nibbling the...</td>\n",
       "    </tr>\n",
       "    <tr>\n",
       "      <th>4</th>\n",
       "      <td>7000004</td>\n",
       "      <td>how many of you commenters have garbage piled ...</td>\n",
       "    </tr>\n",
       "  </tbody>\n",
       "</table>\n",
       "</div>"
      ],
      "text/plain": [
       "        id                                       comment_text\n",
       "0  7000000  Jeff Sessions is another one of Trump's Orwell...\n",
       "1  7000001  I actually inspected the infrastructure on Gra...\n",
       "2  7000002  No it won't . That's just wishful thinking on ...\n",
       "3  7000003  Instead of wringing our hands and nibbling the...\n",
       "4  7000004  how many of you commenters have garbage piled ..."
      ]
     },
     "execution_count": 12,
     "metadata": {},
     "output_type": "execute_result"
    }
   ],
   "source": [
    "test.head()"
   ]
  },
  {
   "cell_type": "markdown",
   "metadata": {},
   "source": [
    "## Tokenizing"
   ]
  },
  {
   "cell_type": "code",
   "execution_count": 13,
   "metadata": {},
   "outputs": [],
   "source": [
    "#Import BERT Tokenizer\n",
    "tokenizer = BertTokenizer.from_pretrained('bert-base-cased', do_lower_case = False)"
   ]
  },
  {
   "cell_type": "code",
   "execution_count": 14,
   "metadata": {},
   "outputs": [
    {
     "name": "stderr",
     "output_type": "stream",
     "text": [
      "100%|█████████████████████████████████████████████████████████████████████████| 180487/180487 [03:42<00:00, 810.42it/s]\n"
     ]
    },
    {
     "data": {
      "text/plain": [
       "687256     [\", And, I, always, say, that, if, I, ever, be...\n",
       "1728190    [have, to, be, fan, today, ;, not, player, ., ...\n",
       "1733028    [It, will, help, him, get, imp, ##each, ##ed, ...\n",
       "1073761    [To, me, there, is, a, real, disco, ##nne, ##c...\n",
       "541700     [We, have, a, spending, problem, John, ., I, r...\n",
       "Name: text_tokens, dtype: object"
      ]
     },
     "execution_count": 14,
     "metadata": {},
     "output_type": "execute_result"
    }
   ],
   "source": [
    "train['text_tokens'] = train['comment_text'].progress_apply(tokenizer.tokenize)\n",
    "train['text_tokens'].head()"
   ]
  },
  {
   "cell_type": "code",
   "execution_count": 35,
   "metadata": {},
   "outputs": [
    {
     "name": "stderr",
     "output_type": "stream",
     "text": [
      "100%|███████████████████████████████████████████████████████████████████████████| 97320/97320 [02:04<00:00, 784.82it/s]\n"
     ]
    },
    {
     "data": {
      "text/plain": [
       "0    [Jeff, Sessions, is, another, one, of, Trump, ...\n",
       "1    [I, actually, inspected, the, infrastructure, ...\n",
       "2    [No, it, won, ', t, ., That, ', s, just, wish,...\n",
       "3    [Instead, of, w, ##ringing, our, hands, and, n...\n",
       "4    [how, many, of, you, comment, ##ers, have, gar...\n",
       "Name: text_tokens, dtype: object"
      ]
     },
     "execution_count": 35,
     "metadata": {},
     "output_type": "execute_result"
    }
   ],
   "source": [
    "test['text_tokens'] = test['comment_text'].progress_apply(tokenizer.tokenize)\n",
    "test['text_tokens'].head()"
   ]
  },
  {
   "cell_type": "markdown",
   "metadata": {},
   "source": [
    "## Encoding"
   ]
  },
  {
   "cell_type": "markdown",
   "metadata": {},
   "source": [
    "### Checking Vocabulary Coverage"
   ]
  },
  {
   "cell_type": "code",
   "execution_count": null,
   "metadata": {
    "scrolled": true
   },
   "outputs": [],
   "source": [
    "tokenizer.save_vocabulary('vocab')\n",
    "bert_vocab_file = open('vocab\\\\vocab.txt', encoding='utf-8')\n",
    "bert_vocab_list = bert_vocab_file.read().split(sep = '\\n')\n",
    "bert_vocab_dict = {x: True for x in bert_vocab_list}"
   ]
  },
  {
   "cell_type": "code",
   "execution_count": 17,
   "metadata": {},
   "outputs": [],
   "source": [
    "# https://www.kaggle.com/christofhenkel/how-to-preprocessing-when-using-embeddings\n",
    "\n",
    "def build_vocab(sentences, verbose =  True):\n",
    "    \"\"\"\n",
    "    :param sentences: list of list of words\n",
    "    :return: dictionary of words and their count\n",
    "    \"\"\"\n",
    "    vocab = {}\n",
    "    for sentence in tqdm(sentences, disable = (not verbose)):\n",
    "        for word in sentence:\n",
    "            try:\n",
    "                vocab[word] += 1\n",
    "            except KeyError:\n",
    "                vocab[word] = 1\n",
    "    return vocab"
   ]
  },
  {
   "cell_type": "code",
   "execution_count": 18,
   "metadata": {},
   "outputs": [
    {
     "name": "stderr",
     "output_type": "stream",
     "text": [
      "100%|██████████████████████████████████████████████████████████████████████| 180487/180487 [00:01<00:00, 106860.25it/s]\n",
      "100%|███████████████████████████████████████████████████████████████████████| 180487/180487 [00:03<00:00, 53748.40it/s]\n"
     ]
    }
   ],
   "source": [
    "train_sentences = train[\"comment_text\"].progress_apply(lambda x: x.split()).values\n",
    "train_vocab = build_vocab(train_sentences)"
   ]
  },
  {
   "cell_type": "code",
   "execution_count": 19,
   "metadata": {},
   "outputs": [],
   "source": [
    "import operator \n",
    "\n",
    "def check_coverage(vocab,embeddings_index):\n",
    "    a = {}\n",
    "    oov = {}\n",
    "    k = 0\n",
    "    i = 0\n",
    "    for word in tqdm(vocab):\n",
    "        try:\n",
    "            a[word] = embeddings_index[word]\n",
    "            k += vocab[word]\n",
    "        except:\n",
    "\n",
    "            oov[word] = vocab[word]\n",
    "            i += vocab[word]\n",
    "            pass\n",
    "\n",
    "    print('Found embeddings for {:.2%} of vocab'.format(len(a) / len(vocab)))\n",
    "    print('Found embeddings for  {:.2%} of all text'.format(k / (k + i)))\n",
    "    sorted_x = sorted(oov.items(), key=operator.itemgetter(1))[::-1]\n",
    "\n",
    "    return sorted_x"
   ]
  },
  {
   "cell_type": "code",
   "execution_count": 20,
   "metadata": {},
   "outputs": [
    {
     "name": "stderr",
     "output_type": "stream",
     "text": [
      "100%|██████████████████████████████████████████████████████████████████████| 379193/379193 [00:00<00:00, 651540.22it/s]\n"
     ]
    },
    {
     "name": "stdout",
     "output_type": "stream",
     "text": [
      "Found embeddings for 5.27% of vocab\n",
      "Found embeddings for  80.20% of all text\n"
     ]
    },
    {
     "data": {
      "text/plain": [
       "[(\"don't\", 17937),\n",
       " (\"it's\", 10062),\n",
       " ('it.', 8463),\n",
       " (\"I'm\", 8107),\n",
       " (\"It's\", 8013),\n",
       " (\"doesn't\", 6098),\n",
       " (\"can't\", 6081),\n",
       " (\"didn't\", 5233),\n",
       " (\"isn't\", 3945),\n",
       " (\"that's\", 3855),\n",
       " (\"That's\", 3769),\n",
       " (\"you're\", 3679),\n",
       " ('them.', 3524),\n",
       " ('Mr.', 3133),\n",
       " ('it,', 2956),\n",
       " (\"won't\", 2922),\n",
       " ('Trudeau', 2785),\n",
       " ('--', 2741),\n",
       " ('that.', 2721),\n",
       " (\"I've\", 2695)]"
      ]
     },
     "execution_count": 20,
     "metadata": {},
     "output_type": "execute_result"
    }
   ],
   "source": [
    "check_coverage(train_vocab, bert_vocab_dict)[0:20]"
   ]
  },
  {
   "cell_type": "code",
   "execution_count": 21,
   "metadata": {},
   "outputs": [],
   "source": [
    "def clean_text(x):\n",
    "    for punct in \"/-'\":\n",
    "        x = x.replace(punct, ' ')\n",
    "    for punct in '?!.,\"#$%\\'()*+-/:;<=>@[\\\\]^_`{|}~&' + '“”’':\n",
    "        x = x.replace(punct, '')\n",
    "    return x.split()"
   ]
  },
  {
   "cell_type": "code",
   "execution_count": 22,
   "metadata": {},
   "outputs": [
    {
     "name": "stderr",
     "output_type": "stream",
     "text": [
      "100%|███████████████████████████████████████████████████████████████████████| 180487/180487 [00:05<00:00, 34523.15it/s]\n",
      "100%|███████████████████████████████████████████████████████████████████████| 180487/180487 [00:02<00:00, 66209.53it/s]\n"
     ]
    }
   ],
   "source": [
    "train_sentences_check1 = train[\"comment_text\"].progress_apply(clean_text).values\n",
    "train_vocab_check1 = build_vocab(train_sentences_check1)"
   ]
  },
  {
   "cell_type": "code",
   "execution_count": 23,
   "metadata": {
    "scrolled": true
   },
   "outputs": [
    {
     "name": "stderr",
     "output_type": "stream",
     "text": [
      "100%|██████████████████████████████████████████████████████████████████████| 155148/155148 [00:00<00:00, 745906.61it/s]\n"
     ]
    },
    {
     "name": "stdout",
     "output_type": "stream",
     "text": [
      "Found embeddings for 13.14% of vocab\n",
      "Found embeddings for  92.79% of all text\n"
     ]
    },
    {
     "data": {
      "text/plain": [
       "[('Trudeau', 3738),\n",
       " ('NOT', 2002),\n",
       " ('trump', 1421),\n",
       " ('GOP', 1326),\n",
       " ('liberals', 1174),\n",
       " ('Alaskans', 1166),\n",
       " ('taxpayers', 1153),\n",
       " ('Anchorage', 1148),\n",
       " ('dont', 1090),\n",
       " ('PFD', 891),\n",
       " ('ALL', 863),\n",
       " ('LOL', 825),\n",
       " ('Obamacare', 800),\n",
       " ('ie', 788),\n",
       " ('conservatives', 771),\n",
       " ('taxpayer', 758),\n",
       " ('Comey', 754),\n",
       " ('billions', 738),\n",
       " ('ACA', 738),\n",
       " ('Trumps', 685)]"
      ]
     },
     "execution_count": 23,
     "metadata": {},
     "output_type": "execute_result"
    }
   ],
   "source": [
    "check_coverage(train_vocab_check1, bert_vocab_dict)[0:20]"
   ]
  },
  {
   "cell_type": "markdown",
   "metadata": {},
   "source": [
    "### Encoding Comments"
   ]
  },
  {
   "cell_type": "code",
   "execution_count": 24,
   "metadata": {
    "scrolled": true
   },
   "outputs": [
    {
     "name": "stderr",
     "output_type": "stream",
     "text": [
      "100%|███████████████████████████████████████████████████████████████████████| 180487/180487 [00:04<00:00, 38923.22it/s]\n"
     ]
    },
    {
     "data": {
      "text/plain": [
       "687256     [107, 1262, 146, 1579, 1474, 1115, 1191, 146, ...\n",
       "1728190    [1138, 1106, 1129, 5442, 2052, 132, 1136, 1591...\n",
       "1733028    [1135, 1209, 1494, 1140, 1243, 24034, 17269, 1...\n",
       "1073761    [1706, 1143, 1175, 1110, 170, 1842, 19959, 109...\n",
       "541700     [1284, 1138, 170, 5369, 2463, 1287, 119, 146, ...\n",
       "900691     [146, 112, 182, 1136, 170, 5442, 1104, 8499, 1...\n",
       "393193     [23320, 112, 189, 1129, 170, 1618, 1591, 1773,...\n",
       "1121977    [1247, 1132, 170, 1974, 1104, 5144, 6420, 1433...\n",
       "1411658    [4514, 1128, 1111, 1142, 1159, 1193, 15656, 11...\n",
       "300499     [1109, 2501, 1110, 1115, 1128, 2834, 6187, 102...\n",
       "Name: text_ids, dtype: object"
      ]
     },
     "execution_count": 24,
     "metadata": {},
     "output_type": "execute_result"
    }
   ],
   "source": [
    "train['text_ids'] = train['text_tokens'].progress_apply(tokenizer.convert_tokens_to_ids)\n",
    "train['text_ids'].head(10)"
   ]
  },
  {
   "cell_type": "code",
   "execution_count": 37,
   "metadata": {
    "scrolled": true
   },
   "outputs": [
    {
     "name": "stderr",
     "output_type": "stream",
     "text": [
      "100%|█████████████████████████████████████████████████████████████████████████| 97320/97320 [00:02<00:00, 42702.96it/s]\n"
     ]
    },
    {
     "data": {
      "text/plain": [
       "0    [4274, 18003, 1110, 1330, 1141, 1104, 8499, 11...\n",
       "1    [146, 2140, 22457, 1103, 6557, 1113, 2224, 253...\n",
       "2    [1302, 1122, 1281, 112, 189, 119, 1337, 112, 1...\n",
       "3    [3743, 1104, 192, 27812, 1412, 1493, 1105, 114...\n",
       "4    [1293, 1242, 1104, 1128, 7368, 1468, 1138, 149...\n",
       "5    [2009, 1169, 112, 189, 1103, 10421, 111, 11508...\n",
       "6    [1337, 112, 188, 1640, 1151, 5664, 117, 4804, ...\n",
       "7    [5403, 1103, 4692, 1111, 2699, 117, 6312, 117,...\n",
       "8    [1573, 1152, 1328, 1106, 1508, 1244, 1113, 110...\n",
       "9    [1302, 117, 1185, 1115, 1169, 112, 189, 1129, ...\n",
       "Name: text_ids, dtype: object"
      ]
     },
     "execution_count": 37,
     "metadata": {},
     "output_type": "execute_result"
    }
   ],
   "source": [
    "test['text_ids'] = test['text_tokens'].progress_apply(tokenizer.convert_tokens_to_ids)\n",
    "test['text_ids'].head(10)"
   ]
  },
  {
   "cell_type": "markdown",
   "metadata": {},
   "source": [
    "### Clipping"
   ]
  },
  {
   "cell_type": "code",
   "execution_count": 45,
   "metadata": {},
   "outputs": [],
   "source": [
    "def id_clip(ids, num_ids = MAXLEN):\n",
    "    ids_clipped = list(np.zeros(num_ids, dtype=np.int))\n",
    "    i = 0\n",
    "    while (i < num_ids) & (i < len(ids)):\n",
    "        ids_clipped[i] = ids[i]\n",
    "        i += 1\n",
    "    return np.array(ids_clipped)"
   ]
  },
  {
   "cell_type": "code",
   "execution_count": 46,
   "metadata": {},
   "outputs": [
    {
     "name": "stderr",
     "output_type": "stream",
     "text": [
      "100%|███████████████████████████████████████████████████████████████████████| 180487/180487 [00:10<00:00, 17541.74it/s]\n"
     ]
    }
   ],
   "source": [
    "train['text_ids_clipped'] = train['text_ids'].progress_apply(id_clip)"
   ]
  },
  {
   "cell_type": "code",
   "execution_count": 47,
   "metadata": {},
   "outputs": [
    {
     "name": "stderr",
     "output_type": "stream",
     "text": [
      "100%|█████████████████████████████████████████████████████████████████████████| 97320/97320 [00:05<00:00, 17592.19it/s]\n"
     ]
    }
   ],
   "source": [
    "test['text_ids_clipped'] = test['text_ids'].progress_apply(id_clip)"
   ]
  },
  {
   "cell_type": "markdown",
   "metadata": {},
   "source": [
    "# Exploring the Data"
   ]
  },
  {
   "cell_type": "code",
   "execution_count": 73,
   "metadata": {},
   "outputs": [],
   "source": [
    "import matplotlib.pyplot as plt"
   ]
  },
  {
   "cell_type": "markdown",
   "metadata": {},
   "source": [
    "## Toxicity (Target)"
   ]
  },
  {
   "cell_type": "code",
   "execution_count": 81,
   "metadata": {
    "scrolled": true
   },
   "outputs": [
    {
     "data": {
      "text/plain": [
       "count    180487.000000\n",
       "mean          0.103197\n",
       "std           0.197017\n",
       "min           0.000000\n",
       "25%           0.000000\n",
       "50%           0.000000\n",
       "75%           0.166667\n",
       "max           1.000000\n",
       "Name: target, dtype: float64"
      ]
     },
     "execution_count": 81,
     "metadata": {},
     "output_type": "execute_result"
    },
    {
     "data": {
      "image/png": "[encoded data removed]",
      "text/plain": [
       "<Figure size 432x288 with 1 Axes>"
      ]
     },
     "metadata": {
      "needs_background": "light"
     },
     "output_type": "display_data"
    }
   ],
   "source": [
    "plt.hist(train['target'])\n",
    "train['target'].describe()"
   ]
  },
  {
   "cell_type": "code",
   "execution_count": 86,
   "metadata": {},
   "outputs": [
    {
     "data": {
      "text/plain": [
       "0.058874046330206604"
      ]
     },
     "execution_count": 86,
     "metadata": {},
     "output_type": "execute_result"
    }
   ],
   "source": [
    "np.mean(np.round(train['target'].values))"
   ]
  },
  {
   "cell_type": "markdown",
   "metadata": {},
   "source": [
    "### Toxicity by Subgroup"
   ]
  },
  {
   "cell_type": "code",
   "execution_count": 82,
   "metadata": {},
   "outputs": [
    {
     "data": {
      "text/plain": [
       "male                             0.107505\n",
       "female                           0.128989\n",
       "homosexual_gay_or_lesbian        0.025013\n",
       "christian                        0.094331\n",
       "jewish                           0.018731\n",
       "muslim                           0.050115\n",
       "black                            0.035395\n",
       "white                            0.057116\n",
       "psychiatric_or_mental_illness    0.011779\n",
       "dtype: float64"
      ]
     },
     "execution_count": 82,
     "metadata": {},
     "output_type": "execute_result"
    }
   ],
   "source": [
    "identity_columns = ['male','female','homosexual_gay_or_lesbian','christian','jewish','muslim','black','white','psychiatric_or_mental_illness']\n",
    "train[identity_columns].mean()"
   ]
  },
  {
   "cell_type": "code",
   "execution_count": 80,
   "metadata": {},
   "outputs": [
    {
     "name": "stdout",
     "output_type": "stream",
     "text": [
      "male: 10.020768431983386%\n",
      "female: 9.69520103761349%\n",
      "homosexual_gay_or_lesbian: 25.099601593625497%\n",
      "christian: 6.9674471730439755%\n",
      "jewish: 9.433962264150944%\n",
      "muslim: 14.241001564945227%\n",
      "black: 25.311720698254366%\n",
      "white: 20.679012345679013%\n",
      "psychiatric_or_mental_illness: 7.5%\n"
     ]
    }
   ],
   "source": [
    "for identity in identity_columns:\n",
    "    identity_df = train[train[identity] == 1]\n",
    "    identity_tox = np.round(identity_df['target'].values)\n",
    "    n_toxic = sum(identity_tox)\n",
    "    n_tot = len(identity_tox)\n",
    "    pct_toxic = n_toxic/n_tot * 100\n",
    "    print(f\"{identity}: {pct_toxic}%\")"
   ]
  },
  {
   "cell_type": "code",
   "execution_count": 89,
   "metadata": {},
   "outputs": [
    {
     "name": "stdout",
     "output_type": "stream",
     "text": [
      "asian: 14.529914529914532%\n",
      "atheist: 12.727272727272727%\n",
      "bisexual: 16.666666666666664%\n",
      "black: 25.311720698254366%\n",
      "buddhist: 0.0%\n",
      "christian: 6.9674471730439755%\n",
      "female: 9.69520103761349%\n",
      "heterosexual: 10.0%\n",
      "hindu: 0.0%\n",
      "homosexual_gay_or_lesbian: 25.099601593625497%\n",
      "jewish: 9.433962264150944%\n",
      "latino: 12.0%\n",
      "male: 10.020768431983386%\n",
      "muslim: 14.241001564945227%\n",
      "other_race_or_ethnicity: 0.0%\n",
      "other_religion: 0.0%\n",
      "psychiatric_or_mental_illness: 7.5%\n",
      "transgender: 17.391304347826086%\n",
      "white: 20.679012345679013%\n"
     ]
    }
   ],
   "source": [
    "identity_columns_long = ['asian', 'atheist', 'bisexual', 'black', 'buddhist', 'christian', 'female', 'heterosexual', 'hindu', 'homosexual_gay_or_lesbian', 'intellectual_or_learning_disability', 'jewish', 'latino', 'male', 'muslim', 'other_disability', 'other_gender', 'other_race_or_ethnicity', 'other_religion', 'other_sexual_orientation', 'physical_disability', 'psychiatric_or_mental_illness', 'transgender', 'white']\n",
    "for identity in identity_columns_long:\n",
    "    identity_df = train[train[identity] == 1]\n",
    "    identity_tox = np.round(identity_df['target'].values)\n",
    "    n_toxic = sum(identity_tox)\n",
    "    n_tot = len(identity_tox)\n",
    "    if n_tot == 0:\n",
    "        continue\n",
    "    pct_toxic = n_toxic/n_tot * 100\n",
    "    print(f\"{identity}: {pct_toxic}%\")"
   ]
  },
  {
   "cell_type": "markdown",
   "metadata": {},
   "source": [
    "## Toxic Words"
   ]
  },
  {
   "cell_type": "markdown",
   "metadata": {},
   "source": [
    "### Identify Important Words with TF-IDF"
   ]
  },
  {
   "cell_type": "code",
   "execution_count": null,
   "metadata": {},
   "outputs": [],
   "source": [
    "from sklearn.feature_extraction.text import CountVectorizer, TfidfTransformer\n",
    "from nltk.tokenize import word_tokenize\n",
    "import nltk\n",
    "nltk.download('punkt')\n",
    "\n",
    "count_vectorizer = CountVectorizer(max_features=20000)\n",
    "count_vectorizer.fit(train['comment_text'].values)\n",
    "top_20000_words = count_vectorizer.get_feature_names()\n",
    "top_20000_words"
   ]
  },
  {
   "cell_type": "code",
   "execution_count": null,
   "metadata": {},
   "outputs": [],
   "source": [
    "# https://medium.freecodecamp.org/how-to-process-textual-data-using-tf-idf-in-python-cd2bbc0a94a3"
   ]
  },
  {
   "cell_type": "code",
   "execution_count": 121,
   "metadata": {},
   "outputs": [],
   "source": [
    "def tokenize(text):\n",
    "    tokenized_text = word_tokenize(text)\n",
    "    return tokenized_text\n",
    "\n",
    "def count_vectorize(song, vocab=None):\n",
    "    if vocab:\n",
    "        unique_words = vocab\n",
    "    else:\n",
    "        unique_words = list(set(song))\n",
    "    \n",
    "    song_dict = {i:0 for i in unique_words}\n",
    "    \n",
    "    for word in song:\n",
    "        song_dict[word] += 1\n",
    "    \n",
    "    return song_dict\n",
    "\n",
    "def term_frequency(BoW_dict):\n",
    "    total_word_count = sum(BoW_dict.values())\n",
    "    \n",
    "    for ind, val in BoW_dict.items():\n",
    "        BoW_dict[ind] = val/ total_word_count\n",
    "    \n",
    "    return BoW_dict\n",
    "\n",
    "def inverse_document_frequency(list_of_dicts):\n",
    "    vocab_set = set()\n",
    "    # Iterate through list of dfs and add index to vocab_set\n",
    "    for d in list_of_dicts:\n",
    "        for word in d.keys():\n",
    "            vocab_set.add(word)\n",
    "    \n",
    "    # Once vocab set is complete, create an empty dictionary with a key for each word and value of 0.\n",
    "    full_vocab_dict = {i:0 for i in vocab_set}\n",
    "    \n",
    "    # Loop through each word in full_vocab_dict\n",
    "    for word, val in full_vocab_dict.items():\n",
    "        docs = 0\n",
    "        \n",
    "        # Loop through list of dicts.  Each time a dictionary contains the word, increment docs by 1\n",
    "        for d in list_of_dicts:\n",
    "            if word in d:\n",
    "                docs += 1\n",
    "        \n",
    "        # Now that we know denominator for equation, compute and set IDF value for word\n",
    "        \n",
    "        full_vocab_dict[word] = np.log((len(list_of_dicts)/ float(docs)))\n",
    "    \n",
    "    return full_vocab_dict\n",
    "\n",
    "def tf_idf(list_of_dicts):\n",
    "    # Create empty dictionary containing full vocabulary of entire corpus\n",
    "    doc_tf_idf = {}\n",
    "    idf = inverse_document_frequency(list_of_dicts)\n",
    "    full_vocab_list = {i:0 for i in list(idf.keys())}\n",
    "    \n",
    "    # Create tf-idf list of dictionaries, containing a dictionary that will be updated for each document\n",
    "    tf_idf_list_of_dicts = []\n",
    "    \n",
    "    # Now, compute tf and then use this to compute and set tf-idf values for each document\n",
    "    for doc in list_of_dicts:\n",
    "        doc_tf = term_frequency(doc)\n",
    "        for word in doc_tf:\n",
    "            doc_tf_idf[word] = doc_tf[word] * idf[word]\n",
    "        tf_idf_list_of_dicts.append(doc_tf_idf)\n",
    "    \n",
    "    return tf_idf_list_of_dicts"
   ]
  },
  {
   "cell_type": "code",
   "execution_count": null,
   "metadata": {},
   "outputs": [
    {
     "name": "stderr",
     "output_type": "stream",
     "text": [
      "[nltk_data] Downloading package punkt to\n",
      "[nltk_data]     C:\\Users\\david\\AppData\\Roaming\\nltk_data...\n",
      "[nltk_data]   Package punkt is already up-to-date!\n"
     ]
    }
   ],
   "source": [
    "def main(comments):\n",
    "    # Iterate through list of filenames and read each in\n",
    "    count_vectorized_all_documents = []\n",
    "    for comment in comments:\n",
    "        raw_data = comment\n",
    "        # Clean and tokenize raw text\n",
    "        tokenized = tokenize(raw_data)\n",
    "        \n",
    "        # Get count vectorized representation and store in count_vectorized_all_documents  \n",
    "        count_vectorized_document = count_vectorize(tokenized)\n",
    "        count_vectorized_all_documents.append(count_vectorized_document)\n",
    "    \n",
    "    # Now that we have a list of BoW respresentations of each song, create a tf-idf representation of everything\n",
    "    tf_idf_all_docs = tf_idf(count_vectorized_all_documents)\n",
    "    \n",
    "    return tf_idf_all_docs\n",
    "\n",
    "tf_idf_all_docs = main(train['comment_text'].values)\n",
    "print(list(tf_idf_all_docs[0])[:10])"
   ]
  },
  {
   "cell_type": "markdown",
   "metadata": {},
   "source": [
    "# Modeling the Data"
   ]
  },
  {
   "cell_type": "code",
   "execution_count": 28,
   "metadata": {},
   "outputs": [
    {
     "name": "stderr",
     "output_type": "stream",
     "text": [
      "Using TensorFlow backend.\n"
     ]
    }
   ],
   "source": [
    "from keras.callbacks import EarlyStopping, ModelCheckpoint, LearningRateScheduler\n",
    "from keras.layers import Input, Dense, Embedding, SpatialDropout1D, Dropout, add, concatenate\n",
    "from keras.layers import CuDNNLSTM, Bidirectional, GlobalMaxPooling1D, GlobalAveragePooling1D\n",
    "from keras.preprocessing import text, sequence\n",
    "from keras.losses import binary_crossentropy\n",
    "from keras import backend as K\n",
    "import keras.layers as L\n",
    "from keras.engine.topology import Layer\n",
    "from keras import initializers, regularizers, constraints, optimizers, layers\n",
    "from keras.models import Model\n",
    "from keras.optimizers import Adam\n",
    "\n",
    "from sklearn.metrics import roc_auc_score\n",
    "from sklearn.model_selection import KFold, train_test_split\n",
    "import tensorflow as tf"
   ]
  },
  {
   "cell_type": "code",
   "execution_count": 29,
   "metadata": {},
   "outputs": [],
   "source": [
    "y_identities = (train[identity_columns] >= 0.5).astype(int).values\n",
    "\n",
    "# Overall\n",
    "weights = np.ones((len(train),)) / 4\n",
    "# Subgroup\n",
    "weights += (train[identity_columns].fillna(0).values>=0.5).sum(axis=1).astype(bool).astype(np.int) / 4\n",
    "# Background Positive, Subgroup Negative\n",
    "weights += (( (train['target'].values>=0.5).astype(bool).astype(np.int) +\n",
    "   (train[identity_columns].fillna(0).values<0.5).sum(axis=1).astype(bool).astype(np.int) ) > 1 ).astype(bool).astype(np.int) / 4\n",
    "# Background Negative, Subgroup Positive\n",
    "weights += (( (train['target'].values<0.5).astype(bool).astype(np.int) +\n",
    "   (train[identity_columns].fillna(0).values>=0.5).sum(axis=1).astype(bool).astype(np.int) ) > 1 ).astype(bool).astype(np.int) / 4\n",
    "loss_weight = 1.0 / weights.mean()\n",
    "\n",
    "y_train = np.vstack([(train['target'].values>=0.5).astype(np.int),weights]).T\n",
    "y_aux_train = train[['target', 'severe_toxicity', 'obscene', 'identity_attack', 'insult', 'threat']].values"
   ]
  },
  {
   "cell_type": "code",
   "execution_count": 53,
   "metadata": {},
   "outputs": [
    {
     "data": {
      "text/plain": [
       "3.2067764689160136"
      ]
     },
     "execution_count": 53,
     "metadata": {},
     "output_type": "execute_result"
    }
   ],
   "source": [
    "loss_weight"
   ]
  },
  {
   "cell_type": "code",
   "execution_count": 48,
   "metadata": {},
   "outputs": [],
   "source": [
    "x_train = np.vstack(train['text_ids_clipped'].to_numpy())\n",
    "x_test = np.vstack(test['text_ids_clipped'].to_numpy())"
   ]
  },
  {
   "cell_type": "code",
   "execution_count": 49,
   "metadata": {},
   "outputs": [],
   "source": [
    "with open('temporary.pickle', mode='wb') as f:\n",
    "    pickle.dump(x_test, f) # use temporary file to reduce memory\n",
    "\n",
    "del x_test"
   ]
  },
  {
   "cell_type": "code",
   "execution_count": 44,
   "metadata": {},
   "outputs": [],
   "source": [
    "def build_model(embedding_matrix, num_aux_targets, loss_weight):\n",
    "    '''\n",
    "    credits go to: https://www.kaggle.com/thousandvoices/simple-lstm/\n",
    "    '''\n",
    "    words = Input(shape=(MAXLEN,))\n",
    "    x = Embedding(*embedding_matrix.shape, weights=[embedding_matrix], trainable=False)(words)\n",
    "    x = SpatialDropout1D(0.5)(x)\n",
    "    x = Bidirectional(CuDNNLSTM(LSTM_UNITS, return_sequences=True))(x)\n",
    "    x = Bidirectional(CuDNNLSTM(LSTM_UNITS, return_sequences=True))(x)\n",
    "\n",
    "    hidden = concatenate([GlobalMaxPooling1D()(x),GlobalAveragePooling1D()(x),])\n",
    "    hidden = add([hidden, Dense(DENSE_HIDDEN_UNITS, activation='relu')(hidden)])\n",
    "    hidden = add([hidden, Dense(DENSE_HIDDEN_UNITS, activation='relu')(hidden)])\n",
    "    result = Dense(1, activation='sigmoid')(hidden)\n",
    "    aux_result = Dense(num_aux_targets, activation='sigmoid')(hidden)\n",
    "    \n",
    "    model = Model(inputs=words, outputs=[result, aux_result])\n",
    "    model.compile(loss=[custom_loss,'binary_crossentropy'], loss_weights=[loss_weight, 1.0], optimizer='adam')\n",
    "\n",
    "    return model"
   ]
  },
  {
   "cell_type": "code",
   "execution_count": 31,
   "metadata": {},
   "outputs": [],
   "source": [
    "def custom_loss(y_true, y_pred):\n",
    "    return binary_crossentropy(K.reshape(y_true[:,0],(-1,1)), y_pred) * y_true[:,1]"
   ]
  },
  {
   "cell_type": "code",
   "execution_count": 58,
   "metadata": {},
   "outputs": [
    {
     "name": "stdout",
     "output_type": "stream",
     "text": [
      "__________________________________________________________________________________________________\n",
      "Layer (type)                    Output Shape         Param #     Connected to                     \n",
      "==================================================================================================\n",
      "input_5 (InputLayer)            (None, 200)          0                                            \n",
      "__________________________________________________________________________________________________\n",
      "embedding_5 (Embedding)         (None, 200, 768)     22268928    input_5[0][0]                    \n",
      "__________________________________________________________________________________________________\n",
      "spatial_dropout1d_5 (SpatialDro (None, 200, 768)     0           embedding_5[0][0]                \n",
      "__________________________________________________________________________________________________\n",
      "bidirectional_9 (Bidirectional) (None, 200, 256)     919552      spatial_dropout1d_5[0][0]        \n",
      "__________________________________________________________________________________________________\n",
      "bidirectional_10 (Bidirectional (None, 200, 256)     395264      bidirectional_9[0][0]            \n",
      "__________________________________________________________________________________________________\n",
      "global_max_pooling1d_5 (GlobalM (None, 256)          0           bidirectional_10[0][0]           \n",
      "__________________________________________________________________________________________________\n",
      "global_average_pooling1d_5 (Glo (None, 256)          0           bidirectional_10[0][0]           \n",
      "__________________________________________________________________________________________________\n",
      "concatenate_5 (Concatenate)     (None, 512)          0           global_max_pooling1d_5[0][0]     \n",
      "                                                                 global_average_pooling1d_5[0][0] \n",
      "__________________________________________________________________________________________________\n",
      "dense_14 (Dense)                (None, 512)          262656      concatenate_5[0][0]              \n",
      "__________________________________________________________________________________________________\n",
      "add_8 (Add)                     (None, 512)          0           concatenate_5[0][0]              \n",
      "                                                                 dense_14[0][0]                   \n",
      "__________________________________________________________________________________________________\n",
      "dense_15 (Dense)                (None, 512)          262656      add_8[0][0]                      \n",
      "__________________________________________________________________________________________________\n",
      "add_9 (Add)                     (None, 512)          0           add_8[0][0]                      \n",
      "                                                                 dense_15[0][0]                   \n",
      "__________________________________________________________________________________________________\n",
      "dense_16 (Dense)                (None, 1)            513         add_9[0][0]                      \n",
      "__________________________________________________________________________________________________\n",
      "dense_17 (Dense)                (None, 6)            3078        add_9[0][0]                      \n",
      "==================================================================================================\n",
      "Total params: 24,112,647\n",
      "Trainable params: 1,843,719\n",
      "Non-trainable params: 22,268,928\n",
      "__________________________________________________________________________________________________\n"
     ]
    }
   ],
   "source": [
    "build_model(embedding_matrix, y_aux_train.shape[-1],loss_weight).summary()"
   ]
  },
  {
   "cell_type": "code",
   "execution_count": 32,
   "metadata": {},
   "outputs": [],
   "source": [
    "tr_ind, val_ind = train_test_split(list(range(len(x_train))) ,test_size = 0.05, random_state = 123)"
   ]
  },
  {
   "cell_type": "code",
   "execution_count": 33,
   "metadata": {},
   "outputs": [
    {
     "data": {
      "text/plain": [
       "7"
      ]
     },
     "execution_count": 33,
     "metadata": {},
     "output_type": "execute_result"
    }
   ],
   "source": [
    "tf.reset_default_graph()\n",
    "gc.collect()"
   ]
  },
  {
   "cell_type": "code",
   "execution_count": 52,
   "metadata": {},
   "outputs": [
    {
     "name": "stdout",
     "output_type": "stream",
     "text": [
      "Train on 171462 samples, validate on 9025 samples\n",
      "Epoch 1/1\n"
     ]
    },
    {
     "name": "stdout",
     "output_type": "stream",
     "text": [
      " 28160/171462 [===>..........................] - ETA: 36:12 - loss: 1.3399 - dense_12_loss: 0.2087 - dense_13_loss: 0.67 - ETA: 19:29 - loss: 1.1830 - dense_12_loss: 0.1775 - dense_13_loss: 0.61 - ETA: 13:56 - loss: 1.1126 - dense_12_loss: 0.1819 - dense_13_loss: 0.52 - ETA: 11:09 - loss: 0.9806 - dense_12_loss: 0.1644 - dense_13_loss: 0.45 - ETA: 9:29 - loss: 0.8764 - dense_12_loss: 0.1509 - dense_13_loss: 0.3925 - ETA: 8:22 - loss: 0.8575 - dense_12_loss: 0.1545 - dense_13_loss: 0.362 - ETA: 7:35 - loss: 0.8310 - dense_12_loss: 0.1547 - dense_13_loss: 0.334 - ETA: 6:59 - loss: 0.8127 - dense_12_loss: 0.1555 - dense_13_loss: 0.313 - ETA: 6:30 - loss: 0.7844 - dense_12_loss: 0.1521 - dense_13_loss: 0.296 - ETA: 6:08 - loss: 0.7486 - dense_12_loss: 0.1459 - dense_13_loss: 0.280 - ETA: 5:49 - loss: 0.7244 - dense_12_loss: 0.1425 - dense_13_loss: 0.267 - ETA: 5:34 - loss: 0.7166 - dense_12_loss: 0.1429 - dense_13_loss: 0.258 - ETA: 5:21 - loss: 0.7079 - dense_12_loss: 0.1427 - dense_13_loss: 0.250 - ETA: 5:10 - loss: 0.6996 - dense_12_loss: 0.1417 - dense_13_loss: 0.245 - ETA: 5:00 - loss: 0.6941 - dense_12_loss: 0.1414 - dense_13_loss: 0.240 - ETA: 4:51 - loss: 0.6847 - dense_12_loss: 0.1401 - dense_13_loss: 0.235 - ETA: 4:44 - loss: 0.6786 - dense_12_loss: 0.1396 - dense_13_loss: 0.230 - ETA: 4:37 - loss: 0.6758 - dense_12_loss: 0.1399 - dense_13_loss: 0.227 - ETA: 4:31 - loss: 0.6684 - dense_12_loss: 0.1386 - dense_13_loss: 0.223 - ETA: 4:25 - loss: 0.6649 - dense_12_loss: 0.1384 - dense_13_loss: 0.221 - ETA: 4:20 - loss: 0.6596 - dense_12_loss: 0.1378 - dense_13_loss: 0.217 - ETA: 4:15 - loss: 0.6592 - dense_12_loss: 0.1383 - dense_13_loss: 0.215 - ETA: 4:11 - loss: 0.6540 - dense_12_loss: 0.1377 - dense_13_loss: 0.212 - ETA: 4:07 - loss: 0.6525 - dense_12_loss: 0.1379 - dense_13_loss: 0.210 - ETA: 4:04 - loss: 0.6510 - dense_12_loss: 0.1382 - dense_13_loss: 0.207 - ETA: 4:00 - loss: 0.6453 - dense_12_loss: 0.1373 - dense_13_loss: 0.205 - ETA: 3:57 - loss: 0.6425 - dense_12_loss: 0.1372 - dense_13_loss: 0.202 - ETA: 3:54 - loss: 0.6372 - dense_12_loss: 0.1363 - dense_13_loss: 0.200 - ETA: 3:52 - loss: 0.6315 - dense_12_loss: 0.1353 - dense_13_loss: 0.197 - ETA: 3:49 - loss: 0.6281 - dense_12_loss: 0.1349 - dense_13_loss: 0.195 - ETA: 3:47 - loss: 0.6271 - dense_12_loss: 0.1349 - dense_13_loss: 0.194 - ETA: 3:44 - loss: 0.6263 - dense_12_loss: 0.1351 - dense_13_loss: 0.193 - ETA: 3:42 - loss: 0.6225 - dense_12_loss: 0.1344 - dense_13_loss: 0.191 - ETA: 3:40 - loss: 0.6223 - dense_12_loss: 0.1347 - dense_13_loss: 0.190 - ETA: 3:39 - loss: 0.6223 - dense_12_loss: 0.1350 - dense_13_loss: 0.189 - ETA: 3:37 - loss: 0.6187 - dense_12_loss: 0.1344 - dense_13_loss: 0.187 - ETA: 3:35 - loss: 0.6131 - dense_12_loss: 0.1333 - dense_13_loss: 0.185 - ETA: 3:33 - loss: 0.6111 - dense_12_loss: 0.1330 - dense_13_loss: 0.184 - ETA: 3:31 - loss: 0.6094 - dense_12_loss: 0.1327 - dense_13_loss: 0.183 - ETA: 3:30 - loss: 0.6068 - dense_12_loss: 0.1324 - dense_13_loss: 0.182 - ETA: 3:29 - loss: 0.6042 - dense_12_loss: 0.1318 - dense_13_loss: 0.181 - ETA: 3:27 - loss: 0.6063 - dense_12_loss: 0.1325 - dense_13_loss: 0.181 - ETA: 3:26 - loss: 0.6015 - dense_12_loss: 0.1315 - dense_13_loss: 0.179 - ETA: 3:24 - loss: 0.6003 - dense_12_loss: 0.1313 - dense_13_loss: 0.179 - ETA: 3:23 - loss: 0.5987 - dense_12_loss: 0.1311 - dense_13_loss: 0.178 - ETA: 3:22 - loss: 0.5969 - dense_12_loss: 0.1308 - dense_13_loss: 0.177 - ETA: 3:21 - loss: 0.5940 - dense_12_loss: 0.1301 - dense_13_loss: 0.176 - ETA: 3:20 - loss: 0.5924 - dense_12_loss: 0.1299 - dense_13_loss: 0.175 - ETA: 3:19 - loss: 0.5909 - dense_12_loss: 0.1296 - dense_13_loss: 0.175 - ETA: 3:18 - loss: 0.5896 - dense_12_loss: 0.1294 - dense_13_loss: 0.174 - ETA: 3:17 - loss: 0.5914 - dense_12_loss: 0.1300 - dense_13_loss: 0.174 - ETA: 3:16 - loss: 0.5911 - dense_12_loss: 0.1301 - dense_13_loss: 0.174 - ETA: 3:15 - loss: 0.5929 - dense_12_loss: 0.1307 - dense_13_loss: 0.173 - ETA: 3:14 - loss: 0.5916 - dense_12_loss: 0.1304 - dense_13_loss: 0.173 - ETA: 3:13 - loss: 0.5923 - dense_12_loss: 0.1307 - dense_13_loss: 0.173 - ETA: 3:12 - loss: 0.5917 - dense_12_loss: 0.1306 - dense_13_loss: 0.173 - ETA: 3:11 - loss: 0.5909 - dense_12_loss: 0.1304 - dense_13_loss: 0.172 - ETA: 3:10 - loss: 0.5889 - dense_12_loss: 0.1301 - dense_13_loss: 0.171 - ETA: 3:10 - loss: 0.5877 - dense_12_loss: 0.1298 - dense_13_loss: 0.171 - ETA: 3:09 - loss: 0.5883 - dense_12_loss: 0.1300 - dense_13_loss: 0.171 - ETA: 3:08 - loss: 0.5855 - dense_12_loss: 0.1294 - dense_13_loss: 0.170 - ETA: 3:07 - loss: 0.5827 - dense_12_loss: 0.1287 - dense_13_loss: 0.170 - ETA: 3:07 - loss: 0.5815 - dense_12_loss: 0.1285 - dense_13_loss: 0.169 - ETA: 3:06 - loss: 0.5822 - dense_12_loss: 0.1289 - dense_13_loss: 0.168 - ETA: 3:05 - loss: 0.5814 - dense_12_loss: 0.1287 - dense_13_loss: 0.168 - ETA: 3:04 - loss: 0.5809 - dense_12_loss: 0.1287 - dense_13_loss: 0.168 - ETA: 3:04 - loss: 0.5802 - dense_12_loss: 0.1285 - dense_13_loss: 0.168 - ETA: 3:03 - loss: 0.5798 - dense_12_loss: 0.1284 - dense_13_loss: 0.167 - ETA: 3:02 - loss: 0.5777 - dense_12_loss: 0.1280 - dense_13_loss: 0.167 - ETA: 3:02 - loss: 0.5792 - dense_12_loss: 0.1285 - dense_13_loss: 0.167 - ETA: 3:01 - loss: 0.5778 - dense_12_loss: 0.1282 - dense_13_loss: 0.166 - ETA: 3:00 - loss: 0.5776 - dense_12_loss: 0.1282 - dense_13_loss: 0.166 - ETA: 3:00 - loss: 0.5774 - dense_12_loss: 0.1282 - dense_13_loss: 0.166 - ETA: 2:59 - loss: 0.5790 - dense_12_loss: 0.1287 - dense_13_loss: 0.166 - ETA: 2:59 - loss: 0.5785 - dense_12_loss: 0.1287 - dense_13_loss: 0.165 - ETA: 2:58 - loss: 0.5783 - dense_12_loss: 0.1287 - dense_13_loss: 0.165 - ETA: 2:57 - loss: 0.5777 - dense_12_loss: 0.1286 - dense_13_loss: 0.165 - ETA: 2:57 - loss: 0.5772 - dense_12_loss: 0.1285 - dense_13_loss: 0.165 - ETA: 2:56 - loss: 0.5787 - dense_12_loss: 0.1290 - dense_13_loss: 0.164 - ETA: 2:56 - loss: 0.5781 - dense_12_loss: 0.1289 - dense_13_loss: 0.164 - ETA: 2:55 - loss: 0.5782 - dense_12_loss: 0.1290 - dense_13_loss: 0.164 - ETA: 2:55 - loss: 0.5780 - dense_12_loss: 0.1290 - dense_13_loss: 0.164 - ETA: 2:54 - loss: 0.5781 - dense_12_loss: 0.1291 - dense_13_loss: 0.164 - ETA: 2:53 - loss: 0.5764 - dense_12_loss: 0.1287 - dense_13_loss: 0.163 - ETA: 2:53 - loss: 0.5757 - dense_12_loss: 0.1285 - dense_13_loss: 0.163 - ETA: 2:52 - loss: 0.5759 - dense_12_loss: 0.1286 - dense_13_loss: 0.163 - ETA: 2:52 - loss: 0.5755 - dense_12_loss: 0.1285 - dense_13_loss: 0.163 - ETA: 2:51 - loss: 0.5761 - dense_12_loss: 0.1288 - dense_13_loss: 0.163 - ETA: 2:51 - loss: 0.5761 - dense_12_loss: 0.1288 - dense_13_loss: 0.163 - ETA: 2:50 - loss: 0.5760 - dense_12_loss: 0.1288 - dense_13_loss: 0.163 - ETA: 2:50 - loss: 0.5768 - dense_12_loss: 0.1290 - dense_13_loss: 0.163 - ETA: 2:49 - loss: 0.5761 - dense_12_loss: 0.1289 - dense_13_loss: 0.162 - ETA: 2:49 - loss: 0.5752 - dense_12_loss: 0.1287 - dense_13_loss: 0.162 - ETA: 2:48 - loss: 0.5757 - dense_12_loss: 0.1289 - dense_13_loss: 0.162 - ETA: 2:48 - loss: 0.5750 - dense_12_loss: 0.1287 - dense_13_loss: 0.162 - ETA: 2:47 - loss: 0.5737 - dense_12_loss: 0.1284 - dense_13_loss: 0.161 - ETA: 2:47 - loss: 0.5740 - dense_12_loss: 0.1285 - dense_13_loss: 0.161 - ETA: 2:47 - loss: 0.5737 - dense_12_loss: 0.1285 - dense_13_loss: 0.161 - ETA: 2:46 - loss: 0.5733 - dense_12_loss: 0.1284 - dense_13_loss: 0.161 - ETA: 2:46 - loss: 0.5731 - dense_12_loss: 0.1284 - dense_13_loss: 0.161 - ETA: 2:45 - loss: 0.5731 - dense_12_loss: 0.1285 - dense_13_loss: 0.161 - ETA: 2:45 - loss: 0.5741 - dense_12_loss: 0.1287 - dense_13_loss: 0.161 - ETA: 2:44 - loss: 0.5737 - dense_12_loss: 0.1287 - dense_13_loss: 0.161 - ETA: 2:44 - loss: 0.5720 - dense_12_loss: 0.1283 - dense_13_loss: 0.160 - ETA: 2:43 - loss: 0.5708 - dense_12_loss: 0.1280 - dense_13_loss: 0.160 - ETA: 2:43 - loss: 0.5704 - dense_12_loss: 0.1279 - dense_13_loss: 0.160 - ETA: 2:43 - loss: 0.5710 - dense_12_loss: 0.1281 - dense_13_loss: 0.160 - ETA: 2:42 - loss: 0.5711 - dense_12_loss: 0.1282 - dense_13_loss: 0.160 - ETA: 2:42 - loss: 0.5704 - dense_12_loss: 0.1280 - dense_13_loss: 0.160 - ETA: 2:41 - loss: 0.5702 - dense_12_loss: 0.1279 - dense_13_loss: 0.1599\b\b\b\b\b\b\b\b\b\b\b\b\b\b\b\b\b\b\b\b\b\b\b\b\b\b\b\b\b\b\b\b\b\b\b\b\b\b\b\b\b\b\b\b\b\b\b\b\b\b\b\b\b\b\b\b\b\b\b\b\b\b\b\b\b\b\b\b\b\b\b\b\b\b\b\b\b\b\b\b\b\b\b\b\b\b\b\b\b\b\b\b\b\b\b\b\b\b\b\b\b\b\b\b\b\b\b\b\b\b\b\b\b\b\b\b\b\b\b\b\b"
     ]
    },
    {
     "name": "stdout",
     "output_type": "stream",
     "text": [
      " 56576/171462 [========>.....................] - ETA: 2:41 - loss: 0.5706 - dense_12_loss: 0.1280 - dense_13_loss: 0.160 - ETA: 2:40 - loss: 0.5697 - dense_12_loss: 0.1278 - dense_13_loss: 0.159 - ETA: 2:40 - loss: 0.5693 - dense_12_loss: 0.1278 - dense_13_loss: 0.159 - ETA: 2:40 - loss: 0.5691 - dense_12_loss: 0.1277 - dense_13_loss: 0.159 - ETA: 2:39 - loss: 0.5682 - dense_12_loss: 0.1275 - dense_13_loss: 0.159 - ETA: 2:39 - loss: 0.5680 - dense_12_loss: 0.1275 - dense_13_loss: 0.159 - ETA: 2:38 - loss: 0.5687 - dense_12_loss: 0.1277 - dense_13_loss: 0.159 - ETA: 2:38 - loss: 0.5679 - dense_12_loss: 0.1276 - dense_13_loss: 0.158 - ETA: 2:38 - loss: 0.5675 - dense_12_loss: 0.1274 - dense_13_loss: 0.158 - ETA: 2:37 - loss: 0.5678 - dense_12_loss: 0.1275 - dense_13_loss: 0.158 - ETA: 2:37 - loss: 0.5670 - dense_12_loss: 0.1274 - dense_13_loss: 0.158 - ETA: 2:36 - loss: 0.5665 - dense_12_loss: 0.1273 - dense_13_loss: 0.158 - ETA: 2:36 - loss: 0.5658 - dense_12_loss: 0.1271 - dense_13_loss: 0.158 - ETA: 2:36 - loss: 0.5655 - dense_12_loss: 0.1270 - dense_13_loss: 0.158 - ETA: 2:35 - loss: 0.5648 - dense_12_loss: 0.1269 - dense_13_loss: 0.157 - ETA: 2:35 - loss: 0.5640 - dense_12_loss: 0.1267 - dense_13_loss: 0.157 - ETA: 2:34 - loss: 0.5633 - dense_12_loss: 0.1266 - dense_13_loss: 0.157 - ETA: 2:34 - loss: 0.5637 - dense_12_loss: 0.1267 - dense_13_loss: 0.157 - ETA: 2:34 - loss: 0.5636 - dense_12_loss: 0.1267 - dense_13_loss: 0.157 - ETA: 2:33 - loss: 0.5642 - dense_12_loss: 0.1268 - dense_13_loss: 0.157 - ETA: 2:33 - loss: 0.5637 - dense_12_loss: 0.1267 - dense_13_loss: 0.157 - ETA: 2:32 - loss: 0.5633 - dense_12_loss: 0.1266 - dense_13_loss: 0.157 - ETA: 2:32 - loss: 0.5627 - dense_12_loss: 0.1265 - dense_13_loss: 0.157 - ETA: 2:32 - loss: 0.5617 - dense_12_loss: 0.1262 - dense_13_loss: 0.157 - ETA: 2:31 - loss: 0.5614 - dense_12_loss: 0.1262 - dense_13_loss: 0.156 - ETA: 2:31 - loss: 0.5611 - dense_12_loss: 0.1261 - dense_13_loss: 0.156 - ETA: 2:31 - loss: 0.5608 - dense_12_loss: 0.1260 - dense_13_loss: 0.156 - ETA: 2:30 - loss: 0.5612 - dense_12_loss: 0.1262 - dense_13_loss: 0.156 - ETA: 2:30 - loss: 0.5610 - dense_12_loss: 0.1261 - dense_13_loss: 0.156 - ETA: 2:30 - loss: 0.5613 - dense_12_loss: 0.1262 - dense_13_loss: 0.156 - ETA: 2:29 - loss: 0.5610 - dense_12_loss: 0.1261 - dense_13_loss: 0.156 - ETA: 2:29 - loss: 0.5612 - dense_12_loss: 0.1262 - dense_13_loss: 0.156 - ETA: 2:28 - loss: 0.5611 - dense_12_loss: 0.1262 - dense_13_loss: 0.156 - ETA: 2:28 - loss: 0.5611 - dense_12_loss: 0.1262 - dense_13_loss: 0.156 - ETA: 2:28 - loss: 0.5615 - dense_12_loss: 0.1263 - dense_13_loss: 0.156 - ETA: 2:27 - loss: 0.5614 - dense_12_loss: 0.1263 - dense_13_loss: 0.156 - ETA: 2:27 - loss: 0.5613 - dense_12_loss: 0.1263 - dense_13_loss: 0.156 - ETA: 2:27 - loss: 0.5607 - dense_12_loss: 0.1262 - dense_13_loss: 0.156 - ETA: 2:26 - loss: 0.5604 - dense_12_loss: 0.1261 - dense_13_loss: 0.155 - ETA: 2:26 - loss: 0.5606 - dense_12_loss: 0.1262 - dense_13_loss: 0.155 - ETA: 2:26 - loss: 0.5598 - dense_12_loss: 0.1260 - dense_13_loss: 0.155 - ETA: 2:25 - loss: 0.5602 - dense_12_loss: 0.1262 - dense_13_loss: 0.155 - ETA: 2:25 - loss: 0.5597 - dense_12_loss: 0.1261 - dense_13_loss: 0.155 - ETA: 2:25 - loss: 0.5593 - dense_12_loss: 0.1260 - dense_13_loss: 0.155 - ETA: 2:24 - loss: 0.5590 - dense_12_loss: 0.1259 - dense_13_loss: 0.155 - ETA: 2:24 - loss: 0.5592 - dense_12_loss: 0.1260 - dense_13_loss: 0.155 - ETA: 2:24 - loss: 0.5594 - dense_12_loss: 0.1260 - dense_13_loss: 0.155 - ETA: 2:23 - loss: 0.5589 - dense_12_loss: 0.1259 - dense_13_loss: 0.155 - ETA: 2:23 - loss: 0.5585 - dense_12_loss: 0.1258 - dense_13_loss: 0.155 - ETA: 2:23 - loss: 0.5577 - dense_12_loss: 0.1256 - dense_13_loss: 0.154 - ETA: 2:22 - loss: 0.5577 - dense_12_loss: 0.1256 - dense_13_loss: 0.155 - ETA: 2:22 - loss: 0.5567 - dense_12_loss: 0.1254 - dense_13_loss: 0.154 - ETA: 2:22 - loss: 0.5560 - dense_12_loss: 0.1252 - dense_13_loss: 0.154 - ETA: 2:21 - loss: 0.5549 - dense_12_loss: 0.1249 - dense_13_loss: 0.154 - ETA: 2:21 - loss: 0.5549 - dense_12_loss: 0.1249 - dense_13_loss: 0.154 - ETA: 2:21 - loss: 0.5543 - dense_12_loss: 0.1248 - dense_13_loss: 0.154 - ETA: 2:20 - loss: 0.5540 - dense_12_loss: 0.1247 - dense_13_loss: 0.154 - ETA: 2:20 - loss: 0.5543 - dense_12_loss: 0.1248 - dense_13_loss: 0.154 - ETA: 2:20 - loss: 0.5543 - dense_12_loss: 0.1248 - dense_13_loss: 0.154 - ETA: 2:19 - loss: 0.5541 - dense_12_loss: 0.1248 - dense_13_loss: 0.154 - ETA: 2:19 - loss: 0.5536 - dense_12_loss: 0.1247 - dense_13_loss: 0.153 - ETA: 2:19 - loss: 0.5532 - dense_12_loss: 0.1246 - dense_13_loss: 0.153 - ETA: 2:18 - loss: 0.5523 - dense_12_loss: 0.1243 - dense_13_loss: 0.153 - ETA: 2:18 - loss: 0.5525 - dense_12_loss: 0.1244 - dense_13_loss: 0.153 - ETA: 2:18 - loss: 0.5522 - dense_12_loss: 0.1243 - dense_13_loss: 0.153 - ETA: 2:17 - loss: 0.5518 - dense_12_loss: 0.1242 - dense_13_loss: 0.153 - ETA: 2:17 - loss: 0.5518 - dense_12_loss: 0.1243 - dense_13_loss: 0.153 - ETA: 2:17 - loss: 0.5514 - dense_12_loss: 0.1242 - dense_13_loss: 0.153 - ETA: 2:16 - loss: 0.5514 - dense_12_loss: 0.1242 - dense_13_loss: 0.153 - ETA: 2:16 - loss: 0.5509 - dense_12_loss: 0.1241 - dense_13_loss: 0.153 - ETA: 2:16 - loss: 0.5506 - dense_12_loss: 0.1240 - dense_13_loss: 0.152 - ETA: 2:15 - loss: 0.5500 - dense_12_loss: 0.1238 - dense_13_loss: 0.152 - ETA: 2:15 - loss: 0.5493 - dense_12_loss: 0.1237 - dense_13_loss: 0.152 - ETA: 2:15 - loss: 0.5494 - dense_12_loss: 0.1237 - dense_13_loss: 0.152 - ETA: 2:15 - loss: 0.5492 - dense_12_loss: 0.1237 - dense_13_loss: 0.152 - ETA: 2:14 - loss: 0.5486 - dense_12_loss: 0.1235 - dense_13_loss: 0.152 - ETA: 2:14 - loss: 0.5485 - dense_12_loss: 0.1235 - dense_13_loss: 0.152 - ETA: 2:14 - loss: 0.5481 - dense_12_loss: 0.1234 - dense_13_loss: 0.152 - ETA: 2:13 - loss: 0.5476 - dense_12_loss: 0.1233 - dense_13_loss: 0.152 - ETA: 2:13 - loss: 0.5473 - dense_12_loss: 0.1232 - dense_13_loss: 0.152 - ETA: 2:13 - loss: 0.5469 - dense_12_loss: 0.1231 - dense_13_loss: 0.152 - ETA: 2:12 - loss: 0.5462 - dense_12_loss: 0.1229 - dense_13_loss: 0.152 - ETA: 2:12 - loss: 0.5461 - dense_12_loss: 0.1229 - dense_13_loss: 0.151 - ETA: 2:12 - loss: 0.5461 - dense_12_loss: 0.1230 - dense_13_loss: 0.151 - ETA: 2:11 - loss: 0.5458 - dense_12_loss: 0.1229 - dense_13_loss: 0.151 - ETA: 2:11 - loss: 0.5461 - dense_12_loss: 0.1230 - dense_13_loss: 0.151 - ETA: 2:11 - loss: 0.5459 - dense_12_loss: 0.1230 - dense_13_loss: 0.151 - ETA: 2:10 - loss: 0.5453 - dense_12_loss: 0.1228 - dense_13_loss: 0.151 - ETA: 2:10 - loss: 0.5450 - dense_12_loss: 0.1227 - dense_13_loss: 0.151 - ETA: 2:10 - loss: 0.5447 - dense_12_loss: 0.1227 - dense_13_loss: 0.151 - ETA: 2:10 - loss: 0.5445 - dense_12_loss: 0.1226 - dense_13_loss: 0.151 - ETA: 2:09 - loss: 0.5440 - dense_12_loss: 0.1225 - dense_13_loss: 0.151 - ETA: 2:09 - loss: 0.5444 - dense_12_loss: 0.1226 - dense_13_loss: 0.151 - ETA: 2:09 - loss: 0.5443 - dense_12_loss: 0.1226 - dense_13_loss: 0.151 - ETA: 2:08 - loss: 0.5440 - dense_12_loss: 0.1225 - dense_13_loss: 0.151 - ETA: 2:08 - loss: 0.5441 - dense_12_loss: 0.1226 - dense_13_loss: 0.151 - ETA: 2:08 - loss: 0.5443 - dense_12_loss: 0.1226 - dense_13_loss: 0.151 - ETA: 2:07 - loss: 0.5437 - dense_12_loss: 0.1224 - dense_13_loss: 0.151 - ETA: 2:07 - loss: 0.5438 - dense_12_loss: 0.1225 - dense_13_loss: 0.151 - ETA: 2:07 - loss: 0.5426 - dense_12_loss: 0.1222 - dense_13_loss: 0.150 - ETA: 2:07 - loss: 0.5424 - dense_12_loss: 0.1221 - dense_13_loss: 0.150 - ETA: 2:06 - loss: 0.5420 - dense_12_loss: 0.1220 - dense_13_loss: 0.150 - ETA: 2:06 - loss: 0.5417 - dense_12_loss: 0.1220 - dense_13_loss: 0.150 - ETA: 2:06 - loss: 0.5416 - dense_12_loss: 0.1219 - dense_13_loss: 0.150 - ETA: 2:05 - loss: 0.5414 - dense_12_loss: 0.1219 - dense_13_loss: 0.150 - ETA: 2:05 - loss: 0.5410 - dense_12_loss: 0.1218 - dense_13_loss: 0.150 - ETA: 2:05 - loss: 0.5404 - dense_12_loss: 0.1216 - dense_13_loss: 0.150 - ETA: 2:04 - loss: 0.5408 - dense_12_loss: 0.1218 - dense_13_loss: 0.150 - ETA: 2:04 - loss: 0.5403 - dense_12_loss: 0.1216 - dense_13_loss: 0.150 - ETA: 2:04 - loss: 0.5401 - dense_12_loss: 0.1216 - dense_13_loss: 0.150 - ETA: 2:03 - loss: 0.5400 - dense_12_loss: 0.1216 - dense_13_loss: 0.1501"
     ]
    },
    {
     "name": "stdout",
     "output_type": "stream",
     "text": [
      " 84992/171462 [=============>................] - ETA: 2:03 - loss: 0.5399 - dense_12_loss: 0.1215 - dense_13_loss: 0.150 - ETA: 2:03 - loss: 0.5398 - dense_12_loss: 0.1215 - dense_13_loss: 0.150 - ETA: 2:03 - loss: 0.5392 - dense_12_loss: 0.1214 - dense_13_loss: 0.150 - ETA: 2:02 - loss: 0.5393 - dense_12_loss: 0.1214 - dense_13_loss: 0.150 - ETA: 2:02 - loss: 0.5388 - dense_12_loss: 0.1212 - dense_13_loss: 0.150 - ETA: 2:02 - loss: 0.5382 - dense_12_loss: 0.1211 - dense_13_loss: 0.149 - ETA: 2:01 - loss: 0.5377 - dense_12_loss: 0.1209 - dense_13_loss: 0.149 - ETA: 2:01 - loss: 0.5378 - dense_12_loss: 0.1210 - dense_13_loss: 0.149 - ETA: 2:01 - loss: 0.5376 - dense_12_loss: 0.1209 - dense_13_loss: 0.149 - ETA: 2:01 - loss: 0.5374 - dense_12_loss: 0.1209 - dense_13_loss: 0.149 - ETA: 2:00 - loss: 0.5369 - dense_12_loss: 0.1208 - dense_13_loss: 0.149 - ETA: 2:00 - loss: 0.5365 - dense_12_loss: 0.1207 - dense_13_loss: 0.149 - ETA: 2:00 - loss: 0.5365 - dense_12_loss: 0.1206 - dense_13_loss: 0.149 - ETA: 1:59 - loss: 0.5363 - dense_12_loss: 0.1206 - dense_13_loss: 0.149 - ETA: 1:59 - loss: 0.5356 - dense_12_loss: 0.1204 - dense_13_loss: 0.149 - ETA: 1:59 - loss: 0.5347 - dense_12_loss: 0.1202 - dense_13_loss: 0.149 - ETA: 1:58 - loss: 0.5346 - dense_12_loss: 0.1202 - dense_13_loss: 0.149 - ETA: 1:58 - loss: 0.5347 - dense_12_loss: 0.1202 - dense_13_loss: 0.149 - ETA: 1:58 - loss: 0.5344 - dense_12_loss: 0.1201 - dense_13_loss: 0.149 - ETA: 1:58 - loss: 0.5341 - dense_12_loss: 0.1201 - dense_13_loss: 0.149 - ETA: 1:57 - loss: 0.5340 - dense_12_loss: 0.1200 - dense_13_loss: 0.149 - ETA: 1:57 - loss: 0.5336 - dense_12_loss: 0.1199 - dense_13_loss: 0.149 - ETA: 1:57 - loss: 0.5333 - dense_12_loss: 0.1199 - dense_13_loss: 0.148 - ETA: 1:56 - loss: 0.5327 - dense_12_loss: 0.1197 - dense_13_loss: 0.148 - ETA: 1:56 - loss: 0.5327 - dense_12_loss: 0.1197 - dense_13_loss: 0.148 - ETA: 1:56 - loss: 0.5323 - dense_12_loss: 0.1196 - dense_13_loss: 0.148 - ETA: 1:55 - loss: 0.5318 - dense_12_loss: 0.1195 - dense_13_loss: 0.148 - ETA: 1:55 - loss: 0.5315 - dense_12_loss: 0.1194 - dense_13_loss: 0.148 - ETA: 1:55 - loss: 0.5316 - dense_12_loss: 0.1194 - dense_13_loss: 0.148 - ETA: 1:55 - loss: 0.5313 - dense_12_loss: 0.1194 - dense_13_loss: 0.148 - ETA: 1:54 - loss: 0.5308 - dense_12_loss: 0.1193 - dense_13_loss: 0.148 - ETA: 1:54 - loss: 0.5305 - dense_12_loss: 0.1192 - dense_13_loss: 0.148 - ETA: 1:54 - loss: 0.5305 - dense_12_loss: 0.1192 - dense_13_loss: 0.148 - ETA: 1:53 - loss: 0.5303 - dense_12_loss: 0.1192 - dense_13_loss: 0.148 - ETA: 1:53 - loss: 0.5299 - dense_12_loss: 0.1191 - dense_13_loss: 0.148 - ETA: 1:53 - loss: 0.5296 - dense_12_loss: 0.1189 - dense_13_loss: 0.148 - ETA: 1:53 - loss: 0.5292 - dense_12_loss: 0.1189 - dense_13_loss: 0.148 - ETA: 1:52 - loss: 0.5287 - dense_12_loss: 0.1187 - dense_13_loss: 0.148 - ETA: 1:52 - loss: 0.5284 - dense_12_loss: 0.1187 - dense_13_loss: 0.147 - ETA: 1:52 - loss: 0.5281 - dense_12_loss: 0.1186 - dense_13_loss: 0.147 - ETA: 1:51 - loss: 0.5274 - dense_12_loss: 0.1184 - dense_13_loss: 0.147 - ETA: 1:51 - loss: 0.5270 - dense_12_loss: 0.1183 - dense_13_loss: 0.147 - ETA: 1:51 - loss: 0.5262 - dense_12_loss: 0.1181 - dense_13_loss: 0.147 - ETA: 1:50 - loss: 0.5258 - dense_12_loss: 0.1180 - dense_13_loss: 0.147 - ETA: 1:50 - loss: 0.5255 - dense_12_loss: 0.1179 - dense_13_loss: 0.147 - ETA: 1:50 - loss: 0.5252 - dense_12_loss: 0.1179 - dense_13_loss: 0.147 - ETA: 1:50 - loss: 0.5245 - dense_12_loss: 0.1177 - dense_13_loss: 0.147 - ETA: 1:49 - loss: 0.5242 - dense_12_loss: 0.1176 - dense_13_loss: 0.147 - ETA: 1:49 - loss: 0.5238 - dense_12_loss: 0.1175 - dense_13_loss: 0.146 - ETA: 1:49 - loss: 0.5230 - dense_12_loss: 0.1173 - dense_13_loss: 0.146 - ETA: 1:49 - loss: 0.5228 - dense_12_loss: 0.1173 - dense_13_loss: 0.146 - ETA: 1:48 - loss: 0.5225 - dense_12_loss: 0.1172 - dense_13_loss: 0.146 - ETA: 1:48 - loss: 0.5221 - dense_12_loss: 0.1171 - dense_13_loss: 0.146 - ETA: 1:48 - loss: 0.5218 - dense_12_loss: 0.1170 - dense_13_loss: 0.146 - ETA: 1:48 - loss: 0.5217 - dense_12_loss: 0.1170 - dense_13_loss: 0.146 - ETA: 1:47 - loss: 0.5219 - dense_12_loss: 0.1170 - dense_13_loss: 0.146 - ETA: 1:47 - loss: 0.5214 - dense_12_loss: 0.1169 - dense_13_loss: 0.146 - ETA: 1:47 - loss: 0.5211 - dense_12_loss: 0.1168 - dense_13_loss: 0.146 - ETA: 1:46 - loss: 0.5205 - dense_12_loss: 0.1167 - dense_13_loss: 0.146 - ETA: 1:46 - loss: 0.5200 - dense_12_loss: 0.1166 - dense_13_loss: 0.146 - ETA: 1:46 - loss: 0.5193 - dense_12_loss: 0.1164 - dense_13_loss: 0.146 - ETA: 1:46 - loss: 0.5190 - dense_12_loss: 0.1163 - dense_13_loss: 0.146 - ETA: 1:45 - loss: 0.5187 - dense_12_loss: 0.1162 - dense_13_loss: 0.146 - ETA: 1:45 - loss: 0.5187 - dense_12_loss: 0.1162 - dense_13_loss: 0.145 - ETA: 1:45 - loss: 0.5187 - dense_12_loss: 0.1162 - dense_13_loss: 0.146 - ETA: 1:45 - loss: 0.5188 - dense_12_loss: 0.1162 - dense_13_loss: 0.146 - ETA: 1:44 - loss: 0.5186 - dense_12_loss: 0.1162 - dense_13_loss: 0.146 - ETA: 1:44 - loss: 0.5179 - dense_12_loss: 0.1160 - dense_13_loss: 0.145 - ETA: 1:44 - loss: 0.5179 - dense_12_loss: 0.1160 - dense_13_loss: 0.145 - ETA: 1:43 - loss: 0.5178 - dense_12_loss: 0.1160 - dense_13_loss: 0.145 - ETA: 1:43 - loss: 0.5179 - dense_12_loss: 0.1160 - dense_13_loss: 0.145 - ETA: 1:43 - loss: 0.5178 - dense_12_loss: 0.1160 - dense_13_loss: 0.145 - ETA: 1:43 - loss: 0.5175 - dense_12_loss: 0.1159 - dense_13_loss: 0.145 - ETA: 1:42 - loss: 0.5172 - dense_12_loss: 0.1159 - dense_13_loss: 0.145 - ETA: 1:42 - loss: 0.5169 - dense_12_loss: 0.1158 - dense_13_loss: 0.145 - ETA: 1:42 - loss: 0.5167 - dense_12_loss: 0.1157 - dense_13_loss: 0.145 - ETA: 1:42 - loss: 0.5164 - dense_12_loss: 0.1157 - dense_13_loss: 0.145 - ETA: 1:41 - loss: 0.5160 - dense_12_loss: 0.1156 - dense_13_loss: 0.145 - ETA: 1:41 - loss: 0.5154 - dense_12_loss: 0.1154 - dense_13_loss: 0.145 - ETA: 1:41 - loss: 0.5147 - dense_12_loss: 0.1153 - dense_13_loss: 0.145 - ETA: 1:40 - loss: 0.5149 - dense_12_loss: 0.1153 - dense_13_loss: 0.145 - ETA: 1:40 - loss: 0.5146 - dense_12_loss: 0.1153 - dense_13_loss: 0.145 - ETA: 1:40 - loss: 0.5141 - dense_12_loss: 0.1151 - dense_13_loss: 0.144 - ETA: 1:40 - loss: 0.5138 - dense_12_loss: 0.1150 - dense_13_loss: 0.144 - ETA: 1:39 - loss: 0.5134 - dense_12_loss: 0.1149 - dense_13_loss: 0.144 - ETA: 1:39 - loss: 0.5132 - dense_12_loss: 0.1149 - dense_13_loss: 0.144 - ETA: 1:39 - loss: 0.5129 - dense_12_loss: 0.1148 - dense_13_loss: 0.144 - ETA: 1:38 - loss: 0.5127 - dense_12_loss: 0.1147 - dense_13_loss: 0.144 - ETA: 1:38 - loss: 0.5122 - dense_12_loss: 0.1146 - dense_13_loss: 0.144 - ETA: 1:38 - loss: 0.5117 - dense_12_loss: 0.1145 - dense_13_loss: 0.144 - ETA: 1:38 - loss: 0.5116 - dense_12_loss: 0.1144 - dense_13_loss: 0.144 - ETA: 1:37 - loss: 0.5112 - dense_12_loss: 0.1143 - dense_13_loss: 0.144 - ETA: 1:37 - loss: 0.5111 - dense_12_loss: 0.1143 - dense_13_loss: 0.144 - ETA: 1:37 - loss: 0.5108 - dense_12_loss: 0.1142 - dense_13_loss: 0.144 - ETA: 1:37 - loss: 0.5104 - dense_12_loss: 0.1141 - dense_13_loss: 0.144 - ETA: 1:36 - loss: 0.5102 - dense_12_loss: 0.1141 - dense_13_loss: 0.144 - ETA: 1:36 - loss: 0.5101 - dense_12_loss: 0.1141 - dense_13_loss: 0.144 - ETA: 1:36 - loss: 0.5098 - dense_12_loss: 0.1140 - dense_13_loss: 0.144 - ETA: 1:35 - loss: 0.5092 - dense_12_loss: 0.1138 - dense_13_loss: 0.144 - ETA: 1:35 - loss: 0.5093 - dense_12_loss: 0.1139 - dense_13_loss: 0.144 - ETA: 1:35 - loss: 0.5093 - dense_12_loss: 0.1138 - dense_13_loss: 0.144 - ETA: 1:35 - loss: 0.5089 - dense_12_loss: 0.1137 - dense_13_loss: 0.144 - ETA: 1:34 - loss: 0.5083 - dense_12_loss: 0.1136 - dense_13_loss: 0.144 - ETA: 1:34 - loss: 0.5082 - dense_12_loss: 0.1136 - dense_13_loss: 0.144 - ETA: 1:34 - loss: 0.5082 - dense_12_loss: 0.1136 - dense_13_loss: 0.144 - ETA: 1:34 - loss: 0.5081 - dense_12_loss: 0.1135 - dense_13_loss: 0.144 - ETA: 1:33 - loss: 0.5074 - dense_12_loss: 0.1133 - dense_13_loss: 0.144 - ETA: 1:33 - loss: 0.5073 - dense_12_loss: 0.1133 - dense_13_loss: 0.143 - ETA: 1:33 - loss: 0.5071 - dense_12_loss: 0.1133 - dense_13_loss: 0.143 - ETA: 1:32 - loss: 0.5068 - dense_12_loss: 0.1132 - dense_13_loss: 0.143 - ETA: 1:32 - loss: 0.5067 - dense_12_loss: 0.1132 - dense_13_loss: 0.1437"
     ]
    },
    {
     "name": "stdout",
     "output_type": "stream",
     "text": [
      "113408/171462 [==================>...........] - ETA: 1:32 - loss: 0.5065 - dense_12_loss: 0.1132 - dense_13_loss: 0.143 - ETA: 1:32 - loss: 0.5062 - dense_12_loss: 0.1131 - dense_13_loss: 0.143 - ETA: 1:31 - loss: 0.5057 - dense_12_loss: 0.1130 - dense_13_loss: 0.143 - ETA: 1:31 - loss: 0.5057 - dense_12_loss: 0.1130 - dense_13_loss: 0.143 - ETA: 1:31 - loss: 0.5052 - dense_12_loss: 0.1128 - dense_13_loss: 0.143 - ETA: 1:30 - loss: 0.5050 - dense_12_loss: 0.1128 - dense_13_loss: 0.143 - ETA: 1:30 - loss: 0.5045 - dense_12_loss: 0.1127 - dense_13_loss: 0.143 - ETA: 1:30 - loss: 0.5046 - dense_12_loss: 0.1127 - dense_13_loss: 0.143 - ETA: 1:30 - loss: 0.5041 - dense_12_loss: 0.1125 - dense_13_loss: 0.143 - ETA: 1:29 - loss: 0.5041 - dense_12_loss: 0.1125 - dense_13_loss: 0.143 - ETA: 1:29 - loss: 0.5038 - dense_12_loss: 0.1124 - dense_13_loss: 0.143 - ETA: 1:29 - loss: 0.5037 - dense_12_loss: 0.1124 - dense_13_loss: 0.143 - ETA: 1:29 - loss: 0.5034 - dense_12_loss: 0.1123 - dense_13_loss: 0.143 - ETA: 1:28 - loss: 0.5030 - dense_12_loss: 0.1122 - dense_13_loss: 0.143 - ETA: 1:28 - loss: 0.5026 - dense_12_loss: 0.1121 - dense_13_loss: 0.143 - ETA: 1:28 - loss: 0.5023 - dense_12_loss: 0.1120 - dense_13_loss: 0.143 - ETA: 1:28 - loss: 0.5020 - dense_12_loss: 0.1119 - dense_13_loss: 0.143 - ETA: 1:27 - loss: 0.5016 - dense_12_loss: 0.1118 - dense_13_loss: 0.142 - ETA: 1:27 - loss: 0.5014 - dense_12_loss: 0.1118 - dense_13_loss: 0.142 - ETA: 1:27 - loss: 0.5011 - dense_12_loss: 0.1117 - dense_13_loss: 0.142 - ETA: 1:26 - loss: 0.5006 - dense_12_loss: 0.1116 - dense_13_loss: 0.142 - ETA: 1:26 - loss: 0.5002 - dense_12_loss: 0.1115 - dense_13_loss: 0.142 - ETA: 1:26 - loss: 0.5000 - dense_12_loss: 0.1115 - dense_13_loss: 0.142 - ETA: 1:26 - loss: 0.5001 - dense_12_loss: 0.1115 - dense_13_loss: 0.142 - ETA: 1:25 - loss: 0.4997 - dense_12_loss: 0.1114 - dense_13_loss: 0.142 - ETA: 1:25 - loss: 0.4994 - dense_12_loss: 0.1113 - dense_13_loss: 0.142 - ETA: 1:25 - loss: 0.4993 - dense_12_loss: 0.1113 - dense_13_loss: 0.142 - ETA: 1:25 - loss: 0.4989 - dense_12_loss: 0.1112 - dense_13_loss: 0.142 - ETA: 1:24 - loss: 0.4985 - dense_12_loss: 0.1111 - dense_13_loss: 0.142 - ETA: 1:24 - loss: 0.4983 - dense_12_loss: 0.1110 - dense_13_loss: 0.142 - ETA: 1:24 - loss: 0.4979 - dense_12_loss: 0.1109 - dense_13_loss: 0.142 - ETA: 1:23 - loss: 0.4974 - dense_12_loss: 0.1108 - dense_13_loss: 0.142 - ETA: 1:23 - loss: 0.4970 - dense_12_loss: 0.1107 - dense_13_loss: 0.142 - ETA: 1:23 - loss: 0.4965 - dense_12_loss: 0.1105 - dense_13_loss: 0.142 - ETA: 1:23 - loss: 0.4961 - dense_12_loss: 0.1104 - dense_13_loss: 0.142 - ETA: 1:22 - loss: 0.4960 - dense_12_loss: 0.1104 - dense_13_loss: 0.142 - ETA: 1:22 - loss: 0.4956 - dense_12_loss: 0.1103 - dense_13_loss: 0.141 - ETA: 1:22 - loss: 0.4955 - dense_12_loss: 0.1103 - dense_13_loss: 0.142 - ETA: 1:22 - loss: 0.4952 - dense_12_loss: 0.1102 - dense_13_loss: 0.141 - ETA: 1:21 - loss: 0.4949 - dense_12_loss: 0.1101 - dense_13_loss: 0.141 - ETA: 1:21 - loss: 0.4948 - dense_12_loss: 0.1101 - dense_13_loss: 0.141 - ETA: 1:21 - loss: 0.4946 - dense_12_loss: 0.1100 - dense_13_loss: 0.141 - ETA: 1:20 - loss: 0.4942 - dense_12_loss: 0.1099 - dense_13_loss: 0.141 - ETA: 1:20 - loss: 0.4938 - dense_12_loss: 0.1098 - dense_13_loss: 0.141 - ETA: 1:20 - loss: 0.4934 - dense_12_loss: 0.1097 - dense_13_loss: 0.141 - ETA: 1:20 - loss: 0.4936 - dense_12_loss: 0.1098 - dense_13_loss: 0.141 - ETA: 1:19 - loss: 0.4936 - dense_12_loss: 0.1097 - dense_13_loss: 0.141 - ETA: 1:19 - loss: 0.4935 - dense_12_loss: 0.1097 - dense_13_loss: 0.141 - ETA: 1:19 - loss: 0.4933 - dense_12_loss: 0.1097 - dense_13_loss: 0.141 - ETA: 1:19 - loss: 0.4930 - dense_12_loss: 0.1096 - dense_13_loss: 0.141 - ETA: 1:18 - loss: 0.4928 - dense_12_loss: 0.1096 - dense_13_loss: 0.141 - ETA: 1:18 - loss: 0.4926 - dense_12_loss: 0.1095 - dense_13_loss: 0.141 - ETA: 1:18 - loss: 0.4925 - dense_12_loss: 0.1095 - dense_13_loss: 0.141 - ETA: 1:17 - loss: 0.4922 - dense_12_loss: 0.1094 - dense_13_loss: 0.141 - ETA: 1:17 - loss: 0.4922 - dense_12_loss: 0.1094 - dense_13_loss: 0.141 - ETA: 1:17 - loss: 0.4919 - dense_12_loss: 0.1093 - dense_13_loss: 0.141 - ETA: 1:17 - loss: 0.4919 - dense_12_loss: 0.1093 - dense_13_loss: 0.141 - ETA: 1:16 - loss: 0.4917 - dense_12_loss: 0.1093 - dense_13_loss: 0.141 - ETA: 1:16 - loss: 0.4915 - dense_12_loss: 0.1092 - dense_13_loss: 0.141 - ETA: 1:16 - loss: 0.4916 - dense_12_loss: 0.1092 - dense_13_loss: 0.141 - ETA: 1:16 - loss: 0.4915 - dense_12_loss: 0.1092 - dense_13_loss: 0.141 - ETA: 1:15 - loss: 0.4912 - dense_12_loss: 0.1092 - dense_13_loss: 0.141 - ETA: 1:15 - loss: 0.4908 - dense_12_loss: 0.1091 - dense_13_loss: 0.141 - ETA: 1:15 - loss: 0.4905 - dense_12_loss: 0.1090 - dense_13_loss: 0.141 - ETA: 1:14 - loss: 0.4902 - dense_12_loss: 0.1089 - dense_13_loss: 0.141 - ETA: 1:14 - loss: 0.4901 - dense_12_loss: 0.1089 - dense_13_loss: 0.140 - ETA: 1:14 - loss: 0.4898 - dense_12_loss: 0.1088 - dense_13_loss: 0.140 - ETA: 1:14 - loss: 0.4897 - dense_12_loss: 0.1088 - dense_13_loss: 0.140 - ETA: 1:13 - loss: 0.4895 - dense_12_loss: 0.1088 - dense_13_loss: 0.140 - ETA: 1:13 - loss: 0.4892 - dense_12_loss: 0.1087 - dense_13_loss: 0.140 - ETA: 1:13 - loss: 0.4890 - dense_12_loss: 0.1086 - dense_13_loss: 0.140 - ETA: 1:13 - loss: 0.4889 - dense_12_loss: 0.1086 - dense_13_loss: 0.140 - ETA: 1:12 - loss: 0.4888 - dense_12_loss: 0.1086 - dense_13_loss: 0.140 - ETA: 1:12 - loss: 0.4887 - dense_12_loss: 0.1085 - dense_13_loss: 0.140 - ETA: 1:12 - loss: 0.4884 - dense_12_loss: 0.1085 - dense_13_loss: 0.140 - ETA: 1:11 - loss: 0.4880 - dense_12_loss: 0.1083 - dense_13_loss: 0.140 - ETA: 1:11 - loss: 0.4878 - dense_12_loss: 0.1083 - dense_13_loss: 0.140 - ETA: 1:11 - loss: 0.4874 - dense_12_loss: 0.1082 - dense_13_loss: 0.140 - ETA: 1:11 - loss: 0.4873 - dense_12_loss: 0.1082 - dense_13_loss: 0.140 - ETA: 1:10 - loss: 0.4873 - dense_12_loss: 0.1082 - dense_13_loss: 0.140 - ETA: 1:10 - loss: 0.4871 - dense_12_loss: 0.1081 - dense_13_loss: 0.140 - ETA: 1:10 - loss: 0.4868 - dense_12_loss: 0.1081 - dense_13_loss: 0.140 - ETA: 1:10 - loss: 0.4868 - dense_12_loss: 0.1080 - dense_13_loss: 0.140 - ETA: 1:09 - loss: 0.4867 - dense_12_loss: 0.1080 - dense_13_loss: 0.140 - ETA: 1:09 - loss: 0.4867 - dense_12_loss: 0.1080 - dense_13_loss: 0.140 - ETA: 1:09 - loss: 0.4867 - dense_12_loss: 0.1080 - dense_13_loss: 0.140 - ETA: 1:08 - loss: 0.4865 - dense_12_loss: 0.1079 - dense_13_loss: 0.140 - ETA: 1:08 - loss: 0.4862 - dense_12_loss: 0.1079 - dense_13_loss: 0.140 - ETA: 1:08 - loss: 0.4859 - dense_12_loss: 0.1078 - dense_13_loss: 0.140 - ETA: 1:08 - loss: 0.4854 - dense_12_loss: 0.1077 - dense_13_loss: 0.140 - ETA: 1:07 - loss: 0.4851 - dense_12_loss: 0.1076 - dense_13_loss: 0.140 - ETA: 1:07 - loss: 0.4851 - dense_12_loss: 0.1076 - dense_13_loss: 0.140 - ETA: 1:07 - loss: 0.4848 - dense_12_loss: 0.1075 - dense_13_loss: 0.140 - ETA: 1:07 - loss: 0.4845 - dense_12_loss: 0.1074 - dense_13_loss: 0.140 - ETA: 1:06 - loss: 0.4842 - dense_12_loss: 0.1074 - dense_13_loss: 0.139 - ETA: 1:06 - loss: 0.4841 - dense_12_loss: 0.1074 - dense_13_loss: 0.139 - ETA: 1:06 - loss: 0.4840 - dense_12_loss: 0.1073 - dense_13_loss: 0.139 - ETA: 1:05 - loss: 0.4837 - dense_12_loss: 0.1072 - dense_13_loss: 0.139 - ETA: 1:05 - loss: 0.4835 - dense_12_loss: 0.1072 - dense_13_loss: 0.139 - ETA: 1:05 - loss: 0.4834 - dense_12_loss: 0.1072 - dense_13_loss: 0.139 - ETA: 1:05 - loss: 0.4832 - dense_12_loss: 0.1071 - dense_13_loss: 0.139 - ETA: 1:05 - loss: 0.4832 - dense_12_loss: 0.1071 - dense_13_loss: 0.139 - ETA: 1:04 - loss: 0.4829 - dense_12_loss: 0.1070 - dense_13_loss: 0.139 - ETA: 1:04 - loss: 0.4825 - dense_12_loss: 0.1069 - dense_13_loss: 0.139 - ETA: 1:04 - loss: 0.4821 - dense_12_loss: 0.1068 - dense_13_loss: 0.139 - ETA: 1:04 - loss: 0.4819 - dense_12_loss: 0.1068 - dense_13_loss: 0.139 - ETA: 1:03 - loss: 0.4819 - dense_12_loss: 0.1068 - dense_13_loss: 0.139 - ETA: 1:03 - loss: 0.4816 - dense_12_loss: 0.1067 - dense_13_loss: 0.139 - ETA: 1:03 - loss: 0.4812 - dense_12_loss: 0.1066 - dense_13_loss: 0.139 - ETA: 1:03 - loss: 0.4811 - dense_12_loss: 0.1066 - dense_13_loss: 0.139 - ETA: 1:02 - loss: 0.4813 - dense_12_loss: 0.1066 - dense_13_loss: 0.1394"
     ]
    },
    {
     "name": "stdout",
     "output_type": "stream",
     "text": [
      "142336/171462 [=======================>......] - ETA: 1:02 - loss: 0.4811 - dense_12_loss: 0.1066 - dense_13_loss: 0.139 - ETA: 1:02 - loss: 0.4812 - dense_12_loss: 0.1066 - dense_13_loss: 0.139 - ETA: 1:01 - loss: 0.4810 - dense_12_loss: 0.1065 - dense_13_loss: 0.139 - ETA: 1:01 - loss: 0.4809 - dense_12_loss: 0.1065 - dense_13_loss: 0.139 - ETA: 1:01 - loss: 0.4806 - dense_12_loss: 0.1064 - dense_13_loss: 0.139 - ETA: 1:01 - loss: 0.4804 - dense_12_loss: 0.1064 - dense_13_loss: 0.139 - ETA: 1:00 - loss: 0.4803 - dense_12_loss: 0.1063 - dense_13_loss: 0.139 - ETA: 1:00 - loss: 0.4800 - dense_12_loss: 0.1063 - dense_13_loss: 0.139 - ETA: 1:00 - loss: 0.4798 - dense_12_loss: 0.1062 - dense_13_loss: 0.139 - ETA: 1:00 - loss: 0.4796 - dense_12_loss: 0.1061 - dense_13_loss: 0.139 - ETA: 59s - loss: 0.4794 - dense_12_loss: 0.1061 - dense_13_loss: 0.139 - ETA: 59s - loss: 0.4791 - dense_12_loss: 0.1060 - dense_13_loss: 0.13 - ETA: 59s - loss: 0.4789 - dense_12_loss: 0.1060 - dense_13_loss: 0.13 - ETA: 58s - loss: 0.4787 - dense_12_loss: 0.1059 - dense_13_loss: 0.13 - ETA: 58s - loss: 0.4784 - dense_12_loss: 0.1059 - dense_13_loss: 0.13 - ETA: 58s - loss: 0.4782 - dense_12_loss: 0.1058 - dense_13_loss: 0.13 - ETA: 58s - loss: 0.4781 - dense_12_loss: 0.1058 - dense_13_loss: 0.13 - ETA: 57s - loss: 0.4779 - dense_12_loss: 0.1058 - dense_13_loss: 0.13 - ETA: 57s - loss: 0.4778 - dense_12_loss: 0.1057 - dense_13_loss: 0.13 - ETA: 57s - loss: 0.4779 - dense_12_loss: 0.1058 - dense_13_loss: 0.13 - ETA: 56s - loss: 0.4777 - dense_12_loss: 0.1057 - dense_13_loss: 0.13 - ETA: 56s - loss: 0.4778 - dense_12_loss: 0.1057 - dense_13_loss: 0.13 - ETA: 56s - loss: 0.4776 - dense_12_loss: 0.1057 - dense_13_loss: 0.13 - ETA: 56s - loss: 0.4774 - dense_12_loss: 0.1056 - dense_13_loss: 0.13 - ETA: 55s - loss: 0.4771 - dense_12_loss: 0.1055 - dense_13_loss: 0.13 - ETA: 55s - loss: 0.4768 - dense_12_loss: 0.1055 - dense_13_loss: 0.13 - ETA: 55s - loss: 0.4768 - dense_12_loss: 0.1054 - dense_13_loss: 0.13 - ETA: 55s - loss: 0.4765 - dense_12_loss: 0.1054 - dense_13_loss: 0.13 - ETA: 54s - loss: 0.4761 - dense_12_loss: 0.1053 - dense_13_loss: 0.13 - ETA: 54s - loss: 0.4760 - dense_12_loss: 0.1052 - dense_13_loss: 0.13 - ETA: 54s - loss: 0.4758 - dense_12_loss: 0.1052 - dense_13_loss: 0.13 - ETA: 53s - loss: 0.4757 - dense_12_loss: 0.1052 - dense_13_loss: 0.13 - ETA: 53s - loss: 0.4756 - dense_12_loss: 0.1051 - dense_13_loss: 0.13 - ETA: 53s - loss: 0.4752 - dense_12_loss: 0.1050 - dense_13_loss: 0.13 - ETA: 53s - loss: 0.4752 - dense_12_loss: 0.1050 - dense_13_loss: 0.13 - ETA: 52s - loss: 0.4749 - dense_12_loss: 0.1050 - dense_13_loss: 0.13 - ETA: 52s - loss: 0.4748 - dense_12_loss: 0.1049 - dense_13_loss: 0.13 - ETA: 52s - loss: 0.4746 - dense_12_loss: 0.1049 - dense_13_loss: 0.13 - ETA: 52s - loss: 0.4747 - dense_12_loss: 0.1049 - dense_13_loss: 0.13 - ETA: 51s - loss: 0.4744 - dense_12_loss: 0.1048 - dense_13_loss: 0.13 - ETA: 51s - loss: 0.4742 - dense_12_loss: 0.1048 - dense_13_loss: 0.13 - ETA: 51s - loss: 0.4738 - dense_12_loss: 0.1047 - dense_13_loss: 0.13 - ETA: 50s - loss: 0.4736 - dense_12_loss: 0.1046 - dense_13_loss: 0.13 - ETA: 50s - loss: 0.4733 - dense_12_loss: 0.1045 - dense_13_loss: 0.13 - ETA: 50s - loss: 0.4732 - dense_12_loss: 0.1045 - dense_13_loss: 0.13 - ETA: 50s - loss: 0.4730 - dense_12_loss: 0.1045 - dense_13_loss: 0.13 - ETA: 49s - loss: 0.4731 - dense_12_loss: 0.1045 - dense_13_loss: 0.13 - ETA: 49s - loss: 0.4727 - dense_12_loss: 0.1044 - dense_13_loss: 0.13 - ETA: 49s - loss: 0.4726 - dense_12_loss: 0.1044 - dense_13_loss: 0.13 - ETA: 48s - loss: 0.4724 - dense_12_loss: 0.1043 - dense_13_loss: 0.13 - ETA: 48s - loss: 0.4721 - dense_12_loss: 0.1042 - dense_13_loss: 0.13 - ETA: 48s - loss: 0.4718 - dense_12_loss: 0.1041 - dense_13_loss: 0.13 - ETA: 48s - loss: 0.4714 - dense_12_loss: 0.1040 - dense_13_loss: 0.13 - ETA: 47s - loss: 0.4714 - dense_12_loss: 0.1040 - dense_13_loss: 0.13 - ETA: 47s - loss: 0.4712 - dense_12_loss: 0.1040 - dense_13_loss: 0.13 - ETA: 47s - loss: 0.4711 - dense_12_loss: 0.1040 - dense_13_loss: 0.13 - ETA: 47s - loss: 0.4709 - dense_12_loss: 0.1039 - dense_13_loss: 0.13 - ETA: 46s - loss: 0.4707 - dense_12_loss: 0.1039 - dense_13_loss: 0.13 - ETA: 46s - loss: 0.4704 - dense_12_loss: 0.1038 - dense_13_loss: 0.13 - ETA: 46s - loss: 0.4701 - dense_12_loss: 0.1037 - dense_13_loss: 0.13 - ETA: 45s - loss: 0.4700 - dense_12_loss: 0.1037 - dense_13_loss: 0.13 - ETA: 45s - loss: 0.4697 - dense_12_loss: 0.1036 - dense_13_loss: 0.13 - ETA: 45s - loss: 0.4697 - dense_12_loss: 0.1036 - dense_13_loss: 0.13 - ETA: 45s - loss: 0.4695 - dense_12_loss: 0.1036 - dense_13_loss: 0.13 - ETA: 44s - loss: 0.4694 - dense_12_loss: 0.1035 - dense_13_loss: 0.13 - ETA: 44s - loss: 0.4691 - dense_12_loss: 0.1035 - dense_13_loss: 0.13 - ETA: 44s - loss: 0.4691 - dense_12_loss: 0.1035 - dense_13_loss: 0.13 - ETA: 44s - loss: 0.4689 - dense_12_loss: 0.1034 - dense_13_loss: 0.13 - ETA: 43s - loss: 0.4687 - dense_12_loss: 0.1034 - dense_13_loss: 0.13 - ETA: 43s - loss: 0.4685 - dense_12_loss: 0.1033 - dense_13_loss: 0.13 - ETA: 43s - loss: 0.4684 - dense_12_loss: 0.1033 - dense_13_loss: 0.13 - ETA: 42s - loss: 0.4683 - dense_12_loss: 0.1033 - dense_13_loss: 0.13 - ETA: 42s - loss: 0.4681 - dense_12_loss: 0.1032 - dense_13_loss: 0.13 - ETA: 42s - loss: 0.4680 - dense_12_loss: 0.1032 - dense_13_loss: 0.13 - ETA: 42s - loss: 0.4678 - dense_12_loss: 0.1031 - dense_13_loss: 0.13 - ETA: 41s - loss: 0.4676 - dense_12_loss: 0.1031 - dense_13_loss: 0.13 - ETA: 41s - loss: 0.4672 - dense_12_loss: 0.1030 - dense_13_loss: 0.13 - ETA: 41s - loss: 0.4672 - dense_12_loss: 0.1030 - dense_13_loss: 0.13 - ETA: 40s - loss: 0.4670 - dense_12_loss: 0.1029 - dense_13_loss: 0.13 - ETA: 40s - loss: 0.4668 - dense_12_loss: 0.1029 - dense_13_loss: 0.13 - ETA: 40s - loss: 0.4666 - dense_12_loss: 0.1028 - dense_13_loss: 0.13 - ETA: 40s - loss: 0.4663 - dense_12_loss: 0.1027 - dense_13_loss: 0.13 - ETA: 39s - loss: 0.4660 - dense_12_loss: 0.1027 - dense_13_loss: 0.13 - ETA: 39s - loss: 0.4658 - dense_12_loss: 0.1026 - dense_13_loss: 0.13 - ETA: 39s - loss: 0.4657 - dense_12_loss: 0.1026 - dense_13_loss: 0.13 - ETA: 39s - loss: 0.4655 - dense_12_loss: 0.1025 - dense_13_loss: 0.13 - ETA: 38s - loss: 0.4650 - dense_12_loss: 0.1024 - dense_13_loss: 0.13 - ETA: 38s - loss: 0.4648 - dense_12_loss: 0.1023 - dense_13_loss: 0.13 - ETA: 38s - loss: 0.4646 - dense_12_loss: 0.1023 - dense_13_loss: 0.13 - ETA: 37s - loss: 0.4644 - dense_12_loss: 0.1022 - dense_13_loss: 0.13 - ETA: 37s - loss: 0.4642 - dense_12_loss: 0.1022 - dense_13_loss: 0.13 - ETA: 37s - loss: 0.4639 - dense_12_loss: 0.1021 - dense_13_loss: 0.13 - ETA: 37s - loss: 0.4637 - dense_12_loss: 0.1021 - dense_13_loss: 0.13 - ETA: 36s - loss: 0.4636 - dense_12_loss: 0.1020 - dense_13_loss: 0.13 - ETA: 36s - loss: 0.4634 - dense_12_loss: 0.1020 - dense_13_loss: 0.13 - ETA: 36s - loss: 0.4634 - dense_12_loss: 0.1020 - dense_13_loss: 0.13 - ETA: 35s - loss: 0.4632 - dense_12_loss: 0.1019 - dense_13_loss: 0.13 - ETA: 35s - loss: 0.4630 - dense_12_loss: 0.1019 - dense_13_loss: 0.13 - ETA: 35s - loss: 0.4626 - dense_12_loss: 0.1018 - dense_13_loss: 0.13 - ETA: 35s - loss: 0.4625 - dense_12_loss: 0.1017 - dense_13_loss: 0.13 - ETA: 34s - loss: 0.4625 - dense_12_loss: 0.1017 - dense_13_loss: 0.13 - ETA: 34s - loss: 0.4626 - dense_12_loss: 0.1018 - dense_13_loss: 0.13 - ETA: 34s - loss: 0.4625 - dense_12_loss: 0.1017 - dense_13_loss: 0.13 - ETA: 34s - loss: 0.4624 - dense_12_loss: 0.1017 - dense_13_loss: 0.13 - ETA: 33s - loss: 0.4622 - dense_12_loss: 0.1017 - dense_13_loss: 0.13 - ETA: 33s - loss: 0.4620 - dense_12_loss: 0.1016 - dense_13_loss: 0.13 - ETA: 33s - loss: 0.4619 - dense_12_loss: 0.1016 - dense_13_loss: 0.13 - ETA: 32s - loss: 0.4616 - dense_12_loss: 0.1015 - dense_13_loss: 0.13 - ETA: 32s - loss: 0.4615 - dense_12_loss: 0.1015 - dense_13_loss: 0.13 - ETA: 32s - loss: 0.4613 - dense_12_loss: 0.1014 - dense_13_loss: 0.13 - ETA: 32s - loss: 0.4612 - dense_12_loss: 0.1014 - dense_13_loss: 0.13 - ETA: 31s - loss: 0.4612 - dense_12_loss: 0.1014 - dense_13_loss: 0.13 - ETA: 31s - loss: 0.4611 - dense_12_loss: 0.1014 - dense_13_loss: 0.1359"
     ]
    },
    {
     "name": "stdout",
     "output_type": "stream",
     "text": [
      "171462/171462 [==============================] - ETA: 31s - loss: 0.4609 - dense_12_loss: 0.1014 - dense_13_loss: 0.13 - ETA: 30s - loss: 0.4609 - dense_12_loss: 0.1014 - dense_13_loss: 0.13 - ETA: 30s - loss: 0.4607 - dense_12_loss: 0.1013 - dense_13_loss: 0.13 - ETA: 30s - loss: 0.4607 - dense_12_loss: 0.1013 - dense_13_loss: 0.13 - ETA: 30s - loss: 0.4606 - dense_12_loss: 0.1013 - dense_13_loss: 0.13 - ETA: 29s - loss: 0.4603 - dense_12_loss: 0.1012 - dense_13_loss: 0.13 - ETA: 29s - loss: 0.4602 - dense_12_loss: 0.1012 - dense_13_loss: 0.13 - ETA: 29s - loss: 0.4602 - dense_12_loss: 0.1012 - dense_13_loss: 0.13 - ETA: 29s - loss: 0.4600 - dense_12_loss: 0.1011 - dense_13_loss: 0.13 - ETA: 28s - loss: 0.4598 - dense_12_loss: 0.1011 - dense_13_loss: 0.13 - ETA: 28s - loss: 0.4596 - dense_12_loss: 0.1010 - dense_13_loss: 0.13 - ETA: 28s - loss: 0.4597 - dense_12_loss: 0.1010 - dense_13_loss: 0.13 - ETA: 27s - loss: 0.4596 - dense_12_loss: 0.1010 - dense_13_loss: 0.13 - ETA: 27s - loss: 0.4594 - dense_12_loss: 0.1010 - dense_13_loss: 0.13 - ETA: 27s - loss: 0.4592 - dense_12_loss: 0.1009 - dense_13_loss: 0.13 - ETA: 27s - loss: 0.4591 - dense_12_loss: 0.1009 - dense_13_loss: 0.13 - ETA: 26s - loss: 0.4589 - dense_12_loss: 0.1009 - dense_13_loss: 0.13 - ETA: 26s - loss: 0.4585 - dense_12_loss: 0.1008 - dense_13_loss: 0.13 - ETA: 26s - loss: 0.4582 - dense_12_loss: 0.1007 - dense_13_loss: 0.13 - ETA: 26s - loss: 0.4582 - dense_12_loss: 0.1007 - dense_13_loss: 0.13 - ETA: 25s - loss: 0.4581 - dense_12_loss: 0.1006 - dense_13_loss: 0.13 - ETA: 25s - loss: 0.4581 - dense_12_loss: 0.1006 - dense_13_loss: 0.13 - ETA: 25s - loss: 0.4580 - dense_12_loss: 0.1006 - dense_13_loss: 0.13 - ETA: 24s - loss: 0.4577 - dense_12_loss: 0.1005 - dense_13_loss: 0.13 - ETA: 24s - loss: 0.4575 - dense_12_loss: 0.1005 - dense_13_loss: 0.13 - ETA: 24s - loss: 0.4573 - dense_12_loss: 0.1004 - dense_13_loss: 0.13 - ETA: 24s - loss: 0.4572 - dense_12_loss: 0.1004 - dense_13_loss: 0.13 - ETA: 23s - loss: 0.4570 - dense_12_loss: 0.1003 - dense_13_loss: 0.13 - ETA: 23s - loss: 0.4567 - dense_12_loss: 0.1003 - dense_13_loss: 0.13 - ETA: 23s - loss: 0.4568 - dense_12_loss: 0.1003 - dense_13_loss: 0.13 - ETA: 22s - loss: 0.4566 - dense_12_loss: 0.1002 - dense_13_loss: 0.13 - ETA: 22s - loss: 0.4563 - dense_12_loss: 0.1002 - dense_13_loss: 0.13 - ETA: 22s - loss: 0.4563 - dense_12_loss: 0.1002 - dense_13_loss: 0.13 - ETA: 22s - loss: 0.4562 - dense_12_loss: 0.1001 - dense_13_loss: 0.13 - ETA: 21s - loss: 0.4560 - dense_12_loss: 0.1001 - dense_13_loss: 0.13 - ETA: 21s - loss: 0.4558 - dense_12_loss: 0.1001 - dense_13_loss: 0.13 - ETA: 21s - loss: 0.4556 - dense_12_loss: 0.1000 - dense_13_loss: 0.13 - ETA: 21s - loss: 0.4556 - dense_12_loss: 0.1000 - dense_13_loss: 0.13 - ETA: 20s - loss: 0.4555 - dense_12_loss: 0.1000 - dense_13_loss: 0.13 - ETA: 20s - loss: 0.4553 - dense_12_loss: 0.0999 - dense_13_loss: 0.13 - ETA: 20s - loss: 0.4550 - dense_12_loss: 0.0998 - dense_13_loss: 0.13 - ETA: 19s - loss: 0.4550 - dense_12_loss: 0.0998 - dense_13_loss: 0.13 - ETA: 19s - loss: 0.4547 - dense_12_loss: 0.0998 - dense_13_loss: 0.13 - ETA: 19s - loss: 0.4546 - dense_12_loss: 0.0997 - dense_13_loss: 0.13 - ETA: 19s - loss: 0.4544 - dense_12_loss: 0.0997 - dense_13_loss: 0.13 - ETA: 18s - loss: 0.4544 - dense_12_loss: 0.0997 - dense_13_loss: 0.13 - ETA: 18s - loss: 0.4542 - dense_12_loss: 0.0996 - dense_13_loss: 0.13 - ETA: 18s - loss: 0.4542 - dense_12_loss: 0.0996 - dense_13_loss: 0.13 - ETA: 17s - loss: 0.4540 - dense_12_loss: 0.0996 - dense_13_loss: 0.13 - ETA: 17s - loss: 0.4539 - dense_12_loss: 0.0996 - dense_13_loss: 0.13 - ETA: 17s - loss: 0.4539 - dense_12_loss: 0.0996 - dense_13_loss: 0.13 - ETA: 17s - loss: 0.4538 - dense_12_loss: 0.0995 - dense_13_loss: 0.13 - ETA: 16s - loss: 0.4537 - dense_12_loss: 0.0995 - dense_13_loss: 0.13 - ETA: 16s - loss: 0.4535 - dense_12_loss: 0.0995 - dense_13_loss: 0.13 - ETA: 16s - loss: 0.4533 - dense_12_loss: 0.0994 - dense_13_loss: 0.13 - ETA: 16s - loss: 0.4531 - dense_12_loss: 0.0993 - dense_13_loss: 0.13 - ETA: 15s - loss: 0.4530 - dense_12_loss: 0.0993 - dense_13_loss: 0.13 - ETA: 15s - loss: 0.4530 - dense_12_loss: 0.0993 - dense_13_loss: 0.13 - ETA: 15s - loss: 0.4530 - dense_12_loss: 0.0993 - dense_13_loss: 0.13 - ETA: 14s - loss: 0.4529 - dense_12_loss: 0.0993 - dense_13_loss: 0.13 - ETA: 14s - loss: 0.4528 - dense_12_loss: 0.0993 - dense_13_loss: 0.13 - ETA: 14s - loss: 0.4529 - dense_12_loss: 0.0993 - dense_13_loss: 0.13 - ETA: 14s - loss: 0.4527 - dense_12_loss: 0.0993 - dense_13_loss: 0.13 - ETA: 13s - loss: 0.4526 - dense_12_loss: 0.0992 - dense_13_loss: 0.13 - ETA: 13s - loss: 0.4525 - dense_12_loss: 0.0992 - dense_13_loss: 0.13 - ETA: 13s - loss: 0.4523 - dense_12_loss: 0.0992 - dense_13_loss: 0.13 - ETA: 12s - loss: 0.4521 - dense_12_loss: 0.0991 - dense_13_loss: 0.13 - ETA: 12s - loss: 0.4519 - dense_12_loss: 0.0991 - dense_13_loss: 0.13 - ETA: 12s - loss: 0.4519 - dense_12_loss: 0.0991 - dense_13_loss: 0.13 - ETA: 12s - loss: 0.4517 - dense_12_loss: 0.0990 - dense_13_loss: 0.13 - ETA: 11s - loss: 0.4517 - dense_12_loss: 0.0990 - dense_13_loss: 0.13 - ETA: 11s - loss: 0.4515 - dense_12_loss: 0.0990 - dense_13_loss: 0.13 - ETA: 11s - loss: 0.4514 - dense_12_loss: 0.0989 - dense_13_loss: 0.13 - ETA: 11s - loss: 0.4513 - dense_12_loss: 0.0989 - dense_13_loss: 0.13 - ETA: 10s - loss: 0.4511 - dense_12_loss: 0.0988 - dense_13_loss: 0.13 - ETA: 10s - loss: 0.4508 - dense_12_loss: 0.0988 - dense_13_loss: 0.13 - ETA: 10s - loss: 0.4507 - dense_12_loss: 0.0987 - dense_13_loss: 0.13 - ETA: 9s - loss: 0.4507 - dense_12_loss: 0.0987 - dense_13_loss: 0.1340 - ETA: 9s - loss: 0.4504 - dense_12_loss: 0.0987 - dense_13_loss: 0.134 - ETA: 9s - loss: 0.4503 - dense_12_loss: 0.0987 - dense_13_loss: 0.134 - ETA: 9s - loss: 0.4502 - dense_12_loss: 0.0986 - dense_13_loss: 0.133 - ETA: 8s - loss: 0.4500 - dense_12_loss: 0.0986 - dense_13_loss: 0.133 - ETA: 8s - loss: 0.4499 - dense_12_loss: 0.0985 - dense_13_loss: 0.133 - ETA: 8s - loss: 0.4498 - dense_12_loss: 0.0985 - dense_13_loss: 0.133 - ETA: 7s - loss: 0.4496 - dense_12_loss: 0.0985 - dense_13_loss: 0.133 - ETA: 7s - loss: 0.4494 - dense_12_loss: 0.0984 - dense_13_loss: 0.133 - ETA: 7s - loss: 0.4491 - dense_12_loss: 0.0984 - dense_13_loss: 0.133 - ETA: 7s - loss: 0.4490 - dense_12_loss: 0.0983 - dense_13_loss: 0.133 - ETA: 6s - loss: 0.4490 - dense_12_loss: 0.0983 - dense_13_loss: 0.133 - ETA: 6s - loss: 0.4489 - dense_12_loss: 0.0983 - dense_13_loss: 0.133 - ETA: 6s - loss: 0.4487 - dense_12_loss: 0.0982 - dense_13_loss: 0.133 - ETA: 6s - loss: 0.4486 - dense_12_loss: 0.0982 - dense_13_loss: 0.133 - ETA: 5s - loss: 0.4485 - dense_12_loss: 0.0982 - dense_13_loss: 0.133 - ETA: 5s - loss: 0.4484 - dense_12_loss: 0.0982 - dense_13_loss: 0.133 - ETA: 5s - loss: 0.4484 - dense_12_loss: 0.0981 - dense_13_loss: 0.133 - ETA: 4s - loss: 0.4482 - dense_12_loss: 0.0981 - dense_13_loss: 0.133 - ETA: 4s - loss: 0.4482 - dense_12_loss: 0.0981 - dense_13_loss: 0.133 - ETA: 4s - loss: 0.4483 - dense_12_loss: 0.0981 - dense_13_loss: 0.133 - ETA: 4s - loss: 0.4481 - dense_12_loss: 0.0981 - dense_13_loss: 0.133 - ETA: 3s - loss: 0.4480 - dense_12_loss: 0.0981 - dense_13_loss: 0.133 - ETA: 3s - loss: 0.4480 - dense_12_loss: 0.0981 - dense_13_loss: 0.133 - ETA: 3s - loss: 0.4482 - dense_12_loss: 0.0981 - dense_13_loss: 0.133 - ETA: 2s - loss: 0.4481 - dense_12_loss: 0.0981 - dense_13_loss: 0.133 - ETA: 2s - loss: 0.4481 - dense_12_loss: 0.0981 - dense_13_loss: 0.133 - ETA: 2s - loss: 0.4480 - dense_12_loss: 0.0981 - dense_13_loss: 0.133 - ETA: 2s - loss: 0.4479 - dense_12_loss: 0.0980 - dense_13_loss: 0.133 - ETA: 1s - loss: 0.4478 - dense_12_loss: 0.0980 - dense_13_loss: 0.133 - ETA: 1s - loss: 0.4477 - dense_12_loss: 0.0980 - dense_13_loss: 0.133 - ETA: 1s - loss: 0.4475 - dense_12_loss: 0.0979 - dense_13_loss: 0.133 - ETA: 1s - loss: 0.4474 - dense_12_loss: 0.0979 - dense_13_loss: 0.133 - ETA: 0s - loss: 0.4472 - dense_12_loss: 0.0979 - dense_13_loss: 0.133 - ETA: 0s - loss: 0.4472 - dense_12_loss: 0.0979 - dense_13_loss: 0.133 - ETA: 0s - loss: 0.4473 - dense_12_loss: 0.0979 - dense_13_loss: 0.133 - 190s 1ms/step - loss: 0.4472 - dense_12_loss: 0.0979 - dense_13_loss: 0.1334 - val_loss: 0.3523 - val_dense_12_loss: 0.0730 - val_dense_13_loss: 0.1184\n"
     ]
    },
    {
     "name": "stdout",
     "output_type": "stream",
     "text": [
      "Train on 171462 samples, validate on 9025 samples\n",
      "Epoch 1/1\n"
     ]
    },
    {
     "name": "stdout",
     "output_type": "stream",
     "text": [
      " 28160/171462 [===>..........................] - ETA: 3:07 - loss: 0.4006 - dense_12_loss: 0.0818 - dense_13_loss: 0.138 - ETA: 3:02 - loss: 0.4011 - dense_12_loss: 0.0835 - dense_13_loss: 0.133 - ETA: 2:59 - loss: 0.3762 - dense_12_loss: 0.0778 - dense_13_loss: 0.126 - ETA: 2:59 - loss: 0.3732 - dense_12_loss: 0.0775 - dense_13_loss: 0.124 - ETA: 2:59 - loss: 0.3786 - dense_12_loss: 0.0789 - dense_13_loss: 0.125 - ETA: 2:58 - loss: 0.3725 - dense_12_loss: 0.0775 - dense_13_loss: 0.124 - ETA: 2:58 - loss: 0.3732 - dense_12_loss: 0.0782 - dense_13_loss: 0.122 - ETA: 2:57 - loss: 0.3663 - dense_12_loss: 0.0758 - dense_13_loss: 0.123 - ETA: 2:58 - loss: 0.3691 - dense_12_loss: 0.0765 - dense_13_loss: 0.123 - ETA: 2:57 - loss: 0.3626 - dense_12_loss: 0.0750 - dense_13_loss: 0.122 - ETA: 2:57 - loss: 0.3574 - dense_12_loss: 0.0735 - dense_13_loss: 0.121 - ETA: 2:58 - loss: 0.3595 - dense_12_loss: 0.0741 - dense_13_loss: 0.121 - ETA: 2:58 - loss: 0.3601 - dense_12_loss: 0.0740 - dense_13_loss: 0.122 - ETA: 2:59 - loss: 0.3596 - dense_12_loss: 0.0739 - dense_13_loss: 0.122 - ETA: 2:59 - loss: 0.3602 - dense_12_loss: 0.0742 - dense_13_loss: 0.122 - ETA: 2:59 - loss: 0.3647 - dense_12_loss: 0.0758 - dense_13_loss: 0.121 - ETA: 2:59 - loss: 0.3627 - dense_12_loss: 0.0753 - dense_13_loss: 0.121 - ETA: 2:58 - loss: 0.3629 - dense_12_loss: 0.0755 - dense_13_loss: 0.120 - ETA: 2:58 - loss: 0.3619 - dense_12_loss: 0.0755 - dense_13_loss: 0.119 - ETA: 2:58 - loss: 0.3643 - dense_12_loss: 0.0763 - dense_13_loss: 0.119 - ETA: 2:58 - loss: 0.3640 - dense_12_loss: 0.0763 - dense_13_loss: 0.119 - ETA: 2:58 - loss: 0.3673 - dense_12_loss: 0.0772 - dense_13_loss: 0.119 - ETA: 2:57 - loss: 0.3688 - dense_12_loss: 0.0777 - dense_13_loss: 0.119 - ETA: 2:57 - loss: 0.3669 - dense_12_loss: 0.0772 - dense_13_loss: 0.119 - ETA: 2:57 - loss: 0.3649 - dense_12_loss: 0.0766 - dense_13_loss: 0.119 - ETA: 2:57 - loss: 0.3633 - dense_12_loss: 0.0764 - dense_13_loss: 0.118 - ETA: 3:00 - loss: 0.3603 - dense_12_loss: 0.0755 - dense_13_loss: 0.118 - ETA: 3:01 - loss: 0.3602 - dense_12_loss: 0.0753 - dense_13_loss: 0.118 - ETA: 3:01 - loss: 0.3611 - dense_12_loss: 0.0754 - dense_13_loss: 0.119 - ETA: 3:01 - loss: 0.3600 - dense_12_loss: 0.0751 - dense_13_loss: 0.119 - ETA: 3:01 - loss: 0.3590 - dense_12_loss: 0.0750 - dense_13_loss: 0.118 - ETA: 3:01 - loss: 0.3586 - dense_12_loss: 0.0749 - dense_13_loss: 0.118 - ETA: 3:00 - loss: 0.3570 - dense_12_loss: 0.0745 - dense_13_loss: 0.117 - ETA: 3:00 - loss: 0.3563 - dense_12_loss: 0.0744 - dense_13_loss: 0.117 - ETA: 3:00 - loss: 0.3590 - dense_12_loss: 0.0751 - dense_13_loss: 0.118 - ETA: 3:00 - loss: 0.3589 - dense_12_loss: 0.0751 - dense_13_loss: 0.118 - ETA: 2:59 - loss: 0.3609 - dense_12_loss: 0.0756 - dense_13_loss: 0.118 - ETA: 2:59 - loss: 0.3621 - dense_12_loss: 0.0759 - dense_13_loss: 0.118 - ETA: 2:59 - loss: 0.3618 - dense_12_loss: 0.0757 - dense_13_loss: 0.119 - ETA: 2:58 - loss: 0.3642 - dense_12_loss: 0.0763 - dense_13_loss: 0.119 - ETA: 2:58 - loss: 0.3647 - dense_12_loss: 0.0764 - dense_13_loss: 0.119 - ETA: 2:57 - loss: 0.3639 - dense_12_loss: 0.0760 - dense_13_loss: 0.120 - ETA: 2:57 - loss: 0.3649 - dense_12_loss: 0.0763 - dense_13_loss: 0.120 - ETA: 2:57 - loss: 0.3649 - dense_12_loss: 0.0764 - dense_13_loss: 0.119 - ETA: 2:56 - loss: 0.3626 - dense_12_loss: 0.0758 - dense_13_loss: 0.119 - ETA: 2:56 - loss: 0.3621 - dense_12_loss: 0.0756 - dense_13_loss: 0.119 - ETA: 2:56 - loss: 0.3610 - dense_12_loss: 0.0753 - dense_13_loss: 0.119 - ETA: 2:55 - loss: 0.3605 - dense_12_loss: 0.0752 - dense_13_loss: 0.119 - ETA: 2:55 - loss: 0.3630 - dense_12_loss: 0.0759 - dense_13_loss: 0.119 - ETA: 2:55 - loss: 0.3615 - dense_12_loss: 0.0755 - dense_13_loss: 0.119 - ETA: 2:54 - loss: 0.3611 - dense_12_loss: 0.0753 - dense_13_loss: 0.119 - ETA: 2:54 - loss: 0.3629 - dense_12_loss: 0.0758 - dense_13_loss: 0.119 - ETA: 2:54 - loss: 0.3637 - dense_12_loss: 0.0761 - dense_13_loss: 0.119 - ETA: 2:53 - loss: 0.3644 - dense_12_loss: 0.0763 - dense_13_loss: 0.119 - ETA: 2:53 - loss: 0.3662 - dense_12_loss: 0.0767 - dense_13_loss: 0.120 - ETA: 2:53 - loss: 0.3681 - dense_12_loss: 0.0772 - dense_13_loss: 0.120 - ETA: 2:53 - loss: 0.3683 - dense_12_loss: 0.0772 - dense_13_loss: 0.120 - ETA: 2:52 - loss: 0.3690 - dense_12_loss: 0.0774 - dense_13_loss: 0.120 - ETA: 2:52 - loss: 0.3684 - dense_12_loss: 0.0772 - dense_13_loss: 0.120 - ETA: 2:52 - loss: 0.3686 - dense_12_loss: 0.0773 - dense_13_loss: 0.120 - ETA: 2:51 - loss: 0.3701 - dense_12_loss: 0.0777 - dense_13_loss: 0.120 - ETA: 2:51 - loss: 0.3709 - dense_12_loss: 0.0780 - dense_13_loss: 0.120 - ETA: 2:51 - loss: 0.3706 - dense_12_loss: 0.0779 - dense_13_loss: 0.120 - ETA: 2:50 - loss: 0.3713 - dense_12_loss: 0.0781 - dense_13_loss: 0.120 - ETA: 2:50 - loss: 0.3714 - dense_12_loss: 0.0781 - dense_13_loss: 0.120 - ETA: 2:50 - loss: 0.3710 - dense_12_loss: 0.0781 - dense_13_loss: 0.120 - ETA: 2:50 - loss: 0.3695 - dense_12_loss: 0.0777 - dense_13_loss: 0.120 - ETA: 2:49 - loss: 0.3698 - dense_12_loss: 0.0777 - dense_13_loss: 0.120 - ETA: 2:49 - loss: 0.3699 - dense_12_loss: 0.0778 - dense_13_loss: 0.120 - ETA: 2:49 - loss: 0.3698 - dense_12_loss: 0.0778 - dense_13_loss: 0.120 - ETA: 2:49 - loss: 0.3698 - dense_12_loss: 0.0778 - dense_13_loss: 0.120 - ETA: 2:48 - loss: 0.3702 - dense_12_loss: 0.0779 - dense_13_loss: 0.120 - ETA: 2:48 - loss: 0.3701 - dense_12_loss: 0.0779 - dense_13_loss: 0.120 - ETA: 2:48 - loss: 0.3707 - dense_12_loss: 0.0780 - dense_13_loss: 0.120 - ETA: 2:47 - loss: 0.3706 - dense_12_loss: 0.0779 - dense_13_loss: 0.120 - ETA: 2:47 - loss: 0.3700 - dense_12_loss: 0.0778 - dense_13_loss: 0.120 - ETA: 2:47 - loss: 0.3699 - dense_12_loss: 0.0778 - dense_13_loss: 0.120 - ETA: 2:47 - loss: 0.3697 - dense_12_loss: 0.0778 - dense_13_loss: 0.120 - ETA: 2:46 - loss: 0.3699 - dense_12_loss: 0.0778 - dense_13_loss: 0.120 - ETA: 2:46 - loss: 0.3691 - dense_12_loss: 0.0776 - dense_13_loss: 0.120 - ETA: 2:46 - loss: 0.3695 - dense_12_loss: 0.0777 - dense_13_loss: 0.120 - ETA: 2:45 - loss: 0.3697 - dense_12_loss: 0.0777 - dense_13_loss: 0.120 - ETA: 2:45 - loss: 0.3697 - dense_12_loss: 0.0777 - dense_13_loss: 0.120 - ETA: 2:45 - loss: 0.3693 - dense_12_loss: 0.0776 - dense_13_loss: 0.120 - ETA: 2:45 - loss: 0.3690 - dense_12_loss: 0.0775 - dense_13_loss: 0.120 - ETA: 2:44 - loss: 0.3686 - dense_12_loss: 0.0775 - dense_13_loss: 0.120 - ETA: 2:44 - loss: 0.3685 - dense_12_loss: 0.0775 - dense_13_loss: 0.120 - ETA: 2:44 - loss: 0.3676 - dense_12_loss: 0.0772 - dense_13_loss: 0.120 - ETA: 2:43 - loss: 0.3675 - dense_12_loss: 0.0772 - dense_13_loss: 0.119 - ETA: 2:43 - loss: 0.3673 - dense_12_loss: 0.0772 - dense_13_loss: 0.119 - ETA: 2:43 - loss: 0.3662 - dense_12_loss: 0.0768 - dense_13_loss: 0.119 - ETA: 2:42 - loss: 0.3661 - dense_12_loss: 0.0768 - dense_13_loss: 0.119 - ETA: 2:42 - loss: 0.3654 - dense_12_loss: 0.0766 - dense_13_loss: 0.119 - ETA: 2:42 - loss: 0.3654 - dense_12_loss: 0.0765 - dense_13_loss: 0.119 - ETA: 2:42 - loss: 0.3658 - dense_12_loss: 0.0767 - dense_13_loss: 0.119 - ETA: 2:41 - loss: 0.3662 - dense_12_loss: 0.0768 - dense_13_loss: 0.119 - ETA: 2:41 - loss: 0.3665 - dense_12_loss: 0.0769 - dense_13_loss: 0.120 - ETA: 2:41 - loss: 0.3665 - dense_12_loss: 0.0769 - dense_13_loss: 0.119 - ETA: 2:40 - loss: 0.3656 - dense_12_loss: 0.0767 - dense_13_loss: 0.119 - ETA: 2:40 - loss: 0.3649 - dense_12_loss: 0.0765 - dense_13_loss: 0.119 - ETA: 2:40 - loss: 0.3656 - dense_12_loss: 0.0767 - dense_13_loss: 0.119 - ETA: 2:40 - loss: 0.3665 - dense_12_loss: 0.0769 - dense_13_loss: 0.119 - ETA: 2:39 - loss: 0.3674 - dense_12_loss: 0.0772 - dense_13_loss: 0.119 - ETA: 2:39 - loss: 0.3663 - dense_12_loss: 0.0769 - dense_13_loss: 0.119 - ETA: 2:39 - loss: 0.3663 - dense_12_loss: 0.0769 - dense_13_loss: 0.119 - ETA: 2:38 - loss: 0.3664 - dense_12_loss: 0.0769 - dense_13_loss: 0.119 - ETA: 2:38 - loss: 0.3665 - dense_12_loss: 0.0769 - dense_13_loss: 0.120 - ETA: 2:38 - loss: 0.3666 - dense_12_loss: 0.0769 - dense_13_loss: 0.120 - ETA: 2:38 - loss: 0.3676 - dense_12_loss: 0.0771 - dense_13_loss: 0.120 - ETA: 2:37 - loss: 0.3680 - dense_12_loss: 0.0772 - dense_13_loss: 0.1205\b\b\b\b\b\b\b\b\b\b\b\b\b\b\b\b\b\b\b\b\b\b\b\b\b\b\b\b\b\b\b\b\b\b\b\b\b\b\b\b\b\b\b\b\b\b\b\b\b\b\b\b\b\b\b\b\b\b\b\b\b\b\b\b\b\b\b\b\b\b\b\b\b\b\b\b\b\b\b\b\b\b\b\b\b\b\b\b\b\b\b\b\b\b\b\b\b\b\b\b\b\b\b\b\b\b\b\b\b\b\b\b\b\b\b\b\b\b\b\b\b"
     ]
    },
    {
     "name": "stdout",
     "output_type": "stream",
     "text": [
      " 56576/171462 [========>.....................] - ETA: 2:37 - loss: 0.3670 - dense_12_loss: 0.0769 - dense_13_loss: 0.120 - ETA: 2:37 - loss: 0.3672 - dense_12_loss: 0.0770 - dense_13_loss: 0.120 - ETA: 2:37 - loss: 0.3671 - dense_12_loss: 0.0769 - dense_13_loss: 0.120 - ETA: 2:36 - loss: 0.3676 - dense_12_loss: 0.0771 - dense_13_loss: 0.120 - ETA: 2:36 - loss: 0.3671 - dense_12_loss: 0.0769 - dense_13_loss: 0.120 - ETA: 2:36 - loss: 0.3676 - dense_12_loss: 0.0771 - dense_13_loss: 0.120 - ETA: 2:35 - loss: 0.3674 - dense_12_loss: 0.0770 - dense_13_loss: 0.120 - ETA: 2:35 - loss: 0.3666 - dense_12_loss: 0.0768 - dense_13_loss: 0.120 - ETA: 2:35 - loss: 0.3679 - dense_12_loss: 0.0772 - dense_13_loss: 0.120 - ETA: 2:35 - loss: 0.3681 - dense_12_loss: 0.0772 - dense_13_loss: 0.120 - ETA: 2:34 - loss: 0.3677 - dense_12_loss: 0.0771 - dense_13_loss: 0.120 - ETA: 2:34 - loss: 0.3679 - dense_12_loss: 0.0772 - dense_13_loss: 0.120 - ETA: 2:34 - loss: 0.3676 - dense_12_loss: 0.0771 - dense_13_loss: 0.120 - ETA: 2:33 - loss: 0.3674 - dense_12_loss: 0.0771 - dense_13_loss: 0.120 - ETA: 2:33 - loss: 0.3677 - dense_12_loss: 0.0772 - dense_13_loss: 0.120 - ETA: 2:33 - loss: 0.3680 - dense_12_loss: 0.0773 - dense_13_loss: 0.120 - ETA: 2:33 - loss: 0.3682 - dense_12_loss: 0.0773 - dense_13_loss: 0.120 - ETA: 2:32 - loss: 0.3685 - dense_12_loss: 0.0774 - dense_13_loss: 0.120 - ETA: 2:32 - loss: 0.3683 - dense_12_loss: 0.0774 - dense_13_loss: 0.120 - ETA: 2:32 - loss: 0.3685 - dense_12_loss: 0.0774 - dense_13_loss: 0.120 - ETA: 2:31 - loss: 0.3688 - dense_12_loss: 0.0775 - dense_13_loss: 0.120 - ETA: 2:31 - loss: 0.3686 - dense_12_loss: 0.0774 - dense_13_loss: 0.120 - ETA: 2:31 - loss: 0.3686 - dense_12_loss: 0.0774 - dense_13_loss: 0.120 - ETA: 2:30 - loss: 0.3696 - dense_12_loss: 0.0776 - dense_13_loss: 0.120 - ETA: 2:30 - loss: 0.3688 - dense_12_loss: 0.0774 - dense_13_loss: 0.120 - ETA: 2:30 - loss: 0.3696 - dense_12_loss: 0.0776 - dense_13_loss: 0.120 - ETA: 2:30 - loss: 0.3695 - dense_12_loss: 0.0777 - dense_13_loss: 0.120 - ETA: 2:29 - loss: 0.3701 - dense_12_loss: 0.0778 - dense_13_loss: 0.120 - ETA: 2:29 - loss: 0.3701 - dense_12_loss: 0.0778 - dense_13_loss: 0.120 - ETA: 2:29 - loss: 0.3701 - dense_12_loss: 0.0778 - dense_13_loss: 0.120 - ETA: 2:29 - loss: 0.3702 - dense_12_loss: 0.0778 - dense_13_loss: 0.120 - ETA: 2:28 - loss: 0.3714 - dense_12_loss: 0.0782 - dense_13_loss: 0.120 - ETA: 2:28 - loss: 0.3717 - dense_12_loss: 0.0783 - dense_13_loss: 0.120 - ETA: 2:28 - loss: 0.3725 - dense_12_loss: 0.0785 - dense_13_loss: 0.120 - ETA: 2:27 - loss: 0.3727 - dense_12_loss: 0.0785 - dense_13_loss: 0.120 - ETA: 2:27 - loss: 0.3728 - dense_12_loss: 0.0785 - dense_13_loss: 0.121 - ETA: 2:27 - loss: 0.3731 - dense_12_loss: 0.0786 - dense_13_loss: 0.121 - ETA: 2:26 - loss: 0.3732 - dense_12_loss: 0.0786 - dense_13_loss: 0.121 - ETA: 2:26 - loss: 0.3733 - dense_12_loss: 0.0786 - dense_13_loss: 0.121 - ETA: 2:26 - loss: 0.3731 - dense_12_loss: 0.0786 - dense_13_loss: 0.121 - ETA: 2:26 - loss: 0.3736 - dense_12_loss: 0.0787 - dense_13_loss: 0.121 - ETA: 2:25 - loss: 0.3735 - dense_12_loss: 0.0787 - dense_13_loss: 0.121 - ETA: 2:25 - loss: 0.3731 - dense_12_loss: 0.0786 - dense_13_loss: 0.121 - ETA: 2:25 - loss: 0.3734 - dense_12_loss: 0.0786 - dense_13_loss: 0.121 - ETA: 2:24 - loss: 0.3733 - dense_12_loss: 0.0786 - dense_13_loss: 0.121 - ETA: 2:24 - loss: 0.3741 - dense_12_loss: 0.0788 - dense_13_loss: 0.121 - ETA: 2:24 - loss: 0.3743 - dense_12_loss: 0.0789 - dense_13_loss: 0.121 - ETA: 2:24 - loss: 0.3738 - dense_12_loss: 0.0787 - dense_13_loss: 0.121 - ETA: 2:23 - loss: 0.3740 - dense_12_loss: 0.0788 - dense_13_loss: 0.121 - ETA: 2:23 - loss: 0.3737 - dense_12_loss: 0.0787 - dense_13_loss: 0.121 - ETA: 2:23 - loss: 0.3740 - dense_12_loss: 0.0788 - dense_13_loss: 0.121 - ETA: 2:22 - loss: 0.3743 - dense_12_loss: 0.0789 - dense_13_loss: 0.121 - ETA: 2:22 - loss: 0.3737 - dense_12_loss: 0.0787 - dense_13_loss: 0.121 - ETA: 2:22 - loss: 0.3736 - dense_12_loss: 0.0787 - dense_13_loss: 0.121 - ETA: 2:22 - loss: 0.3735 - dense_12_loss: 0.0787 - dense_13_loss: 0.121 - ETA: 2:21 - loss: 0.3734 - dense_12_loss: 0.0786 - dense_13_loss: 0.121 - ETA: 2:21 - loss: 0.3739 - dense_12_loss: 0.0788 - dense_13_loss: 0.121 - ETA: 2:21 - loss: 0.3736 - dense_12_loss: 0.0787 - dense_13_loss: 0.121 - ETA: 2:20 - loss: 0.3734 - dense_12_loss: 0.0786 - dense_13_loss: 0.121 - ETA: 2:20 - loss: 0.3736 - dense_12_loss: 0.0786 - dense_13_loss: 0.121 - ETA: 2:20 - loss: 0.3735 - dense_12_loss: 0.0786 - dense_13_loss: 0.121 - ETA: 2:20 - loss: 0.3735 - dense_12_loss: 0.0786 - dense_13_loss: 0.121 - ETA: 2:19 - loss: 0.3735 - dense_12_loss: 0.0786 - dense_13_loss: 0.121 - ETA: 2:19 - loss: 0.3736 - dense_12_loss: 0.0786 - dense_13_loss: 0.121 - ETA: 2:19 - loss: 0.3734 - dense_12_loss: 0.0786 - dense_13_loss: 0.121 - ETA: 2:18 - loss: 0.3735 - dense_12_loss: 0.0786 - dense_13_loss: 0.121 - ETA: 2:18 - loss: 0.3733 - dense_12_loss: 0.0786 - dense_13_loss: 0.121 - ETA: 2:18 - loss: 0.3729 - dense_12_loss: 0.0785 - dense_13_loss: 0.121 - ETA: 2:18 - loss: 0.3729 - dense_12_loss: 0.0785 - dense_13_loss: 0.121 - ETA: 2:17 - loss: 0.3728 - dense_12_loss: 0.0784 - dense_13_loss: 0.121 - ETA: 2:17 - loss: 0.3725 - dense_12_loss: 0.0783 - dense_13_loss: 0.121 - ETA: 2:17 - loss: 0.3731 - dense_12_loss: 0.0785 - dense_13_loss: 0.121 - ETA: 2:16 - loss: 0.3734 - dense_12_loss: 0.0786 - dense_13_loss: 0.121 - ETA: 2:16 - loss: 0.3731 - dense_12_loss: 0.0785 - dense_13_loss: 0.121 - ETA: 2:16 - loss: 0.3731 - dense_12_loss: 0.0785 - dense_13_loss: 0.121 - ETA: 2:16 - loss: 0.3726 - dense_12_loss: 0.0784 - dense_13_loss: 0.121 - ETA: 2:15 - loss: 0.3725 - dense_12_loss: 0.0783 - dense_13_loss: 0.121 - ETA: 2:15 - loss: 0.3726 - dense_12_loss: 0.0783 - dense_13_loss: 0.121 - ETA: 2:15 - loss: 0.3728 - dense_12_loss: 0.0784 - dense_13_loss: 0.121 - ETA: 2:14 - loss: 0.3732 - dense_12_loss: 0.0785 - dense_13_loss: 0.121 - ETA: 2:14 - loss: 0.3730 - dense_12_loss: 0.0785 - dense_13_loss: 0.121 - ETA: 2:14 - loss: 0.3733 - dense_12_loss: 0.0786 - dense_13_loss: 0.121 - ETA: 2:14 - loss: 0.3729 - dense_12_loss: 0.0785 - dense_13_loss: 0.121 - ETA: 2:13 - loss: 0.3724 - dense_12_loss: 0.0783 - dense_13_loss: 0.121 - ETA: 2:13 - loss: 0.3724 - dense_12_loss: 0.0783 - dense_13_loss: 0.121 - ETA: 2:13 - loss: 0.3722 - dense_12_loss: 0.0782 - dense_13_loss: 0.121 - ETA: 2:12 - loss: 0.3727 - dense_12_loss: 0.0784 - dense_13_loss: 0.121 - ETA: 2:12 - loss: 0.3730 - dense_12_loss: 0.0785 - dense_13_loss: 0.121 - ETA: 2:12 - loss: 0.3731 - dense_12_loss: 0.0785 - dense_13_loss: 0.121 - ETA: 2:12 - loss: 0.3731 - dense_12_loss: 0.0785 - dense_13_loss: 0.121 - ETA: 2:11 - loss: 0.3734 - dense_12_loss: 0.0786 - dense_13_loss: 0.121 - ETA: 2:11 - loss: 0.3735 - dense_12_loss: 0.0786 - dense_13_loss: 0.121 - ETA: 2:11 - loss: 0.3735 - dense_12_loss: 0.0786 - dense_13_loss: 0.121 - ETA: 2:10 - loss: 0.3733 - dense_12_loss: 0.0785 - dense_13_loss: 0.121 - ETA: 2:10 - loss: 0.3729 - dense_12_loss: 0.0784 - dense_13_loss: 0.121 - ETA: 2:10 - loss: 0.3734 - dense_12_loss: 0.0785 - dense_13_loss: 0.121 - ETA: 2:10 - loss: 0.3738 - dense_12_loss: 0.0786 - dense_13_loss: 0.121 - ETA: 2:09 - loss: 0.3739 - dense_12_loss: 0.0786 - dense_13_loss: 0.121 - ETA: 2:09 - loss: 0.3735 - dense_12_loss: 0.0785 - dense_13_loss: 0.121 - ETA: 2:09 - loss: 0.3733 - dense_12_loss: 0.0785 - dense_13_loss: 0.121 - ETA: 2:08 - loss: 0.3734 - dense_12_loss: 0.0785 - dense_13_loss: 0.121 - ETA: 2:08 - loss: 0.3733 - dense_12_loss: 0.0785 - dense_13_loss: 0.121 - ETA: 2:08 - loss: 0.3730 - dense_12_loss: 0.0784 - dense_13_loss: 0.121 - ETA: 2:08 - loss: 0.3727 - dense_12_loss: 0.0783 - dense_13_loss: 0.121 - ETA: 2:07 - loss: 0.3724 - dense_12_loss: 0.0782 - dense_13_loss: 0.121 - ETA: 2:07 - loss: 0.3718 - dense_12_loss: 0.0781 - dense_13_loss: 0.121 - ETA: 2:07 - loss: 0.3720 - dense_12_loss: 0.0781 - dense_13_loss: 0.121 - ETA: 2:06 - loss: 0.3720 - dense_12_loss: 0.0781 - dense_13_loss: 0.121 - ETA: 2:06 - loss: 0.3718 - dense_12_loss: 0.0780 - dense_13_loss: 0.121 - ETA: 2:06 - loss: 0.3717 - dense_12_loss: 0.0780 - dense_13_loss: 0.121 - ETA: 2:06 - loss: 0.3717 - dense_12_loss: 0.0780 - dense_13_loss: 0.1215"
     ]
    },
    {
     "name": "stdout",
     "output_type": "stream",
     "text": [
      " 84992/171462 [=============>................] - ETA: 2:05 - loss: 0.3718 - dense_12_loss: 0.0780 - dense_13_loss: 0.121 - ETA: 2:05 - loss: 0.3717 - dense_12_loss: 0.0780 - dense_13_loss: 0.121 - ETA: 2:05 - loss: 0.3721 - dense_12_loss: 0.0781 - dense_13_loss: 0.121 - ETA: 2:04 - loss: 0.3719 - dense_12_loss: 0.0781 - dense_13_loss: 0.121 - ETA: 2:04 - loss: 0.3715 - dense_12_loss: 0.0779 - dense_13_loss: 0.121 - ETA: 2:04 - loss: 0.3713 - dense_12_loss: 0.0779 - dense_13_loss: 0.121 - ETA: 2:04 - loss: 0.3713 - dense_12_loss: 0.0779 - dense_13_loss: 0.121 - ETA: 2:03 - loss: 0.3713 - dense_12_loss: 0.0779 - dense_13_loss: 0.121 - ETA: 2:03 - loss: 0.3712 - dense_12_loss: 0.0778 - dense_13_loss: 0.121 - ETA: 2:03 - loss: 0.3713 - dense_12_loss: 0.0779 - dense_13_loss: 0.121 - ETA: 2:03 - loss: 0.3710 - dense_12_loss: 0.0778 - dense_13_loss: 0.121 - ETA: 2:02 - loss: 0.3708 - dense_12_loss: 0.0777 - dense_13_loss: 0.121 - ETA: 2:02 - loss: 0.3709 - dense_12_loss: 0.0778 - dense_13_loss: 0.121 - ETA: 2:02 - loss: 0.3710 - dense_12_loss: 0.0778 - dense_13_loss: 0.121 - ETA: 2:01 - loss: 0.3714 - dense_12_loss: 0.0779 - dense_13_loss: 0.121 - ETA: 2:01 - loss: 0.3711 - dense_12_loss: 0.0779 - dense_13_loss: 0.121 - ETA: 2:01 - loss: 0.3713 - dense_12_loss: 0.0779 - dense_13_loss: 0.121 - ETA: 2:01 - loss: 0.3712 - dense_12_loss: 0.0779 - dense_13_loss: 0.121 - ETA: 2:00 - loss: 0.3711 - dense_12_loss: 0.0779 - dense_13_loss: 0.121 - ETA: 2:00 - loss: 0.3711 - dense_12_loss: 0.0779 - dense_13_loss: 0.121 - ETA: 2:00 - loss: 0.3710 - dense_12_loss: 0.0778 - dense_13_loss: 0.121 - ETA: 1:59 - loss: 0.3709 - dense_12_loss: 0.0778 - dense_13_loss: 0.121 - ETA: 1:59 - loss: 0.3706 - dense_12_loss: 0.0777 - dense_13_loss: 0.121 - ETA: 1:59 - loss: 0.3705 - dense_12_loss: 0.0777 - dense_13_loss: 0.121 - ETA: 1:59 - loss: 0.3706 - dense_12_loss: 0.0777 - dense_13_loss: 0.121 - ETA: 1:58 - loss: 0.3706 - dense_12_loss: 0.0777 - dense_13_loss: 0.121 - ETA: 1:58 - loss: 0.3704 - dense_12_loss: 0.0777 - dense_13_loss: 0.121 - ETA: 1:58 - loss: 0.3702 - dense_12_loss: 0.0776 - dense_13_loss: 0.121 - ETA: 1:57 - loss: 0.3703 - dense_12_loss: 0.0777 - dense_13_loss: 0.121 - ETA: 1:57 - loss: 0.3704 - dense_12_loss: 0.0777 - dense_13_loss: 0.121 - ETA: 1:57 - loss: 0.3705 - dense_12_loss: 0.0777 - dense_13_loss: 0.121 - ETA: 1:57 - loss: 0.3706 - dense_12_loss: 0.0778 - dense_13_loss: 0.121 - ETA: 1:56 - loss: 0.3707 - dense_12_loss: 0.0778 - dense_13_loss: 0.121 - ETA: 1:56 - loss: 0.3704 - dense_12_loss: 0.0777 - dense_13_loss: 0.121 - ETA: 1:56 - loss: 0.3702 - dense_12_loss: 0.0776 - dense_13_loss: 0.121 - ETA: 1:55 - loss: 0.3702 - dense_12_loss: 0.0776 - dense_13_loss: 0.121 - ETA: 1:55 - loss: 0.3703 - dense_12_loss: 0.0777 - dense_13_loss: 0.121 - ETA: 1:55 - loss: 0.3705 - dense_12_loss: 0.0778 - dense_13_loss: 0.121 - ETA: 1:55 - loss: 0.3702 - dense_12_loss: 0.0777 - dense_13_loss: 0.121 - ETA: 1:54 - loss: 0.3703 - dense_12_loss: 0.0777 - dense_13_loss: 0.121 - ETA: 1:54 - loss: 0.3702 - dense_12_loss: 0.0777 - dense_13_loss: 0.121 - ETA: 1:54 - loss: 0.3702 - dense_12_loss: 0.0777 - dense_13_loss: 0.121 - ETA: 1:53 - loss: 0.3700 - dense_12_loss: 0.0776 - dense_13_loss: 0.121 - ETA: 1:53 - loss: 0.3699 - dense_12_loss: 0.0776 - dense_13_loss: 0.121 - ETA: 1:53 - loss: 0.3697 - dense_12_loss: 0.0775 - dense_13_loss: 0.121 - ETA: 1:53 - loss: 0.3700 - dense_12_loss: 0.0776 - dense_13_loss: 0.121 - ETA: 1:52 - loss: 0.3699 - dense_12_loss: 0.0776 - dense_13_loss: 0.121 - ETA: 1:52 - loss: 0.3704 - dense_12_loss: 0.0777 - dense_13_loss: 0.121 - ETA: 1:52 - loss: 0.3702 - dense_12_loss: 0.0777 - dense_13_loss: 0.121 - ETA: 1:52 - loss: 0.3702 - dense_12_loss: 0.0777 - dense_13_loss: 0.121 - ETA: 1:51 - loss: 0.3703 - dense_12_loss: 0.0777 - dense_13_loss: 0.121 - ETA: 1:51 - loss: 0.3704 - dense_12_loss: 0.0777 - dense_13_loss: 0.121 - ETA: 1:51 - loss: 0.3706 - dense_12_loss: 0.0778 - dense_13_loss: 0.121 - ETA: 1:50 - loss: 0.3705 - dense_12_loss: 0.0778 - dense_13_loss: 0.121 - ETA: 1:50 - loss: 0.3705 - dense_12_loss: 0.0778 - dense_13_loss: 0.121 - ETA: 1:50 - loss: 0.3707 - dense_12_loss: 0.0778 - dense_13_loss: 0.121 - ETA: 1:50 - loss: 0.3704 - dense_12_loss: 0.0777 - dense_13_loss: 0.121 - ETA: 1:49 - loss: 0.3707 - dense_12_loss: 0.0778 - dense_13_loss: 0.121 - ETA: 1:49 - loss: 0.3706 - dense_12_loss: 0.0778 - dense_13_loss: 0.121 - ETA: 1:49 - loss: 0.3705 - dense_12_loss: 0.0777 - dense_13_loss: 0.121 - ETA: 1:48 - loss: 0.3704 - dense_12_loss: 0.0777 - dense_13_loss: 0.121 - ETA: 1:48 - loss: 0.3703 - dense_12_loss: 0.0777 - dense_13_loss: 0.121 - ETA: 1:48 - loss: 0.3701 - dense_12_loss: 0.0776 - dense_13_loss: 0.121 - ETA: 1:48 - loss: 0.3701 - dense_12_loss: 0.0776 - dense_13_loss: 0.121 - ETA: 1:47 - loss: 0.3701 - dense_12_loss: 0.0776 - dense_13_loss: 0.121 - ETA: 1:47 - loss: 0.3702 - dense_12_loss: 0.0777 - dense_13_loss: 0.121 - ETA: 1:47 - loss: 0.3701 - dense_12_loss: 0.0776 - dense_13_loss: 0.121 - ETA: 1:46 - loss: 0.3701 - dense_12_loss: 0.0776 - dense_13_loss: 0.121 - ETA: 1:46 - loss: 0.3702 - dense_12_loss: 0.0777 - dense_13_loss: 0.121 - ETA: 1:46 - loss: 0.3702 - dense_12_loss: 0.0776 - dense_13_loss: 0.121 - ETA: 1:46 - loss: 0.3700 - dense_12_loss: 0.0776 - dense_13_loss: 0.121 - ETA: 1:45 - loss: 0.3702 - dense_12_loss: 0.0777 - dense_13_loss: 0.121 - ETA: 1:45 - loss: 0.3703 - dense_12_loss: 0.0777 - dense_13_loss: 0.121 - ETA: 1:45 - loss: 0.3704 - dense_12_loss: 0.0777 - dense_13_loss: 0.121 - ETA: 1:44 - loss: 0.3703 - dense_12_loss: 0.0777 - dense_13_loss: 0.121 - ETA: 1:44 - loss: 0.3704 - dense_12_loss: 0.0777 - dense_13_loss: 0.121 - ETA: 1:44 - loss: 0.3704 - dense_12_loss: 0.0777 - dense_13_loss: 0.121 - ETA: 1:44 - loss: 0.3706 - dense_12_loss: 0.0778 - dense_13_loss: 0.121 - ETA: 1:43 - loss: 0.3708 - dense_12_loss: 0.0778 - dense_13_loss: 0.121 - ETA: 1:43 - loss: 0.3709 - dense_12_loss: 0.0779 - dense_13_loss: 0.121 - ETA: 1:43 - loss: 0.3710 - dense_12_loss: 0.0779 - dense_13_loss: 0.121 - ETA: 1:42 - loss: 0.3706 - dense_12_loss: 0.0778 - dense_13_loss: 0.121 - ETA: 1:42 - loss: 0.3703 - dense_12_loss: 0.0777 - dense_13_loss: 0.121 - ETA: 1:42 - loss: 0.3704 - dense_12_loss: 0.0777 - dense_13_loss: 0.121 - ETA: 1:42 - loss: 0.3702 - dense_12_loss: 0.0777 - dense_13_loss: 0.121 - ETA: 1:41 - loss: 0.3703 - dense_12_loss: 0.0777 - dense_13_loss: 0.121 - ETA: 1:41 - loss: 0.3708 - dense_12_loss: 0.0778 - dense_13_loss: 0.121 - ETA: 1:41 - loss: 0.3708 - dense_12_loss: 0.0778 - dense_13_loss: 0.121 - ETA: 1:40 - loss: 0.3712 - dense_12_loss: 0.0779 - dense_13_loss: 0.121 - ETA: 1:40 - loss: 0.3713 - dense_12_loss: 0.0780 - dense_13_loss: 0.121 - ETA: 1:40 - loss: 0.3712 - dense_12_loss: 0.0779 - dense_13_loss: 0.121 - ETA: 1:40 - loss: 0.3710 - dense_12_loss: 0.0779 - dense_13_loss: 0.121 - ETA: 1:39 - loss: 0.3713 - dense_12_loss: 0.0780 - dense_13_loss: 0.121 - ETA: 1:39 - loss: 0.3712 - dense_12_loss: 0.0779 - dense_13_loss: 0.121 - ETA: 1:39 - loss: 0.3713 - dense_12_loss: 0.0780 - dense_13_loss: 0.121 - ETA: 1:39 - loss: 0.3712 - dense_12_loss: 0.0780 - dense_13_loss: 0.121 - ETA: 1:38 - loss: 0.3708 - dense_12_loss: 0.0779 - dense_13_loss: 0.121 - ETA: 1:38 - loss: 0.3708 - dense_12_loss: 0.0778 - dense_13_loss: 0.121 - ETA: 1:38 - loss: 0.3707 - dense_12_loss: 0.0778 - dense_13_loss: 0.121 - ETA: 1:37 - loss: 0.3708 - dense_12_loss: 0.0778 - dense_13_loss: 0.121 - ETA: 1:37 - loss: 0.3704 - dense_12_loss: 0.0777 - dense_13_loss: 0.121 - ETA: 1:37 - loss: 0.3707 - dense_12_loss: 0.0778 - dense_13_loss: 0.121 - ETA: 1:37 - loss: 0.3709 - dense_12_loss: 0.0779 - dense_13_loss: 0.121 - ETA: 1:36 - loss: 0.3708 - dense_12_loss: 0.0778 - dense_13_loss: 0.121 - ETA: 1:36 - loss: 0.3707 - dense_12_loss: 0.0778 - dense_13_loss: 0.121 - ETA: 1:36 - loss: 0.3707 - dense_12_loss: 0.0778 - dense_13_loss: 0.121 - ETA: 1:35 - loss: 0.3708 - dense_12_loss: 0.0778 - dense_13_loss: 0.121 - ETA: 1:35 - loss: 0.3709 - dense_12_loss: 0.0779 - dense_13_loss: 0.121 - ETA: 1:35 - loss: 0.3711 - dense_12_loss: 0.0779 - dense_13_loss: 0.121 - ETA: 1:35 - loss: 0.3710 - dense_12_loss: 0.0779 - dense_13_loss: 0.121 - ETA: 1:34 - loss: 0.3709 - dense_12_loss: 0.0779 - dense_13_loss: 0.1212"
     ]
    },
    {
     "name": "stdout",
     "output_type": "stream",
     "text": [
      "113408/171462 [==================>...........] - ETA: 1:34 - loss: 0.3707 - dense_12_loss: 0.0778 - dense_13_loss: 0.121 - ETA: 1:34 - loss: 0.3704 - dense_12_loss: 0.0777 - dense_13_loss: 0.121 - ETA: 1:33 - loss: 0.3705 - dense_12_loss: 0.0778 - dense_13_loss: 0.121 - ETA: 1:33 - loss: 0.3707 - dense_12_loss: 0.0778 - dense_13_loss: 0.121 - ETA: 1:33 - loss: 0.3708 - dense_12_loss: 0.0779 - dense_13_loss: 0.121 - ETA: 1:33 - loss: 0.3707 - dense_12_loss: 0.0779 - dense_13_loss: 0.121 - ETA: 1:32 - loss: 0.3709 - dense_12_loss: 0.0779 - dense_13_loss: 0.121 - ETA: 1:32 - loss: 0.3709 - dense_12_loss: 0.0779 - dense_13_loss: 0.121 - ETA: 1:32 - loss: 0.3710 - dense_12_loss: 0.0779 - dense_13_loss: 0.121 - ETA: 1:31 - loss: 0.3710 - dense_12_loss: 0.0779 - dense_13_loss: 0.121 - ETA: 1:31 - loss: 0.3708 - dense_12_loss: 0.0779 - dense_13_loss: 0.121 - ETA: 1:31 - loss: 0.3710 - dense_12_loss: 0.0779 - dense_13_loss: 0.121 - ETA: 1:31 - loss: 0.3710 - dense_12_loss: 0.0779 - dense_13_loss: 0.121 - ETA: 1:30 - loss: 0.3710 - dense_12_loss: 0.0779 - dense_13_loss: 0.121 - ETA: 1:30 - loss: 0.3710 - dense_12_loss: 0.0779 - dense_13_loss: 0.121 - ETA: 1:30 - loss: 0.3709 - dense_12_loss: 0.0779 - dense_13_loss: 0.121 - ETA: 1:30 - loss: 0.3707 - dense_12_loss: 0.0778 - dense_13_loss: 0.121 - ETA: 1:29 - loss: 0.3709 - dense_12_loss: 0.0779 - dense_13_loss: 0.121 - ETA: 1:29 - loss: 0.3708 - dense_12_loss: 0.0779 - dense_13_loss: 0.121 - ETA: 1:29 - loss: 0.3706 - dense_12_loss: 0.0779 - dense_13_loss: 0.121 - ETA: 1:28 - loss: 0.3707 - dense_12_loss: 0.0779 - dense_13_loss: 0.120 - ETA: 1:28 - loss: 0.3707 - dense_12_loss: 0.0779 - dense_13_loss: 0.120 - ETA: 1:28 - loss: 0.3705 - dense_12_loss: 0.0778 - dense_13_loss: 0.120 - ETA: 1:28 - loss: 0.3706 - dense_12_loss: 0.0779 - dense_13_loss: 0.120 - ETA: 1:27 - loss: 0.3706 - dense_12_loss: 0.0779 - dense_13_loss: 0.120 - ETA: 1:27 - loss: 0.3705 - dense_12_loss: 0.0779 - dense_13_loss: 0.120 - ETA: 1:27 - loss: 0.3706 - dense_12_loss: 0.0779 - dense_13_loss: 0.120 - ETA: 1:26 - loss: 0.3706 - dense_12_loss: 0.0779 - dense_13_loss: 0.120 - ETA: 1:26 - loss: 0.3705 - dense_12_loss: 0.0778 - dense_13_loss: 0.120 - ETA: 1:26 - loss: 0.3704 - dense_12_loss: 0.0778 - dense_13_loss: 0.120 - ETA: 1:26 - loss: 0.3703 - dense_12_loss: 0.0778 - dense_13_loss: 0.120 - ETA: 1:25 - loss: 0.3703 - dense_12_loss: 0.0778 - dense_13_loss: 0.120 - ETA: 1:25 - loss: 0.3703 - dense_12_loss: 0.0778 - dense_13_loss: 0.120 - ETA: 1:25 - loss: 0.3706 - dense_12_loss: 0.0779 - dense_13_loss: 0.120 - ETA: 1:24 - loss: 0.3705 - dense_12_loss: 0.0779 - dense_13_loss: 0.120 - ETA: 1:24 - loss: 0.3707 - dense_12_loss: 0.0779 - dense_13_loss: 0.120 - ETA: 1:24 - loss: 0.3710 - dense_12_loss: 0.0780 - dense_13_loss: 0.120 - ETA: 1:24 - loss: 0.3712 - dense_12_loss: 0.0780 - dense_13_loss: 0.120 - ETA: 1:23 - loss: 0.3711 - dense_12_loss: 0.0780 - dense_13_loss: 0.120 - ETA: 1:23 - loss: 0.3709 - dense_12_loss: 0.0780 - dense_13_loss: 0.120 - ETA: 1:23 - loss: 0.3710 - dense_12_loss: 0.0780 - dense_13_loss: 0.120 - ETA: 1:23 - loss: 0.3710 - dense_12_loss: 0.0780 - dense_13_loss: 0.120 - ETA: 1:22 - loss: 0.3709 - dense_12_loss: 0.0780 - dense_13_loss: 0.120 - ETA: 1:22 - loss: 0.3712 - dense_12_loss: 0.0781 - dense_13_loss: 0.120 - ETA: 1:22 - loss: 0.3712 - dense_12_loss: 0.0781 - dense_13_loss: 0.120 - ETA: 1:21 - loss: 0.3713 - dense_12_loss: 0.0781 - dense_13_loss: 0.120 - ETA: 1:21 - loss: 0.3712 - dense_12_loss: 0.0781 - dense_13_loss: 0.120 - ETA: 1:21 - loss: 0.3712 - dense_12_loss: 0.0780 - dense_13_loss: 0.120 - ETA: 1:21 - loss: 0.3712 - dense_12_loss: 0.0780 - dense_13_loss: 0.120 - ETA: 1:20 - loss: 0.3710 - dense_12_loss: 0.0780 - dense_13_loss: 0.120 - ETA: 1:20 - loss: 0.3709 - dense_12_loss: 0.0780 - dense_13_loss: 0.120 - ETA: 1:20 - loss: 0.3708 - dense_12_loss: 0.0779 - dense_13_loss: 0.120 - ETA: 1:19 - loss: 0.3715 - dense_12_loss: 0.0781 - dense_13_loss: 0.121 - ETA: 1:19 - loss: 0.3715 - dense_12_loss: 0.0781 - dense_13_loss: 0.121 - ETA: 1:19 - loss: 0.3714 - dense_12_loss: 0.0781 - dense_13_loss: 0.121 - ETA: 1:19 - loss: 0.3714 - dense_12_loss: 0.0781 - dense_13_loss: 0.121 - ETA: 1:18 - loss: 0.3714 - dense_12_loss: 0.0781 - dense_13_loss: 0.121 - ETA: 1:18 - loss: 0.3713 - dense_12_loss: 0.0781 - dense_13_loss: 0.121 - ETA: 1:18 - loss: 0.3715 - dense_12_loss: 0.0781 - dense_13_loss: 0.121 - ETA: 1:17 - loss: 0.3715 - dense_12_loss: 0.0781 - dense_13_loss: 0.121 - ETA: 1:17 - loss: 0.3716 - dense_12_loss: 0.0781 - dense_13_loss: 0.121 - ETA: 1:17 - loss: 0.3717 - dense_12_loss: 0.0782 - dense_13_loss: 0.121 - ETA: 1:17 - loss: 0.3716 - dense_12_loss: 0.0782 - dense_13_loss: 0.121 - ETA: 1:16 - loss: 0.3715 - dense_12_loss: 0.0781 - dense_13_loss: 0.121 - ETA: 1:16 - loss: 0.3717 - dense_12_loss: 0.0782 - dense_13_loss: 0.121 - ETA: 1:16 - loss: 0.3718 - dense_12_loss: 0.0782 - dense_13_loss: 0.121 - ETA: 1:15 - loss: 0.3717 - dense_12_loss: 0.0782 - dense_13_loss: 0.121 - ETA: 1:15 - loss: 0.3715 - dense_12_loss: 0.0781 - dense_13_loss: 0.121 - ETA: 1:15 - loss: 0.3715 - dense_12_loss: 0.0781 - dense_13_loss: 0.121 - ETA: 1:15 - loss: 0.3715 - dense_12_loss: 0.0781 - dense_13_loss: 0.121 - ETA: 1:14 - loss: 0.3714 - dense_12_loss: 0.0781 - dense_13_loss: 0.121 - ETA: 1:14 - loss: 0.3713 - dense_12_loss: 0.0781 - dense_13_loss: 0.121 - ETA: 1:14 - loss: 0.3714 - dense_12_loss: 0.0781 - dense_13_loss: 0.121 - ETA: 1:14 - loss: 0.3714 - dense_12_loss: 0.0781 - dense_13_loss: 0.121 - ETA: 1:13 - loss: 0.3712 - dense_12_loss: 0.0780 - dense_13_loss: 0.120 - ETA: 1:13 - loss: 0.3712 - dense_12_loss: 0.0781 - dense_13_loss: 0.120 - ETA: 1:13 - loss: 0.3712 - dense_12_loss: 0.0781 - dense_13_loss: 0.120 - ETA: 1:12 - loss: 0.3710 - dense_12_loss: 0.0780 - dense_13_loss: 0.120 - ETA: 1:12 - loss: 0.3707 - dense_12_loss: 0.0779 - dense_13_loss: 0.120 - ETA: 1:12 - loss: 0.3706 - dense_12_loss: 0.0779 - dense_13_loss: 0.120 - ETA: 1:12 - loss: 0.3705 - dense_12_loss: 0.0779 - dense_13_loss: 0.120 - ETA: 1:11 - loss: 0.3703 - dense_12_loss: 0.0778 - dense_13_loss: 0.120 - ETA: 1:11 - loss: 0.3702 - dense_12_loss: 0.0778 - dense_13_loss: 0.120 - ETA: 1:11 - loss: 0.3702 - dense_12_loss: 0.0778 - dense_13_loss: 0.120 - ETA: 1:10 - loss: 0.3702 - dense_12_loss: 0.0777 - dense_13_loss: 0.120 - ETA: 1:10 - loss: 0.3702 - dense_12_loss: 0.0778 - dense_13_loss: 0.120 - ETA: 1:10 - loss: 0.3702 - dense_12_loss: 0.0777 - dense_13_loss: 0.120 - ETA: 1:10 - loss: 0.3701 - dense_12_loss: 0.0777 - dense_13_loss: 0.120 - ETA: 1:09 - loss: 0.3703 - dense_12_loss: 0.0778 - dense_13_loss: 0.120 - ETA: 1:09 - loss: 0.3702 - dense_12_loss: 0.0777 - dense_13_loss: 0.120 - ETA: 1:09 - loss: 0.3703 - dense_12_loss: 0.0778 - dense_13_loss: 0.120 - ETA: 1:08 - loss: 0.3701 - dense_12_loss: 0.0777 - dense_13_loss: 0.120 - ETA: 1:08 - loss: 0.3700 - dense_12_loss: 0.0777 - dense_13_loss: 0.120 - ETA: 1:08 - loss: 0.3699 - dense_12_loss: 0.0777 - dense_13_loss: 0.120 - ETA: 1:08 - loss: 0.3697 - dense_12_loss: 0.0776 - dense_13_loss: 0.120 - ETA: 1:07 - loss: 0.3699 - dense_12_loss: 0.0777 - dense_13_loss: 0.120 - ETA: 1:07 - loss: 0.3700 - dense_12_loss: 0.0777 - dense_13_loss: 0.120 - ETA: 1:07 - loss: 0.3701 - dense_12_loss: 0.0777 - dense_13_loss: 0.120 - ETA: 1:07 - loss: 0.3700 - dense_12_loss: 0.0777 - dense_13_loss: 0.120 - ETA: 1:06 - loss: 0.3701 - dense_12_loss: 0.0777 - dense_13_loss: 0.120 - ETA: 1:06 - loss: 0.3702 - dense_12_loss: 0.0778 - dense_13_loss: 0.120 - ETA: 1:06 - loss: 0.3703 - dense_12_loss: 0.0778 - dense_13_loss: 0.120 - ETA: 1:05 - loss: 0.3706 - dense_12_loss: 0.0779 - dense_13_loss: 0.120 - ETA: 1:05 - loss: 0.3704 - dense_12_loss: 0.0778 - dense_13_loss: 0.120 - ETA: 1:05 - loss: 0.3704 - dense_12_loss: 0.0778 - dense_13_loss: 0.120 - ETA: 1:05 - loss: 0.3702 - dense_12_loss: 0.0778 - dense_13_loss: 0.120 - ETA: 1:04 - loss: 0.3702 - dense_12_loss: 0.0778 - dense_13_loss: 0.120 - ETA: 1:04 - loss: 0.3700 - dense_12_loss: 0.0777 - dense_13_loss: 0.120 - ETA: 1:04 - loss: 0.3701 - dense_12_loss: 0.0778 - dense_13_loss: 0.120 - ETA: 1:03 - loss: 0.3701 - dense_12_loss: 0.0778 - dense_13_loss: 0.120 - ETA: 1:03 - loss: 0.3700 - dense_12_loss: 0.0777 - dense_13_loss: 0.1207"
     ]
    },
    {
     "name": "stdout",
     "output_type": "stream",
     "text": [
      "142336/171462 [=======================>......] - ETA: 1:03 - loss: 0.3702 - dense_12_loss: 0.0778 - dense_13_loss: 0.120 - ETA: 1:03 - loss: 0.3701 - dense_12_loss: 0.0778 - dense_13_loss: 0.120 - ETA: 1:02 - loss: 0.3702 - dense_12_loss: 0.0778 - dense_13_loss: 0.120 - ETA: 1:02 - loss: 0.3700 - dense_12_loss: 0.0778 - dense_13_loss: 0.120 - ETA: 1:02 - loss: 0.3701 - dense_12_loss: 0.0778 - dense_13_loss: 0.120 - ETA: 1:01 - loss: 0.3701 - dense_12_loss: 0.0778 - dense_13_loss: 0.120 - ETA: 1:01 - loss: 0.3701 - dense_12_loss: 0.0778 - dense_13_loss: 0.120 - ETA: 1:01 - loss: 0.3702 - dense_12_loss: 0.0778 - dense_13_loss: 0.120 - ETA: 1:01 - loss: 0.3701 - dense_12_loss: 0.0778 - dense_13_loss: 0.120 - ETA: 1:00 - loss: 0.3701 - dense_12_loss: 0.0778 - dense_13_loss: 0.120 - ETA: 1:00 - loss: 0.3701 - dense_12_loss: 0.0778 - dense_13_loss: 0.120 - ETA: 1:00 - loss: 0.3702 - dense_12_loss: 0.0778 - dense_13_loss: 0.120 - ETA: 59s - loss: 0.3703 - dense_12_loss: 0.0778 - dense_13_loss: 0.120 - ETA: 59s - loss: 0.3705 - dense_12_loss: 0.0779 - dense_13_loss: 0.12 - ETA: 59s - loss: 0.3705 - dense_12_loss: 0.0779 - dense_13_loss: 0.12 - ETA: 59s - loss: 0.3703 - dense_12_loss: 0.0778 - dense_13_loss: 0.12 - ETA: 58s - loss: 0.3703 - dense_12_loss: 0.0778 - dense_13_loss: 0.12 - ETA: 58s - loss: 0.3702 - dense_12_loss: 0.0778 - dense_13_loss: 0.12 - ETA: 58s - loss: 0.3702 - dense_12_loss: 0.0778 - dense_13_loss: 0.12 - ETA: 57s - loss: 0.3701 - dense_12_loss: 0.0778 - dense_13_loss: 0.12 - ETA: 57s - loss: 0.3701 - dense_12_loss: 0.0778 - dense_13_loss: 0.12 - ETA: 57s - loss: 0.3702 - dense_12_loss: 0.0778 - dense_13_loss: 0.12 - ETA: 57s - loss: 0.3704 - dense_12_loss: 0.0779 - dense_13_loss: 0.12 - ETA: 56s - loss: 0.3703 - dense_12_loss: 0.0778 - dense_13_loss: 0.12 - ETA: 56s - loss: 0.3702 - dense_12_loss: 0.0778 - dense_13_loss: 0.12 - ETA: 56s - loss: 0.3704 - dense_12_loss: 0.0779 - dense_13_loss: 0.12 - ETA: 56s - loss: 0.3703 - dense_12_loss: 0.0778 - dense_13_loss: 0.12 - ETA: 55s - loss: 0.3701 - dense_12_loss: 0.0778 - dense_13_loss: 0.12 - ETA: 55s - loss: 0.3701 - dense_12_loss: 0.0778 - dense_13_loss: 0.12 - ETA: 55s - loss: 0.3699 - dense_12_loss: 0.0777 - dense_13_loss: 0.12 - ETA: 54s - loss: 0.3698 - dense_12_loss: 0.0777 - dense_13_loss: 0.12 - ETA: 54s - loss: 0.3697 - dense_12_loss: 0.0777 - dense_13_loss: 0.12 - ETA: 54s - loss: 0.3696 - dense_12_loss: 0.0777 - dense_13_loss: 0.12 - ETA: 54s - loss: 0.3696 - dense_12_loss: 0.0776 - dense_13_loss: 0.12 - ETA: 53s - loss: 0.3697 - dense_12_loss: 0.0777 - dense_13_loss: 0.12 - ETA: 53s - loss: 0.3699 - dense_12_loss: 0.0777 - dense_13_loss: 0.12 - ETA: 53s - loss: 0.3699 - dense_12_loss: 0.0777 - dense_13_loss: 0.12 - ETA: 52s - loss: 0.3699 - dense_12_loss: 0.0777 - dense_13_loss: 0.12 - ETA: 52s - loss: 0.3698 - dense_12_loss: 0.0777 - dense_13_loss: 0.12 - ETA: 52s - loss: 0.3699 - dense_12_loss: 0.0777 - dense_13_loss: 0.12 - ETA: 52s - loss: 0.3698 - dense_12_loss: 0.0777 - dense_13_loss: 0.12 - ETA: 51s - loss: 0.3698 - dense_12_loss: 0.0777 - dense_13_loss: 0.12 - ETA: 51s - loss: 0.3699 - dense_12_loss: 0.0777 - dense_13_loss: 0.12 - ETA: 51s - loss: 0.3699 - dense_12_loss: 0.0777 - dense_13_loss: 0.12 - ETA: 50s - loss: 0.3699 - dense_12_loss: 0.0777 - dense_13_loss: 0.12 - ETA: 50s - loss: 0.3699 - dense_12_loss: 0.0777 - dense_13_loss: 0.12 - ETA: 50s - loss: 0.3698 - dense_12_loss: 0.0777 - dense_13_loss: 0.12 - ETA: 50s - loss: 0.3700 - dense_12_loss: 0.0778 - dense_13_loss: 0.12 - ETA: 49s - loss: 0.3698 - dense_12_loss: 0.0777 - dense_13_loss: 0.12 - ETA: 49s - loss: 0.3698 - dense_12_loss: 0.0777 - dense_13_loss: 0.12 - ETA: 49s - loss: 0.3696 - dense_12_loss: 0.0777 - dense_13_loss: 0.12 - ETA: 49s - loss: 0.3694 - dense_12_loss: 0.0776 - dense_13_loss: 0.12 - ETA: 48s - loss: 0.3696 - dense_12_loss: 0.0777 - dense_13_loss: 0.12 - ETA: 48s - loss: 0.3696 - dense_12_loss: 0.0777 - dense_13_loss: 0.12 - ETA: 48s - loss: 0.3695 - dense_12_loss: 0.0776 - dense_13_loss: 0.12 - ETA: 47s - loss: 0.3698 - dense_12_loss: 0.0777 - dense_13_loss: 0.12 - ETA: 47s - loss: 0.3696 - dense_12_loss: 0.0777 - dense_13_loss: 0.12 - ETA: 47s - loss: 0.3696 - dense_12_loss: 0.0776 - dense_13_loss: 0.12 - ETA: 47s - loss: 0.3697 - dense_12_loss: 0.0777 - dense_13_loss: 0.12 - ETA: 46s - loss: 0.3696 - dense_12_loss: 0.0777 - dense_13_loss: 0.12 - ETA: 46s - loss: 0.3696 - dense_12_loss: 0.0777 - dense_13_loss: 0.12 - ETA: 46s - loss: 0.3695 - dense_12_loss: 0.0776 - dense_13_loss: 0.12 - ETA: 45s - loss: 0.3695 - dense_12_loss: 0.0776 - dense_13_loss: 0.12 - ETA: 45s - loss: 0.3695 - dense_12_loss: 0.0776 - dense_13_loss: 0.12 - ETA: 45s - loss: 0.3695 - dense_12_loss: 0.0776 - dense_13_loss: 0.12 - ETA: 45s - loss: 0.3695 - dense_12_loss: 0.0776 - dense_13_loss: 0.12 - ETA: 44s - loss: 0.3695 - dense_12_loss: 0.0776 - dense_13_loss: 0.12 - ETA: 44s - loss: 0.3693 - dense_12_loss: 0.0776 - dense_13_loss: 0.12 - ETA: 44s - loss: 0.3693 - dense_12_loss: 0.0776 - dense_13_loss: 0.12 - ETA: 43s - loss: 0.3691 - dense_12_loss: 0.0775 - dense_13_loss: 0.12 - ETA: 43s - loss: 0.3689 - dense_12_loss: 0.0775 - dense_13_loss: 0.12 - ETA: 43s - loss: 0.3687 - dense_12_loss: 0.0774 - dense_13_loss: 0.12 - ETA: 43s - loss: 0.3686 - dense_12_loss: 0.0774 - dense_13_loss: 0.12 - ETA: 42s - loss: 0.3686 - dense_12_loss: 0.0774 - dense_13_loss: 0.12 - ETA: 42s - loss: 0.3687 - dense_12_loss: 0.0774 - dense_13_loss: 0.12 - ETA: 42s - loss: 0.3686 - dense_12_loss: 0.0773 - dense_13_loss: 0.12 - ETA: 42s - loss: 0.3686 - dense_12_loss: 0.0774 - dense_13_loss: 0.12 - ETA: 41s - loss: 0.3685 - dense_12_loss: 0.0773 - dense_13_loss: 0.12 - ETA: 41s - loss: 0.3682 - dense_12_loss: 0.0773 - dense_13_loss: 0.12 - ETA: 41s - loss: 0.3683 - dense_12_loss: 0.0773 - dense_13_loss: 0.12 - ETA: 40s - loss: 0.3683 - dense_12_loss: 0.0773 - dense_13_loss: 0.12 - ETA: 40s - loss: 0.3683 - dense_12_loss: 0.0773 - dense_13_loss: 0.12 - ETA: 40s - loss: 0.3682 - dense_12_loss: 0.0772 - dense_13_loss: 0.12 - ETA: 40s - loss: 0.3681 - dense_12_loss: 0.0772 - dense_13_loss: 0.12 - ETA: 39s - loss: 0.3681 - dense_12_loss: 0.0772 - dense_13_loss: 0.12 - ETA: 39s - loss: 0.3684 - dense_12_loss: 0.0773 - dense_13_loss: 0.12 - ETA: 39s - loss: 0.3683 - dense_12_loss: 0.0773 - dense_13_loss: 0.12 - ETA: 38s - loss: 0.3684 - dense_12_loss: 0.0773 - dense_13_loss: 0.12 - ETA: 38s - loss: 0.3685 - dense_12_loss: 0.0773 - dense_13_loss: 0.12 - ETA: 38s - loss: 0.3683 - dense_12_loss: 0.0773 - dense_13_loss: 0.12 - ETA: 38s - loss: 0.3682 - dense_12_loss: 0.0772 - dense_13_loss: 0.12 - ETA: 37s - loss: 0.3682 - dense_12_loss: 0.0772 - dense_13_loss: 0.12 - ETA: 37s - loss: 0.3682 - dense_12_loss: 0.0772 - dense_13_loss: 0.12 - ETA: 37s - loss: 0.3683 - dense_12_loss: 0.0773 - dense_13_loss: 0.12 - ETA: 36s - loss: 0.3683 - dense_12_loss: 0.0773 - dense_13_loss: 0.12 - ETA: 36s - loss: 0.3682 - dense_12_loss: 0.0772 - dense_13_loss: 0.12 - ETA: 36s - loss: 0.3682 - dense_12_loss: 0.0772 - dense_13_loss: 0.12 - ETA: 36s - loss: 0.3684 - dense_12_loss: 0.0773 - dense_13_loss: 0.12 - ETA: 35s - loss: 0.3684 - dense_12_loss: 0.0773 - dense_13_loss: 0.12 - ETA: 35s - loss: 0.3683 - dense_12_loss: 0.0773 - dense_13_loss: 0.12 - ETA: 35s - loss: 0.3682 - dense_12_loss: 0.0773 - dense_13_loss: 0.12 - ETA: 34s - loss: 0.3682 - dense_12_loss: 0.0772 - dense_13_loss: 0.12 - ETA: 34s - loss: 0.3683 - dense_12_loss: 0.0773 - dense_13_loss: 0.12 - ETA: 34s - loss: 0.3684 - dense_12_loss: 0.0773 - dense_13_loss: 0.12 - ETA: 34s - loss: 0.3684 - dense_12_loss: 0.0773 - dense_13_loss: 0.12 - ETA: 33s - loss: 0.3684 - dense_12_loss: 0.0773 - dense_13_loss: 0.12 - ETA: 33s - loss: 0.3683 - dense_12_loss: 0.0773 - dense_13_loss: 0.12 - ETA: 33s - loss: 0.3683 - dense_12_loss: 0.0773 - dense_13_loss: 0.12 - ETA: 33s - loss: 0.3683 - dense_12_loss: 0.0773 - dense_13_loss: 0.12 - ETA: 32s - loss: 0.3682 - dense_12_loss: 0.0772 - dense_13_loss: 0.12 - ETA: 32s - loss: 0.3683 - dense_12_loss: 0.0772 - dense_13_loss: 0.12 - ETA: 32s - loss: 0.3682 - dense_12_loss: 0.0772 - dense_13_loss: 0.12 - ETA: 31s - loss: 0.3683 - dense_12_loss: 0.0773 - dense_13_loss: 0.1205"
     ]
    },
    {
     "name": "stdout",
     "output_type": "stream",
     "text": [
      "171462/171462 [==============================] - ETA: 31s - loss: 0.3683 - dense_12_loss: 0.0773 - dense_13_loss: 0.12 - ETA: 31s - loss: 0.3683 - dense_12_loss: 0.0772 - dense_13_loss: 0.12 - ETA: 31s - loss: 0.3680 - dense_12_loss: 0.0772 - dense_13_loss: 0.12 - ETA: 30s - loss: 0.3681 - dense_12_loss: 0.0772 - dense_13_loss: 0.12 - ETA: 30s - loss: 0.3680 - dense_12_loss: 0.0772 - dense_13_loss: 0.12 - ETA: 30s - loss: 0.3680 - dense_12_loss: 0.0772 - dense_13_loss: 0.12 - ETA: 29s - loss: 0.3679 - dense_12_loss: 0.0772 - dense_13_loss: 0.12 - ETA: 29s - loss: 0.3678 - dense_12_loss: 0.0771 - dense_13_loss: 0.12 - ETA: 29s - loss: 0.3680 - dense_12_loss: 0.0772 - dense_13_loss: 0.12 - ETA: 29s - loss: 0.3680 - dense_12_loss: 0.0772 - dense_13_loss: 0.12 - ETA: 28s - loss: 0.3679 - dense_12_loss: 0.0772 - dense_13_loss: 0.12 - ETA: 28s - loss: 0.3678 - dense_12_loss: 0.0771 - dense_13_loss: 0.12 - ETA: 28s - loss: 0.3678 - dense_12_loss: 0.0771 - dense_13_loss: 0.12 - ETA: 27s - loss: 0.3678 - dense_12_loss: 0.0771 - dense_13_loss: 0.12 - ETA: 27s - loss: 0.3679 - dense_12_loss: 0.0772 - dense_13_loss: 0.12 - ETA: 27s - loss: 0.3678 - dense_12_loss: 0.0771 - dense_13_loss: 0.12 - ETA: 27s - loss: 0.3677 - dense_12_loss: 0.0771 - dense_13_loss: 0.12 - ETA: 26s - loss: 0.3676 - dense_12_loss: 0.0771 - dense_13_loss: 0.12 - ETA: 26s - loss: 0.3676 - dense_12_loss: 0.0771 - dense_13_loss: 0.12 - ETA: 26s - loss: 0.3675 - dense_12_loss: 0.0771 - dense_13_loss: 0.12 - ETA: 26s - loss: 0.3675 - dense_12_loss: 0.0771 - dense_13_loss: 0.12 - ETA: 25s - loss: 0.3676 - dense_12_loss: 0.0771 - dense_13_loss: 0.12 - ETA: 25s - loss: 0.3678 - dense_12_loss: 0.0772 - dense_13_loss: 0.12 - ETA: 25s - loss: 0.3679 - dense_12_loss: 0.0772 - dense_13_loss: 0.12 - ETA: 24s - loss: 0.3678 - dense_12_loss: 0.0771 - dense_13_loss: 0.12 - ETA: 24s - loss: 0.3678 - dense_12_loss: 0.0771 - dense_13_loss: 0.12 - ETA: 24s - loss: 0.3677 - dense_12_loss: 0.0771 - dense_13_loss: 0.12 - ETA: 24s - loss: 0.3678 - dense_12_loss: 0.0771 - dense_13_loss: 0.12 - ETA: 23s - loss: 0.3679 - dense_12_loss: 0.0772 - dense_13_loss: 0.12 - ETA: 23s - loss: 0.3677 - dense_12_loss: 0.0771 - dense_13_loss: 0.12 - ETA: 23s - loss: 0.3679 - dense_12_loss: 0.0772 - dense_13_loss: 0.12 - ETA: 22s - loss: 0.3679 - dense_12_loss: 0.0772 - dense_13_loss: 0.12 - ETA: 22s - loss: 0.3680 - dense_12_loss: 0.0772 - dense_13_loss: 0.12 - ETA: 22s - loss: 0.3679 - dense_12_loss: 0.0772 - dense_13_loss: 0.12 - ETA: 22s - loss: 0.3679 - dense_12_loss: 0.0772 - dense_13_loss: 0.12 - ETA: 21s - loss: 0.3680 - dense_12_loss: 0.0772 - dense_13_loss: 0.12 - ETA: 21s - loss: 0.3681 - dense_12_loss: 0.0772 - dense_13_loss: 0.12 - ETA: 21s - loss: 0.3679 - dense_12_loss: 0.0772 - dense_13_loss: 0.12 - ETA: 20s - loss: 0.3680 - dense_12_loss: 0.0772 - dense_13_loss: 0.12 - ETA: 20s - loss: 0.3680 - dense_12_loss: 0.0772 - dense_13_loss: 0.12 - ETA: 20s - loss: 0.3682 - dense_12_loss: 0.0773 - dense_13_loss: 0.12 - ETA: 20s - loss: 0.3683 - dense_12_loss: 0.0773 - dense_13_loss: 0.12 - ETA: 19s - loss: 0.3682 - dense_12_loss: 0.0773 - dense_13_loss: 0.12 - ETA: 19s - loss: 0.3684 - dense_12_loss: 0.0773 - dense_13_loss: 0.12 - ETA: 19s - loss: 0.3684 - dense_12_loss: 0.0773 - dense_13_loss: 0.12 - ETA: 18s - loss: 0.3685 - dense_12_loss: 0.0774 - dense_13_loss: 0.12 - ETA: 18s - loss: 0.3685 - dense_12_loss: 0.0774 - dense_13_loss: 0.12 - ETA: 18s - loss: 0.3686 - dense_12_loss: 0.0774 - dense_13_loss: 0.12 - ETA: 18s - loss: 0.3685 - dense_12_loss: 0.0774 - dense_13_loss: 0.12 - ETA: 17s - loss: 0.3684 - dense_12_loss: 0.0774 - dense_13_loss: 0.12 - ETA: 17s - loss: 0.3685 - dense_12_loss: 0.0774 - dense_13_loss: 0.12 - ETA: 17s - loss: 0.3685 - dense_12_loss: 0.0774 - dense_13_loss: 0.12 - ETA: 17s - loss: 0.3684 - dense_12_loss: 0.0773 - dense_13_loss: 0.12 - ETA: 16s - loss: 0.3683 - dense_12_loss: 0.0773 - dense_13_loss: 0.12 - ETA: 16s - loss: 0.3684 - dense_12_loss: 0.0773 - dense_13_loss: 0.12 - ETA: 16s - loss: 0.3685 - dense_12_loss: 0.0774 - dense_13_loss: 0.12 - ETA: 15s - loss: 0.3685 - dense_12_loss: 0.0774 - dense_13_loss: 0.12 - ETA: 15s - loss: 0.3687 - dense_12_loss: 0.0774 - dense_13_loss: 0.12 - ETA: 15s - loss: 0.3686 - dense_12_loss: 0.0774 - dense_13_loss: 0.12 - ETA: 15s - loss: 0.3687 - dense_12_loss: 0.0774 - dense_13_loss: 0.12 - ETA: 14s - loss: 0.3685 - dense_12_loss: 0.0774 - dense_13_loss: 0.12 - ETA: 14s - loss: 0.3687 - dense_12_loss: 0.0775 - dense_13_loss: 0.12 - ETA: 14s - loss: 0.3687 - dense_12_loss: 0.0774 - dense_13_loss: 0.12 - ETA: 13s - loss: 0.3686 - dense_12_loss: 0.0774 - dense_13_loss: 0.12 - ETA: 13s - loss: 0.3685 - dense_12_loss: 0.0774 - dense_13_loss: 0.12 - ETA: 13s - loss: 0.3684 - dense_12_loss: 0.0774 - dense_13_loss: 0.12 - ETA: 13s - loss: 0.3683 - dense_12_loss: 0.0773 - dense_13_loss: 0.12 - ETA: 12s - loss: 0.3682 - dense_12_loss: 0.0773 - dense_13_loss: 0.12 - ETA: 12s - loss: 0.3682 - dense_12_loss: 0.0773 - dense_13_loss: 0.12 - ETA: 12s - loss: 0.3682 - dense_12_loss: 0.0773 - dense_13_loss: 0.12 - ETA: 11s - loss: 0.3682 - dense_12_loss: 0.0773 - dense_13_loss: 0.12 - ETA: 11s - loss: 0.3682 - dense_12_loss: 0.0773 - dense_13_loss: 0.12 - ETA: 11s - loss: 0.3682 - dense_12_loss: 0.0773 - dense_13_loss: 0.12 - ETA: 11s - loss: 0.3682 - dense_12_loss: 0.0773 - dense_13_loss: 0.12 - ETA: 10s - loss: 0.3682 - dense_12_loss: 0.0773 - dense_13_loss: 0.12 - ETA: 10s - loss: 0.3681 - dense_12_loss: 0.0773 - dense_13_loss: 0.12 - ETA: 10s - loss: 0.3681 - dense_12_loss: 0.0773 - dense_13_loss: 0.12 - ETA: 10s - loss: 0.3681 - dense_12_loss: 0.0773 - dense_13_loss: 0.12 - ETA: 9s - loss: 0.3681 - dense_12_loss: 0.0773 - dense_13_loss: 0.1202 - ETA: 9s - loss: 0.3683 - dense_12_loss: 0.0773 - dense_13_loss: 0.120 - ETA: 9s - loss: 0.3683 - dense_12_loss: 0.0773 - dense_13_loss: 0.120 - ETA: 8s - loss: 0.3683 - dense_12_loss: 0.0773 - dense_13_loss: 0.120 - ETA: 8s - loss: 0.3683 - dense_12_loss: 0.0774 - dense_13_loss: 0.120 - ETA: 8s - loss: 0.3685 - dense_12_loss: 0.0774 - dense_13_loss: 0.120 - ETA: 8s - loss: 0.3684 - dense_12_loss: 0.0774 - dense_13_loss: 0.120 - ETA: 7s - loss: 0.3684 - dense_12_loss: 0.0774 - dense_13_loss: 0.120 - ETA: 7s - loss: 0.3682 - dense_12_loss: 0.0773 - dense_13_loss: 0.120 - ETA: 7s - loss: 0.3682 - dense_12_loss: 0.0773 - dense_13_loss: 0.120 - ETA: 6s - loss: 0.3683 - dense_12_loss: 0.0773 - dense_13_loss: 0.120 - ETA: 6s - loss: 0.3683 - dense_12_loss: 0.0773 - dense_13_loss: 0.120 - ETA: 6s - loss: 0.3683 - dense_12_loss: 0.0773 - dense_13_loss: 0.120 - ETA: 6s - loss: 0.3684 - dense_12_loss: 0.0774 - dense_13_loss: 0.120 - ETA: 5s - loss: 0.3683 - dense_12_loss: 0.0774 - dense_13_loss: 0.120 - ETA: 5s - loss: 0.3682 - dense_12_loss: 0.0773 - dense_13_loss: 0.120 - ETA: 5s - loss: 0.3681 - dense_12_loss: 0.0773 - dense_13_loss: 0.120 - ETA: 4s - loss: 0.3681 - dense_12_loss: 0.0773 - dense_13_loss: 0.120 - ETA: 4s - loss: 0.3680 - dense_12_loss: 0.0773 - dense_13_loss: 0.120 - ETA: 4s - loss: 0.3681 - dense_12_loss: 0.0773 - dense_13_loss: 0.120 - ETA: 4s - loss: 0.3681 - dense_12_loss: 0.0773 - dense_13_loss: 0.120 - ETA: 3s - loss: 0.3681 - dense_12_loss: 0.0773 - dense_13_loss: 0.120 - ETA: 3s - loss: 0.3679 - dense_12_loss: 0.0772 - dense_13_loss: 0.120 - ETA: 3s - loss: 0.3678 - dense_12_loss: 0.0772 - dense_13_loss: 0.120 - ETA: 3s - loss: 0.3678 - dense_12_loss: 0.0772 - dense_13_loss: 0.120 - ETA: 2s - loss: 0.3678 - dense_12_loss: 0.0772 - dense_13_loss: 0.120 - ETA: 2s - loss: 0.3679 - dense_12_loss: 0.0772 - dense_13_loss: 0.120 - ETA: 2s - loss: 0.3679 - dense_12_loss: 0.0772 - dense_13_loss: 0.120 - ETA: 1s - loss: 0.3679 - dense_12_loss: 0.0772 - dense_13_loss: 0.120 - ETA: 1s - loss: 0.3679 - dense_12_loss: 0.0772 - dense_13_loss: 0.120 - ETA: 1s - loss: 0.3678 - dense_12_loss: 0.0772 - dense_13_loss: 0.120 - ETA: 1s - loss: 0.3678 - dense_12_loss: 0.0772 - dense_13_loss: 0.120 - ETA: 0s - loss: 0.3677 - dense_12_loss: 0.0772 - dense_13_loss: 0.120 - ETA: 0s - loss: 0.3677 - dense_12_loss: 0.0772 - dense_13_loss: 0.120 - ETA: 0s - loss: 0.3677 - dense_12_loss: 0.0772 - dense_13_loss: 0.120 - 191s 1ms/step - loss: 0.3678 - dense_12_loss: 0.0772 - dense_13_loss: 0.1202 - val_loss: 0.3354 - val_dense_12_loss: 0.0686 - val_dense_13_loss: 0.1156\n"
     ]
    },
    {
     "name": "stdout",
     "output_type": "stream",
     "text": [
      "Train on 171462 samples, validate on 9025 samples\n",
      "Epoch 1/1\n"
     ]
    },
    {
     "name": "stdout",
     "output_type": "stream",
     "text": [
      " 28160/171462 [===>..........................] - ETA: 3:07 - loss: 0.2461 - dense_12_loss: 0.0476 - dense_13_loss: 0.093 - ETA: 3:02 - loss: 0.2690 - dense_12_loss: 0.0517 - dense_13_loss: 0.103 - ETA: 2:59 - loss: 0.2592 - dense_12_loss: 0.0503 - dense_13_loss: 0.097 - ETA: 2:58 - loss: 0.3036 - dense_12_loss: 0.0625 - dense_13_loss: 0.103 - ETA: 2:56 - loss: 0.3076 - dense_12_loss: 0.0626 - dense_13_loss: 0.106 - ETA: 2:56 - loss: 0.3041 - dense_12_loss: 0.0614 - dense_13_loss: 0.107 - ETA: 2:56 - loss: 0.3054 - dense_12_loss: 0.0617 - dense_13_loss: 0.107 - ETA: 2:55 - loss: 0.2998 - dense_12_loss: 0.0604 - dense_13_loss: 0.106 - ETA: 2:56 - loss: 0.2979 - dense_12_loss: 0.0596 - dense_13_loss: 0.106 - ETA: 2:56 - loss: 0.3110 - dense_12_loss: 0.0631 - dense_13_loss: 0.108 - ETA: 2:56 - loss: 0.3180 - dense_12_loss: 0.0650 - dense_13_loss: 0.109 - ETA: 2:56 - loss: 0.3221 - dense_12_loss: 0.0658 - dense_13_loss: 0.111 - ETA: 2:56 - loss: 0.3249 - dense_12_loss: 0.0666 - dense_13_loss: 0.111 - ETA: 2:56 - loss: 0.3233 - dense_12_loss: 0.0662 - dense_13_loss: 0.111 - ETA: 2:57 - loss: 0.3290 - dense_12_loss: 0.0675 - dense_13_loss: 0.112 - ETA: 2:56 - loss: 0.3275 - dense_12_loss: 0.0669 - dense_13_loss: 0.112 - ETA: 2:56 - loss: 0.3285 - dense_12_loss: 0.0671 - dense_13_loss: 0.113 - ETA: 2:56 - loss: 0.3268 - dense_12_loss: 0.0665 - dense_13_loss: 0.113 - ETA: 2:56 - loss: 0.3214 - dense_12_loss: 0.0652 - dense_13_loss: 0.112 - ETA: 2:56 - loss: 0.3245 - dense_12_loss: 0.0663 - dense_13_loss: 0.112 - ETA: 2:56 - loss: 0.3241 - dense_12_loss: 0.0661 - dense_13_loss: 0.112 - ETA: 2:56 - loss: 0.3265 - dense_12_loss: 0.0667 - dense_13_loss: 0.112 - ETA: 2:56 - loss: 0.3335 - dense_12_loss: 0.0687 - dense_13_loss: 0.113 - ETA: 2:56 - loss: 0.3362 - dense_12_loss: 0.0695 - dense_13_loss: 0.113 - ETA: 2:56 - loss: 0.3333 - dense_12_loss: 0.0688 - dense_13_loss: 0.112 - ETA: 2:56 - loss: 0.3321 - dense_12_loss: 0.0685 - dense_13_loss: 0.112 - ETA: 2:56 - loss: 0.3328 - dense_12_loss: 0.0686 - dense_13_loss: 0.112 - ETA: 2:56 - loss: 0.3349 - dense_12_loss: 0.0692 - dense_13_loss: 0.113 - ETA: 2:55 - loss: 0.3339 - dense_12_loss: 0.0689 - dense_13_loss: 0.112 - ETA: 2:55 - loss: 0.3366 - dense_12_loss: 0.0697 - dense_13_loss: 0.113 - ETA: 2:55 - loss: 0.3351 - dense_12_loss: 0.0693 - dense_13_loss: 0.112 - ETA: 2:55 - loss: 0.3367 - dense_12_loss: 0.0698 - dense_13_loss: 0.112 - ETA: 2:55 - loss: 0.3385 - dense_12_loss: 0.0702 - dense_13_loss: 0.113 - ETA: 2:55 - loss: 0.3358 - dense_12_loss: 0.0694 - dense_13_loss: 0.113 - ETA: 2:54 - loss: 0.3343 - dense_12_loss: 0.0690 - dense_13_loss: 0.113 - ETA: 2:54 - loss: 0.3343 - dense_12_loss: 0.0690 - dense_13_loss: 0.113 - ETA: 2:54 - loss: 0.3324 - dense_12_loss: 0.0685 - dense_13_loss: 0.112 - ETA: 2:54 - loss: 0.3317 - dense_12_loss: 0.0682 - dense_13_loss: 0.113 - ETA: 2:54 - loss: 0.3335 - dense_12_loss: 0.0686 - dense_13_loss: 0.113 - ETA: 2:53 - loss: 0.3342 - dense_12_loss: 0.0687 - dense_13_loss: 0.114 - ETA: 2:53 - loss: 0.3328 - dense_12_loss: 0.0682 - dense_13_loss: 0.114 - ETA: 2:53 - loss: 0.3305 - dense_12_loss: 0.0676 - dense_13_loss: 0.113 - ETA: 2:53 - loss: 0.3298 - dense_12_loss: 0.0675 - dense_13_loss: 0.113 - ETA: 2:53 - loss: 0.3321 - dense_12_loss: 0.0682 - dense_13_loss: 0.113 - ETA: 2:53 - loss: 0.3332 - dense_12_loss: 0.0684 - dense_13_loss: 0.113 - ETA: 2:53 - loss: 0.3351 - dense_12_loss: 0.0690 - dense_13_loss: 0.114 - ETA: 2:53 - loss: 0.3352 - dense_12_loss: 0.0689 - dense_13_loss: 0.114 - ETA: 2:52 - loss: 0.3355 - dense_12_loss: 0.0690 - dense_13_loss: 0.114 - ETA: 2:52 - loss: 0.3355 - dense_12_loss: 0.0690 - dense_13_loss: 0.114 - ETA: 2:52 - loss: 0.3353 - dense_12_loss: 0.0689 - dense_13_loss: 0.114 - ETA: 2:52 - loss: 0.3359 - dense_12_loss: 0.0690 - dense_13_loss: 0.114 - ETA: 2:52 - loss: 0.3366 - dense_12_loss: 0.0692 - dense_13_loss: 0.114 - ETA: 2:51 - loss: 0.3366 - dense_12_loss: 0.0692 - dense_13_loss: 0.114 - ETA: 2:51 - loss: 0.3390 - dense_12_loss: 0.0698 - dense_13_loss: 0.115 - ETA: 2:51 - loss: 0.3396 - dense_12_loss: 0.0700 - dense_13_loss: 0.115 - ETA: 2:51 - loss: 0.3394 - dense_12_loss: 0.0699 - dense_13_loss: 0.115 - ETA: 2:50 - loss: 0.3413 - dense_12_loss: 0.0704 - dense_13_loss: 0.115 - ETA: 2:50 - loss: 0.3417 - dense_12_loss: 0.0705 - dense_13_loss: 0.115 - ETA: 2:50 - loss: 0.3429 - dense_12_loss: 0.0709 - dense_13_loss: 0.115 - ETA: 2:50 - loss: 0.3428 - dense_12_loss: 0.0708 - dense_13_loss: 0.115 - ETA: 2:49 - loss: 0.3437 - dense_12_loss: 0.0710 - dense_13_loss: 0.116 - ETA: 2:49 - loss: 0.3433 - dense_12_loss: 0.0709 - dense_13_loss: 0.115 - ETA: 2:49 - loss: 0.3428 - dense_12_loss: 0.0708 - dense_13_loss: 0.115 - ETA: 2:49 - loss: 0.3419 - dense_12_loss: 0.0705 - dense_13_loss: 0.115 - ETA: 2:48 - loss: 0.3417 - dense_12_loss: 0.0705 - dense_13_loss: 0.115 - ETA: 2:48 - loss: 0.3427 - dense_12_loss: 0.0708 - dense_13_loss: 0.115 - ETA: 2:48 - loss: 0.3439 - dense_12_loss: 0.0711 - dense_13_loss: 0.115 - ETA: 2:47 - loss: 0.3447 - dense_12_loss: 0.0713 - dense_13_loss: 0.115 - ETA: 2:47 - loss: 0.3448 - dense_12_loss: 0.0713 - dense_13_loss: 0.116 - ETA: 2:47 - loss: 0.3442 - dense_12_loss: 0.0711 - dense_13_loss: 0.116 - ETA: 2:47 - loss: 0.3440 - dense_12_loss: 0.0711 - dense_13_loss: 0.116 - ETA: 2:46 - loss: 0.3431 - dense_12_loss: 0.0708 - dense_13_loss: 0.116 - ETA: 2:46 - loss: 0.3418 - dense_12_loss: 0.0705 - dense_13_loss: 0.115 - ETA: 2:46 - loss: 0.3424 - dense_12_loss: 0.0706 - dense_13_loss: 0.116 - ETA: 2:46 - loss: 0.3443 - dense_12_loss: 0.0711 - dense_13_loss: 0.116 - ETA: 2:45 - loss: 0.3441 - dense_12_loss: 0.0711 - dense_13_loss: 0.116 - ETA: 2:45 - loss: 0.3443 - dense_12_loss: 0.0712 - dense_13_loss: 0.116 - ETA: 2:45 - loss: 0.3441 - dense_12_loss: 0.0711 - dense_13_loss: 0.116 - ETA: 2:44 - loss: 0.3451 - dense_12_loss: 0.0714 - dense_13_loss: 0.116 - ETA: 2:44 - loss: 0.3464 - dense_12_loss: 0.0718 - dense_13_loss: 0.116 - ETA: 2:44 - loss: 0.3460 - dense_12_loss: 0.0717 - dense_13_loss: 0.116 - ETA: 2:44 - loss: 0.3479 - dense_12_loss: 0.0722 - dense_13_loss: 0.116 - ETA: 2:43 - loss: 0.3487 - dense_12_loss: 0.0724 - dense_13_loss: 0.116 - ETA: 2:43 - loss: 0.3493 - dense_12_loss: 0.0726 - dense_13_loss: 0.116 - ETA: 2:43 - loss: 0.3507 - dense_12_loss: 0.0729 - dense_13_loss: 0.116 - ETA: 2:42 - loss: 0.3505 - dense_12_loss: 0.0729 - dense_13_loss: 0.116 - ETA: 2:42 - loss: 0.3500 - dense_12_loss: 0.0727 - dense_13_loss: 0.116 - ETA: 2:42 - loss: 0.3500 - dense_12_loss: 0.0727 - dense_13_loss: 0.116 - ETA: 2:42 - loss: 0.3501 - dense_12_loss: 0.0728 - dense_13_loss: 0.116 - ETA: 2:41 - loss: 0.3497 - dense_12_loss: 0.0727 - dense_13_loss: 0.116 - ETA: 2:41 - loss: 0.3494 - dense_12_loss: 0.0726 - dense_13_loss: 0.116 - ETA: 2:41 - loss: 0.3487 - dense_12_loss: 0.0724 - dense_13_loss: 0.116 - ETA: 2:41 - loss: 0.3479 - dense_12_loss: 0.0722 - dense_13_loss: 0.116 - ETA: 2:40 - loss: 0.3468 - dense_12_loss: 0.0719 - dense_13_loss: 0.116 - ETA: 2:40 - loss: 0.3473 - dense_12_loss: 0.0720 - dense_13_loss: 0.116 - ETA: 2:40 - loss: 0.3481 - dense_12_loss: 0.0722 - dense_13_loss: 0.116 - ETA: 2:39 - loss: 0.3488 - dense_12_loss: 0.0724 - dense_13_loss: 0.116 - ETA: 2:39 - loss: 0.3492 - dense_12_loss: 0.0725 - dense_13_loss: 0.116 - ETA: 2:39 - loss: 0.3491 - dense_12_loss: 0.0725 - dense_13_loss: 0.116 - ETA: 2:39 - loss: 0.3478 - dense_12_loss: 0.0721 - dense_13_loss: 0.116 - ETA: 2:38 - loss: 0.3474 - dense_12_loss: 0.0720 - dense_13_loss: 0.116 - ETA: 2:38 - loss: 0.3472 - dense_12_loss: 0.0720 - dense_13_loss: 0.116 - ETA: 2:38 - loss: 0.3471 - dense_12_loss: 0.0720 - dense_13_loss: 0.116 - ETA: 2:38 - loss: 0.3479 - dense_12_loss: 0.0721 - dense_13_loss: 0.116 - ETA: 2:37 - loss: 0.3484 - dense_12_loss: 0.0723 - dense_13_loss: 0.116 - ETA: 2:37 - loss: 0.3488 - dense_12_loss: 0.0724 - dense_13_loss: 0.116 - ETA: 2:37 - loss: 0.3487 - dense_12_loss: 0.0724 - dense_13_loss: 0.116 - ETA: 2:37 - loss: 0.3488 - dense_12_loss: 0.0724 - dense_13_loss: 0.116 - ETA: 2:36 - loss: 0.3488 - dense_12_loss: 0.0724 - dense_13_loss: 0.116 - ETA: 2:36 - loss: 0.3485 - dense_12_loss: 0.0723 - dense_13_loss: 0.1167\b\b\b\b\b\b\b\b\b\b\b\b\b\b\b\b\b\b\b\b\b\b\b\b\b\b\b\b\b\b\b\b\b\b\b\b\b\b\b\b\b\b\b\b\b\b\b\b\b\b\b\b\b\b\b\b\b\b\b\b\b\b\b\b\b\b\b\b\b\b\b\b\b\b\b\b\b\b\b\b\b\b\b\b\b\b\b\b\b\b\b\b\b\b\b\b\b\b\b\b\b\b\b\b\b\b\b\b\b\b\b\b\b\b\b\b\b\b\b\b\b"
     ]
    },
    {
     "name": "stdout",
     "output_type": "stream",
     "text": [
      " 56576/171462 [========>.....................] - ETA: 2:36 - loss: 0.3488 - dense_12_loss: 0.0723 - dense_13_loss: 0.116 - ETA: 2:36 - loss: 0.3497 - dense_12_loss: 0.0726 - dense_13_loss: 0.117 - ETA: 2:35 - loss: 0.3497 - dense_12_loss: 0.0725 - dense_13_loss: 0.117 - ETA: 2:35 - loss: 0.3494 - dense_12_loss: 0.0725 - dense_13_loss: 0.117 - ETA: 2:35 - loss: 0.3490 - dense_12_loss: 0.0723 - dense_13_loss: 0.117 - ETA: 2:34 - loss: 0.3495 - dense_12_loss: 0.0725 - dense_13_loss: 0.117 - ETA: 2:34 - loss: 0.3507 - dense_12_loss: 0.0728 - dense_13_loss: 0.117 - ETA: 2:34 - loss: 0.3506 - dense_12_loss: 0.0728 - dense_13_loss: 0.117 - ETA: 2:34 - loss: 0.3506 - dense_12_loss: 0.0728 - dense_13_loss: 0.117 - ETA: 2:33 - loss: 0.3500 - dense_12_loss: 0.0726 - dense_13_loss: 0.117 - ETA: 2:33 - loss: 0.3509 - dense_12_loss: 0.0729 - dense_13_loss: 0.117 - ETA: 2:33 - loss: 0.3514 - dense_12_loss: 0.0730 - dense_13_loss: 0.117 - ETA: 2:32 - loss: 0.3514 - dense_12_loss: 0.0730 - dense_13_loss: 0.117 - ETA: 2:32 - loss: 0.3519 - dense_12_loss: 0.0731 - dense_13_loss: 0.117 - ETA: 2:32 - loss: 0.3518 - dense_12_loss: 0.0731 - dense_13_loss: 0.117 - ETA: 2:32 - loss: 0.3517 - dense_12_loss: 0.0731 - dense_13_loss: 0.117 - ETA: 2:31 - loss: 0.3517 - dense_12_loss: 0.0731 - dense_13_loss: 0.117 - ETA: 2:31 - loss: 0.3514 - dense_12_loss: 0.0730 - dense_13_loss: 0.117 - ETA: 2:31 - loss: 0.3517 - dense_12_loss: 0.0731 - dense_13_loss: 0.117 - ETA: 2:30 - loss: 0.3520 - dense_12_loss: 0.0732 - dense_13_loss: 0.117 - ETA: 2:30 - loss: 0.3521 - dense_12_loss: 0.0732 - dense_13_loss: 0.117 - ETA: 2:30 - loss: 0.3524 - dense_12_loss: 0.0733 - dense_13_loss: 0.117 - ETA: 2:30 - loss: 0.3521 - dense_12_loss: 0.0732 - dense_13_loss: 0.117 - ETA: 2:29 - loss: 0.3521 - dense_12_loss: 0.0732 - dense_13_loss: 0.117 - ETA: 2:29 - loss: 0.3515 - dense_12_loss: 0.0731 - dense_13_loss: 0.117 - ETA: 2:29 - loss: 0.3520 - dense_12_loss: 0.0732 - dense_13_loss: 0.117 - ETA: 2:28 - loss: 0.3519 - dense_12_loss: 0.0732 - dense_13_loss: 0.117 - ETA: 2:28 - loss: 0.3518 - dense_12_loss: 0.0732 - dense_13_loss: 0.117 - ETA: 2:28 - loss: 0.3516 - dense_12_loss: 0.0732 - dense_13_loss: 0.117 - ETA: 2:28 - loss: 0.3520 - dense_12_loss: 0.0732 - dense_13_loss: 0.117 - ETA: 2:27 - loss: 0.3520 - dense_12_loss: 0.0733 - dense_13_loss: 0.117 - ETA: 2:27 - loss: 0.3523 - dense_12_loss: 0.0733 - dense_13_loss: 0.117 - ETA: 2:27 - loss: 0.3522 - dense_12_loss: 0.0733 - dense_13_loss: 0.117 - ETA: 2:27 - loss: 0.3525 - dense_12_loss: 0.0734 - dense_13_loss: 0.117 - ETA: 2:26 - loss: 0.3524 - dense_12_loss: 0.0733 - dense_13_loss: 0.117 - ETA: 2:26 - loss: 0.3519 - dense_12_loss: 0.0732 - dense_13_loss: 0.117 - ETA: 2:26 - loss: 0.3518 - dense_12_loss: 0.0732 - dense_13_loss: 0.117 - ETA: 2:25 - loss: 0.3525 - dense_12_loss: 0.0733 - dense_13_loss: 0.117 - ETA: 2:25 - loss: 0.3525 - dense_12_loss: 0.0733 - dense_13_loss: 0.117 - ETA: 2:25 - loss: 0.3535 - dense_12_loss: 0.0736 - dense_13_loss: 0.117 - ETA: 2:25 - loss: 0.3539 - dense_12_loss: 0.0737 - dense_13_loss: 0.117 - ETA: 2:24 - loss: 0.3539 - dense_12_loss: 0.0737 - dense_13_loss: 0.117 - ETA: 2:24 - loss: 0.3544 - dense_12_loss: 0.0738 - dense_13_loss: 0.117 - ETA: 2:24 - loss: 0.3546 - dense_12_loss: 0.0739 - dense_13_loss: 0.117 - ETA: 2:24 - loss: 0.3546 - dense_12_loss: 0.0739 - dense_13_loss: 0.117 - ETA: 2:23 - loss: 0.3547 - dense_12_loss: 0.0739 - dense_13_loss: 0.117 - ETA: 2:23 - loss: 0.3548 - dense_12_loss: 0.0740 - dense_13_loss: 0.117 - ETA: 2:23 - loss: 0.3545 - dense_12_loss: 0.0739 - dense_13_loss: 0.117 - ETA: 2:22 - loss: 0.3542 - dense_12_loss: 0.0738 - dense_13_loss: 0.117 - ETA: 2:22 - loss: 0.3541 - dense_12_loss: 0.0738 - dense_13_loss: 0.117 - ETA: 2:22 - loss: 0.3541 - dense_12_loss: 0.0738 - dense_13_loss: 0.117 - ETA: 2:22 - loss: 0.3541 - dense_12_loss: 0.0738 - dense_13_loss: 0.117 - ETA: 2:21 - loss: 0.3538 - dense_12_loss: 0.0737 - dense_13_loss: 0.117 - ETA: 2:21 - loss: 0.3540 - dense_12_loss: 0.0737 - dense_13_loss: 0.117 - ETA: 2:21 - loss: 0.3541 - dense_12_loss: 0.0738 - dense_13_loss: 0.117 - ETA: 2:20 - loss: 0.3539 - dense_12_loss: 0.0737 - dense_13_loss: 0.117 - ETA: 2:20 - loss: 0.3544 - dense_12_loss: 0.0738 - dense_13_loss: 0.117 - ETA: 2:20 - loss: 0.3546 - dense_12_loss: 0.0739 - dense_13_loss: 0.117 - ETA: 2:20 - loss: 0.3542 - dense_12_loss: 0.0738 - dense_13_loss: 0.117 - ETA: 2:19 - loss: 0.3541 - dense_12_loss: 0.0737 - dense_13_loss: 0.117 - ETA: 2:19 - loss: 0.3543 - dense_12_loss: 0.0738 - dense_13_loss: 0.117 - ETA: 2:19 - loss: 0.3543 - dense_12_loss: 0.0737 - dense_13_loss: 0.117 - ETA: 2:19 - loss: 0.3543 - dense_12_loss: 0.0737 - dense_13_loss: 0.117 - ETA: 2:18 - loss: 0.3548 - dense_12_loss: 0.0739 - dense_13_loss: 0.117 - ETA: 2:18 - loss: 0.3545 - dense_12_loss: 0.0738 - dense_13_loss: 0.117 - ETA: 2:18 - loss: 0.3543 - dense_12_loss: 0.0738 - dense_13_loss: 0.117 - ETA: 2:17 - loss: 0.3545 - dense_12_loss: 0.0738 - dense_13_loss: 0.117 - ETA: 2:17 - loss: 0.3545 - dense_12_loss: 0.0738 - dense_13_loss: 0.117 - ETA: 2:17 - loss: 0.3549 - dense_12_loss: 0.0739 - dense_13_loss: 0.117 - ETA: 2:17 - loss: 0.3547 - dense_12_loss: 0.0739 - dense_13_loss: 0.117 - ETA: 2:16 - loss: 0.3547 - dense_12_loss: 0.0739 - dense_13_loss: 0.117 - ETA: 2:16 - loss: 0.3544 - dense_12_loss: 0.0738 - dense_13_loss: 0.117 - ETA: 2:16 - loss: 0.3544 - dense_12_loss: 0.0738 - dense_13_loss: 0.117 - ETA: 2:15 - loss: 0.3543 - dense_12_loss: 0.0738 - dense_13_loss: 0.117 - ETA: 2:15 - loss: 0.3547 - dense_12_loss: 0.0739 - dense_13_loss: 0.117 - ETA: 2:15 - loss: 0.3547 - dense_12_loss: 0.0739 - dense_13_loss: 0.117 - ETA: 2:15 - loss: 0.3549 - dense_12_loss: 0.0739 - dense_13_loss: 0.117 - ETA: 2:14 - loss: 0.3551 - dense_12_loss: 0.0740 - dense_13_loss: 0.117 - ETA: 2:14 - loss: 0.3552 - dense_12_loss: 0.0740 - dense_13_loss: 0.117 - ETA: 2:14 - loss: 0.3550 - dense_12_loss: 0.0739 - dense_13_loss: 0.117 - ETA: 2:13 - loss: 0.3547 - dense_12_loss: 0.0739 - dense_13_loss: 0.117 - ETA: 2:13 - loss: 0.3545 - dense_12_loss: 0.0738 - dense_13_loss: 0.117 - ETA: 2:13 - loss: 0.3546 - dense_12_loss: 0.0738 - dense_13_loss: 0.117 - ETA: 2:13 - loss: 0.3551 - dense_12_loss: 0.0739 - dense_13_loss: 0.118 - ETA: 2:12 - loss: 0.3552 - dense_12_loss: 0.0740 - dense_13_loss: 0.118 - ETA: 2:12 - loss: 0.3555 - dense_12_loss: 0.0740 - dense_13_loss: 0.118 - ETA: 2:12 - loss: 0.3553 - dense_12_loss: 0.0740 - dense_13_loss: 0.118 - ETA: 2:12 - loss: 0.3554 - dense_12_loss: 0.0740 - dense_13_loss: 0.118 - ETA: 2:11 - loss: 0.3555 - dense_12_loss: 0.0741 - dense_13_loss: 0.118 - ETA: 2:11 - loss: 0.3554 - dense_12_loss: 0.0740 - dense_13_loss: 0.118 - ETA: 2:11 - loss: 0.3554 - dense_12_loss: 0.0740 - dense_13_loss: 0.118 - ETA: 2:10 - loss: 0.3553 - dense_12_loss: 0.0740 - dense_13_loss: 0.118 - ETA: 2:10 - loss: 0.3549 - dense_12_loss: 0.0739 - dense_13_loss: 0.117 - ETA: 2:10 - loss: 0.3552 - dense_12_loss: 0.0740 - dense_13_loss: 0.117 - ETA: 2:10 - loss: 0.3558 - dense_12_loss: 0.0742 - dense_13_loss: 0.118 - ETA: 2:09 - loss: 0.3560 - dense_12_loss: 0.0742 - dense_13_loss: 0.118 - ETA: 2:09 - loss: 0.3559 - dense_12_loss: 0.0742 - dense_13_loss: 0.118 - ETA: 2:09 - loss: 0.3559 - dense_12_loss: 0.0742 - dense_13_loss: 0.118 - ETA: 2:08 - loss: 0.3560 - dense_12_loss: 0.0742 - dense_13_loss: 0.118 - ETA: 2:08 - loss: 0.3561 - dense_12_loss: 0.0742 - dense_13_loss: 0.118 - ETA: 2:08 - loss: 0.3562 - dense_12_loss: 0.0742 - dense_13_loss: 0.118 - ETA: 2:08 - loss: 0.3564 - dense_12_loss: 0.0743 - dense_13_loss: 0.118 - ETA: 2:07 - loss: 0.3562 - dense_12_loss: 0.0742 - dense_13_loss: 0.118 - ETA: 2:07 - loss: 0.3565 - dense_12_loss: 0.0743 - dense_13_loss: 0.118 - ETA: 2:07 - loss: 0.3567 - dense_12_loss: 0.0744 - dense_13_loss: 0.118 - ETA: 2:06 - loss: 0.3566 - dense_12_loss: 0.0744 - dense_13_loss: 0.118 - ETA: 2:06 - loss: 0.3566 - dense_12_loss: 0.0744 - dense_13_loss: 0.118 - ETA: 2:06 - loss: 0.3565 - dense_12_loss: 0.0743 - dense_13_loss: 0.118 - ETA: 2:06 - loss: 0.3564 - dense_12_loss: 0.0743 - dense_13_loss: 0.118 - ETA: 2:05 - loss: 0.3568 - dense_12_loss: 0.0744 - dense_13_loss: 0.118 - ETA: 2:05 - loss: 0.3565 - dense_12_loss: 0.0743 - dense_13_loss: 0.1181"
     ]
    },
    {
     "name": "stdout",
     "output_type": "stream",
     "text": [
      " 84992/171462 [=============>................] - ETA: 2:05 - loss: 0.3567 - dense_12_loss: 0.0744 - dense_13_loss: 0.118 - ETA: 2:04 - loss: 0.3574 - dense_12_loss: 0.0746 - dense_13_loss: 0.118 - ETA: 2:04 - loss: 0.3572 - dense_12_loss: 0.0745 - dense_13_loss: 0.118 - ETA: 2:04 - loss: 0.3570 - dense_12_loss: 0.0745 - dense_13_loss: 0.118 - ETA: 2:04 - loss: 0.3572 - dense_12_loss: 0.0745 - dense_13_loss: 0.118 - ETA: 2:03 - loss: 0.3570 - dense_12_loss: 0.0744 - dense_13_loss: 0.118 - ETA: 2:03 - loss: 0.3567 - dense_12_loss: 0.0744 - dense_13_loss: 0.118 - ETA: 2:03 - loss: 0.3565 - dense_12_loss: 0.0743 - dense_13_loss: 0.118 - ETA: 2:03 - loss: 0.3565 - dense_12_loss: 0.0743 - dense_13_loss: 0.118 - ETA: 2:02 - loss: 0.3569 - dense_12_loss: 0.0744 - dense_13_loss: 0.118 - ETA: 2:02 - loss: 0.3571 - dense_12_loss: 0.0745 - dense_13_loss: 0.118 - ETA: 2:02 - loss: 0.3571 - dense_12_loss: 0.0745 - dense_13_loss: 0.118 - ETA: 2:01 - loss: 0.3571 - dense_12_loss: 0.0745 - dense_13_loss: 0.118 - ETA: 2:01 - loss: 0.3572 - dense_12_loss: 0.0745 - dense_13_loss: 0.118 - ETA: 2:01 - loss: 0.3570 - dense_12_loss: 0.0745 - dense_13_loss: 0.118 - ETA: 2:01 - loss: 0.3568 - dense_12_loss: 0.0744 - dense_13_loss: 0.118 - ETA: 2:00 - loss: 0.3571 - dense_12_loss: 0.0745 - dense_13_loss: 0.118 - ETA: 2:00 - loss: 0.3568 - dense_12_loss: 0.0744 - dense_13_loss: 0.118 - ETA: 2:00 - loss: 0.3568 - dense_12_loss: 0.0744 - dense_13_loss: 0.118 - ETA: 2:00 - loss: 0.3569 - dense_12_loss: 0.0745 - dense_13_loss: 0.118 - ETA: 1:59 - loss: 0.3571 - dense_12_loss: 0.0745 - dense_13_loss: 0.118 - ETA: 1:59 - loss: 0.3572 - dense_12_loss: 0.0745 - dense_13_loss: 0.118 - ETA: 1:59 - loss: 0.3573 - dense_12_loss: 0.0746 - dense_13_loss: 0.118 - ETA: 1:58 - loss: 0.3572 - dense_12_loss: 0.0745 - dense_13_loss: 0.118 - ETA: 1:58 - loss: 0.3570 - dense_12_loss: 0.0745 - dense_13_loss: 0.118 - ETA: 1:58 - loss: 0.3567 - dense_12_loss: 0.0744 - dense_13_loss: 0.118 - ETA: 1:58 - loss: 0.3575 - dense_12_loss: 0.0746 - dense_13_loss: 0.118 - ETA: 1:57 - loss: 0.3576 - dense_12_loss: 0.0747 - dense_13_loss: 0.118 - ETA: 1:57 - loss: 0.3575 - dense_12_loss: 0.0746 - dense_13_loss: 0.118 - ETA: 1:57 - loss: 0.3575 - dense_12_loss: 0.0746 - dense_13_loss: 0.118 - ETA: 1:56 - loss: 0.3572 - dense_12_loss: 0.0746 - dense_13_loss: 0.118 - ETA: 1:56 - loss: 0.3573 - dense_12_loss: 0.0746 - dense_13_loss: 0.118 - ETA: 1:56 - loss: 0.3569 - dense_12_loss: 0.0745 - dense_13_loss: 0.118 - ETA: 1:56 - loss: 0.3563 - dense_12_loss: 0.0743 - dense_13_loss: 0.118 - ETA: 1:55 - loss: 0.3562 - dense_12_loss: 0.0743 - dense_13_loss: 0.118 - ETA: 1:55 - loss: 0.3562 - dense_12_loss: 0.0743 - dense_13_loss: 0.118 - ETA: 1:55 - loss: 0.3563 - dense_12_loss: 0.0743 - dense_13_loss: 0.118 - ETA: 1:54 - loss: 0.3560 - dense_12_loss: 0.0742 - dense_13_loss: 0.118 - ETA: 1:54 - loss: 0.3561 - dense_12_loss: 0.0742 - dense_13_loss: 0.118 - ETA: 1:54 - loss: 0.3561 - dense_12_loss: 0.0742 - dense_13_loss: 0.118 - ETA: 1:54 - loss: 0.3563 - dense_12_loss: 0.0743 - dense_13_loss: 0.118 - ETA: 1:53 - loss: 0.3558 - dense_12_loss: 0.0741 - dense_13_loss: 0.118 - ETA: 1:53 - loss: 0.3558 - dense_12_loss: 0.0742 - dense_13_loss: 0.118 - ETA: 1:53 - loss: 0.3555 - dense_12_loss: 0.0741 - dense_13_loss: 0.118 - ETA: 1:52 - loss: 0.3553 - dense_12_loss: 0.0740 - dense_13_loss: 0.118 - ETA: 1:52 - loss: 0.3551 - dense_12_loss: 0.0740 - dense_13_loss: 0.118 - ETA: 1:52 - loss: 0.3556 - dense_12_loss: 0.0741 - dense_13_loss: 0.118 - ETA: 1:52 - loss: 0.3560 - dense_12_loss: 0.0742 - dense_13_loss: 0.118 - ETA: 1:51 - loss: 0.3562 - dense_12_loss: 0.0742 - dense_13_loss: 0.118 - ETA: 1:51 - loss: 0.3561 - dense_12_loss: 0.0742 - dense_13_loss: 0.118 - ETA: 1:51 - loss: 0.3560 - dense_12_loss: 0.0742 - dense_13_loss: 0.118 - ETA: 1:51 - loss: 0.3561 - dense_12_loss: 0.0742 - dense_13_loss: 0.118 - ETA: 1:50 - loss: 0.3557 - dense_12_loss: 0.0741 - dense_13_loss: 0.118 - ETA: 1:50 - loss: 0.3557 - dense_12_loss: 0.0741 - dense_13_loss: 0.118 - ETA: 1:50 - loss: 0.3556 - dense_12_loss: 0.0741 - dense_13_loss: 0.118 - ETA: 1:49 - loss: 0.3553 - dense_12_loss: 0.0740 - dense_13_loss: 0.118 - ETA: 1:49 - loss: 0.3551 - dense_12_loss: 0.0739 - dense_13_loss: 0.118 - ETA: 1:49 - loss: 0.3554 - dense_12_loss: 0.0740 - dense_13_loss: 0.118 - ETA: 1:49 - loss: 0.3552 - dense_12_loss: 0.0739 - dense_13_loss: 0.118 - ETA: 1:48 - loss: 0.3555 - dense_12_loss: 0.0740 - dense_13_loss: 0.118 - ETA: 1:48 - loss: 0.3556 - dense_12_loss: 0.0740 - dense_13_loss: 0.118 - ETA: 1:48 - loss: 0.3553 - dense_12_loss: 0.0740 - dense_13_loss: 0.118 - ETA: 1:47 - loss: 0.3551 - dense_12_loss: 0.0739 - dense_13_loss: 0.118 - ETA: 1:47 - loss: 0.3550 - dense_12_loss: 0.0739 - dense_13_loss: 0.118 - ETA: 1:47 - loss: 0.3551 - dense_12_loss: 0.0739 - dense_13_loss: 0.118 - ETA: 1:47 - loss: 0.3551 - dense_12_loss: 0.0739 - dense_13_loss: 0.118 - ETA: 1:46 - loss: 0.3550 - dense_12_loss: 0.0739 - dense_13_loss: 0.118 - ETA: 1:46 - loss: 0.3548 - dense_12_loss: 0.0738 - dense_13_loss: 0.118 - ETA: 1:46 - loss: 0.3548 - dense_12_loss: 0.0738 - dense_13_loss: 0.118 - ETA: 1:45 - loss: 0.3546 - dense_12_loss: 0.0738 - dense_13_loss: 0.118 - ETA: 1:45 - loss: 0.3547 - dense_12_loss: 0.0738 - dense_13_loss: 0.118 - ETA: 1:45 - loss: 0.3548 - dense_12_loss: 0.0738 - dense_13_loss: 0.118 - ETA: 1:45 - loss: 0.3546 - dense_12_loss: 0.0737 - dense_13_loss: 0.118 - ETA: 1:44 - loss: 0.3547 - dense_12_loss: 0.0738 - dense_13_loss: 0.118 - ETA: 1:44 - loss: 0.3544 - dense_12_loss: 0.0737 - dense_13_loss: 0.118 - ETA: 1:44 - loss: 0.3542 - dense_12_loss: 0.0737 - dense_13_loss: 0.118 - ETA: 1:44 - loss: 0.3538 - dense_12_loss: 0.0736 - dense_13_loss: 0.117 - ETA: 1:43 - loss: 0.3535 - dense_12_loss: 0.0735 - dense_13_loss: 0.117 - ETA: 1:43 - loss: 0.3537 - dense_12_loss: 0.0735 - dense_13_loss: 0.117 - ETA: 1:43 - loss: 0.3535 - dense_12_loss: 0.0734 - dense_13_loss: 0.117 - ETA: 1:42 - loss: 0.3533 - dense_12_loss: 0.0734 - dense_13_loss: 0.117 - ETA: 1:42 - loss: 0.3534 - dense_12_loss: 0.0734 - dense_13_loss: 0.117 - ETA: 1:42 - loss: 0.3537 - dense_12_loss: 0.0735 - dense_13_loss: 0.118 - ETA: 1:42 - loss: 0.3540 - dense_12_loss: 0.0736 - dense_13_loss: 0.118 - ETA: 1:41 - loss: 0.3543 - dense_12_loss: 0.0737 - dense_13_loss: 0.118 - ETA: 1:41 - loss: 0.3541 - dense_12_loss: 0.0736 - dense_13_loss: 0.118 - ETA: 1:41 - loss: 0.3540 - dense_12_loss: 0.0736 - dense_13_loss: 0.118 - ETA: 1:40 - loss: 0.3538 - dense_12_loss: 0.0735 - dense_13_loss: 0.118 - ETA: 1:40 - loss: 0.3536 - dense_12_loss: 0.0735 - dense_13_loss: 0.117 - ETA: 1:40 - loss: 0.3539 - dense_12_loss: 0.0736 - dense_13_loss: 0.117 - ETA: 1:40 - loss: 0.3538 - dense_12_loss: 0.0735 - dense_13_loss: 0.117 - ETA: 1:39 - loss: 0.3537 - dense_12_loss: 0.0735 - dense_13_loss: 0.117 - ETA: 1:39 - loss: 0.3536 - dense_12_loss: 0.0735 - dense_13_loss: 0.117 - ETA: 1:39 - loss: 0.3534 - dense_12_loss: 0.0735 - dense_13_loss: 0.117 - ETA: 1:39 - loss: 0.3533 - dense_12_loss: 0.0734 - dense_13_loss: 0.117 - ETA: 1:38 - loss: 0.3536 - dense_12_loss: 0.0735 - dense_13_loss: 0.117 - ETA: 1:38 - loss: 0.3536 - dense_12_loss: 0.0735 - dense_13_loss: 0.117 - ETA: 1:38 - loss: 0.3541 - dense_12_loss: 0.0737 - dense_13_loss: 0.117 - ETA: 1:37 - loss: 0.3541 - dense_12_loss: 0.0737 - dense_13_loss: 0.117 - ETA: 1:37 - loss: 0.3543 - dense_12_loss: 0.0737 - dense_13_loss: 0.117 - ETA: 1:37 - loss: 0.3546 - dense_12_loss: 0.0738 - dense_13_loss: 0.117 - ETA: 1:37 - loss: 0.3547 - dense_12_loss: 0.0738 - dense_13_loss: 0.117 - ETA: 1:36 - loss: 0.3546 - dense_12_loss: 0.0738 - dense_13_loss: 0.117 - ETA: 1:36 - loss: 0.3544 - dense_12_loss: 0.0738 - dense_13_loss: 0.117 - ETA: 1:36 - loss: 0.3541 - dense_12_loss: 0.0737 - dense_13_loss: 0.117 - ETA: 1:35 - loss: 0.3540 - dense_12_loss: 0.0737 - dense_13_loss: 0.117 - ETA: 1:35 - loss: 0.3541 - dense_12_loss: 0.0737 - dense_13_loss: 0.117 - ETA: 1:35 - loss: 0.3540 - dense_12_loss: 0.0736 - dense_13_loss: 0.117 - ETA: 1:35 - loss: 0.3541 - dense_12_loss: 0.0737 - dense_13_loss: 0.117 - ETA: 1:34 - loss: 0.3539 - dense_12_loss: 0.0736 - dense_13_loss: 0.117 - ETA: 1:34 - loss: 0.3538 - dense_12_loss: 0.0736 - dense_13_loss: 0.1178"
     ]
    },
    {
     "name": "stdout",
     "output_type": "stream",
     "text": [
      "113408/171462 [==================>...........] - ETA: 1:34 - loss: 0.3536 - dense_12_loss: 0.0735 - dense_13_loss: 0.117 - ETA: 1:34 - loss: 0.3535 - dense_12_loss: 0.0735 - dense_13_loss: 0.117 - ETA: 1:33 - loss: 0.3538 - dense_12_loss: 0.0736 - dense_13_loss: 0.117 - ETA: 1:33 - loss: 0.3538 - dense_12_loss: 0.0736 - dense_13_loss: 0.117 - ETA: 1:33 - loss: 0.3537 - dense_12_loss: 0.0736 - dense_13_loss: 0.117 - ETA: 1:32 - loss: 0.3538 - dense_12_loss: 0.0736 - dense_13_loss: 0.117 - ETA: 1:32 - loss: 0.3537 - dense_12_loss: 0.0736 - dense_13_loss: 0.117 - ETA: 1:32 - loss: 0.3539 - dense_12_loss: 0.0736 - dense_13_loss: 0.117 - ETA: 1:32 - loss: 0.3540 - dense_12_loss: 0.0736 - dense_13_loss: 0.117 - ETA: 1:31 - loss: 0.3540 - dense_12_loss: 0.0736 - dense_13_loss: 0.117 - ETA: 1:31 - loss: 0.3538 - dense_12_loss: 0.0736 - dense_13_loss: 0.117 - ETA: 1:31 - loss: 0.3540 - dense_12_loss: 0.0736 - dense_13_loss: 0.117 - ETA: 1:30 - loss: 0.3539 - dense_12_loss: 0.0736 - dense_13_loss: 0.117 - ETA: 1:30 - loss: 0.3537 - dense_12_loss: 0.0735 - dense_13_loss: 0.117 - ETA: 1:30 - loss: 0.3538 - dense_12_loss: 0.0736 - dense_13_loss: 0.117 - ETA: 1:30 - loss: 0.3538 - dense_12_loss: 0.0736 - dense_13_loss: 0.117 - ETA: 1:29 - loss: 0.3538 - dense_12_loss: 0.0736 - dense_13_loss: 0.117 - ETA: 1:29 - loss: 0.3541 - dense_12_loss: 0.0736 - dense_13_loss: 0.118 - ETA: 1:29 - loss: 0.3540 - dense_12_loss: 0.0736 - dense_13_loss: 0.118 - ETA: 1:28 - loss: 0.3540 - dense_12_loss: 0.0736 - dense_13_loss: 0.118 - ETA: 1:28 - loss: 0.3541 - dense_12_loss: 0.0736 - dense_13_loss: 0.118 - ETA: 1:28 - loss: 0.3541 - dense_12_loss: 0.0736 - dense_13_loss: 0.118 - ETA: 1:28 - loss: 0.3539 - dense_12_loss: 0.0736 - dense_13_loss: 0.117 - ETA: 1:27 - loss: 0.3538 - dense_12_loss: 0.0736 - dense_13_loss: 0.118 - ETA: 1:27 - loss: 0.3536 - dense_12_loss: 0.0735 - dense_13_loss: 0.117 - ETA: 1:27 - loss: 0.3535 - dense_12_loss: 0.0735 - dense_13_loss: 0.117 - ETA: 1:27 - loss: 0.3536 - dense_12_loss: 0.0735 - dense_13_loss: 0.117 - ETA: 1:26 - loss: 0.3535 - dense_12_loss: 0.0735 - dense_13_loss: 0.117 - ETA: 1:26 - loss: 0.3535 - dense_12_loss: 0.0735 - dense_13_loss: 0.117 - ETA: 1:26 - loss: 0.3533 - dense_12_loss: 0.0734 - dense_13_loss: 0.117 - ETA: 1:25 - loss: 0.3533 - dense_12_loss: 0.0734 - dense_13_loss: 0.117 - ETA: 1:25 - loss: 0.3532 - dense_12_loss: 0.0734 - dense_13_loss: 0.117 - ETA: 1:25 - loss: 0.3532 - dense_12_loss: 0.0734 - dense_13_loss: 0.117 - ETA: 1:25 - loss: 0.3532 - dense_12_loss: 0.0734 - dense_13_loss: 0.117 - ETA: 1:24 - loss: 0.3534 - dense_12_loss: 0.0735 - dense_13_loss: 0.117 - ETA: 1:24 - loss: 0.3535 - dense_12_loss: 0.0735 - dense_13_loss: 0.117 - ETA: 1:24 - loss: 0.3534 - dense_12_loss: 0.0735 - dense_13_loss: 0.117 - ETA: 1:23 - loss: 0.3535 - dense_12_loss: 0.0735 - dense_13_loss: 0.117 - ETA: 1:23 - loss: 0.3538 - dense_12_loss: 0.0736 - dense_13_loss: 0.117 - ETA: 1:23 - loss: 0.3542 - dense_12_loss: 0.0737 - dense_13_loss: 0.117 - ETA: 1:23 - loss: 0.3541 - dense_12_loss: 0.0737 - dense_13_loss: 0.117 - ETA: 1:22 - loss: 0.3540 - dense_12_loss: 0.0736 - dense_13_loss: 0.117 - ETA: 1:22 - loss: 0.3541 - dense_12_loss: 0.0736 - dense_13_loss: 0.117 - ETA: 1:22 - loss: 0.3543 - dense_12_loss: 0.0737 - dense_13_loss: 0.117 - ETA: 1:21 - loss: 0.3544 - dense_12_loss: 0.0738 - dense_13_loss: 0.117 - ETA: 1:21 - loss: 0.3544 - dense_12_loss: 0.0737 - dense_13_loss: 0.117 - ETA: 1:21 - loss: 0.3545 - dense_12_loss: 0.0738 - dense_13_loss: 0.117 - ETA: 1:21 - loss: 0.3546 - dense_12_loss: 0.0738 - dense_13_loss: 0.117 - ETA: 1:20 - loss: 0.3547 - dense_12_loss: 0.0738 - dense_13_loss: 0.117 - ETA: 1:20 - loss: 0.3548 - dense_12_loss: 0.0739 - dense_13_loss: 0.117 - ETA: 1:20 - loss: 0.3547 - dense_12_loss: 0.0738 - dense_13_loss: 0.118 - ETA: 1:20 - loss: 0.3548 - dense_12_loss: 0.0738 - dense_13_loss: 0.118 - ETA: 1:19 - loss: 0.3548 - dense_12_loss: 0.0738 - dense_13_loss: 0.118 - ETA: 1:19 - loss: 0.3549 - dense_12_loss: 0.0739 - dense_13_loss: 0.118 - ETA: 1:19 - loss: 0.3547 - dense_12_loss: 0.0738 - dense_13_loss: 0.118 - ETA: 1:18 - loss: 0.3549 - dense_12_loss: 0.0738 - dense_13_loss: 0.118 - ETA: 1:18 - loss: 0.3548 - dense_12_loss: 0.0738 - dense_13_loss: 0.118 - ETA: 1:18 - loss: 0.3547 - dense_12_loss: 0.0738 - dense_13_loss: 0.118 - ETA: 1:18 - loss: 0.3548 - dense_12_loss: 0.0738 - dense_13_loss: 0.118 - ETA: 1:17 - loss: 0.3548 - dense_12_loss: 0.0738 - dense_13_loss: 0.118 - ETA: 1:17 - loss: 0.3547 - dense_12_loss: 0.0738 - dense_13_loss: 0.118 - ETA: 1:17 - loss: 0.3549 - dense_12_loss: 0.0738 - dense_13_loss: 0.118 - ETA: 1:16 - loss: 0.3547 - dense_12_loss: 0.0738 - dense_13_loss: 0.118 - ETA: 1:16 - loss: 0.3547 - dense_12_loss: 0.0738 - dense_13_loss: 0.118 - ETA: 1:16 - loss: 0.3546 - dense_12_loss: 0.0738 - dense_13_loss: 0.118 - ETA: 1:16 - loss: 0.3549 - dense_12_loss: 0.0738 - dense_13_loss: 0.118 - ETA: 1:15 - loss: 0.3550 - dense_12_loss: 0.0739 - dense_13_loss: 0.118 - ETA: 1:15 - loss: 0.3547 - dense_12_loss: 0.0738 - dense_13_loss: 0.118 - ETA: 1:15 - loss: 0.3545 - dense_12_loss: 0.0737 - dense_13_loss: 0.118 - ETA: 1:15 - loss: 0.3545 - dense_12_loss: 0.0737 - dense_13_loss: 0.118 - ETA: 1:14 - loss: 0.3548 - dense_12_loss: 0.0738 - dense_13_loss: 0.118 - ETA: 1:14 - loss: 0.3545 - dense_12_loss: 0.0737 - dense_13_loss: 0.118 - ETA: 1:14 - loss: 0.3547 - dense_12_loss: 0.0738 - dense_13_loss: 0.118 - ETA: 1:13 - loss: 0.3546 - dense_12_loss: 0.0737 - dense_13_loss: 0.118 - ETA: 1:13 - loss: 0.3547 - dense_12_loss: 0.0738 - dense_13_loss: 0.118 - ETA: 1:13 - loss: 0.3547 - dense_12_loss: 0.0738 - dense_13_loss: 0.118 - ETA: 1:13 - loss: 0.3546 - dense_12_loss: 0.0738 - dense_13_loss: 0.118 - ETA: 1:12 - loss: 0.3545 - dense_12_loss: 0.0737 - dense_13_loss: 0.118 - ETA: 1:12 - loss: 0.3544 - dense_12_loss: 0.0737 - dense_13_loss: 0.118 - ETA: 1:12 - loss: 0.3542 - dense_12_loss: 0.0737 - dense_13_loss: 0.118 - ETA: 1:11 - loss: 0.3542 - dense_12_loss: 0.0737 - dense_13_loss: 0.118 - ETA: 1:11 - loss: 0.3540 - dense_12_loss: 0.0736 - dense_13_loss: 0.118 - ETA: 1:11 - loss: 0.3539 - dense_12_loss: 0.0736 - dense_13_loss: 0.118 - ETA: 1:11 - loss: 0.3539 - dense_12_loss: 0.0736 - dense_13_loss: 0.117 - ETA: 1:10 - loss: 0.3536 - dense_12_loss: 0.0735 - dense_13_loss: 0.117 - ETA: 1:10 - loss: 0.3534 - dense_12_loss: 0.0735 - dense_13_loss: 0.117 - ETA: 1:10 - loss: 0.3533 - dense_12_loss: 0.0734 - dense_13_loss: 0.117 - ETA: 1:09 - loss: 0.3534 - dense_12_loss: 0.0734 - dense_13_loss: 0.117 - ETA: 1:09 - loss: 0.3535 - dense_12_loss: 0.0735 - dense_13_loss: 0.117 - ETA: 1:09 - loss: 0.3536 - dense_12_loss: 0.0735 - dense_13_loss: 0.117 - ETA: 1:09 - loss: 0.3535 - dense_12_loss: 0.0735 - dense_13_loss: 0.117 - ETA: 1:08 - loss: 0.3534 - dense_12_loss: 0.0735 - dense_13_loss: 0.117 - ETA: 1:08 - loss: 0.3536 - dense_12_loss: 0.0735 - dense_13_loss: 0.117 - ETA: 1:08 - loss: 0.3538 - dense_12_loss: 0.0735 - dense_13_loss: 0.117 - ETA: 1:08 - loss: 0.3537 - dense_12_loss: 0.0735 - dense_13_loss: 0.117 - ETA: 1:07 - loss: 0.3536 - dense_12_loss: 0.0735 - dense_13_loss: 0.118 - ETA: 1:07 - loss: 0.3537 - dense_12_loss: 0.0735 - dense_13_loss: 0.118 - ETA: 1:07 - loss: 0.3538 - dense_12_loss: 0.0735 - dense_13_loss: 0.118 - ETA: 1:06 - loss: 0.3538 - dense_12_loss: 0.0735 - dense_13_loss: 0.118 - ETA: 1:06 - loss: 0.3542 - dense_12_loss: 0.0736 - dense_13_loss: 0.118 - ETA: 1:06 - loss: 0.3542 - dense_12_loss: 0.0736 - dense_13_loss: 0.118 - ETA: 1:06 - loss: 0.3541 - dense_12_loss: 0.0736 - dense_13_loss: 0.118 - ETA: 1:05 - loss: 0.3539 - dense_12_loss: 0.0736 - dense_13_loss: 0.118 - ETA: 1:05 - loss: 0.3540 - dense_12_loss: 0.0736 - dense_13_loss: 0.118 - ETA: 1:05 - loss: 0.3540 - dense_12_loss: 0.0736 - dense_13_loss: 0.118 - ETA: 1:04 - loss: 0.3540 - dense_12_loss: 0.0736 - dense_13_loss: 0.118 - ETA: 1:04 - loss: 0.3540 - dense_12_loss: 0.0736 - dense_13_loss: 0.118 - ETA: 1:04 - loss: 0.3538 - dense_12_loss: 0.0735 - dense_13_loss: 0.118 - ETA: 1:04 - loss: 0.3538 - dense_12_loss: 0.0735 - dense_13_loss: 0.118 - ETA: 1:03 - loss: 0.3539 - dense_12_loss: 0.0736 - dense_13_loss: 0.118 - ETA: 1:03 - loss: 0.3539 - dense_12_loss: 0.0736 - dense_13_loss: 0.1180"
     ]
    },
    {
     "name": "stdout",
     "output_type": "stream",
     "text": [
      "142336/171462 [=======================>......] - ETA: 1:03 - loss: 0.3539 - dense_12_loss: 0.0735 - dense_13_loss: 0.118 - ETA: 1:03 - loss: 0.3536 - dense_12_loss: 0.0735 - dense_13_loss: 0.118 - ETA: 1:02 - loss: 0.3536 - dense_12_loss: 0.0735 - dense_13_loss: 0.118 - ETA: 1:02 - loss: 0.3539 - dense_12_loss: 0.0735 - dense_13_loss: 0.118 - ETA: 1:02 - loss: 0.3537 - dense_12_loss: 0.0735 - dense_13_loss: 0.118 - ETA: 1:01 - loss: 0.3537 - dense_12_loss: 0.0735 - dense_13_loss: 0.118 - ETA: 1:01 - loss: 0.3539 - dense_12_loss: 0.0735 - dense_13_loss: 0.118 - ETA: 1:01 - loss: 0.3538 - dense_12_loss: 0.0735 - dense_13_loss: 0.118 - ETA: 1:01 - loss: 0.3537 - dense_12_loss: 0.0735 - dense_13_loss: 0.118 - ETA: 1:00 - loss: 0.3538 - dense_12_loss: 0.0735 - dense_13_loss: 0.118 - ETA: 1:00 - loss: 0.3537 - dense_12_loss: 0.0735 - dense_13_loss: 0.118 - ETA: 1:00 - loss: 0.3537 - dense_12_loss: 0.0735 - dense_13_loss: 0.118 - ETA: 59s - loss: 0.3534 - dense_12_loss: 0.0734 - dense_13_loss: 0.118 - ETA: 59s - loss: 0.3533 - dense_12_loss: 0.0734 - dense_13_loss: 0.11 - ETA: 59s - loss: 0.3535 - dense_12_loss: 0.0734 - dense_13_loss: 0.11 - ETA: 59s - loss: 0.3533 - dense_12_loss: 0.0734 - dense_13_loss: 0.11 - ETA: 58s - loss: 0.3531 - dense_12_loss: 0.0733 - dense_13_loss: 0.11 - ETA: 58s - loss: 0.3530 - dense_12_loss: 0.0733 - dense_13_loss: 0.11 - ETA: 58s - loss: 0.3531 - dense_12_loss: 0.0733 - dense_13_loss: 0.11 - ETA: 57s - loss: 0.3531 - dense_12_loss: 0.0733 - dense_13_loss: 0.11 - ETA: 57s - loss: 0.3531 - dense_12_loss: 0.0733 - dense_13_loss: 0.11 - ETA: 57s - loss: 0.3530 - dense_12_loss: 0.0733 - dense_13_loss: 0.11 - ETA: 57s - loss: 0.3530 - dense_12_loss: 0.0733 - dense_13_loss: 0.11 - ETA: 56s - loss: 0.3529 - dense_12_loss: 0.0733 - dense_13_loss: 0.11 - ETA: 56s - loss: 0.3529 - dense_12_loss: 0.0733 - dense_13_loss: 0.11 - ETA: 56s - loss: 0.3529 - dense_12_loss: 0.0733 - dense_13_loss: 0.11 - ETA: 56s - loss: 0.3528 - dense_12_loss: 0.0733 - dense_13_loss: 0.11 - ETA: 55s - loss: 0.3530 - dense_12_loss: 0.0733 - dense_13_loss: 0.11 - ETA: 55s - loss: 0.3528 - dense_12_loss: 0.0733 - dense_13_loss: 0.11 - ETA: 55s - loss: 0.3529 - dense_12_loss: 0.0733 - dense_13_loss: 0.11 - ETA: 54s - loss: 0.3529 - dense_12_loss: 0.0733 - dense_13_loss: 0.11 - ETA: 54s - loss: 0.3530 - dense_12_loss: 0.0733 - dense_13_loss: 0.11 - ETA: 54s - loss: 0.3529 - dense_12_loss: 0.0733 - dense_13_loss: 0.11 - ETA: 54s - loss: 0.3531 - dense_12_loss: 0.0733 - dense_13_loss: 0.11 - ETA: 53s - loss: 0.3530 - dense_12_loss: 0.0733 - dense_13_loss: 0.11 - ETA: 53s - loss: 0.3530 - dense_12_loss: 0.0733 - dense_13_loss: 0.11 - ETA: 53s - loss: 0.3531 - dense_12_loss: 0.0733 - dense_13_loss: 0.11 - ETA: 52s - loss: 0.3531 - dense_12_loss: 0.0733 - dense_13_loss: 0.11 - ETA: 52s - loss: 0.3531 - dense_12_loss: 0.0733 - dense_13_loss: 0.11 - ETA: 52s - loss: 0.3530 - dense_12_loss: 0.0733 - dense_13_loss: 0.11 - ETA: 52s - loss: 0.3529 - dense_12_loss: 0.0733 - dense_13_loss: 0.11 - ETA: 51s - loss: 0.3530 - dense_12_loss: 0.0733 - dense_13_loss: 0.11 - ETA: 51s - loss: 0.3532 - dense_12_loss: 0.0734 - dense_13_loss: 0.11 - ETA: 51s - loss: 0.3534 - dense_12_loss: 0.0734 - dense_13_loss: 0.11 - ETA: 50s - loss: 0.3533 - dense_12_loss: 0.0734 - dense_13_loss: 0.11 - ETA: 50s - loss: 0.3532 - dense_12_loss: 0.0734 - dense_13_loss: 0.11 - ETA: 50s - loss: 0.3531 - dense_12_loss: 0.0733 - dense_13_loss: 0.11 - ETA: 50s - loss: 0.3530 - dense_12_loss: 0.0733 - dense_13_loss: 0.11 - ETA: 49s - loss: 0.3530 - dense_12_loss: 0.0733 - dense_13_loss: 0.11 - ETA: 49s - loss: 0.3529 - dense_12_loss: 0.0733 - dense_13_loss: 0.11 - ETA: 49s - loss: 0.3529 - dense_12_loss: 0.0733 - dense_13_loss: 0.11 - ETA: 49s - loss: 0.3529 - dense_12_loss: 0.0733 - dense_13_loss: 0.11 - ETA: 48s - loss: 0.3529 - dense_12_loss: 0.0733 - dense_13_loss: 0.11 - ETA: 48s - loss: 0.3527 - dense_12_loss: 0.0732 - dense_13_loss: 0.11 - ETA: 48s - loss: 0.3527 - dense_12_loss: 0.0732 - dense_13_loss: 0.11 - ETA: 47s - loss: 0.3527 - dense_12_loss: 0.0732 - dense_13_loss: 0.11 - ETA: 47s - loss: 0.3525 - dense_12_loss: 0.0732 - dense_13_loss: 0.11 - ETA: 47s - loss: 0.3528 - dense_12_loss: 0.0732 - dense_13_loss: 0.11 - ETA: 47s - loss: 0.3527 - dense_12_loss: 0.0732 - dense_13_loss: 0.11 - ETA: 46s - loss: 0.3525 - dense_12_loss: 0.0732 - dense_13_loss: 0.11 - ETA: 46s - loss: 0.3524 - dense_12_loss: 0.0731 - dense_13_loss: 0.11 - ETA: 46s - loss: 0.3525 - dense_12_loss: 0.0732 - dense_13_loss: 0.11 - ETA: 45s - loss: 0.3525 - dense_12_loss: 0.0732 - dense_13_loss: 0.11 - ETA: 45s - loss: 0.3524 - dense_12_loss: 0.0732 - dense_13_loss: 0.11 - ETA: 45s - loss: 0.3523 - dense_12_loss: 0.0731 - dense_13_loss: 0.11 - ETA: 45s - loss: 0.3522 - dense_12_loss: 0.0731 - dense_13_loss: 0.11 - ETA: 44s - loss: 0.3523 - dense_12_loss: 0.0731 - dense_13_loss: 0.11 - ETA: 44s - loss: 0.3523 - dense_12_loss: 0.0731 - dense_13_loss: 0.11 - ETA: 44s - loss: 0.3525 - dense_12_loss: 0.0732 - dense_13_loss: 0.11 - ETA: 43s - loss: 0.3526 - dense_12_loss: 0.0732 - dense_13_loss: 0.11 - ETA: 43s - loss: 0.3526 - dense_12_loss: 0.0732 - dense_13_loss: 0.11 - ETA: 43s - loss: 0.3526 - dense_12_loss: 0.0732 - dense_13_loss: 0.11 - ETA: 43s - loss: 0.3525 - dense_12_loss: 0.0732 - dense_13_loss: 0.11 - ETA: 42s - loss: 0.3526 - dense_12_loss: 0.0732 - dense_13_loss: 0.11 - ETA: 42s - loss: 0.3526 - dense_12_loss: 0.0732 - dense_13_loss: 0.11 - ETA: 42s - loss: 0.3526 - dense_12_loss: 0.0732 - dense_13_loss: 0.11 - ETA: 41s - loss: 0.3526 - dense_12_loss: 0.0732 - dense_13_loss: 0.11 - ETA: 41s - loss: 0.3526 - dense_12_loss: 0.0732 - dense_13_loss: 0.11 - ETA: 41s - loss: 0.3526 - dense_12_loss: 0.0732 - dense_13_loss: 0.11 - ETA: 41s - loss: 0.3524 - dense_12_loss: 0.0732 - dense_13_loss: 0.11 - ETA: 40s - loss: 0.3524 - dense_12_loss: 0.0732 - dense_13_loss: 0.11 - ETA: 40s - loss: 0.3523 - dense_12_loss: 0.0731 - dense_13_loss: 0.11 - ETA: 40s - loss: 0.3524 - dense_12_loss: 0.0731 - dense_13_loss: 0.11 - ETA: 40s - loss: 0.3524 - dense_12_loss: 0.0731 - dense_13_loss: 0.11 - ETA: 39s - loss: 0.3524 - dense_12_loss: 0.0731 - dense_13_loss: 0.11 - ETA: 39s - loss: 0.3523 - dense_12_loss: 0.0731 - dense_13_loss: 0.11 - ETA: 39s - loss: 0.3524 - dense_12_loss: 0.0731 - dense_13_loss: 0.11 - ETA: 38s - loss: 0.3524 - dense_12_loss: 0.0731 - dense_13_loss: 0.11 - ETA: 38s - loss: 0.3525 - dense_12_loss: 0.0732 - dense_13_loss: 0.11 - ETA: 38s - loss: 0.3527 - dense_12_loss: 0.0732 - dense_13_loss: 0.11 - ETA: 38s - loss: 0.3527 - dense_12_loss: 0.0732 - dense_13_loss: 0.11 - ETA: 37s - loss: 0.3526 - dense_12_loss: 0.0732 - dense_13_loss: 0.11 - ETA: 37s - loss: 0.3529 - dense_12_loss: 0.0733 - dense_13_loss: 0.11 - ETA: 37s - loss: 0.3528 - dense_12_loss: 0.0733 - dense_13_loss: 0.11 - ETA: 36s - loss: 0.3529 - dense_12_loss: 0.0733 - dense_13_loss: 0.11 - ETA: 36s - loss: 0.3529 - dense_12_loss: 0.0733 - dense_13_loss: 0.11 - ETA: 36s - loss: 0.3530 - dense_12_loss: 0.0733 - dense_13_loss: 0.11 - ETA: 36s - loss: 0.3531 - dense_12_loss: 0.0733 - dense_13_loss: 0.11 - ETA: 35s - loss: 0.3530 - dense_12_loss: 0.0733 - dense_13_loss: 0.11 - ETA: 35s - loss: 0.3530 - dense_12_loss: 0.0733 - dense_13_loss: 0.11 - ETA: 35s - loss: 0.3531 - dense_12_loss: 0.0733 - dense_13_loss: 0.11 - ETA: 34s - loss: 0.3530 - dense_12_loss: 0.0733 - dense_13_loss: 0.11 - ETA: 34s - loss: 0.3531 - dense_12_loss: 0.0734 - dense_13_loss: 0.11 - ETA: 34s - loss: 0.3531 - dense_12_loss: 0.0734 - dense_13_loss: 0.11 - ETA: 34s - loss: 0.3531 - dense_12_loss: 0.0734 - dense_13_loss: 0.11 - ETA: 33s - loss: 0.3532 - dense_12_loss: 0.0734 - dense_13_loss: 0.11 - ETA: 33s - loss: 0.3530 - dense_12_loss: 0.0733 - dense_13_loss: 0.11 - ETA: 33s - loss: 0.3530 - dense_12_loss: 0.0733 - dense_13_loss: 0.11 - ETA: 33s - loss: 0.3530 - dense_12_loss: 0.0733 - dense_13_loss: 0.11 - ETA: 32s - loss: 0.3529 - dense_12_loss: 0.0733 - dense_13_loss: 0.11 - ETA: 32s - loss: 0.3527 - dense_12_loss: 0.0732 - dense_13_loss: 0.11 - ETA: 32s - loss: 0.3527 - dense_12_loss: 0.0732 - dense_13_loss: 0.11 - ETA: 31s - loss: 0.3526 - dense_12_loss: 0.0732 - dense_13_loss: 0.1179"
     ]
    },
    {
     "name": "stdout",
     "output_type": "stream",
     "text": [
      "171462/171462 [==============================] - ETA: 31s - loss: 0.3525 - dense_12_loss: 0.0732 - dense_13_loss: 0.11 - ETA: 31s - loss: 0.3525 - dense_12_loss: 0.0732 - dense_13_loss: 0.11 - ETA: 31s - loss: 0.3524 - dense_12_loss: 0.0731 - dense_13_loss: 0.11 - ETA: 30s - loss: 0.3523 - dense_12_loss: 0.0731 - dense_13_loss: 0.11 - ETA: 30s - loss: 0.3525 - dense_12_loss: 0.0732 - dense_13_loss: 0.11 - ETA: 30s - loss: 0.3524 - dense_12_loss: 0.0731 - dense_13_loss: 0.11 - ETA: 29s - loss: 0.3524 - dense_12_loss: 0.0731 - dense_13_loss: 0.11 - ETA: 29s - loss: 0.3525 - dense_12_loss: 0.0732 - dense_13_loss: 0.11 - ETA: 29s - loss: 0.3525 - dense_12_loss: 0.0732 - dense_13_loss: 0.11 - ETA: 29s - loss: 0.3525 - dense_12_loss: 0.0732 - dense_13_loss: 0.11 - ETA: 28s - loss: 0.3524 - dense_12_loss: 0.0731 - dense_13_loss: 0.11 - ETA: 28s - loss: 0.3523 - dense_12_loss: 0.0731 - dense_13_loss: 0.11 - ETA: 28s - loss: 0.3524 - dense_12_loss: 0.0732 - dense_13_loss: 0.11 - ETA: 27s - loss: 0.3523 - dense_12_loss: 0.0731 - dense_13_loss: 0.11 - ETA: 27s - loss: 0.3522 - dense_12_loss: 0.0731 - dense_13_loss: 0.11 - ETA: 27s - loss: 0.3522 - dense_12_loss: 0.0731 - dense_13_loss: 0.11 - ETA: 27s - loss: 0.3521 - dense_12_loss: 0.0731 - dense_13_loss: 0.11 - ETA: 26s - loss: 0.3522 - dense_12_loss: 0.0731 - dense_13_loss: 0.11 - ETA: 26s - loss: 0.3522 - dense_12_loss: 0.0731 - dense_13_loss: 0.11 - ETA: 26s - loss: 0.3522 - dense_12_loss: 0.0731 - dense_13_loss: 0.11 - ETA: 26s - loss: 0.3522 - dense_12_loss: 0.0731 - dense_13_loss: 0.11 - ETA: 25s - loss: 0.3522 - dense_12_loss: 0.0731 - dense_13_loss: 0.11 - ETA: 25s - loss: 0.3523 - dense_12_loss: 0.0731 - dense_13_loss: 0.11 - ETA: 25s - loss: 0.3522 - dense_12_loss: 0.0731 - dense_13_loss: 0.11 - ETA: 24s - loss: 0.3522 - dense_12_loss: 0.0731 - dense_13_loss: 0.11 - ETA: 24s - loss: 0.3522 - dense_12_loss: 0.0731 - dense_13_loss: 0.11 - ETA: 24s - loss: 0.3521 - dense_12_loss: 0.0731 - dense_13_loss: 0.11 - ETA: 24s - loss: 0.3520 - dense_12_loss: 0.0730 - dense_13_loss: 0.11 - ETA: 23s - loss: 0.3520 - dense_12_loss: 0.0730 - dense_13_loss: 0.11 - ETA: 23s - loss: 0.3519 - dense_12_loss: 0.0730 - dense_13_loss: 0.11 - ETA: 23s - loss: 0.3519 - dense_12_loss: 0.0730 - dense_13_loss: 0.11 - ETA: 22s - loss: 0.3520 - dense_12_loss: 0.0730 - dense_13_loss: 0.11 - ETA: 22s - loss: 0.3520 - dense_12_loss: 0.0730 - dense_13_loss: 0.11 - ETA: 22s - loss: 0.3519 - dense_12_loss: 0.0730 - dense_13_loss: 0.11 - ETA: 22s - loss: 0.3520 - dense_12_loss: 0.0730 - dense_13_loss: 0.11 - ETA: 21s - loss: 0.3519 - dense_12_loss: 0.0730 - dense_13_loss: 0.11 - ETA: 21s - loss: 0.3519 - dense_12_loss: 0.0730 - dense_13_loss: 0.11 - ETA: 21s - loss: 0.3521 - dense_12_loss: 0.0731 - dense_13_loss: 0.11 - ETA: 20s - loss: 0.3522 - dense_12_loss: 0.0731 - dense_13_loss: 0.11 - ETA: 20s - loss: 0.3521 - dense_12_loss: 0.0731 - dense_13_loss: 0.11 - ETA: 20s - loss: 0.3520 - dense_12_loss: 0.0731 - dense_13_loss: 0.11 - ETA: 20s - loss: 0.3519 - dense_12_loss: 0.0731 - dense_13_loss: 0.11 - ETA: 19s - loss: 0.3520 - dense_12_loss: 0.0731 - dense_13_loss: 0.11 - ETA: 19s - loss: 0.3521 - dense_12_loss: 0.0731 - dense_13_loss: 0.11 - ETA: 19s - loss: 0.3520 - dense_12_loss: 0.0731 - dense_13_loss: 0.11 - ETA: 19s - loss: 0.3522 - dense_12_loss: 0.0731 - dense_13_loss: 0.11 - ETA: 18s - loss: 0.3522 - dense_12_loss: 0.0731 - dense_13_loss: 0.11 - ETA: 18s - loss: 0.3521 - dense_12_loss: 0.0731 - dense_13_loss: 0.11 - ETA: 18s - loss: 0.3521 - dense_12_loss: 0.0731 - dense_13_loss: 0.11 - ETA: 17s - loss: 0.3522 - dense_12_loss: 0.0731 - dense_13_loss: 0.11 - ETA: 17s - loss: 0.3521 - dense_12_loss: 0.0731 - dense_13_loss: 0.11 - ETA: 17s - loss: 0.3522 - dense_12_loss: 0.0731 - dense_13_loss: 0.11 - ETA: 17s - loss: 0.3522 - dense_12_loss: 0.0731 - dense_13_loss: 0.11 - ETA: 16s - loss: 0.3521 - dense_12_loss: 0.0731 - dense_13_loss: 0.11 - ETA: 16s - loss: 0.3522 - dense_12_loss: 0.0731 - dense_13_loss: 0.11 - ETA: 16s - loss: 0.3522 - dense_12_loss: 0.0731 - dense_13_loss: 0.11 - ETA: 15s - loss: 0.3523 - dense_12_loss: 0.0731 - dense_13_loss: 0.11 - ETA: 15s - loss: 0.3522 - dense_12_loss: 0.0731 - dense_13_loss: 0.11 - ETA: 15s - loss: 0.3523 - dense_12_loss: 0.0731 - dense_13_loss: 0.11 - ETA: 15s - loss: 0.3522 - dense_12_loss: 0.0731 - dense_13_loss: 0.11 - ETA: 14s - loss: 0.3522 - dense_12_loss: 0.0731 - dense_13_loss: 0.11 - ETA: 14s - loss: 0.3522 - dense_12_loss: 0.0731 - dense_13_loss: 0.11 - ETA: 14s - loss: 0.3522 - dense_12_loss: 0.0731 - dense_13_loss: 0.11 - ETA: 13s - loss: 0.3523 - dense_12_loss: 0.0731 - dense_13_loss: 0.11 - ETA: 13s - loss: 0.3525 - dense_12_loss: 0.0732 - dense_13_loss: 0.11 - ETA: 13s - loss: 0.3524 - dense_12_loss: 0.0732 - dense_13_loss: 0.11 - ETA: 13s - loss: 0.3523 - dense_12_loss: 0.0731 - dense_13_loss: 0.11 - ETA: 12s - loss: 0.3523 - dense_12_loss: 0.0732 - dense_13_loss: 0.11 - ETA: 12s - loss: 0.3523 - dense_12_loss: 0.0732 - dense_13_loss: 0.11 - ETA: 12s - loss: 0.3524 - dense_12_loss: 0.0732 - dense_13_loss: 0.11 - ETA: 12s - loss: 0.3525 - dense_12_loss: 0.0732 - dense_13_loss: 0.11 - ETA: 11s - loss: 0.3524 - dense_12_loss: 0.0732 - dense_13_loss: 0.11 - ETA: 11s - loss: 0.3523 - dense_12_loss: 0.0732 - dense_13_loss: 0.11 - ETA: 11s - loss: 0.3524 - dense_12_loss: 0.0732 - dense_13_loss: 0.11 - ETA: 10s - loss: 0.3524 - dense_12_loss: 0.0732 - dense_13_loss: 0.11 - ETA: 10s - loss: 0.3523 - dense_12_loss: 0.0731 - dense_13_loss: 0.11 - ETA: 10s - loss: 0.3522 - dense_12_loss: 0.0731 - dense_13_loss: 0.11 - ETA: 10s - loss: 0.3521 - dense_12_loss: 0.0731 - dense_13_loss: 0.11 - ETA: 9s - loss: 0.3519 - dense_12_loss: 0.0730 - dense_13_loss: 0.1176 - ETA: 9s - loss: 0.3518 - dense_12_loss: 0.0730 - dense_13_loss: 0.117 - ETA: 9s - loss: 0.3519 - dense_12_loss: 0.0730 - dense_13_loss: 0.117 - ETA: 8s - loss: 0.3520 - dense_12_loss: 0.0731 - dense_13_loss: 0.117 - ETA: 8s - loss: 0.3520 - dense_12_loss: 0.0731 - dense_13_loss: 0.117 - ETA: 8s - loss: 0.3522 - dense_12_loss: 0.0731 - dense_13_loss: 0.117 - ETA: 8s - loss: 0.3522 - dense_12_loss: 0.0731 - dense_13_loss: 0.117 - ETA: 7s - loss: 0.3524 - dense_12_loss: 0.0732 - dense_13_loss: 0.117 - ETA: 7s - loss: 0.3524 - dense_12_loss: 0.0732 - dense_13_loss: 0.117 - ETA: 7s - loss: 0.3525 - dense_12_loss: 0.0732 - dense_13_loss: 0.117 - ETA: 6s - loss: 0.3525 - dense_12_loss: 0.0732 - dense_13_loss: 0.117 - ETA: 6s - loss: 0.3524 - dense_12_loss: 0.0732 - dense_13_loss: 0.117 - ETA: 6s - loss: 0.3524 - dense_12_loss: 0.0732 - dense_13_loss: 0.117 - ETA: 6s - loss: 0.3525 - dense_12_loss: 0.0732 - dense_13_loss: 0.117 - ETA: 5s - loss: 0.3524 - dense_12_loss: 0.0732 - dense_13_loss: 0.117 - ETA: 5s - loss: 0.3524 - dense_12_loss: 0.0732 - dense_13_loss: 0.117 - ETA: 5s - loss: 0.3525 - dense_12_loss: 0.0732 - dense_13_loss: 0.117 - ETA: 4s - loss: 0.3525 - dense_12_loss: 0.0732 - dense_13_loss: 0.117 - ETA: 4s - loss: 0.3524 - dense_12_loss: 0.0732 - dense_13_loss: 0.117 - ETA: 4s - loss: 0.3525 - dense_12_loss: 0.0732 - dense_13_loss: 0.117 - ETA: 4s - loss: 0.3526 - dense_12_loss: 0.0732 - dense_13_loss: 0.117 - ETA: 3s - loss: 0.3526 - dense_12_loss: 0.0732 - dense_13_loss: 0.117 - ETA: 3s - loss: 0.3526 - dense_12_loss: 0.0732 - dense_13_loss: 0.117 - ETA: 3s - loss: 0.3526 - dense_12_loss: 0.0732 - dense_13_loss: 0.117 - ETA: 3s - loss: 0.3526 - dense_12_loss: 0.0732 - dense_13_loss: 0.117 - ETA: 2s - loss: 0.3525 - dense_12_loss: 0.0732 - dense_13_loss: 0.117 - ETA: 2s - loss: 0.3525 - dense_12_loss: 0.0732 - dense_13_loss: 0.117 - ETA: 2s - loss: 0.3524 - dense_12_loss: 0.0732 - dense_13_loss: 0.117 - ETA: 1s - loss: 0.3522 - dense_12_loss: 0.0731 - dense_13_loss: 0.117 - ETA: 1s - loss: 0.3520 - dense_12_loss: 0.0731 - dense_13_loss: 0.117 - ETA: 1s - loss: 0.3520 - dense_12_loss: 0.0731 - dense_13_loss: 0.117 - ETA: 1s - loss: 0.3519 - dense_12_loss: 0.0730 - dense_13_loss: 0.117 - ETA: 0s - loss: 0.3517 - dense_12_loss: 0.0730 - dense_13_loss: 0.117 - ETA: 0s - loss: 0.3518 - dense_12_loss: 0.0730 - dense_13_loss: 0.117 - ETA: 0s - loss: 0.3519 - dense_12_loss: 0.0731 - dense_13_loss: 0.117 - 192s 1ms/step - loss: 0.3517 - dense_12_loss: 0.0730 - dense_13_loss: 0.1176 - val_loss: 0.3391 - val_dense_12_loss: 0.0692 - val_dense_13_loss: 0.1171\n"
     ]
    },
    {
     "name": "stdout",
     "output_type": "stream",
     "text": [
      "Train on 171462 samples, validate on 9025 samples\n",
      "Epoch 1/1\n"
     ]
    },
    {
     "name": "stdout",
     "output_type": "stream",
     "text": [
      " 28160/171462 [===>..........................] - ETA: 3:09 - loss: 0.3321 - dense_12_loss: 0.0698 - dense_13_loss: 0.108 - ETA: 3:02 - loss: 0.3324 - dense_12_loss: 0.0702 - dense_13_loss: 0.107 - ETA: 3:00 - loss: 0.3632 - dense_12_loss: 0.0769 - dense_13_loss: 0.116 - ETA: 2:59 - loss: 0.3879 - dense_12_loss: 0.0829 - dense_13_loss: 0.121 - ETA: 2:59 - loss: 0.3646 - dense_12_loss: 0.0768 - dense_13_loss: 0.118 - ETA: 2:58 - loss: 0.3705 - dense_12_loss: 0.0781 - dense_13_loss: 0.120 - ETA: 2:58 - loss: 0.3567 - dense_12_loss: 0.0742 - dense_13_loss: 0.118 - ETA: 2:58 - loss: 0.3617 - dense_12_loss: 0.0751 - dense_13_loss: 0.120 - ETA: 2:57 - loss: 0.3686 - dense_12_loss: 0.0770 - dense_13_loss: 0.121 - ETA: 2:58 - loss: 0.3681 - dense_12_loss: 0.0771 - dense_13_loss: 0.120 - ETA: 2:58 - loss: 0.3607 - dense_12_loss: 0.0751 - dense_13_loss: 0.119 - ETA: 2:58 - loss: 0.3600 - dense_12_loss: 0.0750 - dense_13_loss: 0.119 - ETA: 2:58 - loss: 0.3554 - dense_12_loss: 0.0738 - dense_13_loss: 0.118 - ETA: 2:58 - loss: 0.3483 - dense_12_loss: 0.0719 - dense_13_loss: 0.117 - ETA: 2:58 - loss: 0.3456 - dense_12_loss: 0.0712 - dense_13_loss: 0.117 - ETA: 2:58 - loss: 0.3453 - dense_12_loss: 0.0709 - dense_13_loss: 0.118 - ETA: 2:58 - loss: 0.3441 - dense_12_loss: 0.0706 - dense_13_loss: 0.117 - ETA: 2:58 - loss: 0.3430 - dense_12_loss: 0.0703 - dense_13_loss: 0.117 - ETA: 2:58 - loss: 0.3438 - dense_12_loss: 0.0705 - dense_13_loss: 0.117 - ETA: 2:58 - loss: 0.3412 - dense_12_loss: 0.0699 - dense_13_loss: 0.116 - ETA: 2:58 - loss: 0.3402 - dense_12_loss: 0.0695 - dense_13_loss: 0.117 - ETA: 2:58 - loss: 0.3378 - dense_12_loss: 0.0690 - dense_13_loss: 0.116 - ETA: 2:58 - loss: 0.3361 - dense_12_loss: 0.0687 - dense_13_loss: 0.115 - ETA: 2:59 - loss: 0.3416 - dense_12_loss: 0.0703 - dense_13_loss: 0.116 - ETA: 2:59 - loss: 0.3398 - dense_12_loss: 0.0697 - dense_13_loss: 0.116 - ETA: 2:59 - loss: 0.3355 - dense_12_loss: 0.0686 - dense_13_loss: 0.115 - ETA: 2:58 - loss: 0.3337 - dense_12_loss: 0.0680 - dense_13_loss: 0.115 - ETA: 2:58 - loss: 0.3328 - dense_12_loss: 0.0679 - dense_13_loss: 0.115 - ETA: 2:58 - loss: 0.3339 - dense_12_loss: 0.0682 - dense_13_loss: 0.115 - ETA: 2:58 - loss: 0.3353 - dense_12_loss: 0.0686 - dense_13_loss: 0.115 - ETA: 2:58 - loss: 0.3341 - dense_12_loss: 0.0683 - dense_13_loss: 0.115 - ETA: 2:57 - loss: 0.3353 - dense_12_loss: 0.0685 - dense_13_loss: 0.115 - ETA: 2:57 - loss: 0.3362 - dense_12_loss: 0.0688 - dense_13_loss: 0.115 - ETA: 2:57 - loss: 0.3337 - dense_12_loss: 0.0682 - dense_13_loss: 0.115 - ETA: 2:56 - loss: 0.3327 - dense_12_loss: 0.0679 - dense_13_loss: 0.115 - ETA: 2:56 - loss: 0.3341 - dense_12_loss: 0.0684 - dense_13_loss: 0.114 - ETA: 2:56 - loss: 0.3358 - dense_12_loss: 0.0688 - dense_13_loss: 0.115 - ETA: 2:55 - loss: 0.3386 - dense_12_loss: 0.0696 - dense_13_loss: 0.115 - ETA: 2:55 - loss: 0.3388 - dense_12_loss: 0.0696 - dense_13_loss: 0.115 - ETA: 2:55 - loss: 0.3383 - dense_12_loss: 0.0694 - dense_13_loss: 0.115 - ETA: 2:55 - loss: 0.3383 - dense_12_loss: 0.0693 - dense_13_loss: 0.115 - ETA: 2:54 - loss: 0.3383 - dense_12_loss: 0.0694 - dense_13_loss: 0.115 - ETA: 2:54 - loss: 0.3391 - dense_12_loss: 0.0695 - dense_13_loss: 0.116 - ETA: 2:54 - loss: 0.3391 - dense_12_loss: 0.0695 - dense_13_loss: 0.116 - ETA: 2:54 - loss: 0.3416 - dense_12_loss: 0.0702 - dense_13_loss: 0.116 - ETA: 2:54 - loss: 0.3417 - dense_12_loss: 0.0701 - dense_13_loss: 0.116 - ETA: 2:53 - loss: 0.3415 - dense_12_loss: 0.0700 - dense_13_loss: 0.116 - ETA: 2:53 - loss: 0.3403 - dense_12_loss: 0.0698 - dense_13_loss: 0.116 - ETA: 2:53 - loss: 0.3403 - dense_12_loss: 0.0697 - dense_13_loss: 0.116 - ETA: 2:53 - loss: 0.3393 - dense_12_loss: 0.0694 - dense_13_loss: 0.116 - ETA: 2:53 - loss: 0.3421 - dense_12_loss: 0.0702 - dense_13_loss: 0.116 - ETA: 2:52 - loss: 0.3440 - dense_12_loss: 0.0707 - dense_13_loss: 0.117 - ETA: 2:52 - loss: 0.3446 - dense_12_loss: 0.0709 - dense_13_loss: 0.117 - ETA: 2:52 - loss: 0.3466 - dense_12_loss: 0.0715 - dense_13_loss: 0.117 - ETA: 2:51 - loss: 0.3459 - dense_12_loss: 0.0713 - dense_13_loss: 0.117 - ETA: 2:51 - loss: 0.3453 - dense_12_loss: 0.0711 - dense_13_loss: 0.117 - ETA: 2:51 - loss: 0.3451 - dense_12_loss: 0.0710 - dense_13_loss: 0.117 - ETA: 2:51 - loss: 0.3461 - dense_12_loss: 0.0713 - dense_13_loss: 0.117 - ETA: 2:51 - loss: 0.3453 - dense_12_loss: 0.0711 - dense_13_loss: 0.117 - ETA: 2:51 - loss: 0.3447 - dense_12_loss: 0.0709 - dense_13_loss: 0.117 - ETA: 2:50 - loss: 0.3439 - dense_12_loss: 0.0706 - dense_13_loss: 0.117 - ETA: 2:50 - loss: 0.3436 - dense_12_loss: 0.0706 - dense_13_loss: 0.117 - ETA: 2:50 - loss: 0.3440 - dense_12_loss: 0.0707 - dense_13_loss: 0.117 - ETA: 2:49 - loss: 0.3434 - dense_12_loss: 0.0705 - dense_13_loss: 0.117 - ETA: 2:49 - loss: 0.3428 - dense_12_loss: 0.0703 - dense_13_loss: 0.117 - ETA: 2:49 - loss: 0.3448 - dense_12_loss: 0.0709 - dense_13_loss: 0.117 - ETA: 2:49 - loss: 0.3443 - dense_12_loss: 0.0708 - dense_13_loss: 0.117 - ETA: 2:48 - loss: 0.3451 - dense_12_loss: 0.0710 - dense_13_loss: 0.117 - ETA: 2:48 - loss: 0.3454 - dense_12_loss: 0.0711 - dense_13_loss: 0.117 - ETA: 2:48 - loss: 0.3493 - dense_12_loss: 0.0722 - dense_13_loss: 0.117 - ETA: 2:48 - loss: 0.3489 - dense_12_loss: 0.0721 - dense_13_loss: 0.117 - ETA: 2:47 - loss: 0.3496 - dense_12_loss: 0.0723 - dense_13_loss: 0.117 - ETA: 2:47 - loss: 0.3491 - dense_12_loss: 0.0722 - dense_13_loss: 0.117 - ETA: 2:47 - loss: 0.3489 - dense_12_loss: 0.0721 - dense_13_loss: 0.117 - ETA: 2:47 - loss: 0.3487 - dense_12_loss: 0.0720 - dense_13_loss: 0.117 - ETA: 2:47 - loss: 0.3492 - dense_12_loss: 0.0722 - dense_13_loss: 0.117 - ETA: 2:46 - loss: 0.3483 - dense_12_loss: 0.0719 - dense_13_loss: 0.117 - ETA: 2:46 - loss: 0.3465 - dense_12_loss: 0.0715 - dense_13_loss: 0.117 - ETA: 2:46 - loss: 0.3475 - dense_12_loss: 0.0718 - dense_13_loss: 0.117 - ETA: 2:45 - loss: 0.3471 - dense_12_loss: 0.0717 - dense_13_loss: 0.117 - ETA: 2:45 - loss: 0.3466 - dense_12_loss: 0.0716 - dense_13_loss: 0.116 - ETA: 2:45 - loss: 0.3460 - dense_12_loss: 0.0714 - dense_13_loss: 0.116 - ETA: 2:45 - loss: 0.3454 - dense_12_loss: 0.0712 - dense_13_loss: 0.117 - ETA: 2:44 - loss: 0.3451 - dense_12_loss: 0.0711 - dense_13_loss: 0.117 - ETA: 2:44 - loss: 0.3459 - dense_12_loss: 0.0713 - dense_13_loss: 0.117 - ETA: 2:44 - loss: 0.3464 - dense_12_loss: 0.0714 - dense_13_loss: 0.117 - ETA: 2:44 - loss: 0.3464 - dense_12_loss: 0.0715 - dense_13_loss: 0.117 - ETA: 2:43 - loss: 0.3464 - dense_12_loss: 0.0715 - dense_13_loss: 0.117 - ETA: 2:43 - loss: 0.3460 - dense_12_loss: 0.0713 - dense_13_loss: 0.117 - ETA: 2:43 - loss: 0.3460 - dense_12_loss: 0.0714 - dense_13_loss: 0.117 - ETA: 2:42 - loss: 0.3447 - dense_12_loss: 0.0710 - dense_13_loss: 0.116 - ETA: 2:42 - loss: 0.3444 - dense_12_loss: 0.0710 - dense_13_loss: 0.116 - ETA: 2:42 - loss: 0.3444 - dense_12_loss: 0.0709 - dense_13_loss: 0.116 - ETA: 2:42 - loss: 0.3438 - dense_12_loss: 0.0708 - dense_13_loss: 0.116 - ETA: 2:42 - loss: 0.3438 - dense_12_loss: 0.0708 - dense_13_loss: 0.116 - ETA: 2:41 - loss: 0.3437 - dense_12_loss: 0.0707 - dense_13_loss: 0.116 - ETA: 2:41 - loss: 0.3438 - dense_12_loss: 0.0707 - dense_13_loss: 0.117 - ETA: 2:41 - loss: 0.3438 - dense_12_loss: 0.0708 - dense_13_loss: 0.116 - ETA: 2:41 - loss: 0.3431 - dense_12_loss: 0.0705 - dense_13_loss: 0.116 - ETA: 2:40 - loss: 0.3446 - dense_12_loss: 0.0710 - dense_13_loss: 0.117 - ETA: 2:40 - loss: 0.3443 - dense_12_loss: 0.0709 - dense_13_loss: 0.117 - ETA: 2:40 - loss: 0.3440 - dense_12_loss: 0.0708 - dense_13_loss: 0.117 - ETA: 2:39 - loss: 0.3433 - dense_12_loss: 0.0706 - dense_13_loss: 0.116 - ETA: 2:39 - loss: 0.3427 - dense_12_loss: 0.0705 - dense_13_loss: 0.116 - ETA: 2:39 - loss: 0.3422 - dense_12_loss: 0.0703 - dense_13_loss: 0.116 - ETA: 2:39 - loss: 0.3420 - dense_12_loss: 0.0703 - dense_13_loss: 0.116 - ETA: 2:38 - loss: 0.3414 - dense_12_loss: 0.0701 - dense_13_loss: 0.116 - ETA: 2:38 - loss: 0.3414 - dense_12_loss: 0.0701 - dense_13_loss: 0.116 - ETA: 2:38 - loss: 0.3407 - dense_12_loss: 0.0700 - dense_13_loss: 0.116 - ETA: 2:38 - loss: 0.3408 - dense_12_loss: 0.0700 - dense_13_loss: 0.1164\b\b\b\b\b\b\b\b\b\b\b\b\b\b\b\b\b\b\b\b\b\b\b\b\b\b\b\b\b\b\b\b\b\b\b\b\b\b\b\b\b\b\b\b\b\b\b\b\b\b\b\b\b\b\b\b\b\b\b\b\b\b\b\b\b\b\b\b\b\b\b\b\b\b\b\b\b\b\b\b\b\b\b\b\b\b\b\b\b\b\b\b\b\b\b\b\b\b\b\b\b\b\b\b\b\b\b\b\b\b\b\b\b\b\b\b\b\b\b\b\b"
     ]
    },
    {
     "name": "stdout",
     "output_type": "stream",
     "text": [
      " 56576/171462 [========>.....................] - ETA: 2:37 - loss: 0.3400 - dense_12_loss: 0.0698 - dense_13_loss: 0.116 - ETA: 2:37 - loss: 0.3405 - dense_12_loss: 0.0699 - dense_13_loss: 0.116 - ETA: 2:37 - loss: 0.3400 - dense_12_loss: 0.0698 - dense_13_loss: 0.116 - ETA: 2:37 - loss: 0.3399 - dense_12_loss: 0.0697 - dense_13_loss: 0.116 - ETA: 2:36 - loss: 0.3394 - dense_12_loss: 0.0696 - dense_13_loss: 0.116 - ETA: 2:36 - loss: 0.3395 - dense_12_loss: 0.0696 - dense_13_loss: 0.116 - ETA: 2:36 - loss: 0.3390 - dense_12_loss: 0.0695 - dense_13_loss: 0.116 - ETA: 2:36 - loss: 0.3399 - dense_12_loss: 0.0697 - dense_13_loss: 0.116 - ETA: 2:35 - loss: 0.3402 - dense_12_loss: 0.0698 - dense_13_loss: 0.116 - ETA: 2:35 - loss: 0.3400 - dense_12_loss: 0.0697 - dense_13_loss: 0.116 - ETA: 2:35 - loss: 0.3399 - dense_12_loss: 0.0697 - dense_13_loss: 0.116 - ETA: 2:35 - loss: 0.3407 - dense_12_loss: 0.0699 - dense_13_loss: 0.116 - ETA: 2:34 - loss: 0.3409 - dense_12_loss: 0.0700 - dense_13_loss: 0.116 - ETA: 2:34 - loss: 0.3406 - dense_12_loss: 0.0699 - dense_13_loss: 0.116 - ETA: 2:34 - loss: 0.3405 - dense_12_loss: 0.0699 - dense_13_loss: 0.116 - ETA: 2:33 - loss: 0.3401 - dense_12_loss: 0.0698 - dense_13_loss: 0.116 - ETA: 2:33 - loss: 0.3401 - dense_12_loss: 0.0698 - dense_13_loss: 0.116 - ETA: 2:33 - loss: 0.3405 - dense_12_loss: 0.0699 - dense_13_loss: 0.116 - ETA: 2:33 - loss: 0.3408 - dense_12_loss: 0.0700 - dense_13_loss: 0.116 - ETA: 2:32 - loss: 0.3412 - dense_12_loss: 0.0701 - dense_13_loss: 0.116 - ETA: 2:32 - loss: 0.3405 - dense_12_loss: 0.0699 - dense_13_loss: 0.116 - ETA: 2:32 - loss: 0.3400 - dense_12_loss: 0.0698 - dense_13_loss: 0.116 - ETA: 2:31 - loss: 0.3402 - dense_12_loss: 0.0698 - dense_13_loss: 0.116 - ETA: 2:31 - loss: 0.3403 - dense_12_loss: 0.0699 - dense_13_loss: 0.116 - ETA: 2:31 - loss: 0.3401 - dense_12_loss: 0.0698 - dense_13_loss: 0.116 - ETA: 2:31 - loss: 0.3408 - dense_12_loss: 0.0700 - dense_13_loss: 0.116 - ETA: 2:30 - loss: 0.3412 - dense_12_loss: 0.0701 - dense_13_loss: 0.116 - ETA: 2:30 - loss: 0.3425 - dense_12_loss: 0.0704 - dense_13_loss: 0.116 - ETA: 2:30 - loss: 0.3428 - dense_12_loss: 0.0705 - dense_13_loss: 0.116 - ETA: 2:29 - loss: 0.3426 - dense_12_loss: 0.0705 - dense_13_loss: 0.116 - ETA: 2:29 - loss: 0.3425 - dense_12_loss: 0.0705 - dense_13_loss: 0.116 - ETA: 2:29 - loss: 0.3423 - dense_12_loss: 0.0705 - dense_13_loss: 0.116 - ETA: 2:29 - loss: 0.3422 - dense_12_loss: 0.0704 - dense_13_loss: 0.116 - ETA: 2:28 - loss: 0.3418 - dense_12_loss: 0.0703 - dense_13_loss: 0.116 - ETA: 2:28 - loss: 0.3423 - dense_12_loss: 0.0704 - dense_13_loss: 0.116 - ETA: 2:28 - loss: 0.3420 - dense_12_loss: 0.0703 - dense_13_loss: 0.116 - ETA: 2:27 - loss: 0.3426 - dense_12_loss: 0.0705 - dense_13_loss: 0.116 - ETA: 2:27 - loss: 0.3428 - dense_12_loss: 0.0706 - dense_13_loss: 0.116 - ETA: 2:27 - loss: 0.3427 - dense_12_loss: 0.0705 - dense_13_loss: 0.116 - ETA: 2:27 - loss: 0.3424 - dense_12_loss: 0.0704 - dense_13_loss: 0.116 - ETA: 2:26 - loss: 0.3419 - dense_12_loss: 0.0703 - dense_13_loss: 0.116 - ETA: 2:26 - loss: 0.3421 - dense_12_loss: 0.0704 - dense_13_loss: 0.116 - ETA: 2:26 - loss: 0.3423 - dense_12_loss: 0.0704 - dense_13_loss: 0.116 - ETA: 2:26 - loss: 0.3422 - dense_12_loss: 0.0704 - dense_13_loss: 0.116 - ETA: 2:25 - loss: 0.3423 - dense_12_loss: 0.0704 - dense_13_loss: 0.116 - ETA: 2:25 - loss: 0.3421 - dense_12_loss: 0.0703 - dense_13_loss: 0.116 - ETA: 2:25 - loss: 0.3428 - dense_12_loss: 0.0705 - dense_13_loss: 0.116 - ETA: 2:24 - loss: 0.3431 - dense_12_loss: 0.0706 - dense_13_loss: 0.116 - ETA: 2:24 - loss: 0.3433 - dense_12_loss: 0.0707 - dense_13_loss: 0.116 - ETA: 2:24 - loss: 0.3429 - dense_12_loss: 0.0706 - dense_13_loss: 0.116 - ETA: 2:24 - loss: 0.3429 - dense_12_loss: 0.0706 - dense_13_loss: 0.116 - ETA: 2:23 - loss: 0.3431 - dense_12_loss: 0.0706 - dense_13_loss: 0.116 - ETA: 2:23 - loss: 0.3428 - dense_12_loss: 0.0705 - dense_13_loss: 0.116 - ETA: 2:23 - loss: 0.3420 - dense_12_loss: 0.0703 - dense_13_loss: 0.116 - ETA: 2:22 - loss: 0.3421 - dense_12_loss: 0.0703 - dense_13_loss: 0.116 - ETA: 2:22 - loss: 0.3424 - dense_12_loss: 0.0704 - dense_13_loss: 0.116 - ETA: 2:22 - loss: 0.3421 - dense_12_loss: 0.0703 - dense_13_loss: 0.116 - ETA: 2:22 - loss: 0.3419 - dense_12_loss: 0.0703 - dense_13_loss: 0.116 - ETA: 2:21 - loss: 0.3416 - dense_12_loss: 0.0702 - dense_13_loss: 0.116 - ETA: 2:21 - loss: 0.3413 - dense_12_loss: 0.0701 - dense_13_loss: 0.116 - ETA: 2:21 - loss: 0.3416 - dense_12_loss: 0.0702 - dense_13_loss: 0.116 - ETA: 2:20 - loss: 0.3416 - dense_12_loss: 0.0702 - dense_13_loss: 0.116 - ETA: 2:20 - loss: 0.3415 - dense_12_loss: 0.0701 - dense_13_loss: 0.116 - ETA: 2:20 - loss: 0.3419 - dense_12_loss: 0.0702 - dense_13_loss: 0.116 - ETA: 2:20 - loss: 0.3424 - dense_12_loss: 0.0704 - dense_13_loss: 0.116 - ETA: 2:19 - loss: 0.3431 - dense_12_loss: 0.0706 - dense_13_loss: 0.116 - ETA: 2:19 - loss: 0.3432 - dense_12_loss: 0.0706 - dense_13_loss: 0.116 - ETA: 2:19 - loss: 0.3431 - dense_12_loss: 0.0705 - dense_13_loss: 0.116 - ETA: 2:18 - loss: 0.3432 - dense_12_loss: 0.0706 - dense_13_loss: 0.116 - ETA: 2:18 - loss: 0.3434 - dense_12_loss: 0.0706 - dense_13_loss: 0.116 - ETA: 2:18 - loss: 0.3432 - dense_12_loss: 0.0706 - dense_13_loss: 0.116 - ETA: 2:18 - loss: 0.3432 - dense_12_loss: 0.0706 - dense_13_loss: 0.116 - ETA: 2:17 - loss: 0.3431 - dense_12_loss: 0.0706 - dense_13_loss: 0.116 - ETA: 2:17 - loss: 0.3428 - dense_12_loss: 0.0705 - dense_13_loss: 0.116 - ETA: 2:17 - loss: 0.3425 - dense_12_loss: 0.0705 - dense_13_loss: 0.116 - ETA: 2:16 - loss: 0.3426 - dense_12_loss: 0.0705 - dense_13_loss: 0.116 - ETA: 2:16 - loss: 0.3422 - dense_12_loss: 0.0703 - dense_13_loss: 0.116 - ETA: 2:16 - loss: 0.3423 - dense_12_loss: 0.0704 - dense_13_loss: 0.116 - ETA: 2:16 - loss: 0.3425 - dense_12_loss: 0.0705 - dense_13_loss: 0.116 - ETA: 2:15 - loss: 0.3425 - dense_12_loss: 0.0705 - dense_13_loss: 0.116 - ETA: 2:15 - loss: 0.3428 - dense_12_loss: 0.0705 - dense_13_loss: 0.116 - ETA: 2:15 - loss: 0.3430 - dense_12_loss: 0.0706 - dense_13_loss: 0.116 - ETA: 2:15 - loss: 0.3425 - dense_12_loss: 0.0705 - dense_13_loss: 0.116 - ETA: 2:14 - loss: 0.3425 - dense_12_loss: 0.0705 - dense_13_loss: 0.116 - ETA: 2:14 - loss: 0.3425 - dense_12_loss: 0.0705 - dense_13_loss: 0.116 - ETA: 2:14 - loss: 0.3424 - dense_12_loss: 0.0705 - dense_13_loss: 0.116 - ETA: 2:13 - loss: 0.3418 - dense_12_loss: 0.0703 - dense_13_loss: 0.116 - ETA: 2:13 - loss: 0.3416 - dense_12_loss: 0.0703 - dense_13_loss: 0.116 - ETA: 2:13 - loss: 0.3422 - dense_12_loss: 0.0704 - dense_13_loss: 0.116 - ETA: 2:13 - loss: 0.3425 - dense_12_loss: 0.0705 - dense_13_loss: 0.116 - ETA: 2:12 - loss: 0.3427 - dense_12_loss: 0.0705 - dense_13_loss: 0.116 - ETA: 2:12 - loss: 0.3427 - dense_12_loss: 0.0705 - dense_13_loss: 0.116 - ETA: 2:12 - loss: 0.3424 - dense_12_loss: 0.0705 - dense_13_loss: 0.116 - ETA: 2:11 - loss: 0.3422 - dense_12_loss: 0.0705 - dense_13_loss: 0.116 - ETA: 2:11 - loss: 0.3422 - dense_12_loss: 0.0704 - dense_13_loss: 0.116 - ETA: 2:11 - loss: 0.3425 - dense_12_loss: 0.0705 - dense_13_loss: 0.116 - ETA: 2:11 - loss: 0.3422 - dense_12_loss: 0.0705 - dense_13_loss: 0.116 - ETA: 2:10 - loss: 0.3425 - dense_12_loss: 0.0706 - dense_13_loss: 0.116 - ETA: 2:10 - loss: 0.3424 - dense_12_loss: 0.0705 - dense_13_loss: 0.116 - ETA: 2:10 - loss: 0.3420 - dense_12_loss: 0.0704 - dense_13_loss: 0.116 - ETA: 2:09 - loss: 0.3416 - dense_12_loss: 0.0703 - dense_13_loss: 0.116 - ETA: 2:09 - loss: 0.3416 - dense_12_loss: 0.0703 - dense_13_loss: 0.116 - ETA: 2:09 - loss: 0.3417 - dense_12_loss: 0.0703 - dense_13_loss: 0.116 - ETA: 2:09 - loss: 0.3418 - dense_12_loss: 0.0703 - dense_13_loss: 0.116 - ETA: 2:08 - loss: 0.3415 - dense_12_loss: 0.0703 - dense_13_loss: 0.116 - ETA: 2:08 - loss: 0.3417 - dense_12_loss: 0.0703 - dense_13_loss: 0.116 - ETA: 2:08 - loss: 0.3413 - dense_12_loss: 0.0702 - dense_13_loss: 0.116 - ETA: 2:08 - loss: 0.3416 - dense_12_loss: 0.0703 - dense_13_loss: 0.116 - ETA: 2:07 - loss: 0.3414 - dense_12_loss: 0.0702 - dense_13_loss: 0.116 - ETA: 2:07 - loss: 0.3412 - dense_12_loss: 0.0702 - dense_13_loss: 0.116 - ETA: 2:07 - loss: 0.3412 - dense_12_loss: 0.0702 - dense_13_loss: 0.1162"
     ]
    },
    {
     "name": "stdout",
     "output_type": "stream",
     "text": [
      " 84992/171462 [=============>................] - ETA: 2:06 - loss: 0.3414 - dense_12_loss: 0.0702 - dense_13_loss: 0.116 - ETA: 2:06 - loss: 0.3412 - dense_12_loss: 0.0702 - dense_13_loss: 0.116 - ETA: 2:06 - loss: 0.3410 - dense_12_loss: 0.0701 - dense_13_loss: 0.116 - ETA: 2:06 - loss: 0.3414 - dense_12_loss: 0.0702 - dense_13_loss: 0.116 - ETA: 2:05 - loss: 0.3415 - dense_12_loss: 0.0703 - dense_13_loss: 0.116 - ETA: 2:05 - loss: 0.3412 - dense_12_loss: 0.0702 - dense_13_loss: 0.116 - ETA: 2:05 - loss: 0.3413 - dense_12_loss: 0.0702 - dense_13_loss: 0.116 - ETA: 2:04 - loss: 0.3415 - dense_12_loss: 0.0703 - dense_13_loss: 0.116 - ETA: 2:04 - loss: 0.3419 - dense_12_loss: 0.0704 - dense_13_loss: 0.116 - ETA: 2:04 - loss: 0.3419 - dense_12_loss: 0.0704 - dense_13_loss: 0.116 - ETA: 2:04 - loss: 0.3418 - dense_12_loss: 0.0704 - dense_13_loss: 0.116 - ETA: 2:03 - loss: 0.3417 - dense_12_loss: 0.0703 - dense_13_loss: 0.116 - ETA: 2:03 - loss: 0.3419 - dense_12_loss: 0.0704 - dense_13_loss: 0.116 - ETA: 2:03 - loss: 0.3417 - dense_12_loss: 0.0703 - dense_13_loss: 0.116 - ETA: 2:02 - loss: 0.3419 - dense_12_loss: 0.0704 - dense_13_loss: 0.116 - ETA: 2:02 - loss: 0.3420 - dense_12_loss: 0.0704 - dense_13_loss: 0.116 - ETA: 2:02 - loss: 0.3426 - dense_12_loss: 0.0706 - dense_13_loss: 0.116 - ETA: 2:02 - loss: 0.3426 - dense_12_loss: 0.0706 - dense_13_loss: 0.116 - ETA: 2:01 - loss: 0.3427 - dense_12_loss: 0.0706 - dense_13_loss: 0.116 - ETA: 2:01 - loss: 0.3428 - dense_12_loss: 0.0707 - dense_13_loss: 0.116 - ETA: 2:01 - loss: 0.3429 - dense_12_loss: 0.0707 - dense_13_loss: 0.116 - ETA: 2:00 - loss: 0.3427 - dense_12_loss: 0.0706 - dense_13_loss: 0.116 - ETA: 2:00 - loss: 0.3427 - dense_12_loss: 0.0706 - dense_13_loss: 0.116 - ETA: 2:00 - loss: 0.3425 - dense_12_loss: 0.0706 - dense_13_loss: 0.116 - ETA: 2:00 - loss: 0.3426 - dense_12_loss: 0.0706 - dense_13_loss: 0.116 - ETA: 1:59 - loss: 0.3428 - dense_12_loss: 0.0707 - dense_13_loss: 0.116 - ETA: 1:59 - loss: 0.3425 - dense_12_loss: 0.0706 - dense_13_loss: 0.116 - ETA: 1:59 - loss: 0.3425 - dense_12_loss: 0.0705 - dense_13_loss: 0.116 - ETA: 1:58 - loss: 0.3425 - dense_12_loss: 0.0705 - dense_13_loss: 0.116 - ETA: 1:58 - loss: 0.3421 - dense_12_loss: 0.0705 - dense_13_loss: 0.116 - ETA: 1:58 - loss: 0.3420 - dense_12_loss: 0.0704 - dense_13_loss: 0.116 - ETA: 1:58 - loss: 0.3419 - dense_12_loss: 0.0704 - dense_13_loss: 0.116 - ETA: 1:57 - loss: 0.3418 - dense_12_loss: 0.0704 - dense_13_loss: 0.116 - ETA: 1:57 - loss: 0.3421 - dense_12_loss: 0.0704 - dense_13_loss: 0.116 - ETA: 1:57 - loss: 0.3423 - dense_12_loss: 0.0705 - dense_13_loss: 0.116 - ETA: 1:56 - loss: 0.3424 - dense_12_loss: 0.0705 - dense_13_loss: 0.116 - ETA: 1:56 - loss: 0.3422 - dense_12_loss: 0.0705 - dense_13_loss: 0.116 - ETA: 1:56 - loss: 0.3419 - dense_12_loss: 0.0704 - dense_13_loss: 0.116 - ETA: 1:56 - loss: 0.3418 - dense_12_loss: 0.0704 - dense_13_loss: 0.116 - ETA: 1:55 - loss: 0.3418 - dense_12_loss: 0.0704 - dense_13_loss: 0.116 - ETA: 1:55 - loss: 0.3418 - dense_12_loss: 0.0704 - dense_13_loss: 0.116 - ETA: 1:55 - loss: 0.3417 - dense_12_loss: 0.0703 - dense_13_loss: 0.116 - ETA: 1:54 - loss: 0.3418 - dense_12_loss: 0.0704 - dense_13_loss: 0.116 - ETA: 1:54 - loss: 0.3418 - dense_12_loss: 0.0704 - dense_13_loss: 0.116 - ETA: 1:54 - loss: 0.3421 - dense_12_loss: 0.0704 - dense_13_loss: 0.116 - ETA: 1:54 - loss: 0.3420 - dense_12_loss: 0.0704 - dense_13_loss: 0.116 - ETA: 1:53 - loss: 0.3418 - dense_12_loss: 0.0704 - dense_13_loss: 0.116 - ETA: 1:53 - loss: 0.3415 - dense_12_loss: 0.0703 - dense_13_loss: 0.116 - ETA: 1:53 - loss: 0.3412 - dense_12_loss: 0.0702 - dense_13_loss: 0.116 - ETA: 1:52 - loss: 0.3409 - dense_12_loss: 0.0701 - dense_13_loss: 0.116 - ETA: 1:52 - loss: 0.3408 - dense_12_loss: 0.0701 - dense_13_loss: 0.116 - ETA: 1:52 - loss: 0.3408 - dense_12_loss: 0.0701 - dense_13_loss: 0.116 - ETA: 1:52 - loss: 0.3408 - dense_12_loss: 0.0701 - dense_13_loss: 0.116 - ETA: 1:51 - loss: 0.3406 - dense_12_loss: 0.0701 - dense_13_loss: 0.116 - ETA: 1:51 - loss: 0.3409 - dense_12_loss: 0.0701 - dense_13_loss: 0.116 - ETA: 1:51 - loss: 0.3411 - dense_12_loss: 0.0702 - dense_13_loss: 0.116 - ETA: 1:51 - loss: 0.3411 - dense_12_loss: 0.0702 - dense_13_loss: 0.116 - ETA: 1:50 - loss: 0.3408 - dense_12_loss: 0.0701 - dense_13_loss: 0.116 - ETA: 1:50 - loss: 0.3409 - dense_12_loss: 0.0701 - dense_13_loss: 0.116 - ETA: 1:50 - loss: 0.3409 - dense_12_loss: 0.0701 - dense_13_loss: 0.116 - ETA: 1:49 - loss: 0.3410 - dense_12_loss: 0.0701 - dense_13_loss: 0.116 - ETA: 1:49 - loss: 0.3408 - dense_12_loss: 0.0701 - dense_13_loss: 0.116 - ETA: 1:49 - loss: 0.3408 - dense_12_loss: 0.0701 - dense_13_loss: 0.116 - ETA: 1:49 - loss: 0.3408 - dense_12_loss: 0.0701 - dense_13_loss: 0.116 - ETA: 1:48 - loss: 0.3410 - dense_12_loss: 0.0701 - dense_13_loss: 0.116 - ETA: 1:48 - loss: 0.3411 - dense_12_loss: 0.0702 - dense_13_loss: 0.116 - ETA: 1:48 - loss: 0.3412 - dense_12_loss: 0.0702 - dense_13_loss: 0.116 - ETA: 1:47 - loss: 0.3411 - dense_12_loss: 0.0702 - dense_13_loss: 0.116 - ETA: 1:47 - loss: 0.3414 - dense_12_loss: 0.0702 - dense_13_loss: 0.116 - ETA: 1:47 - loss: 0.3412 - dense_12_loss: 0.0702 - dense_13_loss: 0.116 - ETA: 1:47 - loss: 0.3411 - dense_12_loss: 0.0702 - dense_13_loss: 0.116 - ETA: 1:46 - loss: 0.3414 - dense_12_loss: 0.0702 - dense_13_loss: 0.116 - ETA: 1:46 - loss: 0.3411 - dense_12_loss: 0.0702 - dense_13_loss: 0.116 - ETA: 1:46 - loss: 0.3411 - dense_12_loss: 0.0702 - dense_13_loss: 0.116 - ETA: 1:45 - loss: 0.3412 - dense_12_loss: 0.0702 - dense_13_loss: 0.116 - ETA: 1:45 - loss: 0.3416 - dense_12_loss: 0.0703 - dense_13_loss: 0.116 - ETA: 1:45 - loss: 0.3412 - dense_12_loss: 0.0702 - dense_13_loss: 0.116 - ETA: 1:45 - loss: 0.3414 - dense_12_loss: 0.0703 - dense_13_loss: 0.116 - ETA: 1:44 - loss: 0.3414 - dense_12_loss: 0.0703 - dense_13_loss: 0.116 - ETA: 1:44 - loss: 0.3414 - dense_12_loss: 0.0703 - dense_13_loss: 0.116 - ETA: 1:44 - loss: 0.3414 - dense_12_loss: 0.0703 - dense_13_loss: 0.116 - ETA: 1:43 - loss: 0.3415 - dense_12_loss: 0.0703 - dense_13_loss: 0.116 - ETA: 1:43 - loss: 0.3416 - dense_12_loss: 0.0703 - dense_13_loss: 0.116 - ETA: 1:43 - loss: 0.3417 - dense_12_loss: 0.0703 - dense_13_loss: 0.116 - ETA: 1:43 - loss: 0.3416 - dense_12_loss: 0.0703 - dense_13_loss: 0.116 - ETA: 1:42 - loss: 0.3416 - dense_12_loss: 0.0703 - dense_13_loss: 0.116 - ETA: 1:42 - loss: 0.3418 - dense_12_loss: 0.0703 - dense_13_loss: 0.116 - ETA: 1:42 - loss: 0.3416 - dense_12_loss: 0.0703 - dense_13_loss: 0.116 - ETA: 1:41 - loss: 0.3414 - dense_12_loss: 0.0702 - dense_13_loss: 0.116 - ETA: 1:41 - loss: 0.3412 - dense_12_loss: 0.0702 - dense_13_loss: 0.116 - ETA: 1:41 - loss: 0.3412 - dense_12_loss: 0.0702 - dense_13_loss: 0.116 - ETA: 1:41 - loss: 0.3409 - dense_12_loss: 0.0701 - dense_13_loss: 0.116 - ETA: 1:40 - loss: 0.3409 - dense_12_loss: 0.0701 - dense_13_loss: 0.116 - ETA: 1:40 - loss: 0.3411 - dense_12_loss: 0.0702 - dense_13_loss: 0.116 - ETA: 1:40 - loss: 0.3411 - dense_12_loss: 0.0702 - dense_13_loss: 0.116 - ETA: 1:39 - loss: 0.3412 - dense_12_loss: 0.0702 - dense_13_loss: 0.116 - ETA: 1:39 - loss: 0.3412 - dense_12_loss: 0.0702 - dense_13_loss: 0.116 - ETA: 1:39 - loss: 0.3411 - dense_12_loss: 0.0701 - dense_13_loss: 0.116 - ETA: 1:39 - loss: 0.3412 - dense_12_loss: 0.0702 - dense_13_loss: 0.116 - ETA: 1:38 - loss: 0.3411 - dense_12_loss: 0.0701 - dense_13_loss: 0.116 - ETA: 1:38 - loss: 0.3412 - dense_12_loss: 0.0701 - dense_13_loss: 0.116 - ETA: 1:38 - loss: 0.3415 - dense_12_loss: 0.0702 - dense_13_loss: 0.116 - ETA: 1:37 - loss: 0.3415 - dense_12_loss: 0.0702 - dense_13_loss: 0.116 - ETA: 1:37 - loss: 0.3416 - dense_12_loss: 0.0703 - dense_13_loss: 0.116 - ETA: 1:37 - loss: 0.3416 - dense_12_loss: 0.0703 - dense_13_loss: 0.116 - ETA: 1:37 - loss: 0.3416 - dense_12_loss: 0.0703 - dense_13_loss: 0.116 - ETA: 1:36 - loss: 0.3415 - dense_12_loss: 0.0702 - dense_13_loss: 0.116 - ETA: 1:36 - loss: 0.3416 - dense_12_loss: 0.0702 - dense_13_loss: 0.116 - ETA: 1:36 - loss: 0.3415 - dense_12_loss: 0.0702 - dense_13_loss: 0.116 - ETA: 1:35 - loss: 0.3418 - dense_12_loss: 0.0703 - dense_13_loss: 0.116 - ETA: 1:35 - loss: 0.3418 - dense_12_loss: 0.0703 - dense_13_loss: 0.1165"
     ]
    },
    {
     "name": "stdout",
     "output_type": "stream",
     "text": [
      "113408/171462 [==================>...........] - ETA: 1:35 - loss: 0.3419 - dense_12_loss: 0.0703 - dense_13_loss: 0.116 - ETA: 1:35 - loss: 0.3419 - dense_12_loss: 0.0703 - dense_13_loss: 0.116 - ETA: 1:34 - loss: 0.3421 - dense_12_loss: 0.0703 - dense_13_loss: 0.116 - ETA: 1:34 - loss: 0.3418 - dense_12_loss: 0.0703 - dense_13_loss: 0.116 - ETA: 1:34 - loss: 0.3418 - dense_12_loss: 0.0703 - dense_13_loss: 0.116 - ETA: 1:33 - loss: 0.3418 - dense_12_loss: 0.0703 - dense_13_loss: 0.116 - ETA: 1:33 - loss: 0.3420 - dense_12_loss: 0.0703 - dense_13_loss: 0.116 - ETA: 1:33 - loss: 0.3419 - dense_12_loss: 0.0703 - dense_13_loss: 0.116 - ETA: 1:33 - loss: 0.3420 - dense_12_loss: 0.0703 - dense_13_loss: 0.116 - ETA: 1:32 - loss: 0.3419 - dense_12_loss: 0.0703 - dense_13_loss: 0.116 - ETA: 1:32 - loss: 0.3418 - dense_12_loss: 0.0703 - dense_13_loss: 0.116 - ETA: 1:32 - loss: 0.3418 - dense_12_loss: 0.0703 - dense_13_loss: 0.116 - ETA: 1:32 - loss: 0.3421 - dense_12_loss: 0.0704 - dense_13_loss: 0.116 - ETA: 1:31 - loss: 0.3420 - dense_12_loss: 0.0703 - dense_13_loss: 0.116 - ETA: 1:31 - loss: 0.3421 - dense_12_loss: 0.0704 - dense_13_loss: 0.116 - ETA: 1:31 - loss: 0.3421 - dense_12_loss: 0.0704 - dense_13_loss: 0.116 - ETA: 1:30 - loss: 0.3421 - dense_12_loss: 0.0704 - dense_13_loss: 0.116 - ETA: 1:30 - loss: 0.3420 - dense_12_loss: 0.0703 - dense_13_loss: 0.116 - ETA: 1:30 - loss: 0.3419 - dense_12_loss: 0.0703 - dense_13_loss: 0.116 - ETA: 1:30 - loss: 0.3418 - dense_12_loss: 0.0703 - dense_13_loss: 0.116 - ETA: 1:29 - loss: 0.3416 - dense_12_loss: 0.0702 - dense_13_loss: 0.116 - ETA: 1:29 - loss: 0.3415 - dense_12_loss: 0.0702 - dense_13_loss: 0.116 - ETA: 1:29 - loss: 0.3414 - dense_12_loss: 0.0702 - dense_13_loss: 0.116 - ETA: 1:28 - loss: 0.3413 - dense_12_loss: 0.0702 - dense_13_loss: 0.116 - ETA: 1:28 - loss: 0.3415 - dense_12_loss: 0.0702 - dense_13_loss: 0.116 - ETA: 1:28 - loss: 0.3415 - dense_12_loss: 0.0702 - dense_13_loss: 0.116 - ETA: 1:28 - loss: 0.3420 - dense_12_loss: 0.0704 - dense_13_loss: 0.116 - ETA: 1:27 - loss: 0.3420 - dense_12_loss: 0.0704 - dense_13_loss: 0.116 - ETA: 1:27 - loss: 0.3417 - dense_12_loss: 0.0703 - dense_13_loss: 0.116 - ETA: 1:27 - loss: 0.3419 - dense_12_loss: 0.0703 - dense_13_loss: 0.116 - ETA: 1:27 - loss: 0.3419 - dense_12_loss: 0.0703 - dense_13_loss: 0.116 - ETA: 1:26 - loss: 0.3417 - dense_12_loss: 0.0703 - dense_13_loss: 0.116 - ETA: 1:26 - loss: 0.3416 - dense_12_loss: 0.0703 - dense_13_loss: 0.116 - ETA: 1:26 - loss: 0.3415 - dense_12_loss: 0.0702 - dense_13_loss: 0.116 - ETA: 1:25 - loss: 0.3417 - dense_12_loss: 0.0703 - dense_13_loss: 0.116 - ETA: 1:25 - loss: 0.3417 - dense_12_loss: 0.0703 - dense_13_loss: 0.116 - ETA: 1:25 - loss: 0.3417 - dense_12_loss: 0.0703 - dense_13_loss: 0.116 - ETA: 1:25 - loss: 0.3415 - dense_12_loss: 0.0702 - dense_13_loss: 0.116 - ETA: 1:24 - loss: 0.3417 - dense_12_loss: 0.0703 - dense_13_loss: 0.116 - ETA: 1:24 - loss: 0.3417 - dense_12_loss: 0.0703 - dense_13_loss: 0.116 - ETA: 1:24 - loss: 0.3417 - dense_12_loss: 0.0703 - dense_13_loss: 0.116 - ETA: 1:23 - loss: 0.3415 - dense_12_loss: 0.0702 - dense_13_loss: 0.116 - ETA: 1:23 - loss: 0.3415 - dense_12_loss: 0.0702 - dense_13_loss: 0.116 - ETA: 1:23 - loss: 0.3414 - dense_12_loss: 0.0702 - dense_13_loss: 0.116 - ETA: 1:23 - loss: 0.3414 - dense_12_loss: 0.0702 - dense_13_loss: 0.116 - ETA: 1:22 - loss: 0.3414 - dense_12_loss: 0.0702 - dense_13_loss: 0.116 - ETA: 1:22 - loss: 0.3415 - dense_12_loss: 0.0702 - dense_13_loss: 0.116 - ETA: 1:22 - loss: 0.3414 - dense_12_loss: 0.0702 - dense_13_loss: 0.116 - ETA: 1:21 - loss: 0.3413 - dense_12_loss: 0.0702 - dense_13_loss: 0.116 - ETA: 1:21 - loss: 0.3415 - dense_12_loss: 0.0702 - dense_13_loss: 0.116 - ETA: 1:21 - loss: 0.3416 - dense_12_loss: 0.0702 - dense_13_loss: 0.116 - ETA: 1:21 - loss: 0.3418 - dense_12_loss: 0.0703 - dense_13_loss: 0.116 - ETA: 1:20 - loss: 0.3417 - dense_12_loss: 0.0703 - dense_13_loss: 0.116 - ETA: 1:20 - loss: 0.3415 - dense_12_loss: 0.0702 - dense_13_loss: 0.116 - ETA: 1:20 - loss: 0.3413 - dense_12_loss: 0.0702 - dense_13_loss: 0.116 - ETA: 1:19 - loss: 0.3414 - dense_12_loss: 0.0702 - dense_13_loss: 0.116 - ETA: 1:19 - loss: 0.3416 - dense_12_loss: 0.0703 - dense_13_loss: 0.116 - ETA: 1:19 - loss: 0.3417 - dense_12_loss: 0.0703 - dense_13_loss: 0.116 - ETA: 1:19 - loss: 0.3419 - dense_12_loss: 0.0703 - dense_13_loss: 0.116 - ETA: 1:18 - loss: 0.3419 - dense_12_loss: 0.0703 - dense_13_loss: 0.116 - ETA: 1:18 - loss: 0.3419 - dense_12_loss: 0.0703 - dense_13_loss: 0.116 - ETA: 1:18 - loss: 0.3423 - dense_12_loss: 0.0704 - dense_13_loss: 0.116 - ETA: 1:17 - loss: 0.3424 - dense_12_loss: 0.0705 - dense_13_loss: 0.116 - ETA: 1:17 - loss: 0.3424 - dense_12_loss: 0.0705 - dense_13_loss: 0.116 - ETA: 1:17 - loss: 0.3422 - dense_12_loss: 0.0704 - dense_13_loss: 0.116 - ETA: 1:17 - loss: 0.3422 - dense_12_loss: 0.0704 - dense_13_loss: 0.116 - ETA: 1:16 - loss: 0.3423 - dense_12_loss: 0.0705 - dense_13_loss: 0.116 - ETA: 1:16 - loss: 0.3421 - dense_12_loss: 0.0704 - dense_13_loss: 0.116 - ETA: 1:16 - loss: 0.3419 - dense_12_loss: 0.0703 - dense_13_loss: 0.116 - ETA: 1:15 - loss: 0.3418 - dense_12_loss: 0.0703 - dense_13_loss: 0.116 - ETA: 1:15 - loss: 0.3419 - dense_12_loss: 0.0703 - dense_13_loss: 0.116 - ETA: 1:15 - loss: 0.3418 - dense_12_loss: 0.0703 - dense_13_loss: 0.116 - ETA: 1:15 - loss: 0.3419 - dense_12_loss: 0.0703 - dense_13_loss: 0.116 - ETA: 1:14 - loss: 0.3418 - dense_12_loss: 0.0703 - dense_13_loss: 0.116 - ETA: 1:14 - loss: 0.3421 - dense_12_loss: 0.0704 - dense_13_loss: 0.116 - ETA: 1:14 - loss: 0.3423 - dense_12_loss: 0.0704 - dense_13_loss: 0.116 - ETA: 1:13 - loss: 0.3424 - dense_12_loss: 0.0705 - dense_13_loss: 0.116 - ETA: 1:13 - loss: 0.3425 - dense_12_loss: 0.0705 - dense_13_loss: 0.116 - ETA: 1:13 - loss: 0.3426 - dense_12_loss: 0.0705 - dense_13_loss: 0.116 - ETA: 1:13 - loss: 0.3427 - dense_12_loss: 0.0705 - dense_13_loss: 0.116 - ETA: 1:12 - loss: 0.3429 - dense_12_loss: 0.0706 - dense_13_loss: 0.116 - ETA: 1:12 - loss: 0.3429 - dense_12_loss: 0.0706 - dense_13_loss: 0.116 - ETA: 1:12 - loss: 0.3428 - dense_12_loss: 0.0706 - dense_13_loss: 0.116 - ETA: 1:11 - loss: 0.3428 - dense_12_loss: 0.0706 - dense_13_loss: 0.116 - ETA: 1:11 - loss: 0.3429 - dense_12_loss: 0.0706 - dense_13_loss: 0.116 - ETA: 1:11 - loss: 0.3429 - dense_12_loss: 0.0706 - dense_13_loss: 0.116 - ETA: 1:11 - loss: 0.3429 - dense_12_loss: 0.0706 - dense_13_loss: 0.116 - ETA: 1:10 - loss: 0.3429 - dense_12_loss: 0.0706 - dense_13_loss: 0.116 - ETA: 1:10 - loss: 0.3429 - dense_12_loss: 0.0706 - dense_13_loss: 0.116 - ETA: 1:10 - loss: 0.3431 - dense_12_loss: 0.0707 - dense_13_loss: 0.116 - ETA: 1:09 - loss: 0.3429 - dense_12_loss: 0.0706 - dense_13_loss: 0.116 - ETA: 1:09 - loss: 0.3431 - dense_12_loss: 0.0707 - dense_13_loss: 0.116 - ETA: 1:09 - loss: 0.3430 - dense_12_loss: 0.0706 - dense_13_loss: 0.116 - ETA: 1:09 - loss: 0.3429 - dense_12_loss: 0.0706 - dense_13_loss: 0.116 - ETA: 1:08 - loss: 0.3428 - dense_12_loss: 0.0706 - dense_13_loss: 0.116 - ETA: 1:08 - loss: 0.3428 - dense_12_loss: 0.0706 - dense_13_loss: 0.116 - ETA: 1:08 - loss: 0.3428 - dense_12_loss: 0.0706 - dense_13_loss: 0.116 - ETA: 1:07 - loss: 0.3427 - dense_12_loss: 0.0706 - dense_13_loss: 0.116 - ETA: 1:07 - loss: 0.3430 - dense_12_loss: 0.0707 - dense_13_loss: 0.116 - ETA: 1:07 - loss: 0.3431 - dense_12_loss: 0.0707 - dense_13_loss: 0.116 - ETA: 1:07 - loss: 0.3432 - dense_12_loss: 0.0707 - dense_13_loss: 0.116 - ETA: 1:06 - loss: 0.3433 - dense_12_loss: 0.0707 - dense_13_loss: 0.116 - ETA: 1:06 - loss: 0.3435 - dense_12_loss: 0.0708 - dense_13_loss: 0.116 - ETA: 1:06 - loss: 0.3433 - dense_12_loss: 0.0707 - dense_13_loss: 0.116 - ETA: 1:05 - loss: 0.3432 - dense_12_loss: 0.0707 - dense_13_loss: 0.116 - ETA: 1:05 - loss: 0.3432 - dense_12_loss: 0.0707 - dense_13_loss: 0.116 - ETA: 1:05 - loss: 0.3433 - dense_12_loss: 0.0707 - dense_13_loss: 0.116 - ETA: 1:05 - loss: 0.3431 - dense_12_loss: 0.0707 - dense_13_loss: 0.116 - ETA: 1:04 - loss: 0.3432 - dense_12_loss: 0.0707 - dense_13_loss: 0.116 - ETA: 1:04 - loss: 0.3432 - dense_12_loss: 0.0707 - dense_13_loss: 0.116 - ETA: 1:04 - loss: 0.3435 - dense_12_loss: 0.0707 - dense_13_loss: 0.1166"
     ]
    },
    {
     "name": "stdout",
     "output_type": "stream",
     "text": [
      "142336/171462 [=======================>......] - ETA: 1:03 - loss: 0.3436 - dense_12_loss: 0.0708 - dense_13_loss: 0.116 - ETA: 1:03 - loss: 0.3437 - dense_12_loss: 0.0708 - dense_13_loss: 0.116 - ETA: 1:03 - loss: 0.3436 - dense_12_loss: 0.0708 - dense_13_loss: 0.116 - ETA: 1:03 - loss: 0.3436 - dense_12_loss: 0.0708 - dense_13_loss: 0.116 - ETA: 1:02 - loss: 0.3436 - dense_12_loss: 0.0708 - dense_13_loss: 0.116 - ETA: 1:02 - loss: 0.3436 - dense_12_loss: 0.0708 - dense_13_loss: 0.116 - ETA: 1:02 - loss: 0.3438 - dense_12_loss: 0.0708 - dense_13_loss: 0.116 - ETA: 1:01 - loss: 0.3439 - dense_12_loss: 0.0709 - dense_13_loss: 0.116 - ETA: 1:01 - loss: 0.3438 - dense_12_loss: 0.0708 - dense_13_loss: 0.116 - ETA: 1:01 - loss: 0.3439 - dense_12_loss: 0.0709 - dense_13_loss: 0.116 - ETA: 1:01 - loss: 0.3439 - dense_12_loss: 0.0709 - dense_13_loss: 0.116 - ETA: 1:00 - loss: 0.3439 - dense_12_loss: 0.0709 - dense_13_loss: 0.116 - ETA: 1:00 - loss: 0.3438 - dense_12_loss: 0.0708 - dense_13_loss: 0.116 - ETA: 1:00 - loss: 0.3437 - dense_12_loss: 0.0708 - dense_13_loss: 0.116 - ETA: 59s - loss: 0.3436 - dense_12_loss: 0.0708 - dense_13_loss: 0.116 - ETA: 59s - loss: 0.3438 - dense_12_loss: 0.0708 - dense_13_loss: 0.11 - ETA: 59s - loss: 0.3438 - dense_12_loss: 0.0708 - dense_13_loss: 0.11 - ETA: 59s - loss: 0.3439 - dense_12_loss: 0.0709 - dense_13_loss: 0.11 - ETA: 58s - loss: 0.3438 - dense_12_loss: 0.0708 - dense_13_loss: 0.11 - ETA: 58s - loss: 0.3437 - dense_12_loss: 0.0708 - dense_13_loss: 0.11 - ETA: 58s - loss: 0.3434 - dense_12_loss: 0.0708 - dense_13_loss: 0.11 - ETA: 57s - loss: 0.3434 - dense_12_loss: 0.0707 - dense_13_loss: 0.11 - ETA: 57s - loss: 0.3433 - dense_12_loss: 0.0707 - dense_13_loss: 0.11 - ETA: 57s - loss: 0.3432 - dense_12_loss: 0.0707 - dense_13_loss: 0.11 - ETA: 57s - loss: 0.3431 - dense_12_loss: 0.0707 - dense_13_loss: 0.11 - ETA: 56s - loss: 0.3430 - dense_12_loss: 0.0706 - dense_13_loss: 0.11 - ETA: 56s - loss: 0.3430 - dense_12_loss: 0.0706 - dense_13_loss: 0.11 - ETA: 56s - loss: 0.3430 - dense_12_loss: 0.0706 - dense_13_loss: 0.11 - ETA: 56s - loss: 0.3429 - dense_12_loss: 0.0706 - dense_13_loss: 0.11 - ETA: 55s - loss: 0.3430 - dense_12_loss: 0.0706 - dense_13_loss: 0.11 - ETA: 55s - loss: 0.3429 - dense_12_loss: 0.0706 - dense_13_loss: 0.11 - ETA: 55s - loss: 0.3428 - dense_12_loss: 0.0706 - dense_13_loss: 0.11 - ETA: 54s - loss: 0.3430 - dense_12_loss: 0.0707 - dense_13_loss: 0.11 - ETA: 54s - loss: 0.3432 - dense_12_loss: 0.0707 - dense_13_loss: 0.11 - ETA: 54s - loss: 0.3429 - dense_12_loss: 0.0706 - dense_13_loss: 0.11 - ETA: 54s - loss: 0.3431 - dense_12_loss: 0.0707 - dense_13_loss: 0.11 - ETA: 53s - loss: 0.3431 - dense_12_loss: 0.0707 - dense_13_loss: 0.11 - ETA: 53s - loss: 0.3430 - dense_12_loss: 0.0706 - dense_13_loss: 0.11 - ETA: 53s - loss: 0.3429 - dense_12_loss: 0.0706 - dense_13_loss: 0.11 - ETA: 52s - loss: 0.3429 - dense_12_loss: 0.0706 - dense_13_loss: 0.11 - ETA: 52s - loss: 0.3429 - dense_12_loss: 0.0706 - dense_13_loss: 0.11 - ETA: 52s - loss: 0.3428 - dense_12_loss: 0.0706 - dense_13_loss: 0.11 - ETA: 52s - loss: 0.3427 - dense_12_loss: 0.0706 - dense_13_loss: 0.11 - ETA: 51s - loss: 0.3426 - dense_12_loss: 0.0705 - dense_13_loss: 0.11 - ETA: 51s - loss: 0.3425 - dense_12_loss: 0.0705 - dense_13_loss: 0.11 - ETA: 51s - loss: 0.3424 - dense_12_loss: 0.0705 - dense_13_loss: 0.11 - ETA: 50s - loss: 0.3425 - dense_12_loss: 0.0705 - dense_13_loss: 0.11 - ETA: 50s - loss: 0.3424 - dense_12_loss: 0.0705 - dense_13_loss: 0.11 - ETA: 50s - loss: 0.3425 - dense_12_loss: 0.0705 - dense_13_loss: 0.11 - ETA: 50s - loss: 0.3424 - dense_12_loss: 0.0705 - dense_13_loss: 0.11 - ETA: 49s - loss: 0.3424 - dense_12_loss: 0.0705 - dense_13_loss: 0.11 - ETA: 49s - loss: 0.3423 - dense_12_loss: 0.0705 - dense_13_loss: 0.11 - ETA: 49s - loss: 0.3425 - dense_12_loss: 0.0705 - dense_13_loss: 0.11 - ETA: 48s - loss: 0.3424 - dense_12_loss: 0.0705 - dense_13_loss: 0.11 - ETA: 48s - loss: 0.3423 - dense_12_loss: 0.0705 - dense_13_loss: 0.11 - ETA: 48s - loss: 0.3423 - dense_12_loss: 0.0705 - dense_13_loss: 0.11 - ETA: 48s - loss: 0.3422 - dense_12_loss: 0.0704 - dense_13_loss: 0.11 - ETA: 47s - loss: 0.3423 - dense_12_loss: 0.0705 - dense_13_loss: 0.11 - ETA: 47s - loss: 0.3422 - dense_12_loss: 0.0704 - dense_13_loss: 0.11 - ETA: 47s - loss: 0.3422 - dense_12_loss: 0.0704 - dense_13_loss: 0.11 - ETA: 46s - loss: 0.3420 - dense_12_loss: 0.0704 - dense_13_loss: 0.11 - ETA: 46s - loss: 0.3420 - dense_12_loss: 0.0704 - dense_13_loss: 0.11 - ETA: 46s - loss: 0.3420 - dense_12_loss: 0.0704 - dense_13_loss: 0.11 - ETA: 46s - loss: 0.3419 - dense_12_loss: 0.0703 - dense_13_loss: 0.11 - ETA: 45s - loss: 0.3420 - dense_12_loss: 0.0704 - dense_13_loss: 0.11 - ETA: 45s - loss: 0.3419 - dense_12_loss: 0.0703 - dense_13_loss: 0.11 - ETA: 45s - loss: 0.3420 - dense_12_loss: 0.0704 - dense_13_loss: 0.11 - ETA: 44s - loss: 0.3421 - dense_12_loss: 0.0704 - dense_13_loss: 0.11 - ETA: 44s - loss: 0.3421 - dense_12_loss: 0.0704 - dense_13_loss: 0.11 - ETA: 44s - loss: 0.3422 - dense_12_loss: 0.0704 - dense_13_loss: 0.11 - ETA: 44s - loss: 0.3421 - dense_12_loss: 0.0704 - dense_13_loss: 0.11 - ETA: 43s - loss: 0.3422 - dense_12_loss: 0.0704 - dense_13_loss: 0.11 - ETA: 43s - loss: 0.3421 - dense_12_loss: 0.0704 - dense_13_loss: 0.11 - ETA: 43s - loss: 0.3420 - dense_12_loss: 0.0704 - dense_13_loss: 0.11 - ETA: 42s - loss: 0.3420 - dense_12_loss: 0.0704 - dense_13_loss: 0.11 - ETA: 42s - loss: 0.3422 - dense_12_loss: 0.0704 - dense_13_loss: 0.11 - ETA: 42s - loss: 0.3422 - dense_12_loss: 0.0704 - dense_13_loss: 0.11 - ETA: 42s - loss: 0.3422 - dense_12_loss: 0.0704 - dense_13_loss: 0.11 - ETA: 41s - loss: 0.3423 - dense_12_loss: 0.0705 - dense_13_loss: 0.11 - ETA: 41s - loss: 0.3424 - dense_12_loss: 0.0705 - dense_13_loss: 0.11 - ETA: 41s - loss: 0.3425 - dense_12_loss: 0.0705 - dense_13_loss: 0.11 - ETA: 40s - loss: 0.3426 - dense_12_loss: 0.0705 - dense_13_loss: 0.11 - ETA: 40s - loss: 0.3425 - dense_12_loss: 0.0705 - dense_13_loss: 0.11 - ETA: 40s - loss: 0.3427 - dense_12_loss: 0.0705 - dense_13_loss: 0.11 - ETA: 40s - loss: 0.3426 - dense_12_loss: 0.0705 - dense_13_loss: 0.11 - ETA: 39s - loss: 0.3428 - dense_12_loss: 0.0706 - dense_13_loss: 0.11 - ETA: 39s - loss: 0.3428 - dense_12_loss: 0.0706 - dense_13_loss: 0.11 - ETA: 39s - loss: 0.3428 - dense_12_loss: 0.0706 - dense_13_loss: 0.11 - ETA: 38s - loss: 0.3429 - dense_12_loss: 0.0706 - dense_13_loss: 0.11 - ETA: 38s - loss: 0.3427 - dense_12_loss: 0.0706 - dense_13_loss: 0.11 - ETA: 38s - loss: 0.3426 - dense_12_loss: 0.0705 - dense_13_loss: 0.11 - ETA: 38s - loss: 0.3426 - dense_12_loss: 0.0706 - dense_13_loss: 0.11 - ETA: 37s - loss: 0.3426 - dense_12_loss: 0.0705 - dense_13_loss: 0.11 - ETA: 37s - loss: 0.3425 - dense_12_loss: 0.0705 - dense_13_loss: 0.11 - ETA: 37s - loss: 0.3423 - dense_12_loss: 0.0705 - dense_13_loss: 0.11 - ETA: 37s - loss: 0.3425 - dense_12_loss: 0.0705 - dense_13_loss: 0.11 - ETA: 36s - loss: 0.3424 - dense_12_loss: 0.0705 - dense_13_loss: 0.11 - ETA: 36s - loss: 0.3425 - dense_12_loss: 0.0705 - dense_13_loss: 0.11 - ETA: 36s - loss: 0.3426 - dense_12_loss: 0.0705 - dense_13_loss: 0.11 - ETA: 35s - loss: 0.3426 - dense_12_loss: 0.0706 - dense_13_loss: 0.11 - ETA: 35s - loss: 0.3425 - dense_12_loss: 0.0705 - dense_13_loss: 0.11 - ETA: 35s - loss: 0.3423 - dense_12_loss: 0.0705 - dense_13_loss: 0.11 - ETA: 35s - loss: 0.3423 - dense_12_loss: 0.0705 - dense_13_loss: 0.11 - ETA: 34s - loss: 0.3422 - dense_12_loss: 0.0704 - dense_13_loss: 0.11 - ETA: 34s - loss: 0.3422 - dense_12_loss: 0.0704 - dense_13_loss: 0.11 - ETA: 34s - loss: 0.3423 - dense_12_loss: 0.0705 - dense_13_loss: 0.11 - ETA: 33s - loss: 0.3425 - dense_12_loss: 0.0705 - dense_13_loss: 0.11 - ETA: 33s - loss: 0.3425 - dense_12_loss: 0.0705 - dense_13_loss: 0.11 - ETA: 33s - loss: 0.3423 - dense_12_loss: 0.0705 - dense_13_loss: 0.11 - ETA: 33s - loss: 0.3422 - dense_12_loss: 0.0704 - dense_13_loss: 0.11 - ETA: 32s - loss: 0.3423 - dense_12_loss: 0.0705 - dense_13_loss: 0.11 - ETA: 32s - loss: 0.3423 - dense_12_loss: 0.0705 - dense_13_loss: 0.11 - ETA: 32s - loss: 0.3421 - dense_12_loss: 0.0704 - dense_13_loss: 0.1163"
     ]
    },
    {
     "name": "stdout",
     "output_type": "stream",
     "text": [
      "171462/171462 [==============================] - ETA: 31s - loss: 0.3420 - dense_12_loss: 0.0704 - dense_13_loss: 0.11 - ETA: 31s - loss: 0.3420 - dense_12_loss: 0.0704 - dense_13_loss: 0.11 - ETA: 31s - loss: 0.3419 - dense_12_loss: 0.0704 - dense_13_loss: 0.11 - ETA: 31s - loss: 0.3419 - dense_12_loss: 0.0704 - dense_13_loss: 0.11 - ETA: 30s - loss: 0.3419 - dense_12_loss: 0.0704 - dense_13_loss: 0.11 - ETA: 30s - loss: 0.3420 - dense_12_loss: 0.0704 - dense_13_loss: 0.11 - ETA: 30s - loss: 0.3420 - dense_12_loss: 0.0704 - dense_13_loss: 0.11 - ETA: 29s - loss: 0.3420 - dense_12_loss: 0.0704 - dense_13_loss: 0.11 - ETA: 29s - loss: 0.3419 - dense_12_loss: 0.0704 - dense_13_loss: 0.11 - ETA: 29s - loss: 0.3419 - dense_12_loss: 0.0704 - dense_13_loss: 0.11 - ETA: 29s - loss: 0.3419 - dense_12_loss: 0.0704 - dense_13_loss: 0.11 - ETA: 28s - loss: 0.3418 - dense_12_loss: 0.0704 - dense_13_loss: 0.11 - ETA: 28s - loss: 0.3419 - dense_12_loss: 0.0704 - dense_13_loss: 0.11 - ETA: 28s - loss: 0.3420 - dense_12_loss: 0.0704 - dense_13_loss: 0.11 - ETA: 27s - loss: 0.3420 - dense_12_loss: 0.0704 - dense_13_loss: 0.11 - ETA: 27s - loss: 0.3421 - dense_12_loss: 0.0704 - dense_13_loss: 0.11 - ETA: 27s - loss: 0.3420 - dense_12_loss: 0.0704 - dense_13_loss: 0.11 - ETA: 27s - loss: 0.3420 - dense_12_loss: 0.0704 - dense_13_loss: 0.11 - ETA: 26s - loss: 0.3421 - dense_12_loss: 0.0705 - dense_13_loss: 0.11 - ETA: 26s - loss: 0.3421 - dense_12_loss: 0.0705 - dense_13_loss: 0.11 - ETA: 26s - loss: 0.3420 - dense_12_loss: 0.0704 - dense_13_loss: 0.11 - ETA: 25s - loss: 0.3421 - dense_12_loss: 0.0705 - dense_13_loss: 0.11 - ETA: 25s - loss: 0.3421 - dense_12_loss: 0.0705 - dense_13_loss: 0.11 - ETA: 25s - loss: 0.3420 - dense_12_loss: 0.0704 - dense_13_loss: 0.11 - ETA: 25s - loss: 0.3419 - dense_12_loss: 0.0704 - dense_13_loss: 0.11 - ETA: 24s - loss: 0.3420 - dense_12_loss: 0.0704 - dense_13_loss: 0.11 - ETA: 24s - loss: 0.3419 - dense_12_loss: 0.0704 - dense_13_loss: 0.11 - ETA: 24s - loss: 0.3419 - dense_12_loss: 0.0704 - dense_13_loss: 0.11 - ETA: 23s - loss: 0.3418 - dense_12_loss: 0.0704 - dense_13_loss: 0.11 - ETA: 23s - loss: 0.3418 - dense_12_loss: 0.0704 - dense_13_loss: 0.11 - ETA: 23s - loss: 0.3417 - dense_12_loss: 0.0704 - dense_13_loss: 0.11 - ETA: 23s - loss: 0.3417 - dense_12_loss: 0.0704 - dense_13_loss: 0.11 - ETA: 22s - loss: 0.3418 - dense_12_loss: 0.0704 - dense_13_loss: 0.11 - ETA: 22s - loss: 0.3419 - dense_12_loss: 0.0704 - dense_13_loss: 0.11 - ETA: 22s - loss: 0.3418 - dense_12_loss: 0.0704 - dense_13_loss: 0.11 - ETA: 22s - loss: 0.3418 - dense_12_loss: 0.0704 - dense_13_loss: 0.11 - ETA: 21s - loss: 0.3418 - dense_12_loss: 0.0704 - dense_13_loss: 0.11 - ETA: 21s - loss: 0.3418 - dense_12_loss: 0.0704 - dense_13_loss: 0.11 - ETA: 21s - loss: 0.3418 - dense_12_loss: 0.0704 - dense_13_loss: 0.11 - ETA: 20s - loss: 0.3418 - dense_12_loss: 0.0704 - dense_13_loss: 0.11 - ETA: 20s - loss: 0.3417 - dense_12_loss: 0.0704 - dense_13_loss: 0.11 - ETA: 20s - loss: 0.3417 - dense_12_loss: 0.0704 - dense_13_loss: 0.11 - ETA: 20s - loss: 0.3419 - dense_12_loss: 0.0704 - dense_13_loss: 0.11 - ETA: 19s - loss: 0.3419 - dense_12_loss: 0.0704 - dense_13_loss: 0.11 - ETA: 19s - loss: 0.3418 - dense_12_loss: 0.0704 - dense_13_loss: 0.11 - ETA: 19s - loss: 0.3418 - dense_12_loss: 0.0704 - dense_13_loss: 0.11 - ETA: 18s - loss: 0.3418 - dense_12_loss: 0.0704 - dense_13_loss: 0.11 - ETA: 18s - loss: 0.3418 - dense_12_loss: 0.0704 - dense_13_loss: 0.11 - ETA: 18s - loss: 0.3417 - dense_12_loss: 0.0704 - dense_13_loss: 0.11 - ETA: 18s - loss: 0.3417 - dense_12_loss: 0.0704 - dense_13_loss: 0.11 - ETA: 17s - loss: 0.3415 - dense_12_loss: 0.0703 - dense_13_loss: 0.11 - ETA: 17s - loss: 0.3416 - dense_12_loss: 0.0704 - dense_13_loss: 0.11 - ETA: 17s - loss: 0.3416 - dense_12_loss: 0.0704 - dense_13_loss: 0.11 - ETA: 16s - loss: 0.3414 - dense_12_loss: 0.0703 - dense_13_loss: 0.11 - ETA: 16s - loss: 0.3417 - dense_12_loss: 0.0704 - dense_13_loss: 0.11 - ETA: 16s - loss: 0.3418 - dense_12_loss: 0.0704 - dense_13_loss: 0.11 - ETA: 16s - loss: 0.3417 - dense_12_loss: 0.0704 - dense_13_loss: 0.11 - ETA: 15s - loss: 0.3416 - dense_12_loss: 0.0704 - dense_13_loss: 0.11 - ETA: 15s - loss: 0.3417 - dense_12_loss: 0.0704 - dense_13_loss: 0.11 - ETA: 15s - loss: 0.3417 - dense_12_loss: 0.0704 - dense_13_loss: 0.11 - ETA: 14s - loss: 0.3415 - dense_12_loss: 0.0703 - dense_13_loss: 0.11 - ETA: 14s - loss: 0.3414 - dense_12_loss: 0.0703 - dense_13_loss: 0.11 - ETA: 14s - loss: 0.3414 - dense_12_loss: 0.0703 - dense_13_loss: 0.11 - ETA: 14s - loss: 0.3414 - dense_12_loss: 0.0703 - dense_13_loss: 0.11 - ETA: 13s - loss: 0.3412 - dense_12_loss: 0.0703 - dense_13_loss: 0.11 - ETA: 13s - loss: 0.3412 - dense_12_loss: 0.0703 - dense_13_loss: 0.11 - ETA: 13s - loss: 0.3413 - dense_12_loss: 0.0703 - dense_13_loss: 0.11 - ETA: 12s - loss: 0.3413 - dense_12_loss: 0.0703 - dense_13_loss: 0.11 - ETA: 12s - loss: 0.3415 - dense_12_loss: 0.0703 - dense_13_loss: 0.11 - ETA: 12s - loss: 0.3414 - dense_12_loss: 0.0703 - dense_13_loss: 0.11 - ETA: 12s - loss: 0.3413 - dense_12_loss: 0.0703 - dense_13_loss: 0.11 - ETA: 11s - loss: 0.3414 - dense_12_loss: 0.0703 - dense_13_loss: 0.11 - ETA: 11s - loss: 0.3415 - dense_12_loss: 0.0703 - dense_13_loss: 0.11 - ETA: 11s - loss: 0.3415 - dense_12_loss: 0.0703 - dense_13_loss: 0.11 - ETA: 10s - loss: 0.3415 - dense_12_loss: 0.0704 - dense_13_loss: 0.11 - ETA: 10s - loss: 0.3414 - dense_12_loss: 0.0703 - dense_13_loss: 0.11 - ETA: 10s - loss: 0.3413 - dense_12_loss: 0.0703 - dense_13_loss: 0.11 - ETA: 10s - loss: 0.3413 - dense_12_loss: 0.0703 - dense_13_loss: 0.11 - ETA: 9s - loss: 0.3413 - dense_12_loss: 0.0703 - dense_13_loss: 0.1159 - ETA: 9s - loss: 0.3414 - dense_12_loss: 0.0703 - dense_13_loss: 0.115 - ETA: 9s - loss: 0.3414 - dense_12_loss: 0.0703 - dense_13_loss: 0.115 - ETA: 8s - loss: 0.3414 - dense_12_loss: 0.0703 - dense_13_loss: 0.115 - ETA: 8s - loss: 0.3413 - dense_12_loss: 0.0703 - dense_13_loss: 0.115 - ETA: 8s - loss: 0.3413 - dense_12_loss: 0.0703 - dense_13_loss: 0.115 - ETA: 8s - loss: 0.3412 - dense_12_loss: 0.0703 - dense_13_loss: 0.115 - ETA: 7s - loss: 0.3412 - dense_12_loss: 0.0703 - dense_13_loss: 0.115 - ETA: 7s - loss: 0.3411 - dense_12_loss: 0.0702 - dense_13_loss: 0.115 - ETA: 7s - loss: 0.3411 - dense_12_loss: 0.0702 - dense_13_loss: 0.115 - ETA: 7s - loss: 0.3411 - dense_12_loss: 0.0702 - dense_13_loss: 0.115 - ETA: 6s - loss: 0.3410 - dense_12_loss: 0.0702 - dense_13_loss: 0.115 - ETA: 6s - loss: 0.3412 - dense_12_loss: 0.0702 - dense_13_loss: 0.115 - ETA: 6s - loss: 0.3411 - dense_12_loss: 0.0702 - dense_13_loss: 0.115 - ETA: 5s - loss: 0.3412 - dense_12_loss: 0.0702 - dense_13_loss: 0.115 - ETA: 5s - loss: 0.3411 - dense_12_loss: 0.0702 - dense_13_loss: 0.115 - ETA: 5s - loss: 0.3411 - dense_12_loss: 0.0702 - dense_13_loss: 0.115 - ETA: 5s - loss: 0.3411 - dense_12_loss: 0.0702 - dense_13_loss: 0.115 - ETA: 4s - loss: 0.3411 - dense_12_loss: 0.0702 - dense_13_loss: 0.115 - ETA: 4s - loss: 0.3411 - dense_12_loss: 0.0702 - dense_13_loss: 0.115 - ETA: 4s - loss: 0.3410 - dense_12_loss: 0.0702 - dense_13_loss: 0.115 - ETA: 3s - loss: 0.3411 - dense_12_loss: 0.0702 - dense_13_loss: 0.115 - ETA: 3s - loss: 0.3410 - dense_12_loss: 0.0702 - dense_13_loss: 0.115 - ETA: 3s - loss: 0.3410 - dense_12_loss: 0.0702 - dense_13_loss: 0.115 - ETA: 3s - loss: 0.3409 - dense_12_loss: 0.0702 - dense_13_loss: 0.115 - ETA: 2s - loss: 0.3410 - dense_12_loss: 0.0702 - dense_13_loss: 0.115 - ETA: 2s - loss: 0.3408 - dense_12_loss: 0.0701 - dense_13_loss: 0.115 - ETA: 2s - loss: 0.3409 - dense_12_loss: 0.0702 - dense_13_loss: 0.115 - ETA: 1s - loss: 0.3407 - dense_12_loss: 0.0701 - dense_13_loss: 0.115 - ETA: 1s - loss: 0.3408 - dense_12_loss: 0.0701 - dense_13_loss: 0.115 - ETA: 1s - loss: 0.3407 - dense_12_loss: 0.0701 - dense_13_loss: 0.115 - ETA: 1s - loss: 0.3408 - dense_12_loss: 0.0701 - dense_13_loss: 0.115 - ETA: 0s - loss: 0.3409 - dense_12_loss: 0.0702 - dense_13_loss: 0.115 - ETA: 0s - loss: 0.3409 - dense_12_loss: 0.0702 - dense_13_loss: 0.115 - ETA: 0s - loss: 0.3409 - dense_12_loss: 0.0702 - dense_13_loss: 0.115 - 193s 1ms/step - loss: 0.3409 - dense_12_loss: 0.0702 - dense_13_loss: 0.1158 - val_loss: 0.3222 - val_dense_12_loss: 0.0653 - val_dense_13_loss: 0.1129\n"
     ]
    }
   ],
   "source": [
    "NUM_MODELS = 1\n",
    "\n",
    "BATCH_SIZE = 256\n",
    "EPOCHS = 12\n",
    "LSTM_UNITS = 128\n",
    "DENSE_HIDDEN_UNITS = 512\n",
    "checkpoint_predictions = []\n",
    "checkpoint_val_preds = []\n",
    "weights = []\n",
    "\n",
    "for model_idx in range(NUM_MODELS):\n",
    "    model = build_model(embedding_matrix, y_aux_train.shape[-1],loss_weight)\n",
    "    for global_epoch in range(EPOCHS):\n",
    "        history = model.fit(x_train[tr_ind],[y_train[tr_ind], y_aux_train[tr_ind]],validation_data = (x_train[val_ind],[y_train[val_ind], y_aux_train[val_ind]]),\n",
    "            batch_size=BATCH_SIZE,\n",
    "            epochs=1,\n",
    "            verbose=1,\n",
    "            callbacks=[\n",
    "                LearningRateScheduler(lambda epoch: 1e-3 * (0.6 ** global_epoch))\n",
    "            ]\n",
    "        )\n",
    "        with open('temporary.pickle', mode='rb') as f:\n",
    "            x_test = pickle.load(f) # use temporary file to reduce memory\n",
    "        checkpoint_predictions.append(model.predict(x_test, batch_size=BATCH_SIZE)[0].flatten())\n",
    "        checkpoint_val_preds.append(model.predict(x_train[val_ind], batch_size=BATCH_SIZE)[0].flatten())\n",
    "        del x_test\n",
    "        gc.collect()\n",
    "        weights.append(2 ** global_epoch)\n",
    "    del model\n",
    "    gc.collect()\n",
    "\n",
    "predictions = np.average(checkpoint_predictions, weights=weights, axis=0)"
   ]
  },
  {
   "cell_type": "code",
   "execution_count": 59,
   "metadata": {},
   "outputs": [],
   "source": [
    "val_preds = np.average(checkpoint_val_preds, weights=weights, axis=0)"
   ]
  },
  {
   "cell_type": "code",
   "execution_count": 62,
   "metadata": {},
   "outputs": [
    {
     "data": {
      "text/plain": [
       "(array([77843.,  7268.,  3233.,  1959.,  1384.,  1086.,  1001.,   922.,\n",
       "         1065.,  1559.]),\n",
       " array([1.63284938e-04, 9.98138857e-02, 1.99464486e-01, 2.99115087e-01,\n",
       "        3.98765688e-01, 4.98416289e-01, 5.98066889e-01, 6.97717490e-01,\n",
       "        7.97368091e-01, 8.97018692e-01, 9.96669292e-01]),\n",
       " <a list of 10 Patch objects>)"
      ]
     },
     "execution_count": 62,
     "metadata": {},
     "output_type": "execute_result"
    },
    {
     "data": {
      "image/png": "[encoded data removed]",
      "text/plain": [
       "<Figure size 432x288 with 1 Axes>"
      ]
     },
     "metadata": {
      "needs_background": "light"
     },
     "output_type": "display_data"
    }
   ],
   "source": [
    "plt.hist(predictions)"
   ]
  },
  {
   "cell_type": "code",
   "execution_count": 63,
   "metadata": {},
   "outputs": [
    {
     "data": {
      "text/plain": [
       "(array([7254.,  665.,  307.,  176.,  133.,   85.,   83.,   86.,   97.,\n",
       "         139.]),\n",
       " array([3.41057777e-04, 9.99988810e-02, 1.99656704e-01, 2.99314528e-01,\n",
       "        3.98972351e-01, 4.98630174e-01, 5.98287997e-01, 6.97945820e-01,\n",
       "        7.97603644e-01, 8.97261467e-01, 9.96919290e-01]),\n",
       " <a list of 10 Patch objects>)"
      ]
     },
     "execution_count": 63,
     "metadata": {},
     "output_type": "execute_result"
    },
    {
     "data": {
      "image/png": "[encoded data removed]",
      "text/plain": [
       "<Figure size 432x288 with 1 Axes>"
      ]
     },
     "metadata": {
      "needs_background": "light"
     },
     "output_type": "display_data"
    }
   ],
   "source": [
    "plt.hist(val_preds)"
   ]
  },
  {
   "cell_type": "code",
   "execution_count": 64,
   "metadata": {},
   "outputs": [],
   "source": [
    "from sklearn.metrics import roc_auc_score\n",
    "\n",
    "def power_mean(x, p=-5):\n",
    "    return np.power(np.mean(np.power(x, p)),1/p)\n",
    "\n",
    "def get_s_auc(y_true,y_pred,y_identity):\n",
    "    mask = y_identity==1\n",
    "    try:\n",
    "        s_auc = roc_auc_score(y_true[mask],y_pred[mask])\n",
    "    except:\n",
    "        s_auc = 1\n",
    "    return s_auc\n",
    "\n",
    "def get_bpsn_auc(y_true,y_pred,y_identity):\n",
    "    mask = (y_identity==1) & (y_true==0) | (y_identity==0) & (y_true==1)\n",
    "    try:\n",
    "        bpsn_auc = roc_auc_score(y_true[mask],y_pred[mask])\n",
    "    except:\n",
    "        bpsn_auc = 1\n",
    "    return bpsn_auc\n",
    "\n",
    "def get_bspn_auc(y_true,y_pred,y_identity):\n",
    "    mask = (y_identity==1) & (y_true==1) | (y_identity==0) & (y_true==0)\n",
    "    try:\n",
    "        bspn_auc = roc_auc_score(y_true[mask],y_pred[mask])\n",
    "    except:\n",
    "        bspn_auc = 1\n",
    "    return bspn_auc\n",
    "\n",
    "def get_total_auc(y_true,y_pred,y_identities):\n",
    "\n",
    "    N = y_identities.shape[1]\n",
    "    \n",
    "    saucs = np.array([get_s_auc(y_true,y_pred,y_identities[:,i]) for i in range(N)])\n",
    "    bpsns = np.array([get_bpsn_auc(y_true,y_pred,y_identities[:,i]) for i in range(N)])\n",
    "    bspns = np.array([get_bspn_auc(y_true,y_pred,y_identities[:,i]) for i in range(N)])\n",
    "\n",
    "    M_s_auc = power_mean(saucs)\n",
    "    M_bpsns_auc = power_mean(bpsns)\n",
    "    M_bspns_auc = power_mean(bspns)\n",
    "    rauc = roc_auc_score(y_true,y_pred)\n",
    "\n",
    "\n",
    "    total_auc = M_s_auc + M_bpsns_auc + M_bspns_auc + rauc\n",
    "    total_auc/= 4\n",
    "\n",
    "    return total_auc"
   ]
  },
  {
   "cell_type": "code",
   "execution_count": 65,
   "metadata": {},
   "outputs": [
    {
     "data": {
      "text/plain": [
       "((9025,), (9025,), (9025, 9))"
      ]
     },
     "execution_count": 65,
     "metadata": {},
     "output_type": "execute_result"
    }
   ],
   "source": [
    "y_train[val_ind][:,0].shape, val_preds.shape,y_identities[val_ind].shape"
   ]
  },
  {
   "cell_type": "code",
   "execution_count": 66,
   "metadata": {},
   "outputs": [
    {
     "data": {
      "text/plain": [
       "0.8895331780129121"
      ]
     },
     "execution_count": 66,
     "metadata": {},
     "output_type": "execute_result"
    }
   ],
   "source": [
    "get_total_auc(y_train[val_ind][:,0],val_preds,y_identities[val_ind])"
   ]
  },
  {
   "cell_type": "code",
   "execution_count": null,
   "metadata": {},
   "outputs": [],
   "source": [
    "SUBGROUP_AUC = 'subgroup_auc'\n",
    "BPSN_AUC = 'bpsn_auc'  # stands for background positive, subgroup negative\n",
    "BNSP_AUC = 'bnsp_auc'  # stands for background negative, subgroup positive\n",
    "\n",
    "def compute_auc(y_true, y_pred):\n",
    "    try:\n",
    "        return metrics.roc_auc_score(y_true, y_pred)\n",
    "    except ValueError:\n",
    "        return np.nan\n",
    "\n",
    "def compute_subgroup_auc(df, subgroup, label, model_name):\n",
    "    subgroup_examples = df[df[subgroup]]\n",
    "    return compute_auc(subgroup_examples[label], subgroup_examples[model_name])\n",
    "\n",
    "def compute_bpsn_auc(df, subgroup, label, model_name):\n",
    "    \"\"\"Computes the AUC of the within-subgroup negative examples and the background positive examples.\"\"\"\n",
    "    subgroup_negative_examples = df[df[subgroup] & ~df[label]]\n",
    "    non_subgroup_positive_examples = df[~df[subgroup] & df[label]]\n",
    "    examples = subgroup_negative_examples.append(non_subgroup_positive_examples)\n",
    "    return compute_auc(examples[label], examples[model_name])\n",
    "\n",
    "def compute_bnsp_auc(df, subgroup, label, model_name):\n",
    "    \"\"\"Computes the AUC of the within-subgroup positive examples and the background negative examples.\"\"\"\n",
    "    subgroup_positive_examples = df[df[subgroup] & df[label]]\n",
    "    non_subgroup_negative_examples = df[~df[subgroup] & ~df[label]]\n",
    "    examples = subgroup_positive_examples.append(non_subgroup_negative_examples)\n",
    "    return compute_auc(examples[label], examples[model_name])\n",
    "\n",
    "def compute_bias_metrics_for_model(dataset,\n",
    "                                   subgroups,\n",
    "                                   model,\n",
    "                                   label_col,\n",
    "                                   include_asegs=False):\n",
    "    \"\"\"Computes per-subgroup metrics for all subgroups and one model.\"\"\"\n",
    "    records = []\n",
    "    for subgroup in subgroups:\n",
    "        record = {\n",
    "            'subgroup': subgroup,\n",
    "            'subgroup_size': len(dataset[dataset[subgroup]])\n",
    "        }\n",
    "        record[SUBGROUP_AUC] = compute_subgroup_auc(dataset, subgroup, label_col, model)\n",
    "        record[BPSN_AUC] = compute_bpsn_auc(dataset, subgroup, label_col, model)\n",
    "        record[BNSP_AUC] = compute_bnsp_auc(dataset, subgroup, label_col, model)\n",
    "        records.append(record)\n",
    "    return pd.DataFrame(records).sort_values('subgroup_auc', ascending=True)\n",
    "\n",
    "bias_metrics_df = compute_bias_metrics_for_model(validate_df, identity_columns, MODEL_NAME, TOXICITY_COLUMN)\n",
    "bias_metrics_df"
   ]
  },
  {
   "cell_type": "code",
   "execution_count": null,
   "metadata": {},
   "outputs": [],
   "source": [
    "def calculate_overall_auc(df, model_name):\n",
    "    true_labels = df[TOXICITY_COLUMN]\n",
    "    predicted_labels = df[model_name]\n",
    "    return metrics.roc_auc_score(true_labels, predicted_labels)\n",
    "\n",
    "def power_mean(series, p):\n",
    "    total = sum(np.power(series, p))\n",
    "    return np.power(total / len(series), 1 / p)\n",
    "\n",
    "def get_final_metric(bias_df, overall_auc, POWER=-5, OVERALL_MODEL_WEIGHT=0.25):\n",
    "    bias_score = np.average([\n",
    "        power_mean(bias_df[SUBGROUP_AUC], POWER),\n",
    "        power_mean(bias_df[BPSN_AUC], POWER),\n",
    "        power_mean(bias_df[BNSP_AUC], POWER)\n",
    "    ])\n",
    "    return (OVERALL_MODEL_WEIGHT * overall_auc) + ((1 - OVERALL_MODEL_WEIGHT) * bias_score)\n",
    "    \n",
    "get_final_metric(bias_metrics_df, calculate_overall_auc(validate_df, MODEL_NAME))"
   ]
  },
  {
   "cell_type": "markdown",
   "metadata": {},
   "source": [
    "# https://www.kaggle.com/c/jigsaw-unintended-bias-in-toxicity-classification/discussion/90527#latest-527799\n",
    "import numpy as np\n",
    "from sklearn.metrics import roc_auc_score\n",
    "\n",
    "\n",
    "class JigsawEvaluator:\n",
    "\n",
    "    def __init__(self, y_true, y_identity, power=-5, overall_model_weight=0.25):\n",
    "        self.y = (y_true >= 0.5).astype(int)\n",
    "        self.y_i = (y_identity >= 0.5).astype(int)\n",
    "        self.n_subgroups = self.y_i.shape[1]\n",
    "        self.power = power\n",
    "        self.overall_model_weight = overall_model_weight\n",
    "\n",
    "    @staticmethod\n",
    "    def _compute_auc(y_true, y_pred):\n",
    "        try:\n",
    "            return roc_auc_score(y_true, y_pred)\n",
    "        except ValueError:\n",
    "            return np.nan\n",
    "\n",
    "    def _compute_subgroup_auc(self, i, y_pred):\n",
    "        mask = self.y_i[:, i] == 1\n",
    "        return self._compute_auc(self.y[mask], y_pred[mask])\n",
    "\n",
    "    def _compute_bpsn_auc(self, i, y_pred):\n",
    "        mask = self.y_i[:, i] + self.y == 1\n",
    "        return self._compute_auc(self.y[mask], y_pred[mask])\n",
    "\n",
    "    def _compute_bnsp_auc(self, i, y_pred):\n",
    "        mask = self.y_i[:, i] + self.y != 1\n",
    "        return self._compute_auc(self.y[mask], y_pred[mask])\n",
    "\n",
    "    def compute_bias_metrics_for_model(self, y_pred):\n",
    "        records = np.zeros((3, self.n_subgroups))\n",
    "        for i in range(self.n_subgroups):\n",
    "            records[0, i] = self._compute_subgroup_auc(i, y_pred)\n",
    "            records[1, i] = self._compute_bpsn_auc(i, y_pred)\n",
    "            records[2, i] = self._compute_bnsp_auc(i, y_pred)\n",
    "        return records\n",
    "\n",
    "    def _calculate_overall_auc(self, y_pred):\n",
    "        return roc_auc_score(self.y, y_pred)\n",
    "\n",
    "    def _power_mean(self, array):\n",
    "        total = sum(np.power(array, self.power))\n",
    "        return np.power(total / len(array), 1 / self.power)\n",
    "\n",
    "    def get_final_metric(self, y_pred):\n",
    "        bias_metrics = self.compute_bias_metrics_for_model(y_pred)\n",
    "        bias_score = np.average([\n",
    "            self._power_mean(bias_metrics[0]),\n",
    "            self._power_mean(bias_metrics[1]),\n",
    "            self._power_mean(bias_metrics[2])\n",
    "        ])\n",
    "        overall_score = self.overall_model_weight * self._calculate_overall_auc(y_pred)\n",
    "        bias_score = (1 - self.overall_model_weight) * bias_score\n",
    "        return overall_score + bias_score"
   ]
  },
  {
   "cell_type": "code",
   "execution_count": null,
   "metadata": {},
   "outputs": [],
   "source": []
  },
  {
   "cell_type": "code",
   "execution_count": null,
   "metadata": {},
   "outputs": [],
   "source": []
  },
  {
   "cell_type": "code",
   "execution_count": null,
   "metadata": {},
   "outputs": [],
   "source": []
  },
  {
   "cell_type": "code",
   "execution_count": null,
   "metadata": {},
   "outputs": [],
   "source": []
  },
  {
   "cell_type": "code",
   "execution_count": null,
   "metadata": {},
   "outputs": [],
   "source": []
  },
  {
   "cell_type": "code",
   "execution_count": null,
   "metadata": {},
   "outputs": [],
   "source": [
    "# Your code here - remember to use markdown cells for comments as well!"
   ]
  }
 ],
 "metadata": {
  "kernelspec": {
   "display_name": "Python 3",
   "language": "python",
   "name": "python3"
  },
  "language_info": {
   "codemirror_mode": {
    "name": "ipython",
    "version": 3
   },
   "file_extension": ".py",
   "mimetype": "text/x-python",
   "name": "python",
   "nbconvert_exporter": "python",
   "pygments_lexer": "ipython3",
   "version": "3.7.0"
  }
 },
 "nbformat": 4,
 "nbformat_minor": 2
}
